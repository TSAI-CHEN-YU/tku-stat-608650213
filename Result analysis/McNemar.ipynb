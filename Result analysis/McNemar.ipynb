{
 "cells": [
  {
   "cell_type": "code",
   "execution_count": 48,
   "metadata": {
    "ExecuteTime": {
     "end_time": "2021-06-28T02:40:58.295040Z",
     "start_time": "2021-06-28T02:40:58.291040Z"
    }
   },
   "outputs": [],
   "source": [
    "import pandas as pd"
   ]
  },
  {
   "cell_type": "code",
   "execution_count": 49,
   "metadata": {
    "ExecuteTime": {
     "end_time": "2021-06-28T02:41:00.069051Z",
     "start_time": "2021-06-28T02:40:58.931455Z"
    }
   },
   "outputs": [
    {
     "name": "stdout",
     "output_type": "stream",
     "text": [
      "/home/tku_stat_dell/Desktop/DS_corpus/predict_error\n"
     ]
    }
   ],
   "source": [
    "#load CL1\n",
    "%cd /home/tku_stat_dell/Desktop/DS_corpus/predict_error\n",
    "WL_pre = pd.read_pickle('WL_pre.pkl')"
   ]
  },
  {
   "cell_type": "code",
   "execution_count": 50,
   "metadata": {
    "ExecuteTime": {
     "end_time": "2021-06-28T02:41:02.503630Z",
     "start_time": "2021-06-28T02:41:01.057632Z"
    }
   },
   "outputs": [
    {
     "name": "stdout",
     "output_type": "stream",
     "text": [
      "/home/tku_stat_dell/Desktop/DS_corpus/predict_error\n"
     ]
    }
   ],
   "source": [
    "#load CL2\n",
    "%cd /home/tku_stat_dell/Desktop/DS_corpus/predict_error\n",
    "NH_pre = pd.read_pickle('NH_pre.pkl')"
   ]
  },
  {
   "cell_type": "code",
   "execution_count": 51,
   "metadata": {
    "ExecuteTime": {
     "end_time": "2021-06-28T02:41:04.712501Z",
     "start_time": "2021-06-28T02:41:04.694665Z"
    },
    "scrolled": true
   },
   "outputs": [
    {
     "name": "stdout",
     "output_type": "stream",
     "text": [
      "4200\n",
      "WL T: 246\n",
      "WL F: 3954\n"
     ]
    }
   ],
   "source": [
    "print(len(WL_pre))\n",
    "WL_T = WL_pre.Pre_Label[WL_pre.Pre_Label=='KEGG_Interaction'].index\n",
    "WL_F = WL_pre.Pre_Label[WL_pre.Pre_Label=='NON_KEGG_Interaction'].index\n",
    "print('WL T:',len(WL_T))\n",
    "print('WL F:',len(WL_F))"
   ]
  },
  {
   "cell_type": "code",
   "execution_count": 52,
   "metadata": {
    "ExecuteTime": {
     "end_time": "2021-06-28T02:41:06.426684Z",
     "start_time": "2021-06-28T02:41:06.418191Z"
    }
   },
   "outputs": [
    {
     "name": "stdout",
     "output_type": "stream",
     "text": [
      "4200\n",
      "WL T: 303\n",
      "WL F: 3897\n"
     ]
    }
   ],
   "source": [
    "print(len(NH_pre))\n",
    "NH_T = NH_pre.Pre_Label[NH_pre.Pre_Label=='KEGG_Interaction'].index\n",
    "NH_F = NH_pre.Pre_Label[NH_pre.Pre_Label=='NON_KEGG_Interaction'].index\n",
    "print('WL T:',len(NH_T))\n",
    "print('WL F:',len(NH_F))"
   ]
  },
  {
   "cell_type": "code",
   "execution_count": 53,
   "metadata": {
    "ExecuteTime": {
     "end_time": "2021-06-28T02:41:41.431776Z",
     "start_time": "2021-06-28T02:41:41.413875Z"
    }
   },
   "outputs": [],
   "source": [
    "TT = len(WL_T.intersection(NH_T))\n",
    "TF = len(WL_T.intersection(NH_F))\n",
    "FT = len(WL_F.intersection(NH_T))\n",
    "FF = len(WL_F.intersection(NH_F))"
   ]
  },
  {
   "cell_type": "code",
   "execution_count": 54,
   "metadata": {
    "ExecuteTime": {
     "end_time": "2021-06-28T02:41:42.865205Z",
     "start_time": "2021-06-28T02:41:42.860820Z"
    }
   },
   "outputs": [
    {
     "data": {
      "text/plain": [
       "[[227, 19], [76, 3878]]"
      ]
     },
     "execution_count": 54,
     "metadata": {},
     "output_type": "execute_result"
    }
   ],
   "source": [
    "table = [[TT, TF],\n",
    "\t\t [FT, FF]]\n",
    "table"
   ]
  },
  {
   "cell_type": "code",
   "execution_count": 58,
   "metadata": {
    "ExecuteTime": {
     "end_time": "2021-06-28T02:42:42.399330Z",
     "start_time": "2021-06-28T02:42:42.391001Z"
    }
   },
   "outputs": [
    {
     "name": "stdout",
     "output_type": "stream",
     "text": [
      "statistic=19.000, p-value=0.0000000030\n",
      "Different proportions of errors (reject H0)\n"
     ]
    }
   ],
   "source": [
    "# Example of calculating the mcnemar test\n",
    "from statsmodels.stats.contingency_tables import mcnemar\n",
    "# define contingency table\n",
    "table\n",
    "# calculate mcnemar test\n",
    "result = mcnemar(table, exact=True, correction=True)\n",
    "# summarize the finding\n",
    "print('statistic=%.3f, p-value=%.10f' % (result.statistic, result.pvalue))\n",
    "# interpret the p-value\n",
    "alpha = 0.05\n",
    "if result.pvalue > alpha:\n",
    "\tprint('Same proportions of errors (fail to reject H0)')\n",
    "else:\n",
    "\tprint('Different proportions of errors (reject H0)')"
   ]
  },
  {
   "cell_type": "code",
   "execution_count": null,
   "metadata": {},
   "outputs": [],
   "source": []
  }
 ],
 "metadata": {
  "kernelspec": {
   "display_name": "Python 3",
   "language": "python",
   "name": "python3"
  },
  "language_info": {
   "codemirror_mode": {
    "name": "ipython",
    "version": 3
   },
   "file_extension": ".py",
   "mimetype": "text/x-python",
   "name": "python",
   "nbconvert_exporter": "python",
   "pygments_lexer": "ipython3",
   "version": "3.7.7"
  },
  "toc": {
   "base_numbering": 1,
   "nav_menu": {},
   "number_sections": true,
   "sideBar": true,
   "skip_h1_title": false,
   "title_cell": "Table of Contents",
   "title_sidebar": "Contents",
   "toc_cell": false,
   "toc_position": {},
   "toc_section_display": true,
   "toc_window_display": false
  },
  "varInspector": {
   "cols": {
    "lenName": 16,
    "lenType": 16,
    "lenVar": 40
   },
   "kernels_config": {
    "python": {
     "delete_cmd_postfix": "",
     "delete_cmd_prefix": "del ",
     "library": "var_list.py",
     "varRefreshCmd": "print(var_dic_list())"
    },
    "r": {
     "delete_cmd_postfix": ") ",
     "delete_cmd_prefix": "rm(",
     "library": "var_list.r",
     "varRefreshCmd": "cat(var_dic_list()) "
    }
   },
   "types_to_exclude": [
    "module",
    "function",
    "builtin_function_or_method",
    "instance",
    "_Feature"
   ],
   "window_display": false
  }
 },
 "nbformat": 4,
 "nbformat_minor": 2
}
