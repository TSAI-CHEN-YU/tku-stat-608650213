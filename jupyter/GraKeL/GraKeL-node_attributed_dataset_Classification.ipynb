{
 "cells": [
  {
   "cell_type": "code",
   "execution_count": 4,
   "metadata": {
    "ExecuteTime": {
     "end_time": "2021-02-22T14:53:20.399066Z",
     "start_time": "2021-02-22T14:53:20.384143Z"
    }
   },
   "outputs": [],
   "source": [
    "%matplotlib inline"
   ]
  },
  {
   "cell_type": "markdown",
   "metadata": {},
   "source": [
    "\n",
    "# Graph classification on a dataset that contains node-attributed graphs.\n",
    "\n",
    "Script makes use of :class:`grakel.PropagationAttr`\n",
    "\n"
   ]
  },
  {
   "cell_type": "code",
   "execution_count": 5,
   "metadata": {
    "ExecuteTime": {
     "end_time": "2021-02-22T14:53:20.414988Z",
     "start_time": "2021-02-22T14:53:20.400031Z"
    }
   },
   "outputs": [
    {
     "name": "stdout",
     "output_type": "stream",
     "text": [
      "Automatically created module for IPython interactive environment\n"
     ]
    }
   ],
   "source": [
    "from __future__ import print_function\n",
    "print(__doc__)\n",
    "\n",
    "import numpy as np\n",
    "\n",
    "from sklearn.model_selection import train_test_split\n",
    "from sklearn.svm import SVC\n",
    "from sklearn.metrics import accuracy_score\n",
    "\n",
    "from grakel.datasets import fetch_dataset\n",
    "from grakel.kernels import PropagationAttr"
   ]
  },
  {
   "cell_type": "code",
   "execution_count": 6,
   "metadata": {
    "ExecuteTime": {
     "end_time": "2021-02-22T14:53:20.823194Z",
     "start_time": "2021-02-22T14:53:20.416984Z"
    }
   },
   "outputs": [],
   "source": [
    "# Loads the ENZYMES dataset\n",
    "ENZYMES_attr = fetch_dataset(\"ENZYMES\", prefer_attr_nodes=True, verbose=False)\n",
    "G, y = ENZYMES_attr.data, ENZYMES_attr.target"
   ]
  },
  {
   "cell_type": "code",
   "execution_count": 7,
   "metadata": {
    "ExecuteTime": {
     "end_time": "2021-02-22T14:53:20.855179Z",
     "start_time": "2021-02-22T14:53:20.825192Z"
    }
   },
   "outputs": [],
   "source": [
    "# Splits the dataset into a training and a test set\n",
    "G_train, G_test, y_train, y_test = train_test_split(G, y, test_size=0.1, random_state=42)"
   ]
  },
  {
   "cell_type": "code",
   "execution_count": 8,
   "metadata": {
    "ExecuteTime": {
     "end_time": "2021-02-22T14:53:28.654487Z",
     "start_time": "2021-02-22T14:53:20.858185Z"
    }
   },
   "outputs": [],
   "source": [
    "# Uses the graphhopper kernel to generate the kernel matrices\n",
    "gk = PropagationAttr(normalize=True)\n",
    "K_train = gk.fit_transform(G_train)\n",
    "K_test = gk.transform(G_test)"
   ]
  },
  {
   "cell_type": "code",
   "execution_count": 9,
   "metadata": {
    "ExecuteTime": {
     "end_time": "2021-02-22T14:53:28.686402Z",
     "start_time": "2021-02-22T14:53:28.655441Z"
    }
   },
   "outputs": [],
   "source": [
    "# Uses the SVM classifier to perform classification\n",
    "clf = SVC(kernel=\"precomputed\")\n",
    "clf.fit(K_train, y_train)\n",
    "y_pred = clf.predict(K_test)"
   ]
  },
  {
   "cell_type": "code",
   "execution_count": 10,
   "metadata": {
    "ExecuteTime": {
     "end_time": "2021-02-22T14:53:28.702360Z",
     "start_time": "2021-02-22T14:53:28.688398Z"
    }
   },
   "outputs": [
    {
     "name": "stdout",
     "output_type": "stream",
     "text": [
      "Accuracy: 65.0%\n"
     ]
    }
   ],
   "source": [
    "# Computes and prints the classification accuracy\n",
    "acc = accuracy_score(y_test, y_pred)\n",
    "print(\"Accuracy:\", str(round(acc*100, 2)) + \"%\")"
   ]
  },
  {
   "cell_type": "code",
   "execution_count": null,
   "metadata": {},
   "outputs": [],
   "source": []
  },
  {
   "cell_type": "code",
   "execution_count": null,
   "metadata": {},
   "outputs": [],
   "source": [
    "原始句子：\"We also found a significant SNP-SNP interaction between rs2293572 and rs492594, and the CCCCGC and CGCCCA haplotypes significantly increased the risk of T2DM, however, the CCCCCA haplotype had lower susceptibility to T2DM.\" \n",
    "\n",
    "組合 : (CCCCGC, CGCCCA)\n",
    "實體ccccgc到cgccca的距離： 1\n",
    "實體ccccgc到cgccca的路徑： ['ccccgc', 'cgccca'] \n",
    "\n",
    "組合 : (CCCCGC, 'CCCCCA')\n",
    "實體ccccgc到ccccca的距離： 4\n",
    "實體ccccgc到ccccca的路徑： ['ccccgc', 'haplotypes', 'the', 'haplotype', 'ccccca'] \n",
    "\n",
    "組合 : (CCCCGC, 'haplotype')\n",
    "實體ccccgc到haplotype的距離： 3\n",
    "實體ccccgc到haplotype的路徑： ['ccccgc', 'haplotypes', 'the', 'haplotype'] \n",
    "\n",
    "組合 : (CGCCCA, 'CCCCCA')\n",
    "實體cgccca到ccccca的距離： 5\n",
    "實體cgccca到ccccca的路徑： ['cgccca', 'ccccgc', 'haplotypes', 'the', 'haplotype', 'ccccca'] \n",
    "\n",
    "組合 : (CGCCCA, 'haplotype')\n",
    "實體cgccca到haplotype的距離： 4\n",
    "實體cgccca到haplotype的路徑： ['cgccca', 'ccccgc', 'haplotypes', 'the', 'haplotype'] \n",
    "\n",
    "組合 : ('CCCCCA', 'haplotype')\n",
    "實體ccccca到haplotype的距離： 1\n",
    "實體ccccca到haplotype的路徑： ['ccccca', 'haplotype'] "
   ]
  }
 ],
 "metadata": {
  "kernelspec": {
   "display_name": "Python 3",
   "language": "python",
   "name": "python3"
  },
  "language_info": {
   "codemirror_mode": {
    "name": "ipython",
    "version": 3
   },
   "file_extension": ".py",
   "mimetype": "text/x-python",
   "name": "python",
   "nbconvert_exporter": "python",
   "pygments_lexer": "ipython3",
   "version": "3.7.6"
  },
  "toc": {
   "base_numbering": 1,
   "nav_menu": {},
   "number_sections": true,
   "sideBar": true,
   "skip_h1_title": false,
   "title_cell": "Table of Contents",
   "title_sidebar": "Contents",
   "toc_cell": false,
   "toc_position": {
    "height": "calc(100% - 180px)",
    "left": "10px",
    "top": "150px",
    "width": "199.76px"
   },
   "toc_section_display": true,
   "toc_window_display": true
  }
 },
 "nbformat": 4,
 "nbformat_minor": 1
}
