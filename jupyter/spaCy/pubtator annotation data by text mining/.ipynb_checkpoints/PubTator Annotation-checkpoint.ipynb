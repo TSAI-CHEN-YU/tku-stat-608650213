{
 "cells": [
  {
   "cell_type": "markdown",
   "metadata": {
    "id": "-fNInfyXt8pV"
   },
   "source": [
    "來源：https://www.ncbi.nlm.nih.gov/research/pubtator/api.html\n",
    "\n",
    "格式：https://www.ncbi.nlm.nih.gov/research/pubtator-api/publications/export/[Format]?[Type]=[Identifiers]&concepts=[Bioconcepts]"
   ]
  },
  {
   "cell_type": "markdown",
   "metadata": {
    "id": "-fNInfyXt8pV"
   },
   "source": [
    "# Single Abstract Example\n"
   ]
  },
  {
   "cell_type": "markdown",
   "metadata": {
    "id": "-fNInfyXt8pV"
   },
   "source": [
    "## web crawler(網路爬蟲) in PubTator API\n"
   ]
  },
  {
   "cell_type": "code",
   "execution_count": 1,
   "metadata": {
    "ExecuteTime": {
     "end_time": "2021-03-02T06:14:19.230084Z",
     "start_time": "2021-03-02T06:14:18.704025Z"
    }
   },
   "outputs": [],
   "source": [
    "import requests\n",
    "from bs4 import BeautifulSoup## 獲取PubTator註釋"
   ]
  },
  {
   "cell_type": "code",
   "execution_count": 2,
   "metadata": {
    "ExecuteTime": {
     "end_time": "2021-03-02T06:14:21.381325Z",
     "start_time": "2021-03-02T06:14:19.235648Z"
    }
   },
   "outputs": [
    {
     "name": "stdout",
     "output_type": "stream",
     "text": [
      "正常\n"
     ]
    }
   ],
   "source": [
    "# Step1.取得網頁連線\n",
    "url = 'https://www.ncbi.nlm.nih.gov/research/pubtator-api/publications/export/pubtator?pmids=30055620'\n",
    "r = requests.get(url)\n",
    "if r.status_code==200:\n",
    "  print(\"正常\")\n",
    "elif r.status_code==400:\n",
    "  print(\"不正常\")"
   ]
  },
  {
   "cell_type": "code",
   "execution_count": 3,
   "metadata": {
    "ExecuteTime": {
     "end_time": "2021-03-02T06:14:21.412491Z",
     "start_time": "2021-03-02T06:14:21.389066Z"
    }
   },
   "outputs": [
    {
     "name": "stdout",
     "output_type": "stream",
     "text": [
      "<html>\n",
      " <body>\n",
      "  <p>\n",
      "   30055620|t|Gene-gene interactions lead to higher risk for development of type 2 diabetes in a Chinese Han population: a prospective nested case-control study.\n",
      "30055620|a|BACKGROUND: The purpose of this study was to evaluate the effect of single-nucleotide polymorphisms (SNPs) of the GCKR and G6PC2 genes on risk for type 2 diabetes and the SNP-SNP and haplotype-based interactions between these genes. METHODS: Subjects of this nested case-control study were selected from a prospective cohort residing in the rural area of Luoyang city in China. Cases (n = 538) were individually matched with controls. Six SNPs in the GCKR and G6PC2 genes were selected and genotyped using an SNPscan  kit. Stratified Cox proportional hazards regression models were used to generate odds ratios (ORs) and 95% confidence intervals (CI) for different genotype models for the risk of T2DM. Generalized multifactor dimensionality reduction (GMDR) was used to analyze the interactions between two genes with among six SNPs. The linkage disequilibrium (LD) analysis and the haplotype analysis were carried out by SHEsis online. RESULTS: We found that the C allele of rs780094 was associated with increased risk for T2DM in Han Chinese population. However, the rs492594-C allele in G6PC2 was associated with a decreased risk of T2DM. We also found a significant SNP-SNP interaction between rs2293572 and rs492594, and the CCCCGC and CGCCCA haplotypes significantly increased the risk of T2DM, however, the CCCCCA haplotype had lower susceptibility to T2DM. CONCLUSION: The results suggest that the GCKR and G6PC2 genes may contribute to the risk of T2DM independently and/or in an interactive manner in the Han Chinese population.\n",
      "30055620\t62\t77\ttype 2 diabetes\tDisease\tMESH:D003924\n",
      "30055620\t262\t266\tGCKR\tGene\t2646\n",
      "30055620\t271\t276\tG6PC2\tGene\t57818\n",
      "30055620\t295\t310\ttype 2 diabetes\tDisease\tMESH:D003924\n",
      "30055620\t599\t603\tGCKR\tGene\t2646\n",
      "30055620\t608\t613\tG6PC2\tGene\t57818\n",
      "30055620\t1125\t1133\trs780094\tSNP\trs780094\n",
      "30055620\t1218\t1226\trs492594\tSNP\trs492594\n",
      "30055620\t1239\t1244\tG6PC2\tGene\t57818\n",
      "30055620\t1347\t1356\trs2293572\tSNP\trs2293572\n",
      "30055620\t1361\t1369\trs492594\tSNP\trs492594\n",
      "30055620\t1555\t1559\tGCKR\tGene\t2646\n",
      "30055620\t1564\t1569\tG6PC2\tGene\t57818\n",
      "  </p>\n",
      " </body>\n",
      "</html>\n"
     ]
    }
   ],
   "source": [
    "# Step2.使用bs4回傳網頁(html)內容\n",
    "resp = BeautifulSoup(r.text,\"lxml\")\n",
    "print(resp.prettify())"
   ]
  },
  {
   "cell_type": "code",
   "execution_count": 4,
   "metadata": {
    "ExecuteTime": {
     "end_time": "2021-03-02T06:14:21.428017Z",
     "start_time": "2021-03-02T06:14:21.415617Z"
    }
   },
   "outputs": [
    {
     "name": "stdout",
     "output_type": "stream",
     "text": [
      "30055620|t|Gene-gene interactions lead to higher risk for development of type 2 diabetes in a Chinese Han population: a prospective nested case-control study.\n",
      "30055620|a|BACKGROUND: The purpose of this study was to evaluate the effect of single-nucleotide polymorphisms (SNPs) of the GCKR and G6PC2 genes on risk for type 2 diabetes and the SNP-SNP and haplotype-based interactions between these genes. METHODS: Subjects of this nested case-control study were selected from a prospective cohort residing in the rural area of Luoyang city in China. Cases (n = 538) were individually matched with controls. Six SNPs in the GCKR and G6PC2 genes were selected and genotyped using an SNPscan  kit. Stratified Cox proportional hazards regression models were used to generate odds ratios (ORs) and 95% confidence intervals (CI) for different genotype models for the risk of T2DM. Generalized multifactor dimensionality reduction (GMDR) was used to analyze the interactions between two genes with among six SNPs. The linkage disequilibrium (LD) analysis and the haplotype analysis were carried out by SHEsis online. RESULTS: We found that the C allele of rs780094 was associated with increased risk for T2DM in Han Chinese population. However, the rs492594-C allele in G6PC2 was associated with a decreased risk of T2DM. We also found a significant SNP-SNP interaction between rs2293572 and rs492594, and the CCCCGC and CGCCCA haplotypes significantly increased the risk of T2DM, however, the CCCCCA haplotype had lower susceptibility to T2DM. CONCLUSION: The results suggest that the GCKR and G6PC2 genes may contribute to the risk of T2DM independently and/or in an interactive manner in the Han Chinese population.\n",
      "30055620\t62\t77\ttype 2 diabetes\tDisease\tMESH:D003924\n",
      "30055620\t262\t266\tGCKR\tGene\t2646\n",
      "30055620\t271\t276\tG6PC2\tGene\t57818\n",
      "30055620\t295\t310\ttype 2 diabetes\tDisease\tMESH:D003924\n",
      "30055620\t599\t603\tGCKR\tGene\t2646\n",
      "30055620\t608\t613\tG6PC2\tGene\t57818\n",
      "30055620\t1125\t1133\trs780094\tSNP\trs780094\n",
      "30055620\t1218\t1226\trs492594\tSNP\trs492594\n",
      "30055620\t1239\t1244\tG6PC2\tGene\t57818\n",
      "30055620\t1347\t1356\trs2293572\tSNP\trs2293572\n",
      "30055620\t1361\t1369\trs492594\tSNP\trs492594\n",
      "30055620\t1555\t1559\tGCKR\tGene\t2646\n",
      "30055620\t1564\t1569\tG6PC2\tGene\t57818\n",
      "\n",
      "\n"
     ]
    }
   ],
   "source": [
    "# Step3.取得標題所在的標籤內容\n",
    "title = resp.find('p')\n",
    "print(title.text)"
   ]
  },
  {
   "cell_type": "markdown",
   "metadata": {
    "id": "-fNInfyXt8pV"
   },
   "source": [
    "## 提取實體信息 in PubTator API\n",
    "https://www.ncbi.nlm.nih.gov/CBBresearch/Lu/Demo/PubTator/tutorial/index.html"
   ]
  },
  {
   "cell_type": "code",
   "execution_count": 14,
   "metadata": {
    "ExecuteTime": {
     "end_time": "2021-03-04T03:54:01.352795Z",
     "start_time": "2021-03-04T03:54:01.347920Z"
    }
   },
   "outputs": [
    {
     "name": "stdout",
     "output_type": "stream",
     "text": [
      "30055620|t|Gene-gene interactions lead to higher risk for development of type 2 diabetes in a Chinese Han population: a prospective nested case-control study.\n",
      "30055620|a|BACKGROUND: The purpose of this study was to evaluate the effect of single-nucleotide polymorphisms (SNPs) of the GCKR and G6PC2 genes on risk for type 2 diabetes and the SNP-SNP and haplotype-based interactions between these genes. METHODS: Subjects of this nested case-control study were selected from a prospective cohort residing in the rural area of Luoyang city in China. Cases (n = 538) were individually matched with controls. Six SNPs in the GCKR and G6PC2 genes were selected and genotyped using an SNPscan  kit. Stratified Cox proportional hazards regression models were used to generate odds ratios (ORs) and 95% confidence intervals (CI) for different genotype models for the risk of T2DM. Generalized multifactor dimensionality reduction (GMDR) was used to analyze the interactions between two genes with among six SNPs. The linkage disequilibrium (LD) analysis and the haplotype analysis were carried out by SHEsis online. RESULTS: We found that the C allele of rs780094 was associated with increased risk for T2DM in Han Chinese population. However, the rs492594-C allele in G6PC2 was associated with a decreased risk of T2DM. We also found a significant SNP-SNP interaction between rs2293572 and rs492594, and the CCCCGC and CGCCCA haplotypes significantly increased the risk of T2DM, however, the CCCCCA haplotype had lower susceptibility to T2DM. CONCLUSION: The results suggest that the GCKR and G6PC2 genes may contribute to the risk of T2DM independently and/or in an interactive manner in the Han Chinese population.\n",
      "30055620\t62\t77\ttype 2 diabetes\tDisease\tMESH:D003924\n",
      "30055620\t262\t266\tGCKR\tGene\t2646\n",
      "30055620\t271\t276\tG6PC2\tGene\t57818\n",
      "30055620\t295\t310\ttype 2 diabetes\tDisease\tMESH:D003924\n",
      "30055620\t599\t603\tGCKR\tGene\t2646\n",
      "30055620\t608\t613\tG6PC2\tGene\t57818\n",
      "30055620\t1125\t1133\trs780094\tSNP\trs780094\n",
      "30055620\t1218\t1226\trs492594\tSNP\trs492594\n",
      "30055620\t1239\t1244\tG6PC2\tGene\t57818\n",
      "30055620\t1347\t1356\trs2293572\tSNP\trs2293572\n",
      "30055620\t1361\t1369\trs492594\tSNP\trs492594\n",
      "30055620\t1555\t1559\tGCKR\tGene\t2646\n",
      "30055620\t1564\t1569\tG6PC2\tGene\t57818\n",
      "\n",
      "\n"
     ]
    }
   ],
   "source": [
    "Abs = title.text[:]\n",
    "print(Abs)"
   ]
  },
  {
   "cell_type": "code",
   "execution_count": 22,
   "metadata": {
    "ExecuteTime": {
     "end_time": "2021-03-04T04:27:33.784563Z",
     "start_time": "2021-03-04T04:27:33.776584Z"
    }
   },
   "outputs": [
    {
     "data": {
      "text/plain": [
       "'30055620|t|Gene-gene interactions lead to higher risk for development of type 2 diabetes in a Chinese Han population: a prospective nested case-control study.\\n30055620|a|BACKGROUND: The purpose of this study was to evaluate the effect of single-nucleotide polymorphisms (SNPs) of the GCKR and G6PC2 genes on risk for type 2 diabetes and the SNP-SNP and haplotype-based interactions between these genes. METHODS: Subjects of this nested case-control study were selected from a prospective cohort residing in the rural area of Luoyang city in China. Cases (n = 538) were individually matched with controls. Six SNPs in the GCKR and G6PC2 genes were selected and genotyped using an SNPscan  kit. Stratified Cox proportional hazards regression models were used to generate odds ratios (ORs) and 95% confidence intervals (CI) for different genotype models for the risk of T2DM. Generalized multifactor dimensionality reduction (GMDR) was used to analyze the interactions between two genes with among six SNPs. The linkage disequilibrium (LD) analysis and the haplotype analysis were carried out by SHEsis online. RESULTS: We found that the C allele of rs780094 was associated with increased risk for T2DM in Han Chinese population. However, the rs492594-C allele in G6PC2 was associated with a decreased risk of T2DM. We also found a significant SNP-SNP interaction between rs2293572 and rs492594, and the CCCCGC and CGCCCA haplotypes significantly increased the risk of T2DM, however, the CCCCCA haplotype had lower susceptibility to T2DM. CONCLUSION: The results suggest that the GCKR and G6PC2 genes may contribute to the risk of T2DM independently and/or in an interactive manner in the Han Chinese population.\\n30055620\\t62\\t77\\ttype 2 diabetes\\tDisease\\tMESH:D003924\\n30055620\\t262\\t266\\tGCKR\\tGene\\t2646\\n30055620\\t271\\t276\\tG6PC2\\tGene\\t57818\\n30055620\\t295\\t310\\ttype 2 diabetes\\tDisease\\tMESH:D003924\\n30055620\\t599\\t603\\tGCKR\\tGene\\t2646\\n30055620\\t608\\t613\\tG6PC2\\tGene\\t57818\\n30055620\\t1125\\t1133\\trs780094\\tSNP\\trs780094\\n30055620\\t1218\\t1226\\trs492594\\tSNP\\trs492594\\n30055620\\t1239\\t1244\\tG6PC2\\tGene\\t57818\\n30055620\\t1347\\t1356\\trs2293572\\tSNP\\trs2293572\\n30055620\\t1361\\t1369\\trs492594\\tSNP\\trs492594\\n30055620\\t1555\\t1559\\tGCKR\\tGene\\t2646\\n30055620\\t1564\\t1569\\tG6PC2\\tGene\\t57818\\n\\n'"
      ]
     },
     "execution_count": 22,
     "metadata": {},
     "output_type": "execute_result"
    }
   ],
   "source": [
    "Abs"
   ]
  },
  {
   "cell_type": "code",
   "execution_count": 21,
   "metadata": {
    "ExecuteTime": {
     "end_time": "2021-03-04T04:26:38.482772Z",
     "start_time": "2021-03-04T04:26:38.459554Z"
    }
   },
   "outputs": [
    {
     "name": "stdout",
     "output_type": "stream",
     "text": [
      "\u001b[1m 0 \u001b[0m 30055620|t|Gene-gene interactions lead to higher risk for development of type 2 diabetes in a Chinese Han population: a prospective nested case-control study. \n",
      "\n",
      "\u001b[1m 1 \u001b[0m 30055620|a|BACKGROUND: The purpose of this study was to evaluate the effect of single-nucleotide polymorphisms (SNPs) of the GCKR and G6PC2 genes on risk for type 2 diabetes and the SNP-SNP and haplotype-based interactions between these genes. METHODS: Subjects of this nested case-control study were selected from a prospective cohort residing in the rural area of Luoyang city in China. Cases (n = 538) were individually matched with controls. Six SNPs in the GCKR and G6PC2 genes were selected and genotyped using an SNPscan  kit. Stratified Cox proportional hazards regression models were used to generate odds ratios (ORs) and 95% confidence intervals (CI) for different genotype models for the risk of T2DM. Generalized multifactor dimensionality reduction (GMDR) was used to analyze the interactions between two genes with among six SNPs. The linkage disequilibrium (LD) analysis and the haplotype analysis were carried out by SHEsis online. RESULTS: We found that the C allele of rs780094 was associated with increased risk for T2DM in Han Chinese population. However, the rs492594-C allele in G6PC2 was associated with a decreased risk of T2DM. We also found a significant SNP-SNP interaction between rs2293572 and rs492594, and the CCCCGC and CGCCCA haplotypes significantly increased the risk of T2DM, however, the CCCCCA haplotype had lower susceptibility to T2DM. CONCLUSION: The results suggest that the GCKR and G6PC2 genes may contribute to the risk of T2DM independently and/or in an interactive manner in the Han Chinese population. \n",
      "\n",
      "\u001b[1m 2 \u001b[0m 30055620\t62\t77\ttype 2 diabetes\tDisease\tMESH:D003924 \n",
      "\n",
      "\u001b[1m 3 \u001b[0m 30055620\t262\t266\tGCKR\tGene\t2646 \n",
      "\n",
      "\u001b[1m 4 \u001b[0m 30055620\t271\t276\tG6PC2\tGene\t57818 \n",
      "\n",
      "\u001b[1m 5 \u001b[0m 30055620\t295\t310\ttype 2 diabetes\tDisease\tMESH:D003924 \n",
      "\n",
      "\u001b[1m 6 \u001b[0m 30055620\t599\t603\tGCKR\tGene\t2646 \n",
      "\n",
      "\u001b[1m 7 \u001b[0m 30055620\t608\t613\tG6PC2\tGene\t57818 \n",
      "\n",
      "\u001b[1m 8 \u001b[0m 30055620\t1125\t1133\trs780094\tSNP\trs780094 \n",
      "\n",
      "\u001b[1m 9 \u001b[0m 30055620\t1218\t1226\trs492594\tSNP\trs492594 \n",
      "\n",
      "\u001b[1m 10 \u001b[0m 30055620\t1239\t1244\tG6PC2\tGene\t57818 \n",
      "\n",
      "\u001b[1m 11 \u001b[0m 30055620\t1347\t1356\trs2293572\tSNP\trs2293572 \n",
      "\n",
      "\u001b[1m 12 \u001b[0m 30055620\t1361\t1369\trs492594\tSNP\trs492594 \n",
      "\n",
      "\u001b[1m 13 \u001b[0m 30055620\t1555\t1559\tGCKR\tGene\t2646 \n",
      "\n",
      "\u001b[1m 14 \u001b[0m 30055620\t1564\t1569\tG6PC2\tGene\t57818 \n",
      "\n",
      "\u001b[1m 15 \u001b[0m  \n",
      "\n",
      "\u001b[1m 16 \u001b[0m  \n",
      "\n"
     ]
    }
   ],
   "source": [
    "abs_aplit = Abs.split('\\n') #\n",
    "for c in range(0,len(abs_aplit)):\n",
    "    print('\\033[1m',c,'\\033[0m',  abs_aplit[c],  '\\n')\n"
   ]
  },
  {
   "cell_type": "code",
   "execution_count": 44,
   "metadata": {
    "ExecuteTime": {
     "end_time": "2021-03-04T08:51:07.465641Z",
     "start_time": "2021-03-04T08:51:07.376439Z"
    }
   },
   "outputs": [
    {
     "data": {
      "text/html": [
       "<div>\n",
       "<style scoped>\n",
       "    .dataframe tbody tr th:only-of-type {\n",
       "        vertical-align: middle;\n",
       "    }\n",
       "\n",
       "    .dataframe tbody tr th {\n",
       "        vertical-align: top;\n",
       "    }\n",
       "\n",
       "    .dataframe thead th {\n",
       "        text-align: right;\n",
       "    }\n",
       "</style>\n",
       "<table border=\"1\" class=\"dataframe\">\n",
       "  <thead>\n",
       "    <tr style=\"text-align: right;\">\n",
       "      <th></th>\n",
       "      <th>PMID</th>\n",
       "      <th>START</th>\n",
       "      <th>END</th>\n",
       "      <th>ENTITY</th>\n",
       "      <th>TYPE</th>\n",
       "      <th>database_IDENTIFIER.</th>\n",
       "    </tr>\n",
       "  </thead>\n",
       "  <tbody>\n",
       "    <tr>\n",
       "      <th>0</th>\n",
       "      <td>30055620</td>\n",
       "      <td>62</td>\n",
       "      <td>77</td>\n",
       "      <td>type 2 diabetes</td>\n",
       "      <td>Disease</td>\n",
       "      <td>MESH:D003924</td>\n",
       "    </tr>\n",
       "    <tr>\n",
       "      <th>1</th>\n",
       "      <td>30055620</td>\n",
       "      <td>262</td>\n",
       "      <td>266</td>\n",
       "      <td>GCKR</td>\n",
       "      <td>Gene</td>\n",
       "      <td>2646</td>\n",
       "    </tr>\n",
       "    <tr>\n",
       "      <th>2</th>\n",
       "      <td>30055620</td>\n",
       "      <td>271</td>\n",
       "      <td>276</td>\n",
       "      <td>G6PC2</td>\n",
       "      <td>Gene</td>\n",
       "      <td>57818</td>\n",
       "    </tr>\n",
       "    <tr>\n",
       "      <th>3</th>\n",
       "      <td>30055620</td>\n",
       "      <td>295</td>\n",
       "      <td>310</td>\n",
       "      <td>type 2 diabetes</td>\n",
       "      <td>Disease</td>\n",
       "      <td>MESH:D003924</td>\n",
       "    </tr>\n",
       "    <tr>\n",
       "      <th>4</th>\n",
       "      <td>30055620</td>\n",
       "      <td>599</td>\n",
       "      <td>603</td>\n",
       "      <td>GCKR</td>\n",
       "      <td>Gene</td>\n",
       "      <td>2646</td>\n",
       "    </tr>\n",
       "    <tr>\n",
       "      <th>5</th>\n",
       "      <td>30055620</td>\n",
       "      <td>608</td>\n",
       "      <td>613</td>\n",
       "      <td>G6PC2</td>\n",
       "      <td>Gene</td>\n",
       "      <td>57818</td>\n",
       "    </tr>\n",
       "    <tr>\n",
       "      <th>6</th>\n",
       "      <td>30055620</td>\n",
       "      <td>1125</td>\n",
       "      <td>1133</td>\n",
       "      <td>rs780094</td>\n",
       "      <td>SNP</td>\n",
       "      <td>rs780094</td>\n",
       "    </tr>\n",
       "    <tr>\n",
       "      <th>7</th>\n",
       "      <td>30055620</td>\n",
       "      <td>1218</td>\n",
       "      <td>1226</td>\n",
       "      <td>rs492594</td>\n",
       "      <td>SNP</td>\n",
       "      <td>rs492594</td>\n",
       "    </tr>\n",
       "    <tr>\n",
       "      <th>8</th>\n",
       "      <td>30055620</td>\n",
       "      <td>1239</td>\n",
       "      <td>1244</td>\n",
       "      <td>G6PC2</td>\n",
       "      <td>Gene</td>\n",
       "      <td>57818</td>\n",
       "    </tr>\n",
       "    <tr>\n",
       "      <th>9</th>\n",
       "      <td>30055620</td>\n",
       "      <td>1347</td>\n",
       "      <td>1356</td>\n",
       "      <td>rs2293572</td>\n",
       "      <td>SNP</td>\n",
       "      <td>rs2293572</td>\n",
       "    </tr>\n",
       "    <tr>\n",
       "      <th>10</th>\n",
       "      <td>30055620</td>\n",
       "      <td>1361</td>\n",
       "      <td>1369</td>\n",
       "      <td>rs492594</td>\n",
       "      <td>SNP</td>\n",
       "      <td>rs492594</td>\n",
       "    </tr>\n",
       "    <tr>\n",
       "      <th>11</th>\n",
       "      <td>30055620</td>\n",
       "      <td>1555</td>\n",
       "      <td>1559</td>\n",
       "      <td>GCKR</td>\n",
       "      <td>Gene</td>\n",
       "      <td>2646</td>\n",
       "    </tr>\n",
       "  </tbody>\n",
       "</table>\n",
       "</div>"
      ],
      "text/plain": [
       "        PMID START   END           ENTITY     TYPE database_IDENTIFIER.\n",
       "0   30055620    62    77  type 2 diabetes  Disease         MESH:D003924\n",
       "1   30055620   262   266             GCKR     Gene                 2646\n",
       "2   30055620   271   276            G6PC2     Gene                57818\n",
       "3   30055620   295   310  type 2 diabetes  Disease         MESH:D003924\n",
       "4   30055620   599   603             GCKR     Gene                 2646\n",
       "5   30055620   608   613            G6PC2     Gene                57818\n",
       "6   30055620  1125  1133         rs780094      SNP             rs780094\n",
       "7   30055620  1218  1226         rs492594      SNP             rs492594\n",
       "8   30055620  1239  1244            G6PC2     Gene                57818\n",
       "9   30055620  1347  1356        rs2293572      SNP            rs2293572\n",
       "10  30055620  1361  1369         rs492594      SNP             rs492594\n",
       "11  30055620  1555  1559             GCKR     Gene                 2646"
      ]
     },
     "execution_count": 44,
     "metadata": {},
     "output_type": "execute_result"
    }
   ],
   "source": [
    "# PMID\\START OFFSET\\END OFFSET\\text MENTION\\mention TYPE (e.g. Gene)\\database IDENTIFIER. \n",
    "import pandas as pd\n",
    "NER_DF = pd.DataFrame(columns=['PMID','START','END','ENTITY','TYPE','database_IDENTIFIER.'])\n",
    "for c in range(2,14):\n",
    "    NER_col = abs_aplit[c].split('\\t')\n",
    "    NER_DF.loc[len(NER_DF)] = NER_col\n",
    "\n",
    "NER_DF"
   ]
  },
  {
   "cell_type": "code",
   "execution_count": null,
   "metadata": {},
   "outputs": [],
   "source": []
  },
  {
   "cell_type": "code",
   "execution_count": null,
   "metadata": {},
   "outputs": [],
   "source": []
  },
  {
   "cell_type": "markdown",
   "metadata": {
    "id": "-fNInfyXt8pV"
   },
   "source": [
    "# All Abstract Applications\n"
   ]
  },
  {
   "cell_type": "code",
   "execution_count": 50,
   "metadata": {
    "ExecuteTime": {
     "end_time": "2021-03-04T09:00:52.573642Z",
     "start_time": "2021-03-04T09:00:52.532507Z"
    }
   },
   "outputs": [
    {
     "name": "stdout",
     "output_type": "stream",
     "text": [
      "C:\\Users\\larry\\Desktop\\jupyter\\spaCy\\PMID\n",
      "pmid-diabetes_gene-2001-2021.txt\n"
     ]
    }
   ],
   "source": [
    "# 檔案位置\n",
    "%cd C:/Users/larry/Desktop/jupyter/spaCy/PMID\n",
    "!ls"
   ]
  },
  {
   "cell_type": "code",
   "execution_count": 51,
   "metadata": {
    "ExecuteTime": {
     "end_time": "2021-03-04T09:01:24.453575Z",
     "start_time": "2021-03-04T09:01:24.433789Z"
    }
   },
   "outputs": [
    {
     "name": "stdout",
     "output_type": "stream",
     "text": [
      "['27156759\\n', '26077742\\n', '30454745\\n', '28258576\\n', '22520736\\n', '28134709\\n', '31588538\\n', '30190170\\n', '31010439\\n', '31337416']\n"
     ]
    }
   ],
   "source": [
    "f = open('pmid-diabetes_gene-2001-2021.txt')\n",
    "text = []\n",
    "for line in f:\n",
    "    text.append(line)\n",
    "print(text)"
   ]
  },
  {
   "cell_type": "code",
   "execution_count": null,
   "metadata": {},
   "outputs": [],
   "source": []
  }
 ],
 "metadata": {
  "kernelspec": {
   "display_name": "Python 3",
   "language": "python",
   "name": "python3"
  },
  "language_info": {
   "codemirror_mode": {
    "name": "ipython",
    "version": 3
   },
   "file_extension": ".py",
   "mimetype": "text/x-python",
   "name": "python",
   "nbconvert_exporter": "python",
   "pygments_lexer": "ipython3",
   "version": "3.7.6"
  },
  "toc": {
   "base_numbering": 1,
   "nav_menu": {},
   "number_sections": true,
   "sideBar": true,
   "skip_h1_title": false,
   "title_cell": "Table of Contents",
   "title_sidebar": "獲取PubTator註釋",
   "toc_cell": false,
   "toc_position": {
    "height": "calc(100% - 180px)",
    "left": "10px",
    "top": "150px",
    "width": "208.75px"
   },
   "toc_section_display": true,
   "toc_window_display": true
  }
 },
 "nbformat": 4,
 "nbformat_minor": 4
}
