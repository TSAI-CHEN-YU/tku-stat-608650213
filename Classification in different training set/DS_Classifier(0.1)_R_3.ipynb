{
 "cells": [
  {
   "cell_type": "code",
   "execution_count": 1,
   "metadata": {
    "ExecuteTime": {
     "end_time": "2021-06-19T03:36:36.147034Z",
     "start_time": "2021-06-19T03:36:35.980758Z"
    },
    "scrolled": true
   },
   "outputs": [
    {
     "name": "stdout",
     "output_type": "stream",
     "text": [
      "Could not find platform independent libraries <prefix>\r\n",
      "Could not find platform dependent libraries <exec_prefix>\r\n",
      "Consider setting $PYTHONHOME to <prefix>[:<exec_prefix>]\r\n",
      "Python 2.7.13 :: Continuum Analytics, Inc.\r\n"
     ]
    }
   ],
   "source": [
    "!python --version"
   ]
  },
  {
   "cell_type": "code",
   "execution_count": 1,
   "metadata": {
    "ExecuteTime": {
     "end_time": "2021-06-27T03:17:30.675596Z",
     "start_time": "2021-06-27T03:17:30.671465Z"
    },
    "code_folding": [
     0
    ],
    "scrolled": true
   },
   "outputs": [],
   "source": [
    "# !pip install spacy\n",
    "# !pip install scispacy\n",
    "# !pip install spacy-transformers\n",
    "# !pip install https://s3-us-west-2.amazonaws.com/ai2-s2-scispacy/releases/v0.4.0/en_core_sci_scibert-0.4.0.tar.gz\n",
    "\n",
    "# !pip install networkx\n",
    "# !pip install tqdm\n",
    "# !pip install grakel\n",
    "# !pip install seaborn\n",
    "# !pip install matplotlib\n",
    "# !pip install numpy\n",
    "# !pip install -U numpy\n",
    "# !pip install pandas\n",
    "# !pip install --upgrade pandas\n",
    "# !pip install scikit-learn-intelex"
   ]
  },
  {
   "cell_type": "code",
   "execution_count": 2,
   "metadata": {
    "ExecuteTime": {
     "end_time": "2021-06-27T03:17:38.782700Z",
     "start_time": "2021-06-27T03:17:31.288340Z"
    },
    "code_folding": [
     0
    ]
   },
   "outputs": [],
   "source": [
    "###packages\n",
    "import scispacy\n",
    "import spacy\n",
    "\n",
    "import en_core_sci_scibert\n",
    "\n",
    "from spacy import displacy\n",
    "\n",
    "import pickle\n",
    "import time\n",
    "import os\n",
    "\n",
    "import numpy as np\n",
    "import itertools\n",
    "from itertools import combinations   \n",
    "\n",
    "import networkx as nx\n",
    "\n",
    "import pandas as pd\n",
    "from tqdm import tqdm\n",
    "\n",
    "import sys\n",
    "sys.setrecursionlimit(1000000)\n",
    "\n",
    "import gc"
   ]
  },
  {
   "cell_type": "code",
   "execution_count": 3,
   "metadata": {
    "ExecuteTime": {
     "end_time": "2021-06-27T03:17:40.464717Z",
     "start_time": "2021-06-27T03:17:38.793693Z"
    },
    "code_folding": [
     0
    ]
   },
   "outputs": [
    {
     "name": "stdout",
     "output_type": "stream",
     "text": [
      "Automatically created module for IPython interactive environment\n"
     ]
    }
   ],
   "source": [
    "### machine learning-graph kernel(GraKeL)\n",
    "from __future__ import print_function # >=python2.7\n",
    "print(__doc__)\n",
    "\n",
    "%matplotlib inline\n",
    "\n",
    "from sklearn.svm import SVC\n",
    "from sklearn.model_selection import train_test_split\n",
    "from sklearn.model_selection import GridSearchCV\n",
    "from sklearn.model_selection import cross_val_predict\n",
    "from sklearn.pipeline import make_pipeline\n",
    "from sklearn.metrics import accuracy_score\n",
    "\n",
    "from grakel.datasets import fetch_dataset\n",
    "from grakel.utils import cross_validate_Kfold_SVM\n",
    "from grakel.kernels import WeisfeilerLehman, VertexHistogram\n",
    "\n",
    "from grakel.utils import graph_from_networkx\n",
    "\n",
    "# kernels\n",
    "from grakel.kernels import ShortestPath #Shortest Path Kernel\n",
    "from grakel.kernels import PropagationAttr #Propagation kernels\n",
    "\n",
    "#evaluate\n",
    "import seaborn as sns\n",
    "from sklearn.metrics import confusion_matrix\n",
    "import matplotlib.pyplot as plt\n",
    "from sklearn.metrics import classification_report"
   ]
  },
  {
   "cell_type": "code",
   "execution_count": 4,
   "metadata": {
    "ExecuteTime": {
     "end_time": "2021-06-27T03:17:40.617753Z",
     "start_time": "2021-06-27T03:17:40.474697Z"
    },
    "code_folding": [
     0,
     3,
     10,
     17,
     33,
     55,
     134,
     140,
     146,
     152,
     156,
     175,
     208
    ]
   },
   "outputs": [],
   "source": [
    "### function\n",
    "    \n",
    "# save variable：\n",
    "def save_variable(v,filename):\n",
    "    f=open(filename,'wb')\n",
    "    pickle.dump(v,f)\n",
    "    f.close()\n",
    "    return filename\n",
    "\n",
    "# load variable：\n",
    "def load_variavle(filename):\n",
    "   f=open(filename,'rb')\n",
    "   r=pickle.load(f)\n",
    "   f.close()\n",
    "   return r\n",
    "\n",
    "# gene ncbi id in sentence\n",
    "def gene_in_sentence(sentence): \n",
    "    sentence_gene = []\n",
    "    string = sentence\n",
    "    while string.find('Gene_')!=-1: #句子還有Gene，就繼續尋找\n",
    "        sentence = string\n",
    "        x = sentence.find('Gene_') + 4\n",
    "\n",
    "        #ID至少1位數，往後找到完整ID \n",
    "        l=1\n",
    "        string = sentence[x+1:]\n",
    "        while string[:l].isdigit()==True: l+=1    \n",
    "        ncbi_id_i = string[:l-1]\n",
    "        sentence_gene.append(ncbi_id_i)\n",
    "    return list(set(sentence_gene))\n",
    "\n",
    "# nlp preprocessing\n",
    "def Display_interaction_Sent(doc,Gene1,Gene2,INTERACTION):\n",
    "    # Display DNA Entities \n",
    "    sent = doc.text[:]\n",
    "\n",
    "    # POS、Tag\n",
    "    tt = \"\"\n",
    "    pp = \"\"\n",
    "    for token in doc:\n",
    "        if 'Gene' in token.text:\n",
    "            tt = tt +' '+ token.text\n",
    "            pp = pp +' '+ token.text\n",
    "        else:\n",
    "            tt = tt +' '+ token.tag_\n",
    "            pp = pp +' '+ token.pos_\n",
    "            \n",
    "    print('\\033[1m'+'Label :','\\033[0m',INTERACTION) #Label\n",
    "    print('\\033[1m'+'Gene pair :','\\033[0m',Gene1,Gene2) #Gene pair\n",
    "    print('\\033[1m'+'Sent :','\\033[0m',sent) #Sentence\n",
    "    print('\\033[1m'+'Tag Sent:'+'\\033[0m',tt)\n",
    "    print('\\033[1m'+'POS Sent:'+'\\033[0m',pp,'\\n')\n",
    "      \n",
    "# Define_Graph\n",
    "def Define_Graph(doc,path):\n",
    "    ### Define 'nodes' & 'edges' \n",
    "    #(1).define nodes(id)\n",
    "    nodes = [j for j in range(0,len(doc))]\n",
    "#     print('\\033[1m'+'nodes:','\\033[0m'+'\\n',nodes)\n",
    "\n",
    "    #(2).define edges\n",
    "    edges = []\n",
    "    for token in doc:\n",
    "        for child in token.children:\n",
    "            edges.append((token.i,\n",
    "                          child.i))\n",
    "#     print('\\033[1m'+'edges:','\\033[0m'+'\\n',edges)\n",
    "    \n",
    "    ### Define 'nodes label' & 'edges label'\n",
    "    #(3).define nodes_label\n",
    "    nodes_tag = []\n",
    "    sdp_tag = []\n",
    "    for token in doc:\n",
    "        # nodes tag\n",
    "        t_tag = token.tag_\n",
    "        nodes_tag.append(t_tag)\n",
    "        #shortest path tag\n",
    "        if token.i in path:\n",
    "            sdp_tag.append('SDP')\n",
    "        else:\n",
    "            sdp_tag.append('NSDP')\n",
    "        \n",
    "        \n",
    "    nodes_label = dict(zip(nodes,list(map(lambda x: np.array(x),zip(nodes_tag,sdp_tag)))))        \n",
    "#     print('\\033[1m'+'nodes_label:','\\033[0m')\n",
    "#     print(\"\\n\".join(str(i)+str(nodes_label[i])for i in nodes_label))\n",
    "\n",
    "\n",
    "    #(4).define edges_label\n",
    "    #attribute(dep relation, dep direction)******\n",
    "    dep_direction = []\n",
    "    Syntax_relation = []\n",
    "    for p in range(0,len(edges)):\n",
    "        F = int(edges[p][0])\n",
    "        C = int(edges[p][1])\n",
    "        # Direction\n",
    "        if C > F:\n",
    "            d = 'Backward' #Backward\n",
    "            dep_direction.append(d)\n",
    "        else:\n",
    "            d = 'Forward' #Forward\n",
    "            dep_direction.append(d)\n",
    "\n",
    "        # Syntax\n",
    "        s = doc[C].dep_\n",
    "        Syntax_relation.append(s)\n",
    "    edges_label = dict(zip(edges,list(map(lambda x: np.array(x),zip(dep_direction,Syntax_relation)))))\n",
    "#     print('\\033[1m'+'edges_label:','\\033[0m')\n",
    "#     print(\"\\n\".join(str(i)+str(edges_label[i])for i in edges_label))\n",
    "\n",
    "    #(5).define edges_weight\n",
    "    #short dep path = 0.9 , 0.1\n",
    "    weg = []\n",
    "    for p in range(0,len(edges)):\n",
    "        F = int(edges[p][0])\n",
    "        C = int(edges[p][1])\n",
    "\n",
    "        if C in path and F in path:\n",
    "            weg.append(0.9)\n",
    "        else:\n",
    "            weg.append(0.1)\n",
    "    edge_weight = dict(zip(edges,weg))\n",
    "#     print('\\033[1m'+'edge_weight:','\\033[0m')\n",
    "#     print(edge_weight)\n",
    "    \n",
    "    \n",
    "    globals()['nodes'] = nodes\n",
    "    globals()['edges'] = edges\n",
    "    globals()['nodes_label'] = nodes_label\n",
    "    globals()['edges_label'] = edges_label\n",
    "    globals()['edge_weight'] = edge_weight\n",
    "    \n",
    "# load spacy model\n",
    "def load_en_core_sci_scibert_model():\n",
    "    spacy.prefer_gpu() #use GPU\n",
    "    nlp = en_core_sci_scibert.load()\n",
    "    return nlp\n",
    "\n",
    "# load kegg gene pair\n",
    "def kegg_gene_pair_fun():\n",
    "    os.chdir('C:/Users/larry/Desktop/jupyter/Interaction_corpus/kegg_all_gene_pair')\n",
    "    kegg_gene_pair = pd.read_csv('kegg_gene_pair.csv')\n",
    "    return kegg_gene_pair\n",
    "\n",
    "# load kegg gene list\n",
    "def kegg_gene_list_fun():\n",
    "    os.chdir('C:/Users/larry/Desktop/jupyter/Interaction_corpus/kegg_all_gene_pair')\n",
    "    kegg_gene_list = np.load('kegg_gene_list.npy').tolist()\n",
    "    return kegg_gene_list\n",
    "\n",
    "# get list index\n",
    "def get_index(lst=None, item=''):\n",
    "    return [index for (index,value) in enumerate(lst) if value == item]\n",
    "\n",
    "# plot ROC curve\n",
    "def plotROC_AUC(yt, ys):\n",
    "    '''\n",
    "    plot ROC-AUC curve\n",
    "    param yt: True Y\n",
    "    param ys: Predict Y\n",
    "    '''\n",
    "    from sklearn import metrics\n",
    "    from matplotlib import pyplot as plt\n",
    "    f_pos, t_pos, thresh = metrics.roc_curve(yt, ys, pos_label=2)\n",
    "    auc_area = metrics.auc(f_pos, t_pos)\n",
    "\n",
    "    plt.figure(dpi=300) \n",
    "    plt.plot(f_pos, t_pos, 'darkorange', lw=2, label='AUC = %.2f' % auc_area)\n",
    "    plt.legend(loc='lower right')\n",
    "    plt.plot([0, 1], [0, 1], color='navy', linestyle='--')\n",
    "    plt.ylabel('True Positive Rate')\n",
    "    plt.xlabel('False Positive Rate')\n",
    "    plt.show()\n",
    "    \n",
    "def k_fold(s,kernel):\n",
    "    ### 1.Assign training & validation set\n",
    "    # (1).fix one set for validation\n",
    "    x_validation = globals()[f'sub{s}'].Graph\n",
    "    y_validation = globals()[f'sub{s}'].Label\n",
    "\n",
    "    # (2).nine set for training\n",
    "    train = pd.concat([eval(f'sub{n}') for n in range(1,11) if n != s],axis=0).reset_index(drop=True)\n",
    "    x_train = train.Graph\n",
    "    y_train = train.Label\n",
    "\n",
    "    ### 2.10 iterations of training\n",
    "    # (1).Use the \"shortest path kernel\" to generate kernel matrices\n",
    "    gk1 = kernel(normalize=True)\n",
    "    K1_train = gk1.fit_transform(x_train)\n",
    "    K1_test = gk1.transform(x_validation)\n",
    "\n",
    "    # (2).Using SVM classifier for classification\n",
    "    clf = SVC(kernel=\"precomputed\")\n",
    "    clf.fit(K1_train, y_train)\n",
    "    y_pred = clf.predict(K1_test)\n",
    "    y_score = clf.fit(K1_train, y_train).decision_function(K1_test)\n",
    "\n",
    "    # (3).caculate classification accuracy\n",
    "    acc = accuracy_score(y_validation, y_pred)\n",
    "    \n",
    "    # (4).train predict \n",
    "    y_pred_train = clf.predict(K1_train)\n",
    "    acc_train = accuracy_score(y_train, y_pred_train)\n",
    "    \n",
    "    print(f\"{s} iter Accuracy(train,test):\", str(round(acc_train*100, 2)) + \"%\", str(round(acc*100, 2)) + \"%\")\n",
    "    return acc_train,acc\n",
    "\n",
    "def k_fold_fast(s,kernel):\n",
    "    from sklearnex import patch_sklearn\n",
    "    patch_sklearn()\n",
    "\n",
    "    from sklearn.svm import SVC\n",
    "    \n",
    "    \n",
    "    ### 1.Assign training & validation set\n",
    "    # (1).fix one set for validation\n",
    "    x_validation = globals()[f'sub{s}'].Graph\n",
    "    y_validation = globals()[f'sub{s}'].Label\n",
    "\n",
    "    # (2).nine set for training\n",
    "    train = pd.concat([eval(f'sub{n}') for n in range(1,11) if n != s],axis=0).reset_index(drop=True)\n",
    "    x_train = train.Graph\n",
    "    y_train = train.Label\n",
    "\n",
    "    ### 2.10 iterations of training\n",
    "    # (1).Use the \"shortest path kernel\" to generate kernel matrices\n",
    "    gk1 = kernel(normalize=True)\n",
    "    K1_train = gk1.fit_transform(x_train)\n",
    "    K1_test = gk1.transform(x_validation)\n",
    "\n",
    "    # (2).Using SVM classifier for classification\n",
    "    clf = SVC(kernel=\"precomputed\")\n",
    "    clf.fit(K1_train, y_train)\n",
    "    y_pred = clf.predict(K1_test)\n",
    "    # y_score = clf.fit(K1_train, y_train).decision_function(K1_test)\n",
    "\n",
    "    # (3).caculate classification accuracy\n",
    "    acc = accuracy_score(y_validation, y_pred)\n",
    "    \n",
    "    # (4).train predict \n",
    "    y_pred_train = clf.predict(K1_train)\n",
    "    acc_train = accuracy_score(y_train, y_pred_train)\n",
    "    \n",
    "    print(f\"{s} iter Accuracy(train,test):\", str(round(acc_train*100, 2)) + \"%\", str(round(acc*100, 2)) + \"%\")\n",
    "    return acc_train,acc"
   ]
  },
  {
   "cell_type": "markdown",
   "metadata": {},
   "source": [
    "Reference page URL:\n",
    "1. pandas speed up : https://www.jianshu.com/p/ac339a8ea0d0\n",
    "2. pandas speed up result : https://blog.csdn.net/weixin_33848436/article/details/112523562?utm_medium=distribute.pc_relevant.none-task-blog-baidujs_title-0&spm=1001.2101.3001.4242\n",
    "2. grakel.graph_from_networkx : https://ysig.github.io/GraKeL/0.1a8/generated/grakel.graph_from_networkx.html\n",
    "4. roc curve : https://blog.csdn.net/pipisorry/article/details/53001866"
   ]
  },
  {
   "cell_type": "markdown",
   "metadata": {
    "id": "-fNInfyXt8pV"
   },
   "source": [
    "# DS corpus"
   ]
  },
  {
   "cell_type": "markdown",
   "metadata": {
    "heading_collapsed": true
   },
   "source": [
    "## data"
   ]
  },
  {
   "cell_type": "code",
   "execution_count": 60,
   "metadata": {
    "ExecuteTime": {
     "end_time": "2021-05-22T10:44:30.303644Z",
     "start_time": "2021-05-22T10:44:30.259709Z"
    },
    "collapsed": true,
    "hidden": true
   },
   "outputs": [
    {
     "data": {
      "text/plain": [
       "['Range_0_12999.npy',\n",
       " 'Range_104000_116999.npy',\n",
       " 'Range_104496_116999.npy',\n",
       " 'Range_105039_116999.npy',\n",
       " 'Range_105897_116999.npy',\n",
       " 'Range_106973_116999.npy',\n",
       " 'Range_108453_116999.npy',\n",
       " 'Range_115186_116999.npy',\n",
       " 'Range_115813_116999.npy',\n",
       " 'Range_117000_130870.npy',\n",
       " 'Range_118197_130870.npy',\n",
       " 'Range_118356_130870.npy',\n",
       " 'Range_119027_130870.npy',\n",
       " 'Range_120083_130870.npy',\n",
       " 'Range_120186_130870.npy',\n",
       " 'Range_120212_130870.npy',\n",
       " 'Range_124271_130870.npy',\n",
       " 'Range_13000_25999.npy',\n",
       " 'Range_14454_25999.npy',\n",
       " 'Range_15180_25999.npy',\n",
       " 'Range_17601_25999.npy',\n",
       " 'Range_23509_25999.npy',\n",
       " 'Range_26000_38999.npy',\n",
       " 'Range_26297_38999.npy',\n",
       " 'Range_26505_38999.npy',\n",
       " 'Range_26675_38999.npy',\n",
       " 'Range_29688_38999.npy',\n",
       " 'Range_3189_12999.npy',\n",
       " 'Range_33212_38999.npy',\n",
       " 'Range_36889_38999.npy',\n",
       " 'Range_37736_38999.npy',\n",
       " 'Range_39000_51999.npy',\n",
       " 'Range_39220_51999.npy',\n",
       " 'Range_39285_51999.npy',\n",
       " 'Range_39385_51999.npy',\n",
       " 'Range_41894_51999.npy',\n",
       " 'Range_44795_51999.npy',\n",
       " 'Range_52000_64999.npy',\n",
       " 'Range_52210_64999.npy',\n",
       " 'Range_52953_64999.npy',\n",
       " 'Range_55973_64999.npy',\n",
       " 'Range_59989_64999.npy',\n",
       " 'Range_64154_64999.npy',\n",
       " 'Range_65000_77999.npy',\n",
       " 'Range_65787_77999.npy',\n",
       " 'Range_66598_77999.npy',\n",
       " 'Range_67548_77999.npy',\n",
       " 'Range_68379_77999.npy',\n",
       " 'Range_72800_77999.npy',\n",
       " 'Range_78000_90999.npy',\n",
       " 'Range_78050_90999.npy',\n",
       " 'Range_78784_90999.npy',\n",
       " 'Range_79424_90999.npy',\n",
       " 'Range_80412_90999.npy',\n",
       " 'Range_844_12999.npy',\n",
       " 'Range_84992_90999.npy',\n",
       " 'Range_907_12999.npy',\n",
       " 'Range_91000_103999.npy',\n",
       " 'Range_91205_103999.npy',\n",
       " 'Range_92141_103999.npy',\n",
       " 'Range_92371_103999.npy',\n",
       " 'Range_93289_103999.npy',\n",
       " 'Range_94382_103999.npy',\n",
       " 'Range_94991_103999.npy',\n",
       " 'Range_99021_103999.npy',\n",
       " 'Range_998_12999.npy']"
      ]
     },
     "execution_count": 60,
     "metadata": {},
     "output_type": "execute_result"
    }
   ],
   "source": [
    "Path = 'C:/Users/larry/Desktop/jupyter/DS_corpus'\n",
    "allFileList = os.listdir(Path)\n",
    "allFileList"
   ]
  },
  {
   "cell_type": "code",
   "execution_count": 61,
   "metadata": {
    "ExecuteTime": {
     "end_time": "2021-05-22T10:44:38.251220Z",
     "start_time": "2021-05-22T10:44:34.517558Z"
    },
    "code_folding": [
     2
    ],
    "hidden": true
   },
   "outputs": [],
   "source": [
    "# load all result\n",
    "df_list = []\n",
    "for file in allFileList:\n",
    "    os.chdir('C:/Users/larry/Desktop/jupyter/DS_corpus')\n",
    "    try:\n",
    "        arr=np.load(file,allow_pickle=True)\n",
    "    except OSError:\n",
    "        arr=np.loadtxt(file)\n",
    "        \n",
    "    df_list = df_list + arr.tolist()"
   ]
  },
  {
   "cell_type": "code",
   "execution_count": 62,
   "metadata": {
    "ExecuteTime": {
     "end_time": "2021-05-22T10:44:38.267170Z",
     "start_time": "2021-05-22T10:44:38.253228Z"
    },
    "hidden": true
   },
   "outputs": [
    {
     "data": {
      "text/plain": [
       "591314"
      ]
     },
     "execution_count": 62,
     "metadata": {},
     "output_type": "execute_result"
    }
   ],
   "source": [
    "len(df_list)"
   ]
  },
  {
   "cell_type": "code",
   "execution_count": 63,
   "metadata": {
    "ExecuteTime": {
     "end_time": "2021-05-22T10:44:39.845324Z",
     "start_time": "2021-05-22T10:44:38.269148Z"
    },
    "hidden": true
   },
   "outputs": [],
   "source": [
    "pre_df = pd.DataFrame(df_list,columns = [\"PMID\" ,\"LOCATION\",\"SENTENCE\" ,\"GENE1\" ,\"GENE2\" ,\"INTERACTION\"])\n",
    "DS_corpus_kegg = pre_df.loc[pre_df.astype(str).drop_duplicates().index].reset_index().drop([\"index\"], axis=1)"
   ]
  },
  {
   "cell_type": "markdown",
   "metadata": {},
   "source": [
    "## get label"
   ]
  },
  {
   "cell_type": "code",
   "execution_count": 64,
   "metadata": {
    "ExecuteTime": {
     "end_time": "2021-05-22T10:44:45.284548Z",
     "start_time": "2021-05-22T10:44:39.846216Z"
    }
   },
   "outputs": [
    {
     "name": "stdout",
     "output_type": "stream",
     "text": [
      "knowledge database : 11365 gene pair\n"
     ]
    }
   ],
   "source": [
    "# kegg genes pair list\n",
    "os.chdir('C:/Users/larry/Desktop/jupyter/Interaction_corpus/kegg_all_gene_pair')\n",
    "kegg_gene_pair = pd.read_csv('kegg_gene_pair.csv')\n",
    "\n",
    "pair_list = []\n",
    "for kgp in kegg_gene_pair.index:\n",
    "    C = kegg_gene_pair.loc[kgp,['gene_1_id','gene_2_id']].astype(str).to_list()\n",
    "    pair_list.append(set(C))\n",
    "\n",
    "print(f'knowledge database : {len(pair_list)} gene pair')"
   ]
  },
  {
   "cell_type": "code",
   "execution_count": 65,
   "metadata": {
    "ExecuteTime": {
     "end_time": "2021-05-22T10:49:31.935423Z",
     "start_time": "2021-05-22T10:44:45.285503Z"
    }
   },
   "outputs": [
    {
     "name": "stderr",
     "output_type": "stream",
     "text": [
      "100%|████████████████████████████████████████████████████████████████████████| 392725/392725 [04:46<00:00, 1370.44it/s]\n"
     ]
    }
   ],
   "source": [
    "# git label for sentence\n",
    "Labels = []\n",
    "for i in tqdm(DS_corpus_kegg.index):\n",
    "    sent_p = set(DS_corpus_kegg.loc[i,['GENE1','GENE2']].astype(str).to_list())\n",
    "    if sent_p in pair_list:\n",
    "        label = 'KEGG_Interaction'\n",
    "    else:\n",
    "        label = 'NON_KEGG_Interaction'\n",
    "    Labels.append(label)\n",
    "\n",
    "    \n",
    "DS_corpus_kegg['INTERACTION'] = Labels"
   ]
  },
  {
   "cell_type": "markdown",
   "metadata": {},
   "source": [
    "### save data"
   ]
  },
  {
   "cell_type": "code",
   "execution_count": 14,
   "metadata": {
    "ExecuteTime": {
     "end_time": "2021-05-31T06:30:40.195934Z",
     "start_time": "2021-05-31T06:30:39.640833Z"
    }
   },
   "outputs": [
    {
     "name": "stdout",
     "output_type": "stream",
     "text": [
      "/home/tku_stat_dell/Desktop/DS_corpus\n",
      "DS_Classifier.ipynb  DS_corpus_kegg.csv  DS_corpus_kegg_graph_data\n"
     ]
    }
   ],
   "source": [
    "%cd /home/tku_stat_dell/Desktop/DS_corpus\n",
    "!ls"
   ]
  },
  {
   "cell_type": "code",
   "execution_count": 6,
   "metadata": {
    "ExecuteTime": {
     "end_time": "2021-05-26T02:05:37.150623Z",
     "start_time": "2021-05-26T02:05:37.136661Z"
    },
    "code_folding": []
   },
   "outputs": [],
   "source": [
    "# # save1\n",
    "# DS_corpus_kegg.to_csv(r'C:/Users/larry/Desktop/jupyter/Interaction_corpus/DS_corpus/DS_corpus_kegg.csv', index=False)\n",
    "# # load1\n",
    "# DS = pd.read_csv('DS_corpus_kegg.csv')\n",
    "# # Normalized data\n",
    "# DS_corpus1 = DS.dropna(axis=0,how='any')[:]\n",
    "# DS_corpus1[['GENE1','GENE2']] = DS_corpus1[['GENE1','GENE2']].astype(int).astype(str)\n",
    "# DS_corpus2 = DS_corpus1.reset_index().drop([\"index\"], axis=1)\n",
    "# # save1\n",
    "# DS_corpus2.to_csv(r'C:/Users/larry/Desktop/jupyter/Interaction_corpus/DS_corpus/DS_corpus_kegg.csv', index=False)"
   ]
  },
  {
   "cell_type": "code",
   "execution_count": 6,
   "metadata": {
    "ExecuteTime": {
     "end_time": "2021-05-31T06:31:54.546654Z",
     "start_time": "2021-05-31T06:31:53.596530Z"
    }
   },
   "outputs": [],
   "source": [
    "# load1\n",
    "DS_corpus_kegg = pd.read_csv('DS_corpus_kegg.csv')"
   ]
  },
  {
   "cell_type": "code",
   "execution_count": 7,
   "metadata": {
    "ExecuteTime": {
     "end_time": "2021-05-31T06:31:59.307399Z",
     "start_time": "2021-05-31T06:31:59.267250Z"
    },
    "collapsed": true
   },
   "outputs": [
    {
     "data": {
      "text/html": [
       "<div>\n",
       "<style scoped>\n",
       "    .dataframe tbody tr th:only-of-type {\n",
       "        vertical-align: middle;\n",
       "    }\n",
       "\n",
       "    .dataframe tbody tr th {\n",
       "        vertical-align: top;\n",
       "    }\n",
       "\n",
       "    .dataframe thead th {\n",
       "        text-align: right;\n",
       "    }\n",
       "</style>\n",
       "<table border=\"1\" class=\"dataframe\">\n",
       "  <thead>\n",
       "    <tr style=\"text-align: right;\">\n",
       "      <th></th>\n",
       "      <th>PMID</th>\n",
       "      <th>LOCATION</th>\n",
       "      <th>SENTENCE</th>\n",
       "      <th>GENE1</th>\n",
       "      <th>GENE2</th>\n",
       "      <th>INTERACTION</th>\n",
       "    </tr>\n",
       "  </thead>\n",
       "  <tbody>\n",
       "    <tr>\n",
       "      <th>0</th>\n",
       "      <td>28059022</td>\n",
       "      <td>[58, 91]</td>\n",
       "      <td>The emergence of ASIA syndrome is associated w...</td>\n",
       "      <td>3126</td>\n",
       "      <td>3123</td>\n",
       "      <td>NON_KEGG_Interaction</td>\n",
       "    </tr>\n",
       "    <tr>\n",
       "      <th>1</th>\n",
       "      <td>31132167</td>\n",
       "      <td>[46, 94]</td>\n",
       "      <td>Focused Sanger sequencing from genomic DNA was...</td>\n",
       "      <td>3039</td>\n",
       "      <td>2034</td>\n",
       "      <td>NON_KEGG_Interaction</td>\n",
       "    </tr>\n",
       "    <tr>\n",
       "      <th>2</th>\n",
       "      <td>31132167</td>\n",
       "      <td>[46, 94]</td>\n",
       "      <td>Focused Sanger sequencing from genomic DNA was...</td>\n",
       "      <td>3039</td>\n",
       "      <td>54583</td>\n",
       "      <td>NON_KEGG_Interaction</td>\n",
       "    </tr>\n",
       "    <tr>\n",
       "      <th>3</th>\n",
       "      <td>31132167</td>\n",
       "      <td>[46, 94]</td>\n",
       "      <td>Focused Sanger sequencing from genomic DNA was...</td>\n",
       "      <td>3039</td>\n",
       "      <td>3040</td>\n",
       "      <td>NON_KEGG_Interaction</td>\n",
       "    </tr>\n",
       "    <tr>\n",
       "      <th>4</th>\n",
       "      <td>31132167</td>\n",
       "      <td>[46, 94]</td>\n",
       "      <td>Focused Sanger sequencing from genomic DNA was...</td>\n",
       "      <td>3039</td>\n",
       "      <td>2057</td>\n",
       "      <td>NON_KEGG_Interaction</td>\n",
       "    </tr>\n",
       "    <tr>\n",
       "      <th>...</th>\n",
       "      <td>...</td>\n",
       "      <td>...</td>\n",
       "      <td>...</td>\n",
       "      <td>...</td>\n",
       "      <td>...</td>\n",
       "      <td>...</td>\n",
       "    </tr>\n",
       "    <tr>\n",
       "      <th>392713</th>\n",
       "      <td>18802702</td>\n",
       "      <td>[60, 119]</td>\n",
       "      <td>The kegg_Gene_4312 -1,607 1G/2G (rs1799750), k...</td>\n",
       "      <td>4312</td>\n",
       "      <td>4313</td>\n",
       "      <td>NON_KEGG_Interaction</td>\n",
       "    </tr>\n",
       "    <tr>\n",
       "      <th>392714</th>\n",
       "      <td>18802702</td>\n",
       "      <td>[119, 141]</td>\n",
       "      <td>Genotype distributions and allele frequencies ...</td>\n",
       "      <td>4312</td>\n",
       "      <td>4313</td>\n",
       "      <td>NON_KEGG_Interaction</td>\n",
       "    </tr>\n",
       "    <tr>\n",
       "      <th>392715</th>\n",
       "      <td>17932346</td>\n",
       "      <td>[0, 21]</td>\n",
       "      <td>Comprehensive association analysis of the vita...</td>\n",
       "      <td>1594</td>\n",
       "      <td>1591</td>\n",
       "      <td>NON_KEGG_Interaction</td>\n",
       "    </tr>\n",
       "    <tr>\n",
       "      <th>392716</th>\n",
       "      <td>17932346</td>\n",
       "      <td>[37, 84]</td>\n",
       "      <td>We studied the association between polymorphis...</td>\n",
       "      <td>1594</td>\n",
       "      <td>1591</td>\n",
       "      <td>NON_KEGG_Interaction</td>\n",
       "    </tr>\n",
       "    <tr>\n",
       "      <th>392717</th>\n",
       "      <td>17932346</td>\n",
       "      <td>[143, 177]</td>\n",
       "      <td>We selected and genotyped tag single-nucleotid...</td>\n",
       "      <td>1594</td>\n",
       "      <td>1591</td>\n",
       "      <td>NON_KEGG_Interaction</td>\n",
       "    </tr>\n",
       "  </tbody>\n",
       "</table>\n",
       "<p>392718 rows × 6 columns</p>\n",
       "</div>"
      ],
      "text/plain": [
       "            PMID    LOCATION  \\\n",
       "0       28059022    [58, 91]   \n",
       "1       31132167    [46, 94]   \n",
       "2       31132167    [46, 94]   \n",
       "3       31132167    [46, 94]   \n",
       "4       31132167    [46, 94]   \n",
       "...          ...         ...   \n",
       "392713  18802702   [60, 119]   \n",
       "392714  18802702  [119, 141]   \n",
       "392715  17932346     [0, 21]   \n",
       "392716  17932346    [37, 84]   \n",
       "392717  17932346  [143, 177]   \n",
       "\n",
       "                                                 SENTENCE  GENE1  GENE2  \\\n",
       "0       The emergence of ASIA syndrome is associated w...   3126   3123   \n",
       "1       Focused Sanger sequencing from genomic DNA was...   3039   2034   \n",
       "2       Focused Sanger sequencing from genomic DNA was...   3039  54583   \n",
       "3       Focused Sanger sequencing from genomic DNA was...   3039   3040   \n",
       "4       Focused Sanger sequencing from genomic DNA was...   3039   2057   \n",
       "...                                                   ...    ...    ...   \n",
       "392713  The kegg_Gene_4312 -1,607 1G/2G (rs1799750), k...   4312   4313   \n",
       "392714  Genotype distributions and allele frequencies ...   4312   4313   \n",
       "392715  Comprehensive association analysis of the vita...   1594   1591   \n",
       "392716  We studied the association between polymorphis...   1594   1591   \n",
       "392717  We selected and genotyped tag single-nucleotid...   1594   1591   \n",
       "\n",
       "                 INTERACTION  \n",
       "0       NON_KEGG_Interaction  \n",
       "1       NON_KEGG_Interaction  \n",
       "2       NON_KEGG_Interaction  \n",
       "3       NON_KEGG_Interaction  \n",
       "4       NON_KEGG_Interaction  \n",
       "...                      ...  \n",
       "392713  NON_KEGG_Interaction  \n",
       "392714  NON_KEGG_Interaction  \n",
       "392715  NON_KEGG_Interaction  \n",
       "392716  NON_KEGG_Interaction  \n",
       "392717  NON_KEGG_Interaction  \n",
       "\n",
       "[392718 rows x 6 columns]"
      ]
     },
     "execution_count": 7,
     "metadata": {},
     "output_type": "execute_result"
    }
   ],
   "source": [
    "DS_corpus_kegg"
   ]
  },
  {
   "cell_type": "code",
   "execution_count": 8,
   "metadata": {
    "ExecuteTime": {
     "end_time": "2021-05-31T06:32:15.358671Z",
     "start_time": "2021-05-31T06:32:15.259651Z"
    }
   },
   "outputs": [
    {
     "name": "stdout",
     "output_type": "stream",
     "text": [
      "Gene-Gene Interaction: 14066\n",
      "Not Gene-Gene Interaction: 378652\n"
     ]
    }
   ],
   "source": [
    "print('Gene-Gene Interaction:',DS_corpus_kegg.INTERACTION.value_counts()['KEGG_Interaction'])\n",
    "print('Not Gene-Gene Interaction:',DS_corpus_kegg.INTERACTION.value_counts()['NON_KEGG_Interaction'])"
   ]
  },
  {
   "cell_type": "markdown",
   "metadata": {
    "id": "-fNInfyXt8pV"
   },
   "source": [
    "# construct graph"
   ]
  },
  {
   "cell_type": "code",
   "execution_count": 9,
   "metadata": {
    "ExecuteTime": {
     "end_time": "2021-05-31T06:32:27.016103Z",
     "start_time": "2021-05-31T06:32:18.151362Z"
    }
   },
   "outputs": [],
   "source": [
    "spacy.prefer_gpu() #use GPU\n",
    "nlp = en_core_sci_scibert.load()"
   ]
  },
  {
   "cell_type": "markdown",
   "metadata": {
    "id": "-fNInfyXt8pV"
   },
   "source": [
    "## Graphic feature extraction(define graph)\n",
    "Syntactic dependency & POS tag & shortest dependency path\n",
    "\n"
   ]
  },
  {
   "cell_type": "code",
   "execution_count": 35,
   "metadata": {
    "ExecuteTime": {
     "end_time": "2021-05-31T17:34:46.865346Z",
     "start_time": "2021-05-31T06:59:07.265243Z"
    },
    "code_folding": [
     13
    ],
    "scrolled": true
   },
   "outputs": [
    {
     "name": "stderr",
     "output_type": "stream",
     "text": [
      "100%|██████████| 392718/392718 [10:35:39<00:00, 10.30it/s]   \n"
     ]
    }
   ],
   "source": [
    "### Graphic feature extraction\n",
    "#save time\n",
    "PMID_list = DS_corpus_kegg['PMID'].to_list()[:]\n",
    "LOCATION_list = DS_corpus_kegg['LOCATION'].to_list()[:]\n",
    "doc_list = DS_corpus_kegg['SENTENCE'].to_list()[:]\n",
    "Gene1_list = DS_corpus_kegg['GENE1'].to_list()[:]\n",
    "Gene2_list = DS_corpus_kegg['GENE2'].to_list()[:]\n",
    "INTERACTION_list = DS_corpus_kegg['INTERACTION'].to_list()[:]\n",
    "\n",
    "\n",
    "#start\n",
    "\n",
    "G_all = []\n",
    "for n in tqdm(DS_corpus_kegg.index): # long time, big!!!\n",
    "#     print(\"{:=^100s}\".format(str(n)))\n",
    "\n",
    "    ### 0.get gene interaction pair & sentence\n",
    "#     print('\\033[1m'+'PMID :','\\033[0m', PMID_list[n], LOCATION_list[n]) #PMID\n",
    "    doc = nlp(doc_list[n])\n",
    "    Gene1 = Gene1_list[n]\n",
    "    Gene2 = Gene2_list[n]\n",
    "    INTERACTION = INTERACTION_list[n]\n",
    "#     print('\\033[1m'+'Sent :','\\033[0m',doc) #Sentence\n",
    "\n",
    "    ### 1.Graphic feature extraction(dependency relation & token tag & shorteat path)      \n",
    "    edges = []\n",
    "    for token in doc:\n",
    "        # two gene location in sent\n",
    "        if f'Gene_{Gene1}' in token.text:\n",
    "            entity1 = token.i\n",
    "        if f'Gene_{Gene2}' in token.text:\n",
    "            entity2 = token.i\n",
    "        # sent id graph\n",
    "        for child in token.children:\n",
    "            edges.append((token.i,\n",
    "                          child.i))    \n",
    "    G = nx.Graph(edges)\n",
    "\n",
    "\n",
    "    # shortest path\n",
    "    try:\n",
    "        distance=nx.shortest_path_length(G, source=entity1, target=entity2)\n",
    "#         print(f'Gene {Gene1} to {Gene2} distance：', distance)\n",
    "        path=nx.shortest_path(G, source=entity1, target=entity2)\n",
    "#         print(f'Gene {Gene1} to {Gene2} path：', path,'\\n')\n",
    "    except nx.NetworkXNoPath:\n",
    "#         print('The shortest path between entities is not exist!!! The two are not related, skip')\n",
    "        continue\n",
    "    except nx.NodeNotFound:\n",
    "#         print('Program problem, can be improved, skip first') #Gene ID indicates error\n",
    "        continue\n",
    "        \n",
    "    if len(path)==2: # The shortest path between entities is adjacent! Non-interaction\n",
    "#         print('The shortest path between entities is adjacent!!! Non-interaction')\n",
    "        path = []\n",
    "        ## define sentence to graph\n",
    "        Define_Graph(doc,path)\n",
    "        ## construct NetworkX graph by GraKel format\n",
    "        G1 = nx.Graph()\n",
    "        G1.add_nodes_from(nodes)\n",
    "        G1.add_edges_from(edges, weight=3)\n",
    "        nx.set_node_attributes(G1,nodes_label,'label')\n",
    "        nx.set_edge_attributes(G1,edges_label,'attributes')\n",
    "        nx.set_edge_attributes(G1,edge_weight,'weight')\n",
    "\n",
    "        G_nx.append(G1)\n",
    "        G_Label.append('NON_KEGG_Interaction')\n",
    "        G_sent.append(doc.text)\n",
    "        G_all.append([doc.text,G1,Gene1,Gene2,entity1,entity2,'NON_KEGG_Interaction'])\n",
    "    else:\n",
    "#         print('Successfully constructed graphics')\n",
    "        ## define sentence to graph\n",
    "        Define_Graph(doc,path)\n",
    "        ## construct NetworkX graph\n",
    "        G1 = nx.Graph()\n",
    "        G1.add_nodes_from(nodes)\n",
    "        G1.add_edges_from(edges, weight=3)\n",
    "        nx.set_node_attributes(G1,nodes_label,'label')\n",
    "        nx.set_edge_attributes(G1,edges_label,'attributes')\n",
    "        nx.set_edge_attributes(G1,edge_weight,'weight')\n",
    "\n",
    "        G_all.append([doc.text,G1,Gene1,Gene2,entity1,entity2,INTERACTION])\n",
    "#         print('\\n')"
   ]
  },
  {
   "cell_type": "code",
   "execution_count": 36,
   "metadata": {
    "ExecuteTime": {
     "end_time": "2021-05-31T17:34:59.279787Z",
     "start_time": "2021-05-31T17:34:58.614904Z"
    },
    "scrolled": true
   },
   "outputs": [
    {
     "data": {
      "text/html": [
       "<div>\n",
       "<style scoped>\n",
       "    .dataframe tbody tr th:only-of-type {\n",
       "        vertical-align: middle;\n",
       "    }\n",
       "\n",
       "    .dataframe tbody tr th {\n",
       "        vertical-align: top;\n",
       "    }\n",
       "\n",
       "    .dataframe thead th {\n",
       "        text-align: right;\n",
       "    }\n",
       "</style>\n",
       "<table border=\"1\" class=\"dataframe\">\n",
       "  <thead>\n",
       "    <tr style=\"text-align: right;\">\n",
       "      <th></th>\n",
       "      <th>sent</th>\n",
       "      <th>graph</th>\n",
       "      <th>Gene1</th>\n",
       "      <th>Gene2</th>\n",
       "      <th>Gene1_loc</th>\n",
       "      <th>Gene2_loc</th>\n",
       "      <th>Label</th>\n",
       "    </tr>\n",
       "  </thead>\n",
       "  <tbody>\n",
       "    <tr>\n",
       "      <th>0</th>\n",
       "      <td>The emergence of ASIA syndrome is associated w...</td>\n",
       "      <td>(0, 1, 2, 3, 4, 5, 6, 7, 8, 9, 10, 11, 12, 13,...</td>\n",
       "      <td>3126</td>\n",
       "      <td>3123</td>\n",
       "      <td>20</td>\n",
       "      <td>16</td>\n",
       "      <td>NON_KEGG_Interaction</td>\n",
       "    </tr>\n",
       "    <tr>\n",
       "      <th>1</th>\n",
       "      <td>Focused Sanger sequencing from genomic DNA was...</td>\n",
       "      <td>(0, 1, 2, 3, 4, 5, 6, 7, 8, 9, 10, 11, 12, 13,...</td>\n",
       "      <td>3039</td>\n",
       "      <td>2034</td>\n",
       "      <td>42</td>\n",
       "      <td>30</td>\n",
       "      <td>NON_KEGG_Interaction</td>\n",
       "    </tr>\n",
       "    <tr>\n",
       "      <th>2</th>\n",
       "      <td>Focused Sanger sequencing from genomic DNA was...</td>\n",
       "      <td>(0, 1, 2, 3, 4, 5, 6, 7, 8, 9, 10, 11, 12, 13,...</td>\n",
       "      <td>3039</td>\n",
       "      <td>54583</td>\n",
       "      <td>42</td>\n",
       "      <td>22</td>\n",
       "      <td>NON_KEGG_Interaction</td>\n",
       "    </tr>\n",
       "    <tr>\n",
       "      <th>3</th>\n",
       "      <td>Focused Sanger sequencing from genomic DNA was...</td>\n",
       "      <td>(0, 1, 2, 3, 4, 5, 6, 7, 8, 9, 10, 11, 12, 13,...</td>\n",
       "      <td>3039</td>\n",
       "      <td>3040</td>\n",
       "      <td>42</td>\n",
       "      <td>45</td>\n",
       "      <td>NON_KEGG_Interaction</td>\n",
       "    </tr>\n",
       "    <tr>\n",
       "      <th>4</th>\n",
       "      <td>Focused Sanger sequencing from genomic DNA was...</td>\n",
       "      <td>(0, 1, 2, 3, 4, 5, 6, 7, 8, 9, 10, 11, 12, 13,...</td>\n",
       "      <td>3039</td>\n",
       "      <td>2057</td>\n",
       "      <td>42</td>\n",
       "      <td>9</td>\n",
       "      <td>NON_KEGG_Interaction</td>\n",
       "    </tr>\n",
       "    <tr>\n",
       "      <th>...</th>\n",
       "      <td>...</td>\n",
       "      <td>...</td>\n",
       "      <td>...</td>\n",
       "      <td>...</td>\n",
       "      <td>...</td>\n",
       "      <td>...</td>\n",
       "      <td>...</td>\n",
       "    </tr>\n",
       "    <tr>\n",
       "      <th>392364</th>\n",
       "      <td>The kegg_Gene_4312 -1,607 1G/2G (rs1799750), k...</td>\n",
       "      <td>(0, 1, 2, 3, 4, 5, 6, 7, 8, 9, 10, 11, 12, 13,...</td>\n",
       "      <td>4312</td>\n",
       "      <td>4313</td>\n",
       "      <td>1</td>\n",
       "      <td>9</td>\n",
       "      <td>NON_KEGG_Interaction</td>\n",
       "    </tr>\n",
       "    <tr>\n",
       "      <th>392365</th>\n",
       "      <td>Genotype distributions and allele frequencies ...</td>\n",
       "      <td>(0, 1, 2, 3, 4, 5, 6, 7, 8, 9, 10, 11, 12, 13,...</td>\n",
       "      <td>4312</td>\n",
       "      <td>4313</td>\n",
       "      <td>6</td>\n",
       "      <td>8</td>\n",
       "      <td>NON_KEGG_Interaction</td>\n",
       "    </tr>\n",
       "    <tr>\n",
       "      <th>392366</th>\n",
       "      <td>Comprehensive association analysis of the vita...</td>\n",
       "      <td>(0, 1, 2, 3, 4, 5, 6, 7, 8, 9, 10, 11, 12, 13,...</td>\n",
       "      <td>1594</td>\n",
       "      <td>1591</td>\n",
       "      <td>12</td>\n",
       "      <td>15</td>\n",
       "      <td>NON_KEGG_Interaction</td>\n",
       "    </tr>\n",
       "    <tr>\n",
       "      <th>392367</th>\n",
       "      <td>We studied the association between polymorphis...</td>\n",
       "      <td>(0, 1, 2, 3, 4, 5, 6, 7, 8, 9, 10, 11, 12, 13,...</td>\n",
       "      <td>1594</td>\n",
       "      <td>1591</td>\n",
       "      <td>24</td>\n",
       "      <td>31</td>\n",
       "      <td>NON_KEGG_Interaction</td>\n",
       "    </tr>\n",
       "    <tr>\n",
       "      <th>392368</th>\n",
       "      <td>We selected and genotyped tag single-nucleotid...</td>\n",
       "      <td>(0, 1, 2, 3, 4, 5, 6, 7, 8, 9, 10, 11, 12, 13,...</td>\n",
       "      <td>1594</td>\n",
       "      <td>1591</td>\n",
       "      <td>19</td>\n",
       "      <td>27</td>\n",
       "      <td>NON_KEGG_Interaction</td>\n",
       "    </tr>\n",
       "  </tbody>\n",
       "</table>\n",
       "<p>392369 rows × 7 columns</p>\n",
       "</div>"
      ],
      "text/plain": [
       "                                                     sent  \\\n",
       "0       The emergence of ASIA syndrome is associated w...   \n",
       "1       Focused Sanger sequencing from genomic DNA was...   \n",
       "2       Focused Sanger sequencing from genomic DNA was...   \n",
       "3       Focused Sanger sequencing from genomic DNA was...   \n",
       "4       Focused Sanger sequencing from genomic DNA was...   \n",
       "...                                                   ...   \n",
       "392364  The kegg_Gene_4312 -1,607 1G/2G (rs1799750), k...   \n",
       "392365  Genotype distributions and allele frequencies ...   \n",
       "392366  Comprehensive association analysis of the vita...   \n",
       "392367  We studied the association between polymorphis...   \n",
       "392368  We selected and genotyped tag single-nucleotid...   \n",
       "\n",
       "                                                    graph  Gene1  Gene2  \\\n",
       "0       (0, 1, 2, 3, 4, 5, 6, 7, 8, 9, 10, 11, 12, 13,...   3126   3123   \n",
       "1       (0, 1, 2, 3, 4, 5, 6, 7, 8, 9, 10, 11, 12, 13,...   3039   2034   \n",
       "2       (0, 1, 2, 3, 4, 5, 6, 7, 8, 9, 10, 11, 12, 13,...   3039  54583   \n",
       "3       (0, 1, 2, 3, 4, 5, 6, 7, 8, 9, 10, 11, 12, 13,...   3039   3040   \n",
       "4       (0, 1, 2, 3, 4, 5, 6, 7, 8, 9, 10, 11, 12, 13,...   3039   2057   \n",
       "...                                                   ...    ...    ...   \n",
       "392364  (0, 1, 2, 3, 4, 5, 6, 7, 8, 9, 10, 11, 12, 13,...   4312   4313   \n",
       "392365  (0, 1, 2, 3, 4, 5, 6, 7, 8, 9, 10, 11, 12, 13,...   4312   4313   \n",
       "392366  (0, 1, 2, 3, 4, 5, 6, 7, 8, 9, 10, 11, 12, 13,...   1594   1591   \n",
       "392367  (0, 1, 2, 3, 4, 5, 6, 7, 8, 9, 10, 11, 12, 13,...   1594   1591   \n",
       "392368  (0, 1, 2, 3, 4, 5, 6, 7, 8, 9, 10, 11, 12, 13,...   1594   1591   \n",
       "\n",
       "        Gene1_loc  Gene2_loc                 Label  \n",
       "0              20         16  NON_KEGG_Interaction  \n",
       "1              42         30  NON_KEGG_Interaction  \n",
       "2              42         22  NON_KEGG_Interaction  \n",
       "3              42         45  NON_KEGG_Interaction  \n",
       "4              42          9  NON_KEGG_Interaction  \n",
       "...           ...        ...                   ...  \n",
       "392364          1          9  NON_KEGG_Interaction  \n",
       "392365          6          8  NON_KEGG_Interaction  \n",
       "392366         12         15  NON_KEGG_Interaction  \n",
       "392367         24         31  NON_KEGG_Interaction  \n",
       "392368         19         27  NON_KEGG_Interaction  \n",
       "\n",
       "[392369 rows x 7 columns]"
      ]
     },
     "execution_count": 36,
     "metadata": {},
     "output_type": "execute_result"
    }
   ],
   "source": [
    "DS_corpus_kegg_graph_data=pd.DataFrame(G_all,columns = [\"sent\" ,\"graph\",\"Gene1\" ,\"Gene2\" ,\"Gene1_loc\" ,\"Gene2_loc\",\"Label\"])\n",
    "\n",
    "DS_corpus_kegg_graph_data"
   ]
  },
  {
   "cell_type": "code",
   "execution_count": 40,
   "metadata": {
    "ExecuteTime": {
     "end_time": "2021-06-01T01:05:11.515626Z",
     "start_time": "2021-06-01T01:05:11.401119Z"
    }
   },
   "outputs": [
    {
     "name": "stdout",
     "output_type": "stream",
     "text": [
      "Gene-Gene Interaction: 10500\n",
      "Not Gene-Gene Interaction: 381869\n"
     ]
    }
   ],
   "source": [
    "print('Gene-Gene Interaction:',DS_corpus_kegg_graph_data.Label.value_counts()['KEGG_Interaction'])\n",
    "print('Not Gene-Gene Interaction:',DS_corpus_kegg_graph_data.Label.value_counts()['NON_KEGG_Interaction'])"
   ]
  },
  {
   "cell_type": "markdown",
   "metadata": {
    "id": "-fNInfyXt8pV"
   },
   "source": [
    "## save variable"
   ]
  },
  {
   "cell_type": "code",
   "execution_count": 49,
   "metadata": {
    "ExecuteTime": {
     "end_time": "2021-06-01T01:53:05.267859Z",
     "start_time": "2021-06-01T01:53:05.260927Z"
    }
   },
   "outputs": [
    {
     "name": "stdout",
     "output_type": "stream",
     "text": [
      "/home/tku_stat_dell/Desktop/DS_corpus/DS_corpus_kegg_graph_data\n"
     ]
    }
   ],
   "source": [
    "%cd /home/tku_stat_dell/Desktop/DS_corpus/DS_corpus_kegg_graph_data\n",
    "!ls"
   ]
  },
  {
   "cell_type": "code",
   "execution_count": 50,
   "metadata": {
    "ExecuteTime": {
     "end_time": "2021-06-01T01:56:04.918780Z",
     "start_time": "2021-06-01T01:53:50.231578Z"
    }
   },
   "outputs": [],
   "source": [
    "#save df(split)\n",
    "DS_corpus_kegg_graph_data[:130789].to_pickle('DS_corpus_kegg_graph_data_1.pkl')"
   ]
  },
  {
   "cell_type": "code",
   "execution_count": 51,
   "metadata": {
    "ExecuteTime": {
     "end_time": "2021-06-01T02:02:53.475418Z",
     "start_time": "2021-06-01T02:00:36.253319Z"
    }
   },
   "outputs": [],
   "source": [
    "#save df(split)\n",
    "DS_corpus_kegg_graph_data[130789:261578].to_pickle('DS_corpus_kegg_graph_data_2.pkl')"
   ]
  },
  {
   "cell_type": "code",
   "execution_count": 52,
   "metadata": {
    "ExecuteTime": {
     "end_time": "2021-06-01T02:06:21.183903Z",
     "start_time": "2021-06-01T02:04:00.352438Z"
    }
   },
   "outputs": [],
   "source": [
    "#save df(split)\n",
    "DS_corpus_kegg_graph_data[261578:].to_pickle('DS_corpus_kegg_graph_data_3.pkl')"
   ]
  },
  {
   "cell_type": "code",
   "execution_count": 53,
   "metadata": {
    "ExecuteTime": {
     "end_time": "2021-06-01T02:06:24.898744Z",
     "start_time": "2021-06-01T02:06:24.894792Z"
    }
   },
   "outputs": [
    {
     "data": {
      "text/plain": [
       "392369"
      ]
     },
     "execution_count": 53,
     "metadata": {},
     "output_type": "execute_result"
    }
   ],
   "source": [
    "len(DS_corpus_kegg_graph_data)"
   ]
  },
  {
   "cell_type": "markdown",
   "metadata": {
    "id": "-fNInfyXt8pV"
   },
   "source": [
    "## load variable"
   ]
  },
  {
   "cell_type": "code",
   "execution_count": 6,
   "metadata": {
    "ExecuteTime": {
     "end_time": "2021-06-01T04:28:22.638413Z",
     "start_time": "2021-06-01T04:28:22.481244Z"
    }
   },
   "outputs": [
    {
     "name": "stdout",
     "output_type": "stream",
     "text": [
      "/home/tku_stat_dell/Desktop/DS_corpus/DS_corpus_kegg_graph_data\n",
      "DS_corpus_kegg_graph_data_1.pkl  DS_corpus_kegg_graph_data_3.pkl\r\n",
      "DS_corpus_kegg_graph_data_2.pkl  ML_data.pkl\r\n"
     ]
    }
   ],
   "source": [
    "%cd /home/tku_stat_dell/Desktop/DS_corpus/DS_corpus_kegg_graph_data\n",
    "!ls"
   ]
  },
  {
   "cell_type": "code",
   "execution_count": 7,
   "metadata": {
    "ExecuteTime": {
     "end_time": "2021-06-01T04:31:41.040364Z",
     "start_time": "2021-06-01T04:28:24.461665Z"
    }
   },
   "outputs": [
    {
     "name": "stdout",
     "output_type": "stream",
     "text": [
      "/home/tku_stat_dell/Desktop/DS_corpus/DS_corpus_kegg_graph_data\n",
      "1 done\n",
      "2 done\n"
     ]
    }
   ],
   "source": [
    "### Load final result( graph df(.pkl) )\n",
    "%cd /home/tku_stat_dell/Desktop/DS_corpus/DS_corpus_kegg_graph_data\n",
    "data_1 = pd.read_pickle('DS_corpus_kegg_graph_data_1.pkl')\n",
    "print('1 done')\n",
    "data_2 = pd.read_pickle('DS_corpus_kegg_graph_data_2.pkl')\n",
    "print('2 done')\n",
    "data_3 = pd.read_pickle('DS_corpus_kegg_graph_data_3.pkl')"
   ]
  },
  {
   "cell_type": "code",
   "execution_count": 8,
   "metadata": {
    "ExecuteTime": {
     "end_time": "2021-06-01T04:31:53.508875Z",
     "start_time": "2021-06-01T04:31:41.140738Z"
    },
    "scrolled": true
   },
   "outputs": [
    {
     "data": {
      "text/plain": [
       "40"
      ]
     },
     "execution_count": 8,
     "metadata": {},
     "output_type": "execute_result"
    }
   ],
   "source": [
    "DS_corpus_kegg_graph_data = pd.concat([data_1,data_2,data_3],axis=0)\n",
    "del data_1,data_2,data_3\n",
    "gc.collect()"
   ]
  },
  {
   "cell_type": "code",
   "execution_count": 9,
   "metadata": {
    "ExecuteTime": {
     "end_time": "2021-06-01T04:31:53.570080Z",
     "start_time": "2021-06-01T04:31:53.538558Z"
    },
    "scrolled": true
   },
   "outputs": [
    {
     "data": {
      "text/html": [
       "<div>\n",
       "<style scoped>\n",
       "    .dataframe tbody tr th:only-of-type {\n",
       "        vertical-align: middle;\n",
       "    }\n",
       "\n",
       "    .dataframe tbody tr th {\n",
       "        vertical-align: top;\n",
       "    }\n",
       "\n",
       "    .dataframe thead th {\n",
       "        text-align: right;\n",
       "    }\n",
       "</style>\n",
       "<table border=\"1\" class=\"dataframe\">\n",
       "  <thead>\n",
       "    <tr style=\"text-align: right;\">\n",
       "      <th></th>\n",
       "      <th>sent</th>\n",
       "      <th>graph</th>\n",
       "      <th>Gene1</th>\n",
       "      <th>Gene2</th>\n",
       "      <th>Gene1_loc</th>\n",
       "      <th>Gene2_loc</th>\n",
       "      <th>Label</th>\n",
       "    </tr>\n",
       "  </thead>\n",
       "  <tbody>\n",
       "    <tr>\n",
       "      <th>0</th>\n",
       "      <td>The emergence of ASIA syndrome is associated w...</td>\n",
       "      <td>(0, 1, 2, 3, 4, 5, 6, 7, 8, 9, 10, 11, 12, 13,...</td>\n",
       "      <td>3126</td>\n",
       "      <td>3123</td>\n",
       "      <td>20</td>\n",
       "      <td>16</td>\n",
       "      <td>NON_KEGG_Interaction</td>\n",
       "    </tr>\n",
       "    <tr>\n",
       "      <th>1</th>\n",
       "      <td>Focused Sanger sequencing from genomic DNA was...</td>\n",
       "      <td>(0, 1, 2, 3, 4, 5, 6, 7, 8, 9, 10, 11, 12, 13,...</td>\n",
       "      <td>3039</td>\n",
       "      <td>2034</td>\n",
       "      <td>42</td>\n",
       "      <td>30</td>\n",
       "      <td>NON_KEGG_Interaction</td>\n",
       "    </tr>\n",
       "    <tr>\n",
       "      <th>2</th>\n",
       "      <td>Focused Sanger sequencing from genomic DNA was...</td>\n",
       "      <td>(0, 1, 2, 3, 4, 5, 6, 7, 8, 9, 10, 11, 12, 13,...</td>\n",
       "      <td>3039</td>\n",
       "      <td>54583</td>\n",
       "      <td>42</td>\n",
       "      <td>22</td>\n",
       "      <td>NON_KEGG_Interaction</td>\n",
       "    </tr>\n",
       "    <tr>\n",
       "      <th>3</th>\n",
       "      <td>Focused Sanger sequencing from genomic DNA was...</td>\n",
       "      <td>(0, 1, 2, 3, 4, 5, 6, 7, 8, 9, 10, 11, 12, 13,...</td>\n",
       "      <td>3039</td>\n",
       "      <td>3040</td>\n",
       "      <td>42</td>\n",
       "      <td>45</td>\n",
       "      <td>NON_KEGG_Interaction</td>\n",
       "    </tr>\n",
       "    <tr>\n",
       "      <th>4</th>\n",
       "      <td>Focused Sanger sequencing from genomic DNA was...</td>\n",
       "      <td>(0, 1, 2, 3, 4, 5, 6, 7, 8, 9, 10, 11, 12, 13,...</td>\n",
       "      <td>3039</td>\n",
       "      <td>2057</td>\n",
       "      <td>42</td>\n",
       "      <td>9</td>\n",
       "      <td>NON_KEGG_Interaction</td>\n",
       "    </tr>\n",
       "    <tr>\n",
       "      <th>...</th>\n",
       "      <td>...</td>\n",
       "      <td>...</td>\n",
       "      <td>...</td>\n",
       "      <td>...</td>\n",
       "      <td>...</td>\n",
       "      <td>...</td>\n",
       "      <td>...</td>\n",
       "    </tr>\n",
       "    <tr>\n",
       "      <th>392364</th>\n",
       "      <td>The kegg_Gene_4312 -1,607 1G/2G (rs1799750), k...</td>\n",
       "      <td>(0, 1, 2, 3, 4, 5, 6, 7, 8, 9, 10, 11, 12, 13,...</td>\n",
       "      <td>4312</td>\n",
       "      <td>4313</td>\n",
       "      <td>1</td>\n",
       "      <td>9</td>\n",
       "      <td>NON_KEGG_Interaction</td>\n",
       "    </tr>\n",
       "    <tr>\n",
       "      <th>392365</th>\n",
       "      <td>Genotype distributions and allele frequencies ...</td>\n",
       "      <td>(0, 1, 2, 3, 4, 5, 6, 7, 8, 9, 10, 11, 12, 13,...</td>\n",
       "      <td>4312</td>\n",
       "      <td>4313</td>\n",
       "      <td>6</td>\n",
       "      <td>8</td>\n",
       "      <td>NON_KEGG_Interaction</td>\n",
       "    </tr>\n",
       "    <tr>\n",
       "      <th>392366</th>\n",
       "      <td>Comprehensive association analysis of the vita...</td>\n",
       "      <td>(0, 1, 2, 3, 4, 5, 6, 7, 8, 9, 10, 11, 12, 13,...</td>\n",
       "      <td>1594</td>\n",
       "      <td>1591</td>\n",
       "      <td>12</td>\n",
       "      <td>15</td>\n",
       "      <td>NON_KEGG_Interaction</td>\n",
       "    </tr>\n",
       "    <tr>\n",
       "      <th>392367</th>\n",
       "      <td>We studied the association between polymorphis...</td>\n",
       "      <td>(0, 1, 2, 3, 4, 5, 6, 7, 8, 9, 10, 11, 12, 13,...</td>\n",
       "      <td>1594</td>\n",
       "      <td>1591</td>\n",
       "      <td>24</td>\n",
       "      <td>31</td>\n",
       "      <td>NON_KEGG_Interaction</td>\n",
       "    </tr>\n",
       "    <tr>\n",
       "      <th>392368</th>\n",
       "      <td>We selected and genotyped tag single-nucleotid...</td>\n",
       "      <td>(0, 1, 2, 3, 4, 5, 6, 7, 8, 9, 10, 11, 12, 13,...</td>\n",
       "      <td>1594</td>\n",
       "      <td>1591</td>\n",
       "      <td>19</td>\n",
       "      <td>27</td>\n",
       "      <td>NON_KEGG_Interaction</td>\n",
       "    </tr>\n",
       "  </tbody>\n",
       "</table>\n",
       "<p>392369 rows × 7 columns</p>\n",
       "</div>"
      ],
      "text/plain": [
       "                                                     sent  \\\n",
       "0       The emergence of ASIA syndrome is associated w...   \n",
       "1       Focused Sanger sequencing from genomic DNA was...   \n",
       "2       Focused Sanger sequencing from genomic DNA was...   \n",
       "3       Focused Sanger sequencing from genomic DNA was...   \n",
       "4       Focused Sanger sequencing from genomic DNA was...   \n",
       "...                                                   ...   \n",
       "392364  The kegg_Gene_4312 -1,607 1G/2G (rs1799750), k...   \n",
       "392365  Genotype distributions and allele frequencies ...   \n",
       "392366  Comprehensive association analysis of the vita...   \n",
       "392367  We studied the association between polymorphis...   \n",
       "392368  We selected and genotyped tag single-nucleotid...   \n",
       "\n",
       "                                                    graph  Gene1  Gene2  \\\n",
       "0       (0, 1, 2, 3, 4, 5, 6, 7, 8, 9, 10, 11, 12, 13,...   3126   3123   \n",
       "1       (0, 1, 2, 3, 4, 5, 6, 7, 8, 9, 10, 11, 12, 13,...   3039   2034   \n",
       "2       (0, 1, 2, 3, 4, 5, 6, 7, 8, 9, 10, 11, 12, 13,...   3039  54583   \n",
       "3       (0, 1, 2, 3, 4, 5, 6, 7, 8, 9, 10, 11, 12, 13,...   3039   3040   \n",
       "4       (0, 1, 2, 3, 4, 5, 6, 7, 8, 9, 10, 11, 12, 13,...   3039   2057   \n",
       "...                                                   ...    ...    ...   \n",
       "392364  (0, 1, 2, 3, 4, 5, 6, 7, 8, 9, 10, 11, 12, 13,...   4312   4313   \n",
       "392365  (0, 1, 2, 3, 4, 5, 6, 7, 8, 9, 10, 11, 12, 13,...   4312   4313   \n",
       "392366  (0, 1, 2, 3, 4, 5, 6, 7, 8, 9, 10, 11, 12, 13,...   1594   1591   \n",
       "392367  (0, 1, 2, 3, 4, 5, 6, 7, 8, 9, 10, 11, 12, 13,...   1594   1591   \n",
       "392368  (0, 1, 2, 3, 4, 5, 6, 7, 8, 9, 10, 11, 12, 13,...   1594   1591   \n",
       "\n",
       "        Gene1_loc  Gene2_loc                 Label  \n",
       "0              20         16  NON_KEGG_Interaction  \n",
       "1              42         30  NON_KEGG_Interaction  \n",
       "2              42         22  NON_KEGG_Interaction  \n",
       "3              42         45  NON_KEGG_Interaction  \n",
       "4              42          9  NON_KEGG_Interaction  \n",
       "...           ...        ...                   ...  \n",
       "392364          1          9  NON_KEGG_Interaction  \n",
       "392365          6          8  NON_KEGG_Interaction  \n",
       "392366         12         15  NON_KEGG_Interaction  \n",
       "392367         24         31  NON_KEGG_Interaction  \n",
       "392368         19         27  NON_KEGG_Interaction  \n",
       "\n",
       "[392369 rows x 7 columns]"
      ]
     },
     "execution_count": 9,
     "metadata": {},
     "output_type": "execute_result"
    }
   ],
   "source": [
    "DS_corpus_kegg_graph_data"
   ]
  },
  {
   "cell_type": "code",
   "execution_count": 10,
   "metadata": {
    "ExecuteTime": {
     "end_time": "2021-06-01T04:31:53.669419Z",
     "start_time": "2021-06-01T04:31:53.600660Z"
    }
   },
   "outputs": [
    {
     "name": "stdout",
     "output_type": "stream",
     "text": [
      "Gene-Gene Interaction: 10500\n",
      "Not Gene-Gene Interaction: 381869\n"
     ]
    }
   ],
   "source": [
    "print('Gene-Gene Interaction:',DS_corpus_kegg_graph_data.Label.value_counts()['KEGG_Interaction'])\n",
    "print('Not Gene-Gene Interaction:',DS_corpus_kegg_graph_data.Label.value_counts()['NON_KEGG_Interaction'])"
   ]
  },
  {
   "cell_type": "markdown",
   "metadata": {
    "heading_collapsed": true,
    "id": "-fNInfyXt8pV"
   },
   "source": [
    "## define graph(try adjust)"
   ]
  },
  {
   "cell_type": "code",
   "execution_count": 30,
   "metadata": {
    "ExecuteTime": {
     "end_time": "2021-05-24T07:42:34.707266Z",
     "start_time": "2021-05-24T07:42:34.476308Z"
    },
    "hidden": true,
    "scrolled": true
   },
   "outputs": [
    {
     "name": "stdout",
     "output_type": "stream",
     "text": [
      "\u001b[1mLabel : \u001b[0m NON_KEGG_Interaction\n",
      "\u001b[1mGene pair : \u001b[0m 54583 3040\n",
      "\u001b[1mSent : \u001b[0m Focused Sanger sequencing from genomic DNA was performed for kegg_Gene_2057 (exon 8), VHL (exons 2-3), kegg_Gene_54583 (exons 2-5), kegg_Gene_2034 (exon 12), and all exons of kegg_Gene_3043, kegg_Gene_3039, and kegg_Gene_3040 genes.\n",
      "\u001b[1mTag Sent:\u001b[0m  JJ NN NN IN JJ NN VBD VBN IN kegg_Gene_2057 -LRB- NN -RRB- , NN -LRB- NNS CD SYM CD -RRB- , kegg_Gene_54583 -LRB- NNS CD SYM CD -RRB- , kegg_Gene_2034 -LRB- NN CD -RRB- , CC DT NNS IN kegg_Gene_3043 , kegg_Gene_3039 , CC kegg_Gene_3040 NNS .\n",
      "\u001b[1mPOS Sent:\u001b[0m  ADJ NOUN NOUN ADP ADJ NOUN VERB VERB ADP kegg_Gene_2057 PUNCT NOUN PUNCT PUNCT NOUN PUNCT NOUN NUM SYM NUM PUNCT PUNCT kegg_Gene_54583 PUNCT NOUN NUM SYM NUM PUNCT PUNCT kegg_Gene_2034 PUNCT NOUN NUM PUNCT PUNCT CCONJ DET NOUN ADP kegg_Gene_3043 PUNCT kegg_Gene_3039 PUNCT CCONJ kegg_Gene_3040 NOUN PUNCT \n",
      "\n"
     ]
    },
    {
     "data": {
      "text/html": [
       "<span class=\"tex2jax_ignore\"><svg xmlns=\"http://www.w3.org/2000/svg\" xmlns:xlink=\"http://www.w3.org/1999/xlink\" xml:lang=\"en\" id=\"02d13c5f4ba048c6904e4f5f39afe451-0\" class=\"displacy\" width=\"4850\" height=\"812.0\" direction=\"ltr\" style=\"max-width: none; height: 812.0px; color: #000000; background: #ffffff; font-family: Arial; direction: ltr\">\n",
       "<text class=\"displacy-token\" fill=\"currentColor\" text-anchor=\"middle\" y=\"722.0\">\n",
       "    <tspan class=\"displacy-word\" fill=\"currentColor\" x=\"50\">Focused</tspan>\n",
       "    <tspan class=\"displacy-tag\" dy=\"2em\" fill=\"currentColor\" x=\"50\">ADJ</tspan>\n",
       "</text>\n",
       "\n",
       "<text class=\"displacy-token\" fill=\"currentColor\" text-anchor=\"middle\" y=\"722.0\">\n",
       "    <tspan class=\"displacy-word\" fill=\"currentColor\" x=\"200\">Sanger</tspan>\n",
       "    <tspan class=\"displacy-tag\" dy=\"2em\" fill=\"currentColor\" x=\"200\">NOUN</tspan>\n",
       "</text>\n",
       "\n",
       "<text class=\"displacy-token\" fill=\"currentColor\" text-anchor=\"middle\" y=\"722.0\">\n",
       "    <tspan class=\"displacy-word\" fill=\"currentColor\" x=\"350\">sequencing</tspan>\n",
       "    <tspan class=\"displacy-tag\" dy=\"2em\" fill=\"currentColor\" x=\"350\">NOUN</tspan>\n",
       "</text>\n",
       "\n",
       "<text class=\"displacy-token\" fill=\"currentColor\" text-anchor=\"middle\" y=\"722.0\">\n",
       "    <tspan class=\"displacy-word\" fill=\"currentColor\" x=\"500\">from</tspan>\n",
       "    <tspan class=\"displacy-tag\" dy=\"2em\" fill=\"currentColor\" x=\"500\">ADP</tspan>\n",
       "</text>\n",
       "\n",
       "<text class=\"displacy-token\" fill=\"currentColor\" text-anchor=\"middle\" y=\"722.0\">\n",
       "    <tspan class=\"displacy-word\" fill=\"currentColor\" x=\"650\">genomic</tspan>\n",
       "    <tspan class=\"displacy-tag\" dy=\"2em\" fill=\"currentColor\" x=\"650\">ADJ</tspan>\n",
       "</text>\n",
       "\n",
       "<text class=\"displacy-token\" fill=\"currentColor\" text-anchor=\"middle\" y=\"722.0\">\n",
       "    <tspan class=\"displacy-word\" fill=\"currentColor\" x=\"800\">DNA</tspan>\n",
       "    <tspan class=\"displacy-tag\" dy=\"2em\" fill=\"currentColor\" x=\"800\">NOUN</tspan>\n",
       "</text>\n",
       "\n",
       "<text class=\"displacy-token\" fill=\"currentColor\" text-anchor=\"middle\" y=\"722.0\">\n",
       "    <tspan class=\"displacy-word\" fill=\"currentColor\" x=\"950\">was</tspan>\n",
       "    <tspan class=\"displacy-tag\" dy=\"2em\" fill=\"currentColor\" x=\"950\">VERB</tspan>\n",
       "</text>\n",
       "\n",
       "<text class=\"displacy-token\" fill=\"currentColor\" text-anchor=\"middle\" y=\"722.0\">\n",
       "    <tspan class=\"displacy-word\" fill=\"currentColor\" x=\"1100\">performed</tspan>\n",
       "    <tspan class=\"displacy-tag\" dy=\"2em\" fill=\"currentColor\" x=\"1100\">VERB</tspan>\n",
       "</text>\n",
       "\n",
       "<text class=\"displacy-token\" fill=\"currentColor\" text-anchor=\"middle\" y=\"722.0\">\n",
       "    <tspan class=\"displacy-word\" fill=\"currentColor\" x=\"1250\">for</tspan>\n",
       "    <tspan class=\"displacy-tag\" dy=\"2em\" fill=\"currentColor\" x=\"1250\">ADP</tspan>\n",
       "</text>\n",
       "\n",
       "<text class=\"displacy-token\" fill=\"currentColor\" text-anchor=\"middle\" y=\"722.0\">\n",
       "    <tspan class=\"displacy-word\" fill=\"currentColor\" x=\"1400\">kegg_Gene_2057 (</tspan>\n",
       "    <tspan class=\"displacy-tag\" dy=\"2em\" fill=\"currentColor\" x=\"1400\">NOUN</tspan>\n",
       "</text>\n",
       "\n",
       "<text class=\"displacy-token\" fill=\"currentColor\" text-anchor=\"middle\" y=\"722.0\">\n",
       "    <tspan class=\"displacy-word\" fill=\"currentColor\" x=\"1550\">exon</tspan>\n",
       "    <tspan class=\"displacy-tag\" dy=\"2em\" fill=\"currentColor\" x=\"1550\">NOUN</tspan>\n",
       "</text>\n",
       "\n",
       "<text class=\"displacy-token\" fill=\"currentColor\" text-anchor=\"middle\" y=\"722.0\">\n",
       "    <tspan class=\"displacy-word\" fill=\"currentColor\" x=\"1700\">8),</tspan>\n",
       "    <tspan class=\"displacy-tag\" dy=\"2em\" fill=\"currentColor\" x=\"1700\">PUNCT</tspan>\n",
       "</text>\n",
       "\n",
       "<text class=\"displacy-token\" fill=\"currentColor\" text-anchor=\"middle\" y=\"722.0\">\n",
       "    <tspan class=\"displacy-word\" fill=\"currentColor\" x=\"1850\">VHL (</tspan>\n",
       "    <tspan class=\"displacy-tag\" dy=\"2em\" fill=\"currentColor\" x=\"1850\">NOUN</tspan>\n",
       "</text>\n",
       "\n",
       "<text class=\"displacy-token\" fill=\"currentColor\" text-anchor=\"middle\" y=\"722.0\">\n",
       "    <tspan class=\"displacy-word\" fill=\"currentColor\" x=\"2000\">exons</tspan>\n",
       "    <tspan class=\"displacy-tag\" dy=\"2em\" fill=\"currentColor\" x=\"2000\">NOUN</tspan>\n",
       "</text>\n",
       "\n",
       "<text class=\"displacy-token\" fill=\"currentColor\" text-anchor=\"middle\" y=\"722.0\">\n",
       "    <tspan class=\"displacy-word\" fill=\"currentColor\" x=\"2150\">2-</tspan>\n",
       "    <tspan class=\"displacy-tag\" dy=\"2em\" fill=\"currentColor\" x=\"2150\">NUM</tspan>\n",
       "</text>\n",
       "\n",
       "<text class=\"displacy-token\" fill=\"currentColor\" text-anchor=\"middle\" y=\"722.0\">\n",
       "    <tspan class=\"displacy-word\" fill=\"currentColor\" x=\"2300\">3),</tspan>\n",
       "    <tspan class=\"displacy-tag\" dy=\"2em\" fill=\"currentColor\" x=\"2300\">NUM</tspan>\n",
       "</text>\n",
       "\n",
       "<text class=\"displacy-token\" fill=\"currentColor\" text-anchor=\"middle\" y=\"722.0\">\n",
       "    <tspan class=\"displacy-word\" fill=\"currentColor\" x=\"2450\">kegg_Gene_54583 (</tspan>\n",
       "    <tspan class=\"displacy-tag\" dy=\"2em\" fill=\"currentColor\" x=\"2450\">NOUN</tspan>\n",
       "</text>\n",
       "\n",
       "<text class=\"displacy-token\" fill=\"currentColor\" text-anchor=\"middle\" y=\"722.0\">\n",
       "    <tspan class=\"displacy-word\" fill=\"currentColor\" x=\"2600\">exons</tspan>\n",
       "    <tspan class=\"displacy-tag\" dy=\"2em\" fill=\"currentColor\" x=\"2600\">NOUN</tspan>\n",
       "</text>\n",
       "\n",
       "<text class=\"displacy-token\" fill=\"currentColor\" text-anchor=\"middle\" y=\"722.0\">\n",
       "    <tspan class=\"displacy-word\" fill=\"currentColor\" x=\"2750\">2-</tspan>\n",
       "    <tspan class=\"displacy-tag\" dy=\"2em\" fill=\"currentColor\" x=\"2750\">NUM</tspan>\n",
       "</text>\n",
       "\n",
       "<text class=\"displacy-token\" fill=\"currentColor\" text-anchor=\"middle\" y=\"722.0\">\n",
       "    <tspan class=\"displacy-word\" fill=\"currentColor\" x=\"2900\">5),</tspan>\n",
       "    <tspan class=\"displacy-tag\" dy=\"2em\" fill=\"currentColor\" x=\"2900\">NUM</tspan>\n",
       "</text>\n",
       "\n",
       "<text class=\"displacy-token\" fill=\"currentColor\" text-anchor=\"middle\" y=\"722.0\">\n",
       "    <tspan class=\"displacy-word\" fill=\"currentColor\" x=\"3050\">kegg_Gene_2034 (</tspan>\n",
       "    <tspan class=\"displacy-tag\" dy=\"2em\" fill=\"currentColor\" x=\"3050\">NOUN</tspan>\n",
       "</text>\n",
       "\n",
       "<text class=\"displacy-token\" fill=\"currentColor\" text-anchor=\"middle\" y=\"722.0\">\n",
       "    <tspan class=\"displacy-word\" fill=\"currentColor\" x=\"3200\">exon</tspan>\n",
       "    <tspan class=\"displacy-tag\" dy=\"2em\" fill=\"currentColor\" x=\"3200\">NOUN</tspan>\n",
       "</text>\n",
       "\n",
       "<text class=\"displacy-token\" fill=\"currentColor\" text-anchor=\"middle\" y=\"722.0\">\n",
       "    <tspan class=\"displacy-word\" fill=\"currentColor\" x=\"3350\">12),</tspan>\n",
       "    <tspan class=\"displacy-tag\" dy=\"2em\" fill=\"currentColor\" x=\"3350\">NUM</tspan>\n",
       "</text>\n",
       "\n",
       "<text class=\"displacy-token\" fill=\"currentColor\" text-anchor=\"middle\" y=\"722.0\">\n",
       "    <tspan class=\"displacy-word\" fill=\"currentColor\" x=\"3500\">and</tspan>\n",
       "    <tspan class=\"displacy-tag\" dy=\"2em\" fill=\"currentColor\" x=\"3500\">CCONJ</tspan>\n",
       "</text>\n",
       "\n",
       "<text class=\"displacy-token\" fill=\"currentColor\" text-anchor=\"middle\" y=\"722.0\">\n",
       "    <tspan class=\"displacy-word\" fill=\"currentColor\" x=\"3650\">all</tspan>\n",
       "    <tspan class=\"displacy-tag\" dy=\"2em\" fill=\"currentColor\" x=\"3650\">DET</tspan>\n",
       "</text>\n",
       "\n",
       "<text class=\"displacy-token\" fill=\"currentColor\" text-anchor=\"middle\" y=\"722.0\">\n",
       "    <tspan class=\"displacy-word\" fill=\"currentColor\" x=\"3800\">exons</tspan>\n",
       "    <tspan class=\"displacy-tag\" dy=\"2em\" fill=\"currentColor\" x=\"3800\">NOUN</tspan>\n",
       "</text>\n",
       "\n",
       "<text class=\"displacy-token\" fill=\"currentColor\" text-anchor=\"middle\" y=\"722.0\">\n",
       "    <tspan class=\"displacy-word\" fill=\"currentColor\" x=\"3950\">of</tspan>\n",
       "    <tspan class=\"displacy-tag\" dy=\"2em\" fill=\"currentColor\" x=\"3950\">ADP</tspan>\n",
       "</text>\n",
       "\n",
       "<text class=\"displacy-token\" fill=\"currentColor\" text-anchor=\"middle\" y=\"722.0\">\n",
       "    <tspan class=\"displacy-word\" fill=\"currentColor\" x=\"4100\">kegg_Gene_3043,</tspan>\n",
       "    <tspan class=\"displacy-tag\" dy=\"2em\" fill=\"currentColor\" x=\"4100\">NOUN</tspan>\n",
       "</text>\n",
       "\n",
       "<text class=\"displacy-token\" fill=\"currentColor\" text-anchor=\"middle\" y=\"722.0\">\n",
       "    <tspan class=\"displacy-word\" fill=\"currentColor\" x=\"4250\">kegg_Gene_3039,</tspan>\n",
       "    <tspan class=\"displacy-tag\" dy=\"2em\" fill=\"currentColor\" x=\"4250\">NOUN</tspan>\n",
       "</text>\n",
       "\n",
       "<text class=\"displacy-token\" fill=\"currentColor\" text-anchor=\"middle\" y=\"722.0\">\n",
       "    <tspan class=\"displacy-word\" fill=\"currentColor\" x=\"4400\">and</tspan>\n",
       "    <tspan class=\"displacy-tag\" dy=\"2em\" fill=\"currentColor\" x=\"4400\">CCONJ</tspan>\n",
       "</text>\n",
       "\n",
       "<text class=\"displacy-token\" fill=\"currentColor\" text-anchor=\"middle\" y=\"722.0\">\n",
       "    <tspan class=\"displacy-word\" fill=\"currentColor\" x=\"4550\">kegg_Gene_3040</tspan>\n",
       "    <tspan class=\"displacy-tag\" dy=\"2em\" fill=\"currentColor\" x=\"4550\">NOUN</tspan>\n",
       "</text>\n",
       "\n",
       "<text class=\"displacy-token\" fill=\"currentColor\" text-anchor=\"middle\" y=\"722.0\">\n",
       "    <tspan class=\"displacy-word\" fill=\"currentColor\" x=\"4700\">genes.</tspan>\n",
       "    <tspan class=\"displacy-tag\" dy=\"2em\" fill=\"currentColor\" x=\"4700\">NOUN</tspan>\n",
       "</text>\n",
       "\n",
       "<g class=\"displacy-arrow\">\n",
       "    <path class=\"displacy-arc\" id=\"arrow-02d13c5f4ba048c6904e4f5f39afe451-0-0\" stroke-width=\"2px\" d=\"M62,677.0 62,627.0 329.0,627.0 329.0,677.0\" fill=\"none\" stroke=\"currentColor\"/>\n",
       "    <text dy=\"1.25em\" style=\"font-size: 0.8em; letter-spacing: 1px\">\n",
       "        <textPath xlink:href=\"#arrow-02d13c5f4ba048c6904e4f5f39afe451-0-0\" class=\"displacy-label\" startOffset=\"50%\" side=\"left\" fill=\"currentColor\" text-anchor=\"middle\">amod</textPath>\n",
       "    </text>\n",
       "    <path class=\"displacy-arrowhead\" d=\"M62,679.0 L58,671.0 66,671.0\" fill=\"currentColor\"/>\n",
       "</g>\n",
       "\n",
       "<g class=\"displacy-arrow\">\n",
       "    <path class=\"displacy-arc\" id=\"arrow-02d13c5f4ba048c6904e4f5f39afe451-0-1\" stroke-width=\"2px\" d=\"M212,677.0 212,652.0 326.0,652.0 326.0,677.0\" fill=\"none\" stroke=\"currentColor\"/>\n",
       "    <text dy=\"1.25em\" style=\"font-size: 0.8em; letter-spacing: 1px\">\n",
       "        <textPath xlink:href=\"#arrow-02d13c5f4ba048c6904e4f5f39afe451-0-1\" class=\"displacy-label\" startOffset=\"50%\" side=\"left\" fill=\"currentColor\" text-anchor=\"middle\">compound</textPath>\n",
       "    </text>\n",
       "    <path class=\"displacy-arrowhead\" d=\"M212,679.0 L208,671.0 216,671.0\" fill=\"currentColor\"/>\n",
       "</g>\n",
       "\n",
       "<g class=\"displacy-arrow\">\n",
       "    <path class=\"displacy-arc\" id=\"arrow-02d13c5f4ba048c6904e4f5f39afe451-0-2\" stroke-width=\"2px\" d=\"M362,677.0 362,552.0 1088.0,552.0 1088.0,677.0\" fill=\"none\" stroke=\"currentColor\"/>\n",
       "    <text dy=\"1.25em\" style=\"font-size: 0.8em; letter-spacing: 1px\">\n",
       "        <textPath xlink:href=\"#arrow-02d13c5f4ba048c6904e4f5f39afe451-0-2\" class=\"displacy-label\" startOffset=\"50%\" side=\"left\" fill=\"currentColor\" text-anchor=\"middle\">nsubjpass</textPath>\n",
       "    </text>\n",
       "    <path class=\"displacy-arrowhead\" d=\"M362,679.0 L358,671.0 366,671.0\" fill=\"currentColor\"/>\n",
       "</g>\n",
       "\n",
       "<g class=\"displacy-arrow\">\n",
       "    <path class=\"displacy-arc\" id=\"arrow-02d13c5f4ba048c6904e4f5f39afe451-0-3\" stroke-width=\"2px\" d=\"M512,677.0 512,627.0 779.0,627.0 779.0,677.0\" fill=\"none\" stroke=\"currentColor\"/>\n",
       "    <text dy=\"1.25em\" style=\"font-size: 0.8em; letter-spacing: 1px\">\n",
       "        <textPath xlink:href=\"#arrow-02d13c5f4ba048c6904e4f5f39afe451-0-3\" class=\"displacy-label\" startOffset=\"50%\" side=\"left\" fill=\"currentColor\" text-anchor=\"middle\">case</textPath>\n",
       "    </text>\n",
       "    <path class=\"displacy-arrowhead\" d=\"M512,679.0 L508,671.0 516,671.0\" fill=\"currentColor\"/>\n",
       "</g>\n",
       "\n",
       "<g class=\"displacy-arrow\">\n",
       "    <path class=\"displacy-arc\" id=\"arrow-02d13c5f4ba048c6904e4f5f39afe451-0-4\" stroke-width=\"2px\" d=\"M662,677.0 662,652.0 776.0,652.0 776.0,677.0\" fill=\"none\" stroke=\"currentColor\"/>\n",
       "    <text dy=\"1.25em\" style=\"font-size: 0.8em; letter-spacing: 1px\">\n",
       "        <textPath xlink:href=\"#arrow-02d13c5f4ba048c6904e4f5f39afe451-0-4\" class=\"displacy-label\" startOffset=\"50%\" side=\"left\" fill=\"currentColor\" text-anchor=\"middle\">amod</textPath>\n",
       "    </text>\n",
       "    <path class=\"displacy-arrowhead\" d=\"M662,679.0 L658,671.0 666,671.0\" fill=\"currentColor\"/>\n",
       "</g>\n",
       "\n",
       "<g class=\"displacy-arrow\">\n",
       "    <path class=\"displacy-arc\" id=\"arrow-02d13c5f4ba048c6904e4f5f39afe451-0-5\" stroke-width=\"2px\" d=\"M362,677.0 362,602.0 782.0,602.0 782.0,677.0\" fill=\"none\" stroke=\"currentColor\"/>\n",
       "    <text dy=\"1.25em\" style=\"font-size: 0.8em; letter-spacing: 1px\">\n",
       "        <textPath xlink:href=\"#arrow-02d13c5f4ba048c6904e4f5f39afe451-0-5\" class=\"displacy-label\" startOffset=\"50%\" side=\"left\" fill=\"currentColor\" text-anchor=\"middle\">nmod</textPath>\n",
       "    </text>\n",
       "    <path class=\"displacy-arrowhead\" d=\"M782.0,679.0 L786.0,671.0 778.0,671.0\" fill=\"currentColor\"/>\n",
       "</g>\n",
       "\n",
       "<g class=\"displacy-arrow\">\n",
       "    <path class=\"displacy-arc\" id=\"arrow-02d13c5f4ba048c6904e4f5f39afe451-0-6\" stroke-width=\"2px\" d=\"M962,677.0 962,652.0 1076.0,652.0 1076.0,677.0\" fill=\"none\" stroke=\"currentColor\"/>\n",
       "    <text dy=\"1.25em\" style=\"font-size: 0.8em; letter-spacing: 1px\">\n",
       "        <textPath xlink:href=\"#arrow-02d13c5f4ba048c6904e4f5f39afe451-0-6\" class=\"displacy-label\" startOffset=\"50%\" side=\"left\" fill=\"currentColor\" text-anchor=\"middle\">auxpass</textPath>\n",
       "    </text>\n",
       "    <path class=\"displacy-arrowhead\" d=\"M962,679.0 L958,671.0 966,671.0\" fill=\"currentColor\"/>\n",
       "</g>\n",
       "\n",
       "<g class=\"displacy-arrow\">\n",
       "    <path class=\"displacy-arc\" id=\"arrow-02d13c5f4ba048c6904e4f5f39afe451-0-7\" stroke-width=\"2px\" d=\"M1262,677.0 1262,652.0 1376.0,652.0 1376.0,677.0\" fill=\"none\" stroke=\"currentColor\"/>\n",
       "    <text dy=\"1.25em\" style=\"font-size: 0.8em; letter-spacing: 1px\">\n",
       "        <textPath xlink:href=\"#arrow-02d13c5f4ba048c6904e4f5f39afe451-0-7\" class=\"displacy-label\" startOffset=\"50%\" side=\"left\" fill=\"currentColor\" text-anchor=\"middle\">case</textPath>\n",
       "    </text>\n",
       "    <path class=\"displacy-arrowhead\" d=\"M1262,679.0 L1258,671.0 1266,671.0\" fill=\"currentColor\"/>\n",
       "</g>\n",
       "\n",
       "<g class=\"displacy-arrow\">\n",
       "    <path class=\"displacy-arc\" id=\"arrow-02d13c5f4ba048c6904e4f5f39afe451-0-8\" stroke-width=\"2px\" d=\"M1112,677.0 1112,627.0 1379.0,627.0 1379.0,677.0\" fill=\"none\" stroke=\"currentColor\"/>\n",
       "    <text dy=\"1.25em\" style=\"font-size: 0.8em; letter-spacing: 1px\">\n",
       "        <textPath xlink:href=\"#arrow-02d13c5f4ba048c6904e4f5f39afe451-0-8\" class=\"displacy-label\" startOffset=\"50%\" side=\"left\" fill=\"currentColor\" text-anchor=\"middle\">nmod</textPath>\n",
       "    </text>\n",
       "    <path class=\"displacy-arrowhead\" d=\"M1379.0,679.0 L1383.0,671.0 1375.0,671.0\" fill=\"currentColor\"/>\n",
       "</g>\n",
       "\n",
       "<g class=\"displacy-arrow\">\n",
       "    <path class=\"displacy-arc\" id=\"arrow-02d13c5f4ba048c6904e4f5f39afe451-0-9\" stroke-width=\"2px\" d=\"M1412,677.0 1412,652.0 1526.0,652.0 1526.0,677.0\" fill=\"none\" stroke=\"currentColor\"/>\n",
       "    <text dy=\"1.25em\" style=\"font-size: 0.8em; letter-spacing: 1px\">\n",
       "        <textPath xlink:href=\"#arrow-02d13c5f4ba048c6904e4f5f39afe451-0-9\" class=\"displacy-label\" startOffset=\"50%\" side=\"left\" fill=\"currentColor\" text-anchor=\"middle\">appos</textPath>\n",
       "    </text>\n",
       "    <path class=\"displacy-arrowhead\" d=\"M1526.0,679.0 L1530.0,671.0 1522.0,671.0\" fill=\"currentColor\"/>\n",
       "</g>\n",
       "\n",
       "<g class=\"displacy-arrow\">\n",
       "    <path class=\"displacy-arc\" id=\"arrow-02d13c5f4ba048c6904e4f5f39afe451-0-10\" stroke-width=\"2px\" d=\"M1562,677.0 1562,652.0 1676.0,652.0 1676.0,677.0\" fill=\"none\" stroke=\"currentColor\"/>\n",
       "    <text dy=\"1.25em\" style=\"font-size: 0.8em; letter-spacing: 1px\">\n",
       "        <textPath xlink:href=\"#arrow-02d13c5f4ba048c6904e4f5f39afe451-0-10\" class=\"displacy-label\" startOffset=\"50%\" side=\"left\" fill=\"currentColor\" text-anchor=\"middle\">nummod</textPath>\n",
       "    </text>\n",
       "    <path class=\"displacy-arrowhead\" d=\"M1676.0,679.0 L1680.0,671.0 1672.0,671.0\" fill=\"currentColor\"/>\n",
       "</g>\n",
       "\n",
       "<g class=\"displacy-arrow\">\n",
       "    <path class=\"displacy-arc\" id=\"arrow-02d13c5f4ba048c6904e4f5f39afe451-0-11\" stroke-width=\"2px\" d=\"M1412,677.0 1412,602.0 1832.0,602.0 1832.0,677.0\" fill=\"none\" stroke=\"currentColor\"/>\n",
       "    <text dy=\"1.25em\" style=\"font-size: 0.8em; letter-spacing: 1px\">\n",
       "        <textPath xlink:href=\"#arrow-02d13c5f4ba048c6904e4f5f39afe451-0-11\" class=\"displacy-label\" startOffset=\"50%\" side=\"left\" fill=\"currentColor\" text-anchor=\"middle\">conj</textPath>\n",
       "    </text>\n",
       "    <path class=\"displacy-arrowhead\" d=\"M1832.0,679.0 L1836.0,671.0 1828.0,671.0\" fill=\"currentColor\"/>\n",
       "</g>\n",
       "\n",
       "<g class=\"displacy-arrow\">\n",
       "    <path class=\"displacy-arc\" id=\"arrow-02d13c5f4ba048c6904e4f5f39afe451-0-12\" stroke-width=\"2px\" d=\"M1862,677.0 1862,652.0 1976.0,652.0 1976.0,677.0\" fill=\"none\" stroke=\"currentColor\"/>\n",
       "    <text dy=\"1.25em\" style=\"font-size: 0.8em; letter-spacing: 1px\">\n",
       "        <textPath xlink:href=\"#arrow-02d13c5f4ba048c6904e4f5f39afe451-0-12\" class=\"displacy-label\" startOffset=\"50%\" side=\"left\" fill=\"currentColor\" text-anchor=\"middle\">appos</textPath>\n",
       "    </text>\n",
       "    <path class=\"displacy-arrowhead\" d=\"M1976.0,679.0 L1980.0,671.0 1972.0,671.0\" fill=\"currentColor\"/>\n",
       "</g>\n",
       "\n",
       "<g class=\"displacy-arrow\">\n",
       "    <path class=\"displacy-arc\" id=\"arrow-02d13c5f4ba048c6904e4f5f39afe451-0-13\" stroke-width=\"2px\" d=\"M2012,677.0 2012,652.0 2126.0,652.0 2126.0,677.0\" fill=\"none\" stroke=\"currentColor\"/>\n",
       "    <text dy=\"1.25em\" style=\"font-size: 0.8em; letter-spacing: 1px\">\n",
       "        <textPath xlink:href=\"#arrow-02d13c5f4ba048c6904e4f5f39afe451-0-13\" class=\"displacy-label\" startOffset=\"50%\" side=\"left\" fill=\"currentColor\" text-anchor=\"middle\">nummod</textPath>\n",
       "    </text>\n",
       "    <path class=\"displacy-arrowhead\" d=\"M2126.0,679.0 L2130.0,671.0 2122.0,671.0\" fill=\"currentColor\"/>\n",
       "</g>\n",
       "\n",
       "<g class=\"displacy-arrow\">\n",
       "    <path class=\"displacy-arc\" id=\"arrow-02d13c5f4ba048c6904e4f5f39afe451-0-14\" stroke-width=\"2px\" d=\"M2012,677.0 2012,627.0 2279.0,627.0 2279.0,677.0\" fill=\"none\" stroke=\"currentColor\"/>\n",
       "    <text dy=\"1.25em\" style=\"font-size: 0.8em; letter-spacing: 1px\">\n",
       "        <textPath xlink:href=\"#arrow-02d13c5f4ba048c6904e4f5f39afe451-0-14\" class=\"displacy-label\" startOffset=\"50%\" side=\"left\" fill=\"currentColor\" text-anchor=\"middle\">nummod</textPath>\n",
       "    </text>\n",
       "    <path class=\"displacy-arrowhead\" d=\"M2279.0,679.0 L2283.0,671.0 2275.0,671.0\" fill=\"currentColor\"/>\n",
       "</g>\n",
       "\n",
       "<g class=\"displacy-arrow\">\n",
       "    <path class=\"displacy-arc\" id=\"arrow-02d13c5f4ba048c6904e4f5f39afe451-0-15\" stroke-width=\"2px\" d=\"M1862,677.0 1862,577.0 2435.0,577.0 2435.0,677.0\" fill=\"none\" stroke=\"currentColor\"/>\n",
       "    <text dy=\"1.25em\" style=\"font-size: 0.8em; letter-spacing: 1px\">\n",
       "        <textPath xlink:href=\"#arrow-02d13c5f4ba048c6904e4f5f39afe451-0-15\" class=\"displacy-label\" startOffset=\"50%\" side=\"left\" fill=\"currentColor\" text-anchor=\"middle\">conj</textPath>\n",
       "    </text>\n",
       "    <path class=\"displacy-arrowhead\" d=\"M2435.0,679.0 L2439.0,671.0 2431.0,671.0\" fill=\"currentColor\"/>\n",
       "</g>\n",
       "\n",
       "<g class=\"displacy-arrow\">\n",
       "    <path class=\"displacy-arc\" id=\"arrow-02d13c5f4ba048c6904e4f5f39afe451-0-16\" stroke-width=\"2px\" d=\"M2462,677.0 2462,652.0 2576.0,652.0 2576.0,677.0\" fill=\"none\" stroke=\"currentColor\"/>\n",
       "    <text dy=\"1.25em\" style=\"font-size: 0.8em; letter-spacing: 1px\">\n",
       "        <textPath xlink:href=\"#arrow-02d13c5f4ba048c6904e4f5f39afe451-0-16\" class=\"displacy-label\" startOffset=\"50%\" side=\"left\" fill=\"currentColor\" text-anchor=\"middle\">appos</textPath>\n",
       "    </text>\n",
       "    <path class=\"displacy-arrowhead\" d=\"M2576.0,679.0 L2580.0,671.0 2572.0,671.0\" fill=\"currentColor\"/>\n",
       "</g>\n",
       "\n",
       "<g class=\"displacy-arrow\">\n",
       "    <path class=\"displacy-arc\" id=\"arrow-02d13c5f4ba048c6904e4f5f39afe451-0-17\" stroke-width=\"2px\" d=\"M2612,677.0 2612,652.0 2726.0,652.0 2726.0,677.0\" fill=\"none\" stroke=\"currentColor\"/>\n",
       "    <text dy=\"1.25em\" style=\"font-size: 0.8em; letter-spacing: 1px\">\n",
       "        <textPath xlink:href=\"#arrow-02d13c5f4ba048c6904e4f5f39afe451-0-17\" class=\"displacy-label\" startOffset=\"50%\" side=\"left\" fill=\"currentColor\" text-anchor=\"middle\">nummod</textPath>\n",
       "    </text>\n",
       "    <path class=\"displacy-arrowhead\" d=\"M2726.0,679.0 L2730.0,671.0 2722.0,671.0\" fill=\"currentColor\"/>\n",
       "</g>\n",
       "\n",
       "<g class=\"displacy-arrow\">\n",
       "    <path class=\"displacy-arc\" id=\"arrow-02d13c5f4ba048c6904e4f5f39afe451-0-18\" stroke-width=\"2px\" d=\"M2612,677.0 2612,627.0 2879.0,627.0 2879.0,677.0\" fill=\"none\" stroke=\"currentColor\"/>\n",
       "    <text dy=\"1.25em\" style=\"font-size: 0.8em; letter-spacing: 1px\">\n",
       "        <textPath xlink:href=\"#arrow-02d13c5f4ba048c6904e4f5f39afe451-0-18\" class=\"displacy-label\" startOffset=\"50%\" side=\"left\" fill=\"currentColor\" text-anchor=\"middle\">nummod</textPath>\n",
       "    </text>\n",
       "    <path class=\"displacy-arrowhead\" d=\"M2879.0,679.0 L2883.0,671.0 2875.0,671.0\" fill=\"currentColor\"/>\n",
       "</g>\n",
       "\n",
       "<g class=\"displacy-arrow\">\n",
       "    <path class=\"displacy-arc\" id=\"arrow-02d13c5f4ba048c6904e4f5f39afe451-0-19\" stroke-width=\"2px\" d=\"M1862,677.0 1862,502.0 3044.0,502.0 3044.0,677.0\" fill=\"none\" stroke=\"currentColor\"/>\n",
       "    <text dy=\"1.25em\" style=\"font-size: 0.8em; letter-spacing: 1px\">\n",
       "        <textPath xlink:href=\"#arrow-02d13c5f4ba048c6904e4f5f39afe451-0-19\" class=\"displacy-label\" startOffset=\"50%\" side=\"left\" fill=\"currentColor\" text-anchor=\"middle\">conj</textPath>\n",
       "    </text>\n",
       "    <path class=\"displacy-arrowhead\" d=\"M3044.0,679.0 L3048.0,671.0 3040.0,671.0\" fill=\"currentColor\"/>\n",
       "</g>\n",
       "\n",
       "<g class=\"displacy-arrow\">\n",
       "    <path class=\"displacy-arc\" id=\"arrow-02d13c5f4ba048c6904e4f5f39afe451-0-20\" stroke-width=\"2px\" d=\"M3062,677.0 3062,652.0 3176.0,652.0 3176.0,677.0\" fill=\"none\" stroke=\"currentColor\"/>\n",
       "    <text dy=\"1.25em\" style=\"font-size: 0.8em; letter-spacing: 1px\">\n",
       "        <textPath xlink:href=\"#arrow-02d13c5f4ba048c6904e4f5f39afe451-0-20\" class=\"displacy-label\" startOffset=\"50%\" side=\"left\" fill=\"currentColor\" text-anchor=\"middle\">appos</textPath>\n",
       "    </text>\n",
       "    <path class=\"displacy-arrowhead\" d=\"M3176.0,679.0 L3180.0,671.0 3172.0,671.0\" fill=\"currentColor\"/>\n",
       "</g>\n",
       "\n",
       "<g class=\"displacy-arrow\">\n",
       "    <path class=\"displacy-arc\" id=\"arrow-02d13c5f4ba048c6904e4f5f39afe451-0-21\" stroke-width=\"2px\" d=\"M3212,677.0 3212,652.0 3326.0,652.0 3326.0,677.0\" fill=\"none\" stroke=\"currentColor\"/>\n",
       "    <text dy=\"1.25em\" style=\"font-size: 0.8em; letter-spacing: 1px\">\n",
       "        <textPath xlink:href=\"#arrow-02d13c5f4ba048c6904e4f5f39afe451-0-21\" class=\"displacy-label\" startOffset=\"50%\" side=\"left\" fill=\"currentColor\" text-anchor=\"middle\">nummod</textPath>\n",
       "    </text>\n",
       "    <path class=\"displacy-arrowhead\" d=\"M3326.0,679.0 L3330.0,671.0 3322.0,671.0\" fill=\"currentColor\"/>\n",
       "</g>\n",
       "\n",
       "<g class=\"displacy-arrow\">\n",
       "    <path class=\"displacy-arc\" id=\"arrow-02d13c5f4ba048c6904e4f5f39afe451-0-22\" stroke-width=\"2px\" d=\"M1412,677.0 1412,477.0 3497.0,477.0 3497.0,677.0\" fill=\"none\" stroke=\"currentColor\"/>\n",
       "    <text dy=\"1.25em\" style=\"font-size: 0.8em; letter-spacing: 1px\">\n",
       "        <textPath xlink:href=\"#arrow-02d13c5f4ba048c6904e4f5f39afe451-0-22\" class=\"displacy-label\" startOffset=\"50%\" side=\"left\" fill=\"currentColor\" text-anchor=\"middle\">cc</textPath>\n",
       "    </text>\n",
       "    <path class=\"displacy-arrowhead\" d=\"M3497.0,679.0 L3501.0,671.0 3493.0,671.0\" fill=\"currentColor\"/>\n",
       "</g>\n",
       "\n",
       "<g class=\"displacy-arrow\">\n",
       "    <path class=\"displacy-arc\" id=\"arrow-02d13c5f4ba048c6904e4f5f39afe451-0-23\" stroke-width=\"2px\" d=\"M3662,677.0 3662,652.0 3776.0,652.0 3776.0,677.0\" fill=\"none\" stroke=\"currentColor\"/>\n",
       "    <text dy=\"1.25em\" style=\"font-size: 0.8em; letter-spacing: 1px\">\n",
       "        <textPath xlink:href=\"#arrow-02d13c5f4ba048c6904e4f5f39afe451-0-23\" class=\"displacy-label\" startOffset=\"50%\" side=\"left\" fill=\"currentColor\" text-anchor=\"middle\">det</textPath>\n",
       "    </text>\n",
       "    <path class=\"displacy-arrowhead\" d=\"M3662,679.0 L3658,671.0 3666,671.0\" fill=\"currentColor\"/>\n",
       "</g>\n",
       "\n",
       "<g class=\"displacy-arrow\">\n",
       "    <path class=\"displacy-arc\" id=\"arrow-02d13c5f4ba048c6904e4f5f39afe451-0-24\" stroke-width=\"2px\" d=\"M1412,677.0 1412,452.0 3800.0,452.0 3800.0,677.0\" fill=\"none\" stroke=\"currentColor\"/>\n",
       "    <text dy=\"1.25em\" style=\"font-size: 0.8em; letter-spacing: 1px\">\n",
       "        <textPath xlink:href=\"#arrow-02d13c5f4ba048c6904e4f5f39afe451-0-24\" class=\"displacy-label\" startOffset=\"50%\" side=\"left\" fill=\"currentColor\" text-anchor=\"middle\">conj</textPath>\n",
       "    </text>\n",
       "    <path class=\"displacy-arrowhead\" d=\"M3800.0,679.0 L3804.0,671.0 3796.0,671.0\" fill=\"currentColor\"/>\n",
       "</g>\n",
       "\n",
       "<g class=\"displacy-arrow\">\n",
       "    <path class=\"displacy-arc\" id=\"arrow-02d13c5f4ba048c6904e4f5f39afe451-0-25\" stroke-width=\"2px\" d=\"M3962,677.0 3962,652.0 4076.0,652.0 4076.0,677.0\" fill=\"none\" stroke=\"currentColor\"/>\n",
       "    <text dy=\"1.25em\" style=\"font-size: 0.8em; letter-spacing: 1px\">\n",
       "        <textPath xlink:href=\"#arrow-02d13c5f4ba048c6904e4f5f39afe451-0-25\" class=\"displacy-label\" startOffset=\"50%\" side=\"left\" fill=\"currentColor\" text-anchor=\"middle\">case</textPath>\n",
       "    </text>\n",
       "    <path class=\"displacy-arrowhead\" d=\"M3962,679.0 L3958,671.0 3966,671.0\" fill=\"currentColor\"/>\n",
       "</g>\n",
       "\n",
       "<g class=\"displacy-arrow\">\n",
       "    <path class=\"displacy-arc\" id=\"arrow-02d13c5f4ba048c6904e4f5f39afe451-0-26\" stroke-width=\"2px\" d=\"M3812,677.0 3812,627.0 4079.0,627.0 4079.0,677.0\" fill=\"none\" stroke=\"currentColor\"/>\n",
       "    <text dy=\"1.25em\" style=\"font-size: 0.8em; letter-spacing: 1px\">\n",
       "        <textPath xlink:href=\"#arrow-02d13c5f4ba048c6904e4f5f39afe451-0-26\" class=\"displacy-label\" startOffset=\"50%\" side=\"left\" fill=\"currentColor\" text-anchor=\"middle\">nmod</textPath>\n",
       "    </text>\n",
       "    <path class=\"displacy-arrowhead\" d=\"M4079.0,679.0 L4083.0,671.0 4075.0,671.0\" fill=\"currentColor\"/>\n",
       "</g>\n",
       "\n",
       "<g class=\"displacy-arrow\">\n",
       "    <path class=\"displacy-arc\" id=\"arrow-02d13c5f4ba048c6904e4f5f39afe451-0-27\" stroke-width=\"2px\" d=\"M4112,677.0 4112,652.0 4226.0,652.0 4226.0,677.0\" fill=\"none\" stroke=\"currentColor\"/>\n",
       "    <text dy=\"1.25em\" style=\"font-size: 0.8em; letter-spacing: 1px\">\n",
       "        <textPath xlink:href=\"#arrow-02d13c5f4ba048c6904e4f5f39afe451-0-27\" class=\"displacy-label\" startOffset=\"50%\" side=\"left\" fill=\"currentColor\" text-anchor=\"middle\">conj</textPath>\n",
       "    </text>\n",
       "    <path class=\"displacy-arrowhead\" d=\"M4226.0,679.0 L4230.0,671.0 4222.0,671.0\" fill=\"currentColor\"/>\n",
       "</g>\n",
       "\n",
       "<g class=\"displacy-arrow\">\n",
       "    <path class=\"displacy-arc\" id=\"arrow-02d13c5f4ba048c6904e4f5f39afe451-0-28\" stroke-width=\"2px\" d=\"M4112,677.0 4112,627.0 4379.0,627.0 4379.0,677.0\" fill=\"none\" stroke=\"currentColor\"/>\n",
       "    <text dy=\"1.25em\" style=\"font-size: 0.8em; letter-spacing: 1px\">\n",
       "        <textPath xlink:href=\"#arrow-02d13c5f4ba048c6904e4f5f39afe451-0-28\" class=\"displacy-label\" startOffset=\"50%\" side=\"left\" fill=\"currentColor\" text-anchor=\"middle\">cc</textPath>\n",
       "    </text>\n",
       "    <path class=\"displacy-arrowhead\" d=\"M4379.0,679.0 L4383.0,671.0 4375.0,671.0\" fill=\"currentColor\"/>\n",
       "</g>\n",
       "\n",
       "<g class=\"displacy-arrow\">\n",
       "    <path class=\"displacy-arc\" id=\"arrow-02d13c5f4ba048c6904e4f5f39afe451-0-29\" stroke-width=\"2px\" d=\"M4112,677.0 4112,602.0 4532.0,602.0 4532.0,677.0\" fill=\"none\" stroke=\"currentColor\"/>\n",
       "    <text dy=\"1.25em\" style=\"font-size: 0.8em; letter-spacing: 1px\">\n",
       "        <textPath xlink:href=\"#arrow-02d13c5f4ba048c6904e4f5f39afe451-0-29\" class=\"displacy-label\" startOffset=\"50%\" side=\"left\" fill=\"currentColor\" text-anchor=\"middle\">conj</textPath>\n",
       "    </text>\n",
       "    <path class=\"displacy-arrowhead\" d=\"M4532.0,679.0 L4536.0,671.0 4528.0,671.0\" fill=\"currentColor\"/>\n",
       "</g>\n",
       "\n",
       "<g class=\"displacy-arrow\">\n",
       "    <path class=\"displacy-arc\" id=\"arrow-02d13c5f4ba048c6904e4f5f39afe451-0-30\" stroke-width=\"2px\" d=\"M3812,677.0 3812,527.0 4691.0,527.0 4691.0,677.0\" fill=\"none\" stroke=\"currentColor\"/>\n",
       "    <text dy=\"1.25em\" style=\"font-size: 0.8em; letter-spacing: 1px\">\n",
       "        <textPath xlink:href=\"#arrow-02d13c5f4ba048c6904e4f5f39afe451-0-30\" class=\"displacy-label\" startOffset=\"50%\" side=\"left\" fill=\"currentColor\" text-anchor=\"middle\">dep</textPath>\n",
       "    </text>\n",
       "    <path class=\"displacy-arrowhead\" d=\"M4691.0,679.0 L4695.0,671.0 4687.0,671.0\" fill=\"currentColor\"/>\n",
       "</g>\n",
       "</svg></span>"
      ],
      "text/plain": [
       "<IPython.core.display.HTML object>"
      ]
     },
     "metadata": {},
     "output_type": "display_data"
    }
   ],
   "source": [
    "### Graphic feature extraction\n",
    "#save time\n",
    "PMID_list = DS_corpus_kegg['PMID'].to_list()[:]\n",
    "LOCATION_list = DS_corpus_kegg['LOCATION'].to_list()[:]\n",
    "doc_list = DS_corpus_kegg['SENTENCE'].to_list()[:]\n",
    "Gene1_list = DS_corpus_kegg['GENE1'].to_list()[:]\n",
    "Gene2_list = DS_corpus_kegg['GENE2'].to_list()[:]\n",
    "INTERACTION_list = DS_corpus_kegg['INTERACTION'].to_list()[:]\n",
    "\n",
    "### 0.get gene interaction pair & sentence\n",
    "doc = nlp(doc_list[n])\n",
    "Gene1 = Gene1_list[n]\n",
    "Gene2 = Gene2_list[n]\n",
    "INTERACTION = INTERACTION_list[n]\n",
    "\n",
    "Display_interaction_Sent(doc,Gene1,Gene2,INTERACTION)\n",
    "\n",
    "# Display Dependency graph\n",
    "displacy.render(doc, style='dep',options={'compact':True}, jupyter=True)"
   ]
  },
  {
   "cell_type": "code",
   "execution_count": 31,
   "metadata": {
    "ExecuteTime": {
     "end_time": "2021-05-24T07:42:41.427509Z",
     "start_time": "2021-05-24T07:42:41.412550Z"
    },
    "code_folding": [],
    "hidden": true,
    "scrolled": true
   },
   "outputs": [
    {
     "name": "stdout",
     "output_type": "stream",
     "text": [
      "Gene 54583 to 3040 distance： 5\n",
      "Gene 54583 to 3040 path： [22, 14, 9, 38, 40, 45] \n",
      "\n"
     ]
    }
   ],
   "source": [
    "#start\n",
    "G_nx = []\n",
    "G_Label = []\n",
    "\n",
    "\n",
    "### 1.Graphic feature extraction(dependency relation & token tag & shorteat path)      \n",
    "edges = []\n",
    "for token in doc:\n",
    "    # two gene location in sent\n",
    "    if f'Gene_{Gene1}' in token.text:\n",
    "        entity1 = token.i\n",
    "    if f'Gene_{Gene2}' in token.text:\n",
    "        entity2 = token.i\n",
    "    # sent id graph\n",
    "    for child in token.children:\n",
    "        edges.append((token.i,\n",
    "                      child.i))    \n",
    "G = nx.Graph(edges)\n",
    "\n",
    "\n",
    "# shortest path\n",
    "try:\n",
    "    distance=nx.shortest_path_length(G, source=entity1, target=entity2)\n",
    "    print(f'Gene {Gene1} to {Gene2} distance：', distance)\n",
    "    path=nx.shortest_path(G, source=entity1, target=entity2)\n",
    "    print(f'Gene {Gene1} to {Gene2} path：', path,'\\n')\n",
    "except nx.NetworkXNoPath:\n",
    "    print('The shortest path between entities is not exist!!! The two are not related, skip')\n",
    "except nx.NodeNotFound:\n",
    "    print('Program problem, can be improved, skip first')\n",
    "\n",
    "# if len(path)==2: # The shortest path between entities is adjacent! Non-interaction\n",
    "#     print('The shortest path between entities is adjacent!!! Non-interaction')\n",
    "#     path = []\n",
    "#     ## define sentence to graph\n",
    "#     Define_Graph(doc,path)\n",
    "#     ## construct NetworkX graph by GraKel format\n",
    "#     G1 = nx.Graph()\n",
    "#     G1.add_nodes_from(nodes)\n",
    "#     G1.add_edges_from(edges, weight=3)\n",
    "#     nx.set_node_attributes(G1,nodes_label,'label')\n",
    "#     nx.set_edge_attributes(G1,edges_label,'attributes')\n",
    "#     nx.set_edge_attributes(G1,edge_weight,'weight')\n",
    "\n",
    "#     G_nx.append(G1)\n",
    "#     G_Label.append('NON_KEGG_Interaction')\n",
    "# else:\n",
    "#     print('Successfully constructed graphics')\n",
    "#     ## define sentence to graph\n",
    "#     Define_Graph(doc,path)\n",
    "#     ## construct NetworkX graph\n",
    "#     G1 = nx.Graph()\n",
    "#     G1.add_nodes_from(nodes)\n",
    "#     G1.add_edges_from(edges, weight=3)\n",
    "#     nx.set_node_attributes(G1,nodes_label,'label')\n",
    "#     nx.set_edge_attributes(G1,edges_label,'attributes')\n",
    "#     nx.set_edge_attributes(G1,edge_weight,'weight')\n",
    "\n",
    "#     G_nx.append(G1)\n",
    "#     G_Label.append(INTERACTION)\n",
    "#     print('\\n')"
   ]
  },
  {
   "cell_type": "markdown",
   "metadata": {
    "id": "-fNInfyXt8pV"
   },
   "source": [
    "# Graph classification(GraKeL)"
   ]
  },
  {
   "cell_type": "markdown",
   "metadata": {},
   "source": [
    "## NetworkX graph -> GraKeL 格式"
   ]
  },
  {
   "cell_type": "markdown",
   "metadata": {},
   "source": [
    "### features adjust"
   ]
  },
  {
   "cell_type": "code",
   "execution_count": null,
   "metadata": {},
   "outputs": [],
   "source": [
    "# NetworkX graph -> GraKeL format\n",
    "G_nx = DS_corpus_kegg_graph_data.graph\n",
    "G_k = graph_from_networkx(G_nx, edge_labels_tag='attributes',\n",
    "                          node_labels_tag='label',\n",
    "                          edge_weight_tag='weight') #edge_weight_tag"
   ]
  },
  {
   "cell_type": "code",
   "execution_count": 15,
   "metadata": {
    "ExecuteTime": {
     "end_time": "2021-06-01T04:35:26.258427Z",
     "start_time": "2021-06-01T04:35:09.279088Z"
    }
   },
   "outputs": [
    {
     "name": "stderr",
     "output_type": "stream",
     "text": [
      "100%|██████████| 392369/392369 [00:16<00:00, 23122.45it/s]\n"
     ]
    }
   ],
   "source": [
    "# translate features\n",
    "G = list(G_k)[:]\n",
    "for k in tqdm(range(len(G))):\n",
    "    a1 = G[k][1] #node get only one attr (tag)\n",
    "    b1 = list(map(lambda x: G[k][1][x][0], a1))\n",
    "    G[k][1] = dict(zip(a1,b1))"
   ]
  },
  {
   "cell_type": "markdown",
   "metadata": {},
   "source": [
    "### display feature"
   ]
  },
  {
   "cell_type": "code",
   "execution_count": null,
   "metadata": {},
   "outputs": [],
   "source": [
    "print(\"\\n 1.edge_weight_tag , 2.node_labels_tag , 3.edge_labels_tag\")\n",
    "G[:10]"
   ]
  },
  {
   "cell_type": "code",
   "execution_count": 14,
   "metadata": {
    "ExecuteTime": {
     "end_time": "2021-06-01T04:34:37.527624Z",
     "start_time": "2021-06-01T04:34:15.315842Z"
    }
   },
   "outputs": [
    {
     "data": {
      "text/plain": [
       "142"
      ]
     },
     "execution_count": 14,
     "metadata": {},
     "output_type": "execute_result"
    }
   ],
   "source": [
    "del G_k\n",
    "gc.collect()"
   ]
  },
  {
   "cell_type": "markdown",
   "metadata": {
    "heading_collapsed": true
   },
   "source": [
    "#### save"
   ]
  },
  {
   "cell_type": "code",
   "execution_count": 23,
   "metadata": {
    "ExecuteTime": {
     "end_time": "2021-06-01T04:39:19.382017Z",
     "start_time": "2021-06-01T04:39:18.993771Z"
    },
    "hidden": true
   },
   "outputs": [],
   "source": [
    "ML_data = pd.DataFrame({\"Sent\":DS_corpus_kegg_graph_data.sent,\n",
    "                        \"Graph\":G,\n",
    "                        \"Gene1\":DS_corpus_kegg_graph_data.Gene1,\n",
    "                        \"Gene2\":DS_corpus_kegg_graph_data.Gene2,\n",
    "                        \"Gene1_loc\":DS_corpus_kegg_graph_data.Gene1_loc,\n",
    "                        \"Gene2_loc\":DS_corpus_kegg_graph_data.Gene2_loc,\n",
    "                        \"Label\":DS_corpus_kegg_graph_data.Label})"
   ]
  },
  {
   "cell_type": "code",
   "execution_count": 24,
   "metadata": {
    "ExecuteTime": {
     "end_time": "2021-06-01T04:41:31.441548Z",
     "start_time": "2021-06-01T04:39:23.830404Z"
    },
    "hidden": true
   },
   "outputs": [
    {
     "name": "stdout",
     "output_type": "stream",
     "text": [
      "/home/tku_stat_dell/Desktop/DS_corpus/DS_corpus_kegg_graph_data\n"
     ]
    }
   ],
   "source": [
    "# save graph df(.pkl)\n",
    "%cd /home/tku_stat_dell/Desktop/DS_corpus/DS_corpus_kegg_graph_data\n",
    "ML_data[:130789].to_pickle('ML_data_sdp_1.pkl')"
   ]
  },
  {
   "cell_type": "code",
   "execution_count": 25,
   "metadata": {
    "ExecuteTime": {
     "end_time": "2021-06-01T04:45:20.364309Z",
     "start_time": "2021-06-01T04:43:18.795104Z"
    },
    "hidden": true
   },
   "outputs": [
    {
     "name": "stdout",
     "output_type": "stream",
     "text": [
      "/home/tku_stat_dell/Desktop/DS_corpus/DS_corpus_kegg_graph_data\n"
     ]
    }
   ],
   "source": [
    "%cd /home/tku_stat_dell/Desktop/DS_corpus/DS_corpus_kegg_graph_data\n",
    "ML_data[130789:261578].to_pickle('ML_data_sdp_2.pkl')"
   ]
  },
  {
   "cell_type": "code",
   "execution_count": 26,
   "metadata": {
    "ExecuteTime": {
     "end_time": "2021-06-01T04:47:42.101372Z",
     "start_time": "2021-06-01T04:45:33.823350Z"
    },
    "hidden": true
   },
   "outputs": [
    {
     "name": "stdout",
     "output_type": "stream",
     "text": [
      "/home/tku_stat_dell/Desktop/DS_corpus/DS_corpus_kegg_graph_data\n"
     ]
    }
   ],
   "source": [
    "%cd /home/tku_stat_dell/Desktop/DS_corpus/DS_corpus_kegg_graph_data\n",
    "ML_data[261578:].to_pickle('ML_data_sdp_3.pkl')"
   ]
  },
  {
   "cell_type": "markdown",
   "metadata": {
    "heading_collapsed": true
   },
   "source": [
    "#### load"
   ]
  },
  {
   "cell_type": "code",
   "execution_count": 6,
   "metadata": {
    "ExecuteTime": {
     "end_time": "2021-06-05T08:42:46.757259Z",
     "start_time": "2021-06-05T08:40:31.956728Z"
    },
    "code_folding": [],
    "hidden": true
   },
   "outputs": [
    {
     "name": "stdout",
     "output_type": "stream",
     "text": [
      "/home/tku_stat_dell/Desktop/DS_corpus/DS_corpus_kegg_graph_data\n",
      "1\n",
      "2\n"
     ]
    }
   ],
   "source": [
    "### Load final result( graph df(.pkl) )\n",
    "%cd /home/tku_stat_dell/Desktop/DS_corpus/DS_corpus_kegg_graph_data\n",
    "ML_data_1 = pd.read_pickle('ML_data_sdp_1.pkl')\n",
    "print(1)\n",
    "ML_data_2 = pd.read_pickle('ML_data_sdp_2.pkl')\n",
    "print(2)\n",
    "ML_data_3 = pd.read_pickle('ML_data_sdp_3.pkl')"
   ]
  },
  {
   "cell_type": "code",
   "execution_count": 7,
   "metadata": {
    "ExecuteTime": {
     "end_time": "2021-06-05T08:42:47.643317Z",
     "start_time": "2021-06-05T08:42:47.519251Z"
    },
    "hidden": true
   },
   "outputs": [],
   "source": [
    "ML_data = pd.concat([ML_data_1,ML_data_2,ML_data_3],axis=0)"
   ]
  },
  {
   "cell_type": "code",
   "execution_count": 8,
   "metadata": {
    "ExecuteTime": {
     "end_time": "2021-06-05T08:42:50.566405Z",
     "start_time": "2021-06-05T08:42:48.622066Z"
    },
    "hidden": true
   },
   "outputs": [
    {
     "data": {
      "text/plain": [
       "60"
      ]
     },
     "execution_count": 8,
     "metadata": {},
     "output_type": "execute_result"
    }
   ],
   "source": [
    "ML_data_1,ML_data_2,ML_data_3 = [None,None,None]\n",
    "del ML_data_1,ML_data_2,ML_data_3\n",
    "gc.collect()"
   ]
  },
  {
   "cell_type": "code",
   "execution_count": 9,
   "metadata": {
    "ExecuteTime": {
     "end_time": "2021-06-05T08:42:50.873151Z",
     "start_time": "2021-06-05T08:42:50.805688Z"
    },
    "hidden": true,
    "scrolled": true
   },
   "outputs": [
    {
     "name": "stdout",
     "output_type": "stream",
     "text": [
      "392369\n",
      "Gene-Gene Interaction: 10500\n",
      "Not Gene-Gene Interaction: 381869\n"
     ]
    }
   ],
   "source": [
    "print(len(ML_data))\n",
    "print('Gene-Gene Interaction:',ML_data.Label.value_counts()['KEGG_Interaction'])\n",
    "print('Not Gene-Gene Interaction:',ML_data.Label.value_counts()['NON_KEGG_Interaction'])"
   ]
  },
  {
   "cell_type": "code",
   "execution_count": 10,
   "metadata": {
    "ExecuteTime": {
     "end_time": "2021-06-05T03:47:24.452881Z",
     "start_time": "2021-06-05T03:47:23.998290Z"
    },
    "collapsed": true,
    "hidden": true
   },
   "outputs": [
    {
     "data": {
      "text/html": [
       "<div>\n",
       "<style scoped>\n",
       "    .dataframe tbody tr th:only-of-type {\n",
       "        vertical-align: middle;\n",
       "    }\n",
       "\n",
       "    .dataframe tbody tr th {\n",
       "        vertical-align: top;\n",
       "    }\n",
       "\n",
       "    .dataframe thead th {\n",
       "        text-align: right;\n",
       "    }\n",
       "</style>\n",
       "<table border=\"1\" class=\"dataframe\">\n",
       "  <thead>\n",
       "    <tr style=\"text-align: right;\">\n",
       "      <th></th>\n",
       "      <th>Sent</th>\n",
       "      <th>Graph</th>\n",
       "      <th>Gene1</th>\n",
       "      <th>Gene2</th>\n",
       "      <th>Gene1_loc</th>\n",
       "      <th>Gene2_loc</th>\n",
       "      <th>Label</th>\n",
       "    </tr>\n",
       "  </thead>\n",
       "  <tbody>\n",
       "    <tr>\n",
       "      <th>0</th>\n",
       "      <td>The emergence of ASIA syndrome is associated w...</td>\n",
       "      <td>[{0: {1: 0.1}, 1: {0: 0.1, 4: 0.1, 6: 0.1}, 2:...</td>\n",
       "      <td>3126</td>\n",
       "      <td>3123</td>\n",
       "      <td>20</td>\n",
       "      <td>16</td>\n",
       "      <td>NON_KEGG_Interaction</td>\n",
       "    </tr>\n",
       "    <tr>\n",
       "      <th>1</th>\n",
       "      <td>Focused Sanger sequencing from genomic DNA was...</td>\n",
       "      <td>[{0: {2: 0.1}, 1: {2: 0.1}, 2: {0: 0.1, 1: 0.1...</td>\n",
       "      <td>3039</td>\n",
       "      <td>2034</td>\n",
       "      <td>42</td>\n",
       "      <td>30</td>\n",
       "      <td>NON_KEGG_Interaction</td>\n",
       "    </tr>\n",
       "    <tr>\n",
       "      <th>2</th>\n",
       "      <td>Focused Sanger sequencing from genomic DNA was...</td>\n",
       "      <td>[{0: {2: 0.1}, 1: {2: 0.1}, 2: {0: 0.1, 1: 0.1...</td>\n",
       "      <td>3039</td>\n",
       "      <td>54583</td>\n",
       "      <td>42</td>\n",
       "      <td>22</td>\n",
       "      <td>NON_KEGG_Interaction</td>\n",
       "    </tr>\n",
       "    <tr>\n",
       "      <th>3</th>\n",
       "      <td>Focused Sanger sequencing from genomic DNA was...</td>\n",
       "      <td>[{0: {2: 0.1}, 1: {2: 0.1}, 2: {0: 0.1, 1: 0.1...</td>\n",
       "      <td>3039</td>\n",
       "      <td>3040</td>\n",
       "      <td>42</td>\n",
       "      <td>45</td>\n",
       "      <td>NON_KEGG_Interaction</td>\n",
       "    </tr>\n",
       "    <tr>\n",
       "      <th>4</th>\n",
       "      <td>Focused Sanger sequencing from genomic DNA was...</td>\n",
       "      <td>[{0: {2: 0.1}, 1: {2: 0.1}, 2: {0: 0.1, 1: 0.1...</td>\n",
       "      <td>3039</td>\n",
       "      <td>2057</td>\n",
       "      <td>42</td>\n",
       "      <td>9</td>\n",
       "      <td>NON_KEGG_Interaction</td>\n",
       "    </tr>\n",
       "    <tr>\n",
       "      <th>...</th>\n",
       "      <td>...</td>\n",
       "      <td>...</td>\n",
       "      <td>...</td>\n",
       "      <td>...</td>\n",
       "      <td>...</td>\n",
       "      <td>...</td>\n",
       "      <td>...</td>\n",
       "    </tr>\n",
       "    <tr>\n",
       "      <th>392364</th>\n",
       "      <td>The kegg_Gene_4312 -1,607 1G/2G (rs1799750), k...</td>\n",
       "      <td>[{0: {3: 0.1}, 1: {3: 0.9}, 2: {3: 0.1}, 3: {0...</td>\n",
       "      <td>4312</td>\n",
       "      <td>4313</td>\n",
       "      <td>1</td>\n",
       "      <td>9</td>\n",
       "      <td>NON_KEGG_Interaction</td>\n",
       "    </tr>\n",
       "    <tr>\n",
       "      <th>392365</th>\n",
       "      <td>Genotype distributions and allele frequencies ...</td>\n",
       "      <td>[{0: {1: 0.1}, 1: {0: 0.1, 2: 0.1, 4: 0.1, 6: ...</td>\n",
       "      <td>4312</td>\n",
       "      <td>4313</td>\n",
       "      <td>6</td>\n",
       "      <td>8</td>\n",
       "      <td>NON_KEGG_Interaction</td>\n",
       "    </tr>\n",
       "    <tr>\n",
       "      <th>392366</th>\n",
       "      <td>Comprehensive association analysis of the vita...</td>\n",
       "      <td>[{0: {2: 0.1}, 1: {2: 0.1}, 2: {0: 0.1, 1: 0.1...</td>\n",
       "      <td>1594</td>\n",
       "      <td>1591</td>\n",
       "      <td>12</td>\n",
       "      <td>15</td>\n",
       "      <td>NON_KEGG_Interaction</td>\n",
       "    </tr>\n",
       "    <tr>\n",
       "      <th>392367</th>\n",
       "      <td>We studied the association between polymorphis...</td>\n",
       "      <td>[{0: {1: 0.1}, 1: {0: 0.1, 3: 0.1, 40: 0.1, 46...</td>\n",
       "      <td>1594</td>\n",
       "      <td>1591</td>\n",
       "      <td>24</td>\n",
       "      <td>31</td>\n",
       "      <td>NON_KEGG_Interaction</td>\n",
       "    </tr>\n",
       "    <tr>\n",
       "      <th>392368</th>\n",
       "      <td>We selected and genotyped tag single-nucleotid...</td>\n",
       "      <td>[{0: {1: 0.1}, 1: {0: 0.1, 2: 0.1, 3: 0.1, 8: ...</td>\n",
       "      <td>1594</td>\n",
       "      <td>1591</td>\n",
       "      <td>19</td>\n",
       "      <td>27</td>\n",
       "      <td>NON_KEGG_Interaction</td>\n",
       "    </tr>\n",
       "  </tbody>\n",
       "</table>\n",
       "<p>392369 rows × 7 columns</p>\n",
       "</div>"
      ],
      "text/plain": [
       "                                                     Sent  \\\n",
       "0       The emergence of ASIA syndrome is associated w...   \n",
       "1       Focused Sanger sequencing from genomic DNA was...   \n",
       "2       Focused Sanger sequencing from genomic DNA was...   \n",
       "3       Focused Sanger sequencing from genomic DNA was...   \n",
       "4       Focused Sanger sequencing from genomic DNA was...   \n",
       "...                                                   ...   \n",
       "392364  The kegg_Gene_4312 -1,607 1G/2G (rs1799750), k...   \n",
       "392365  Genotype distributions and allele frequencies ...   \n",
       "392366  Comprehensive association analysis of the vita...   \n",
       "392367  We studied the association between polymorphis...   \n",
       "392368  We selected and genotyped tag single-nucleotid...   \n",
       "\n",
       "                                                    Graph  Gene1  Gene2  \\\n",
       "0       [{0: {1: 0.1}, 1: {0: 0.1, 4: 0.1, 6: 0.1}, 2:...   3126   3123   \n",
       "1       [{0: {2: 0.1}, 1: {2: 0.1}, 2: {0: 0.1, 1: 0.1...   3039   2034   \n",
       "2       [{0: {2: 0.1}, 1: {2: 0.1}, 2: {0: 0.1, 1: 0.1...   3039  54583   \n",
       "3       [{0: {2: 0.1}, 1: {2: 0.1}, 2: {0: 0.1, 1: 0.1...   3039   3040   \n",
       "4       [{0: {2: 0.1}, 1: {2: 0.1}, 2: {0: 0.1, 1: 0.1...   3039   2057   \n",
       "...                                                   ...    ...    ...   \n",
       "392364  [{0: {3: 0.1}, 1: {3: 0.9}, 2: {3: 0.1}, 3: {0...   4312   4313   \n",
       "392365  [{0: {1: 0.1}, 1: {0: 0.1, 2: 0.1, 4: 0.1, 6: ...   4312   4313   \n",
       "392366  [{0: {2: 0.1}, 1: {2: 0.1}, 2: {0: 0.1, 1: 0.1...   1594   1591   \n",
       "392367  [{0: {1: 0.1}, 1: {0: 0.1, 3: 0.1, 40: 0.1, 46...   1594   1591   \n",
       "392368  [{0: {1: 0.1}, 1: {0: 0.1, 2: 0.1, 3: 0.1, 8: ...   1594   1591   \n",
       "\n",
       "        Gene1_loc  Gene2_loc                 Label  \n",
       "0              20         16  NON_KEGG_Interaction  \n",
       "1              42         30  NON_KEGG_Interaction  \n",
       "2              42         22  NON_KEGG_Interaction  \n",
       "3              42         45  NON_KEGG_Interaction  \n",
       "4              42          9  NON_KEGG_Interaction  \n",
       "...           ...        ...                   ...  \n",
       "392364          1          9  NON_KEGG_Interaction  \n",
       "392365          6          8  NON_KEGG_Interaction  \n",
       "392366         12         15  NON_KEGG_Interaction  \n",
       "392367         24         31  NON_KEGG_Interaction  \n",
       "392368         19         27  NON_KEGG_Interaction  \n",
       "\n",
       "[392369 rows x 7 columns]"
      ]
     },
     "execution_count": 10,
     "metadata": {},
     "output_type": "execute_result"
    }
   ],
   "source": [
    "ML_data"
   ]
  },
  {
   "cell_type": "markdown",
   "metadata": {},
   "source": [
    "### split train & test dataset for Corss validation"
   ]
  },
  {
   "cell_type": "code",
   "execution_count": null,
   "metadata": {
    "ExecuteTime": {
     "end_time": "2021-06-06T18:43:32.401041Z",
     "start_time": "2021-06-06T18:43:32.379432Z"
    }
   },
   "outputs": [],
   "source": [
    "# 1.10500pos vs 381869neg\n",
    "# ML_data = pd.DataFrame({\"Graph\":G,\"Label\":y})\n",
    "pos_sample = ML_data[ML_data.Label=='KEGG_Interaction'][:]\n",
    "neg_sample = ML_data[ML_data.Label=='NON_KEGG_Interaction'][:]\n",
    "\n",
    "# 2.random sampling \n",
    "p_sam = 1050\n",
    "n_sam = 3150\n",
    "for s in range(1,11):\n",
    "    # random sampling \n",
    "    globals()[f'randomP{s}'] = pos_sample.sample(n=p_sam) #*1050\n",
    "    globals()[f'randomN{s}'] = neg_sample.sample(n=n_sam) #*3150\n",
    "    \n",
    "    # draw and not put back\n",
    "    pos_sample = pos_sample.drop(globals()[f'randomP{s}'].index)\n",
    "    neg_sample = neg_sample.drop(globals()[f'randomN{s}'].index)\n",
    "    \n",
    "    # 3.31500(neg)+10500(pos)=42000(final sample) ex:neg1, neg2...\n",
    "    globals()[f'sub{s}'] = pd.concat([globals()[f'randomP{s}'],globals()[f'randomN{s}']], axis = 0).reset_index(drop=True)\n",
    "\n",
    "    \n",
    "print('positive sample(Gene-Gene Interaction):',p_sam)\n",
    "print('negative sample(Non Gene-Gene Interaction):',n_sam)"
   ]
  },
  {
   "cell_type": "code",
   "execution_count": 48,
   "metadata": {
    "ExecuteTime": {
     "end_time": "2021-06-05T10:36:37.847610Z",
     "start_time": "2021-06-05T10:36:37.803761Z"
    }
   },
   "outputs": [],
   "source": [
    "del pos_sample\n",
    "del neg_sample"
   ]
  },
  {
   "cell_type": "markdown",
   "metadata": {},
   "source": [
    "#### save"
   ]
  },
  {
   "cell_type": "code",
   "execution_count": 76,
   "metadata": {
    "ExecuteTime": {
     "end_time": "2021-06-06T02:49:36.195834Z",
     "start_time": "2021-06-06T02:48:54.777302Z"
    }
   },
   "outputs": [
    {
     "name": "stdout",
     "output_type": "stream",
     "text": [
      "/home/tku_stat_dell/Desktop/DS_corpus/split_data\n"
     ]
    }
   ],
   "source": [
    "# save train set\n",
    "%cd /home/tku_stat_dell/Desktop/DS_corpus/split_data\n",
    "for s in range(1,11):\n",
    "    globals()[f'sub{s}'].to_pickle(f'sub{s}.pkl')"
   ]
  },
  {
   "cell_type": "markdown",
   "metadata": {},
   "source": [
    "#### load"
   ]
  },
  {
   "cell_type": "code",
   "execution_count": 16,
   "metadata": {
    "ExecuteTime": {
     "end_time": "2021-06-17T13:07:03.339281Z",
     "start_time": "2021-06-17T13:06:49.005165Z"
    }
   },
   "outputs": [
    {
     "name": "stdout",
     "output_type": "stream",
     "text": [
      "/home/tku_stat_dell/Desktop/DS_corpus/split_data\n"
     ]
    }
   ],
   "source": [
    "# load train set\n",
    "%cd /home/tku_stat_dell/Desktop/DS_corpus/split_data\n",
    "for s in range(1,11):\n",
    "    globals()[f'sub{s}'] = pd.read_pickle(f'sub{s}_3.pkl')"
   ]
  },
  {
   "cell_type": "code",
   "execution_count": 17,
   "metadata": {
    "ExecuteTime": {
     "end_time": "2021-06-17T13:07:32.183589Z",
     "start_time": "2021-06-17T13:07:14.652958Z"
    }
   },
   "outputs": [
    {
     "name": "stderr",
     "output_type": "stream",
     "text": [
      "100%|██████████| 4200/4200 [00:01<00:00, 2330.17it/s]\n",
      "100%|██████████| 4200/4200 [00:01<00:00, 2402.62it/s]\n",
      "100%|██████████| 4200/4200 [00:01<00:00, 2343.37it/s]\n",
      "100%|██████████| 4200/4200 [00:01<00:00, 2373.39it/s]\n",
      "100%|██████████| 4200/4200 [00:01<00:00, 2371.65it/s]\n",
      "100%|██████████| 4200/4200 [00:01<00:00, 2409.10it/s]\n",
      "100%|██████████| 4200/4200 [00:01<00:00, 2401.13it/s]\n",
      "100%|██████████| 4200/4200 [00:01<00:00, 2467.79it/s]\n",
      "100%|██████████| 4200/4200 [00:01<00:00, 2471.57it/s]\n",
      "100%|██████████| 4200/4200 [00:01<00:00, 2447.67it/s]\n"
     ]
    }
   ],
   "source": [
    "# translate features\n",
    "for s in range(1,11):\n",
    "    G = globals()[f'sub{s}'].Graph[:]\n",
    "    for k in tqdm(range(len(G))):\n",
    "        #weight : 0.3-->0.1\n",
    "        G[k][0] = eval(str(G[k][0]).replace('0.3','0.1'))\n",
    "    globals()[f'sub{s}'].Graph = G"
   ]
  },
  {
   "cell_type": "code",
   "execution_count": 18,
   "metadata": {
    "ExecuteTime": {
     "end_time": "2021-06-17T13:08:16.912973Z",
     "start_time": "2021-06-17T13:07:38.423943Z"
    }
   },
   "outputs": [
    {
     "name": "stdout",
     "output_type": "stream",
     "text": [
      "/home/tku_stat_dell/Desktop/DS_corpus/split_data\n"
     ]
    }
   ],
   "source": [
    "# save train set\n",
    "%cd /home/tku_stat_dell/Desktop/DS_corpus/split_data\n",
    "for s in range(1,11):\n",
    "    globals()[f'sub{s}'].to_pickle(f'sub{s}.pkl')"
   ]
  },
  {
   "cell_type": "markdown",
   "metadata": {},
   "source": [
    "#### reload"
   ]
  },
  {
   "cell_type": "code",
   "execution_count": 5,
   "metadata": {
    "ExecuteTime": {
     "end_time": "2021-06-27T03:17:56.394523Z",
     "start_time": "2021-06-27T03:17:43.362506Z"
    }
   },
   "outputs": [
    {
     "name": "stdout",
     "output_type": "stream",
     "text": [
      "/home/tku_stat_dell/Desktop/DS_corpus/split_data\n"
     ]
    }
   ],
   "source": [
    "# load train set\n",
    "%cd /home/tku_stat_dell/Desktop/DS_corpus/split_data\n",
    "for s in range(1,11):\n",
    "    globals()[f'sub{s}'] = pd.read_pickle(f'sub{s}.pkl')"
   ]
  },
  {
   "cell_type": "markdown",
   "metadata": {
    "heading_collapsed": true
   },
   "source": [
    "## select kernel"
   ]
  },
  {
   "cell_type": "code",
   "execution_count": 7,
   "metadata": {
    "ExecuteTime": {
     "end_time": "2021-06-06T07:10:37.824871Z",
     "start_time": "2021-06-06T07:10:37.820648Z"
    },
    "hidden": true
   },
   "outputs": [],
   "source": [
    "import grakel.kernels as gp"
   ]
  },
  {
   "cell_type": "code",
   "execution_count": 8,
   "metadata": {
    "ExecuteTime": {
     "end_time": "2021-06-06T07:10:43.210152Z",
     "start_time": "2021-06-06T07:10:43.158244Z"
    },
    "hidden": true
   },
   "outputs": [],
   "source": [
    "s = 8\n",
    "### 1.Assign training & validation set\n",
    "# (1).fix one set for validation\n",
    "x_test = globals()[f'sub{s}'].Graph\n",
    "y_test = globals()[f'sub{s}'].Label\n",
    "\n",
    "\n",
    "# (2).nine set for training\n",
    "train = pd.concat([eval(f'sub{n}') for n in range(1,11) if n != s],axis=0).reset_index(drop=True)\n",
    "x_train = train.Graph\n",
    "y_train = train.Label\n"
   ]
  },
  {
   "cell_type": "code",
   "execution_count": 9,
   "metadata": {
    "ExecuteTime": {
     "end_time": "2021-06-06T07:10:49.162478Z",
     "start_time": "2021-06-06T07:10:49.157583Z"
    },
    "hidden": true
   },
   "outputs": [],
   "source": [
    "kernel_list = ['RandomWalk','PyramidMatch','NeighborhoodHash','ShortestPath',\n",
    "               'GraphletSampling','WeisfeilerLehman','NeighborhoodSubgraphPairwiseDistance',\n",
    "               'OddSth','WeisfeilerLehmanOptimalAssignment']"
   ]
  },
  {
   "cell_type": "code",
   "execution_count": 10,
   "metadata": {
    "ExecuteTime": {
     "end_time": "2021-06-06T18:43:01.654551Z",
     "start_time": "2021-06-06T07:10:56.903585Z"
    },
    "code_folding": [],
    "hidden": true
   },
   "outputs": [
    {
     "name": "stdout",
     "output_type": "stream",
     "text": [
      "start\n"
     ]
    },
    {
     "ename": "KeyboardInterrupt",
     "evalue": "",
     "output_type": "error",
     "traceback": [
      "\u001b[0;31m---------------------------------------------------------------------------\u001b[0m",
      "\u001b[0;31mKeyboardInterrupt\u001b[0m                         Traceback (most recent call last)",
      "\u001b[0;32m<ipython-input-10-b93751f14124>\u001b[0m in \u001b[0;36m<module>\u001b[0;34m\u001b[0m\n\u001b[1;32m      8\u001b[0m     \u001b[0;31m# (1).Use the \"{} kernel\" to generate kernel matrices\u001b[0m\u001b[0;34m\u001b[0m\u001b[0;34m\u001b[0m\u001b[0;34m\u001b[0m\u001b[0m\n\u001b[1;32m      9\u001b[0m     \u001b[0mgk1\u001b[0m \u001b[0;34m=\u001b[0m \u001b[0mkernel_fun\u001b[0m\u001b[0;34m(\u001b[0m\u001b[0mnormalize\u001b[0m\u001b[0;34m=\u001b[0m\u001b[0;32mTrue\u001b[0m\u001b[0;34m)\u001b[0m\u001b[0;34m\u001b[0m\u001b[0;34m\u001b[0m\u001b[0m\n\u001b[0;32m---> 10\u001b[0;31m     \u001b[0mK1_train\u001b[0m \u001b[0;34m=\u001b[0m \u001b[0mgk1\u001b[0m\u001b[0;34m.\u001b[0m\u001b[0mfit_transform\u001b[0m\u001b[0;34m(\u001b[0m\u001b[0mx_train\u001b[0m\u001b[0;34m)\u001b[0m\u001b[0;34m\u001b[0m\u001b[0;34m\u001b[0m\u001b[0m\n\u001b[0m\u001b[1;32m     11\u001b[0m     \u001b[0mK1_test\u001b[0m \u001b[0;34m=\u001b[0m \u001b[0mgk1\u001b[0m\u001b[0;34m.\u001b[0m\u001b[0mtransform\u001b[0m\u001b[0;34m(\u001b[0m\u001b[0mx_test\u001b[0m\u001b[0;34m)\u001b[0m\u001b[0;34m\u001b[0m\u001b[0;34m\u001b[0m\u001b[0m\n\u001b[1;32m     12\u001b[0m \u001b[0;34m\u001b[0m\u001b[0m\n",
      "\u001b[0;32m~/anaconda3/envs/tsai/lib/python3.7/site-packages/grakel/kernels/kernel.py\u001b[0m in \u001b[0;36mfit_transform\u001b[0;34m(self, X)\u001b[0m\n\u001b[1;32m    195\u001b[0m \u001b[0;34m\u001b[0m\u001b[0m\n\u001b[1;32m    196\u001b[0m         \u001b[0;31m# Transform - calculate kernel matrix\u001b[0m\u001b[0;34m\u001b[0m\u001b[0;34m\u001b[0m\u001b[0;34m\u001b[0m\u001b[0m\n\u001b[0;32m--> 197\u001b[0;31m         \u001b[0mkm\u001b[0m \u001b[0;34m=\u001b[0m \u001b[0mself\u001b[0m\u001b[0;34m.\u001b[0m\u001b[0m_calculate_kernel_matrix\u001b[0m\u001b[0;34m(\u001b[0m\u001b[0;34m)\u001b[0m\u001b[0;34m\u001b[0m\u001b[0;34m\u001b[0m\u001b[0m\n\u001b[0m\u001b[1;32m    198\u001b[0m \u001b[0;34m\u001b[0m\u001b[0m\n\u001b[1;32m    199\u001b[0m         \u001b[0mself\u001b[0m\u001b[0;34m.\u001b[0m\u001b[0m_X_diag\u001b[0m \u001b[0;34m=\u001b[0m \u001b[0mnp\u001b[0m\u001b[0;34m.\u001b[0m\u001b[0mdiagonal\u001b[0m\u001b[0;34m(\u001b[0m\u001b[0mkm\u001b[0m\u001b[0;34m)\u001b[0m\u001b[0;34m\u001b[0m\u001b[0;34m\u001b[0m\u001b[0m\n",
      "\u001b[0;32m~/anaconda3/envs/tsai/lib/python3.7/site-packages/grakel/kernels/kernel.py\u001b[0m in \u001b[0;36m_calculate_kernel_matrix\u001b[0;34m(self, Y)\u001b[0m\n\u001b[1;32m    231\u001b[0m                     \u001b[0mK\u001b[0m\u001b[0;34m[\u001b[0m\u001b[0mi\u001b[0m\u001b[0;34m,\u001b[0m \u001b[0mi\u001b[0m\u001b[0;34m]\u001b[0m \u001b[0;34m=\u001b[0m \u001b[0mself\u001b[0m\u001b[0;34m.\u001b[0m\u001b[0mpairwise_operation\u001b[0m\u001b[0;34m(\u001b[0m\u001b[0mx\u001b[0m\u001b[0;34m,\u001b[0m \u001b[0mx\u001b[0m\u001b[0;34m)\u001b[0m\u001b[0;34m\u001b[0m\u001b[0;34m\u001b[0m\u001b[0m\n\u001b[1;32m    232\u001b[0m                     \u001b[0;32mfor\u001b[0m \u001b[0;34m(\u001b[0m\u001b[0mj\u001b[0m\u001b[0;34m,\u001b[0m \u001b[0my\u001b[0m\u001b[0;34m)\u001b[0m \u001b[0;32min\u001b[0m \u001b[0menumerate\u001b[0m\u001b[0;34m(\u001b[0m\u001b[0mcache\u001b[0m\u001b[0;34m)\u001b[0m\u001b[0;34m:\u001b[0m\u001b[0;34m\u001b[0m\u001b[0;34m\u001b[0m\u001b[0m\n\u001b[0;32m--> 233\u001b[0;31m                         \u001b[0mK\u001b[0m\u001b[0;34m[\u001b[0m\u001b[0mj\u001b[0m\u001b[0;34m,\u001b[0m \u001b[0mi\u001b[0m\u001b[0;34m]\u001b[0m \u001b[0;34m=\u001b[0m \u001b[0mself\u001b[0m\u001b[0;34m.\u001b[0m\u001b[0mpairwise_operation\u001b[0m\u001b[0;34m(\u001b[0m\u001b[0my\u001b[0m\u001b[0;34m,\u001b[0m \u001b[0mx\u001b[0m\u001b[0;34m)\u001b[0m\u001b[0;34m\u001b[0m\u001b[0;34m\u001b[0m\u001b[0m\n\u001b[0m\u001b[1;32m    234\u001b[0m                     \u001b[0mcache\u001b[0m\u001b[0;34m.\u001b[0m\u001b[0mappend\u001b[0m\u001b[0;34m(\u001b[0m\u001b[0mx\u001b[0m\u001b[0;34m)\u001b[0m\u001b[0;34m\u001b[0m\u001b[0;34m\u001b[0m\u001b[0m\n\u001b[1;32m    235\u001b[0m             \u001b[0;32melse\u001b[0m\u001b[0;34m:\u001b[0m\u001b[0;34m\u001b[0m\u001b[0;34m\u001b[0m\u001b[0m\n",
      "\u001b[0;32m~/anaconda3/envs/tsai/lib/python3.7/site-packages/grakel/kernels/random_walk.py\u001b[0m in \u001b[0;36mpairwise_operation\u001b[0;34m(self, X, Y)\u001b[0m\n\u001b[1;32m    269\u001b[0m             \u001b[0mA\u001b[0m \u001b[0;34m=\u001b[0m \u001b[0mLinearOperator\u001b[0m\u001b[0;34m(\u001b[0m\u001b[0;34m(\u001b[0m\u001b[0mmn\u001b[0m\u001b[0;34m,\u001b[0m \u001b[0mmn\u001b[0m\u001b[0;34m)\u001b[0m\u001b[0;34m,\u001b[0m \u001b[0mmatvec\u001b[0m\u001b[0;34m=\u001b[0m\u001b[0;32mlambda\u001b[0m \u001b[0mx\u001b[0m\u001b[0;34m:\u001b[0m \u001b[0mlsf\u001b[0m\u001b[0;34m(\u001b[0m\u001b[0mx\u001b[0m\u001b[0;34m,\u001b[0m \u001b[0mself\u001b[0m\u001b[0;34m.\u001b[0m\u001b[0mlamda\u001b[0m\u001b[0;34m)\u001b[0m\u001b[0;34m)\u001b[0m\u001b[0;34m\u001b[0m\u001b[0;34m\u001b[0m\u001b[0m\n\u001b[1;32m    270\u001b[0m             \u001b[0mb\u001b[0m \u001b[0;34m=\u001b[0m \u001b[0mnp\u001b[0m\u001b[0;34m.\u001b[0m\u001b[0mones\u001b[0m\u001b[0;34m(\u001b[0m\u001b[0mmn\u001b[0m\u001b[0;34m)\u001b[0m\u001b[0;34m\u001b[0m\u001b[0;34m\u001b[0m\u001b[0m\n\u001b[0;32m--> 271\u001b[0;31m             \u001b[0mx_sol\u001b[0m\u001b[0;34m,\u001b[0m \u001b[0m_\u001b[0m \u001b[0;34m=\u001b[0m \u001b[0mcg\u001b[0m\u001b[0;34m(\u001b[0m\u001b[0mA\u001b[0m\u001b[0;34m,\u001b[0m \u001b[0mb\u001b[0m\u001b[0;34m,\u001b[0m \u001b[0mtol\u001b[0m\u001b[0;34m=\u001b[0m\u001b[0;36m1.0e-6\u001b[0m\u001b[0;34m,\u001b[0m \u001b[0mmaxiter\u001b[0m\u001b[0;34m=\u001b[0m\u001b[0;36m20\u001b[0m\u001b[0;34m,\u001b[0m \u001b[0matol\u001b[0m\u001b[0;34m=\u001b[0m\u001b[0;34m'legacy'\u001b[0m\u001b[0;34m)\u001b[0m\u001b[0;34m\u001b[0m\u001b[0;34m\u001b[0m\u001b[0m\n\u001b[0m\u001b[1;32m    272\u001b[0m             \u001b[0;32mreturn\u001b[0m \u001b[0mnp\u001b[0m\u001b[0;34m.\u001b[0m\u001b[0msum\u001b[0m\u001b[0;34m(\u001b[0m\u001b[0mx_sol\u001b[0m\u001b[0;34m)\u001b[0m\u001b[0;34m\u001b[0m\u001b[0;34m\u001b[0m\u001b[0m\n\u001b[1;32m    273\u001b[0m \u001b[0;34m\u001b[0m\u001b[0m\n",
      "\u001b[0;32m~/anaconda3/envs/tsai/lib/python3.7/site-packages/scipy/sparse/linalg/isolve/iterative.py\u001b[0m in \u001b[0;36mcg\u001b[0;34m(A, b, x0, tol, maxiter, M, callback, atol)\u001b[0m\n",
      "\u001b[0;32m~/anaconda3/envs/tsai/lib/python3.7/site-packages/scipy/_lib/_threadsafety.py\u001b[0m in \u001b[0;36mcaller\u001b[0;34m(func, *a, **kw)\u001b[0m\n\u001b[1;32m     42\u001b[0m         \u001b[0;32mdef\u001b[0m \u001b[0mcaller\u001b[0m\u001b[0;34m(\u001b[0m\u001b[0mfunc\u001b[0m\u001b[0;34m,\u001b[0m \u001b[0;34m*\u001b[0m\u001b[0ma\u001b[0m\u001b[0;34m,\u001b[0m \u001b[0;34m**\u001b[0m\u001b[0mkw\u001b[0m\u001b[0;34m)\u001b[0m\u001b[0;34m:\u001b[0m\u001b[0;34m\u001b[0m\u001b[0;34m\u001b[0m\u001b[0m\n\u001b[1;32m     43\u001b[0m             \u001b[0;32mwith\u001b[0m \u001b[0mself\u001b[0m\u001b[0;34m:\u001b[0m\u001b[0;34m\u001b[0m\u001b[0;34m\u001b[0m\u001b[0m\n\u001b[0;32m---> 44\u001b[0;31m                 \u001b[0;32mreturn\u001b[0m \u001b[0mfunc\u001b[0m\u001b[0;34m(\u001b[0m\u001b[0;34m*\u001b[0m\u001b[0ma\u001b[0m\u001b[0;34m,\u001b[0m \u001b[0;34m**\u001b[0m\u001b[0mkw\u001b[0m\u001b[0;34m)\u001b[0m\u001b[0;34m\u001b[0m\u001b[0;34m\u001b[0m\u001b[0m\n\u001b[0m\u001b[1;32m     45\u001b[0m         \u001b[0;32mreturn\u001b[0m \u001b[0mscipy\u001b[0m\u001b[0;34m.\u001b[0m\u001b[0m_lib\u001b[0m\u001b[0;34m.\u001b[0m\u001b[0mdecorator\u001b[0m\u001b[0;34m.\u001b[0m\u001b[0mdecorate\u001b[0m\u001b[0;34m(\u001b[0m\u001b[0mfunc\u001b[0m\u001b[0;34m,\u001b[0m \u001b[0mcaller\u001b[0m\u001b[0;34m)\u001b[0m\u001b[0;34m\u001b[0m\u001b[0;34m\u001b[0m\u001b[0m\n\u001b[1;32m     46\u001b[0m \u001b[0;34m\u001b[0m\u001b[0m\n",
      "\u001b[0;32m~/anaconda3/envs/tsai/lib/python3.7/site-packages/scipy/sparse/linalg/isolve/iterative.py\u001b[0m in \u001b[0;36mcg\u001b[0;34m(A, b, x0, tol, maxiter, M, callback, atol)\u001b[0m\n\u001b[1;32m    327\u001b[0m         \u001b[0;32melif\u001b[0m \u001b[0;34m(\u001b[0m\u001b[0mijob\u001b[0m \u001b[0;34m==\u001b[0m \u001b[0;36m1\u001b[0m\u001b[0;34m)\u001b[0m\u001b[0;34m:\u001b[0m\u001b[0;34m\u001b[0m\u001b[0;34m\u001b[0m\u001b[0m\n\u001b[1;32m    328\u001b[0m             \u001b[0mwork\u001b[0m\u001b[0;34m[\u001b[0m\u001b[0mslice2\u001b[0m\u001b[0;34m]\u001b[0m \u001b[0;34m*=\u001b[0m \u001b[0msclr2\u001b[0m\u001b[0;34m\u001b[0m\u001b[0;34m\u001b[0m\u001b[0m\n\u001b[0;32m--> 329\u001b[0;31m             \u001b[0mwork\u001b[0m\u001b[0;34m[\u001b[0m\u001b[0mslice2\u001b[0m\u001b[0;34m]\u001b[0m \u001b[0;34m+=\u001b[0m \u001b[0msclr1\u001b[0m\u001b[0;34m*\u001b[0m\u001b[0mmatvec\u001b[0m\u001b[0;34m(\u001b[0m\u001b[0mwork\u001b[0m\u001b[0;34m[\u001b[0m\u001b[0mslice1\u001b[0m\u001b[0;34m]\u001b[0m\u001b[0;34m)\u001b[0m\u001b[0;34m\u001b[0m\u001b[0;34m\u001b[0m\u001b[0m\n\u001b[0m\u001b[1;32m    330\u001b[0m         \u001b[0;32melif\u001b[0m \u001b[0;34m(\u001b[0m\u001b[0mijob\u001b[0m \u001b[0;34m==\u001b[0m \u001b[0;36m2\u001b[0m\u001b[0;34m)\u001b[0m\u001b[0;34m:\u001b[0m\u001b[0;34m\u001b[0m\u001b[0;34m\u001b[0m\u001b[0m\n\u001b[1;32m    331\u001b[0m             \u001b[0mwork\u001b[0m\u001b[0;34m[\u001b[0m\u001b[0mslice1\u001b[0m\u001b[0;34m]\u001b[0m \u001b[0;34m=\u001b[0m \u001b[0mpsolve\u001b[0m\u001b[0;34m(\u001b[0m\u001b[0mwork\u001b[0m\u001b[0;34m[\u001b[0m\u001b[0mslice2\u001b[0m\u001b[0;34m]\u001b[0m\u001b[0;34m)\u001b[0m\u001b[0;34m\u001b[0m\u001b[0;34m\u001b[0m\u001b[0m\n",
      "\u001b[0;32m~/anaconda3/envs/tsai/lib/python3.7/site-packages/scipy/sparse/linalg/interface.py\u001b[0m in \u001b[0;36mmatvec\u001b[0;34m(self, x)\u001b[0m\n\u001b[1;32m    230\u001b[0m             \u001b[0;32mraise\u001b[0m \u001b[0mValueError\u001b[0m\u001b[0;34m(\u001b[0m\u001b[0;34m'dimension mismatch'\u001b[0m\u001b[0;34m)\u001b[0m\u001b[0;34m\u001b[0m\u001b[0;34m\u001b[0m\u001b[0m\n\u001b[1;32m    231\u001b[0m \u001b[0;34m\u001b[0m\u001b[0m\n\u001b[0;32m--> 232\u001b[0;31m         \u001b[0my\u001b[0m \u001b[0;34m=\u001b[0m \u001b[0mself\u001b[0m\u001b[0;34m.\u001b[0m\u001b[0m_matvec\u001b[0m\u001b[0;34m(\u001b[0m\u001b[0mx\u001b[0m\u001b[0;34m)\u001b[0m\u001b[0;34m\u001b[0m\u001b[0;34m\u001b[0m\u001b[0m\n\u001b[0m\u001b[1;32m    233\u001b[0m \u001b[0;34m\u001b[0m\u001b[0m\n\u001b[1;32m    234\u001b[0m         \u001b[0;32mif\u001b[0m \u001b[0misinstance\u001b[0m\u001b[0;34m(\u001b[0m\u001b[0mx\u001b[0m\u001b[0;34m,\u001b[0m \u001b[0mnp\u001b[0m\u001b[0;34m.\u001b[0m\u001b[0mmatrix\u001b[0m\u001b[0;34m)\u001b[0m\u001b[0;34m:\u001b[0m\u001b[0;34m\u001b[0m\u001b[0;34m\u001b[0m\u001b[0m\n",
      "\u001b[0;32m~/anaconda3/envs/tsai/lib/python3.7/site-packages/scipy/sparse/linalg/interface.py\u001b[0m in \u001b[0;36m_matvec\u001b[0;34m(self, x)\u001b[0m\n\u001b[1;32m    528\u001b[0m \u001b[0;34m\u001b[0m\u001b[0m\n\u001b[1;32m    529\u001b[0m     \u001b[0;32mdef\u001b[0m \u001b[0m_matvec\u001b[0m\u001b[0;34m(\u001b[0m\u001b[0mself\u001b[0m\u001b[0;34m,\u001b[0m \u001b[0mx\u001b[0m\u001b[0;34m)\u001b[0m\u001b[0;34m:\u001b[0m\u001b[0;34m\u001b[0m\u001b[0;34m\u001b[0m\u001b[0m\n\u001b[0;32m--> 530\u001b[0;31m         \u001b[0;32mreturn\u001b[0m \u001b[0mself\u001b[0m\u001b[0;34m.\u001b[0m\u001b[0m__matvec_impl\u001b[0m\u001b[0;34m(\u001b[0m\u001b[0mx\u001b[0m\u001b[0;34m)\u001b[0m\u001b[0;34m\u001b[0m\u001b[0;34m\u001b[0m\u001b[0m\n\u001b[0m\u001b[1;32m    531\u001b[0m \u001b[0;34m\u001b[0m\u001b[0m\n\u001b[1;32m    532\u001b[0m     \u001b[0;32mdef\u001b[0m \u001b[0m_rmatvec\u001b[0m\u001b[0;34m(\u001b[0m\u001b[0mself\u001b[0m\u001b[0;34m,\u001b[0m \u001b[0mx\u001b[0m\u001b[0;34m)\u001b[0m\u001b[0;34m:\u001b[0m\u001b[0;34m\u001b[0m\u001b[0;34m\u001b[0m\u001b[0m\n",
      "\u001b[0;32m~/anaconda3/envs/tsai/lib/python3.7/site-packages/grakel/kernels/random_walk.py\u001b[0m in \u001b[0;36m<lambda>\u001b[0;34m(x)\u001b[0m\n\u001b[1;32m    267\u001b[0m \u001b[0;34m\u001b[0m\u001b[0m\n\u001b[1;32m    268\u001b[0m             \u001b[0;31m# A*x=b\u001b[0m\u001b[0;34m\u001b[0m\u001b[0;34m\u001b[0m\u001b[0;34m\u001b[0m\u001b[0m\n\u001b[0;32m--> 269\u001b[0;31m             \u001b[0mA\u001b[0m \u001b[0;34m=\u001b[0m \u001b[0mLinearOperator\u001b[0m\u001b[0;34m(\u001b[0m\u001b[0;34m(\u001b[0m\u001b[0mmn\u001b[0m\u001b[0;34m,\u001b[0m \u001b[0mmn\u001b[0m\u001b[0;34m)\u001b[0m\u001b[0;34m,\u001b[0m \u001b[0mmatvec\u001b[0m\u001b[0;34m=\u001b[0m\u001b[0;32mlambda\u001b[0m \u001b[0mx\u001b[0m\u001b[0;34m:\u001b[0m \u001b[0mlsf\u001b[0m\u001b[0;34m(\u001b[0m\u001b[0mx\u001b[0m\u001b[0;34m,\u001b[0m \u001b[0mself\u001b[0m\u001b[0;34m.\u001b[0m\u001b[0mlamda\u001b[0m\u001b[0;34m)\u001b[0m\u001b[0;34m)\u001b[0m\u001b[0;34m\u001b[0m\u001b[0;34m\u001b[0m\u001b[0m\n\u001b[0m\u001b[1;32m    270\u001b[0m             \u001b[0mb\u001b[0m \u001b[0;34m=\u001b[0m \u001b[0mnp\u001b[0m\u001b[0;34m.\u001b[0m\u001b[0mones\u001b[0m\u001b[0;34m(\u001b[0m\u001b[0mmn\u001b[0m\u001b[0;34m)\u001b[0m\u001b[0;34m\u001b[0m\u001b[0;34m\u001b[0m\u001b[0m\n\u001b[1;32m    271\u001b[0m             \u001b[0mx_sol\u001b[0m\u001b[0;34m,\u001b[0m \u001b[0m_\u001b[0m \u001b[0;34m=\u001b[0m \u001b[0mcg\u001b[0m\u001b[0;34m(\u001b[0m\u001b[0mA\u001b[0m\u001b[0;34m,\u001b[0m \u001b[0mb\u001b[0m\u001b[0;34m,\u001b[0m \u001b[0mtol\u001b[0m\u001b[0;34m=\u001b[0m\u001b[0;36m1.0e-6\u001b[0m\u001b[0;34m,\u001b[0m \u001b[0mmaxiter\u001b[0m\u001b[0;34m=\u001b[0m\u001b[0;36m20\u001b[0m\u001b[0;34m,\u001b[0m \u001b[0matol\u001b[0m\u001b[0;34m=\u001b[0m\u001b[0;34m'legacy'\u001b[0m\u001b[0;34m)\u001b[0m\u001b[0;34m\u001b[0m\u001b[0;34m\u001b[0m\u001b[0m\n",
      "\u001b[0;32m~/anaconda3/envs/tsai/lib/python3.7/site-packages/grakel/kernels/random_walk.py\u001b[0m in \u001b[0;36mlsf\u001b[0;34m(x, lamda)\u001b[0m\n\u001b[1;32m    263\u001b[0m             \u001b[0;32mdef\u001b[0m \u001b[0mlsf\u001b[0m\u001b[0;34m(\u001b[0m\u001b[0mx\u001b[0m\u001b[0;34m,\u001b[0m \u001b[0mlamda\u001b[0m\u001b[0;34m)\u001b[0m\u001b[0;34m:\u001b[0m\u001b[0;34m\u001b[0m\u001b[0;34m\u001b[0m\u001b[0m\n\u001b[1;32m    264\u001b[0m                 \u001b[0mxm\u001b[0m \u001b[0;34m=\u001b[0m \u001b[0mx\u001b[0m\u001b[0;34m.\u001b[0m\u001b[0mreshape\u001b[0m\u001b[0;34m(\u001b[0m\u001b[0;34m(\u001b[0m\u001b[0mxs\u001b[0m\u001b[0;34m,\u001b[0m \u001b[0mys\u001b[0m\u001b[0;34m)\u001b[0m\u001b[0;34m,\u001b[0m \u001b[0morder\u001b[0m\u001b[0;34m=\u001b[0m\u001b[0;34m'F'\u001b[0m\u001b[0;34m)\u001b[0m\u001b[0;34m\u001b[0m\u001b[0;34m\u001b[0m\u001b[0m\n\u001b[0;32m--> 265\u001b[0;31m                 \u001b[0my\u001b[0m \u001b[0;34m=\u001b[0m \u001b[0mnp\u001b[0m\u001b[0;34m.\u001b[0m\u001b[0mreshape\u001b[0m\u001b[0;34m(\u001b[0m\u001b[0mmulti_dot\u001b[0m\u001b[0;34m(\u001b[0m\u001b[0;34m(\u001b[0m\u001b[0mAx\u001b[0m\u001b[0;34m,\u001b[0m \u001b[0mxm\u001b[0m\u001b[0;34m,\u001b[0m \u001b[0mAy\u001b[0m\u001b[0;34m)\u001b[0m\u001b[0;34m)\u001b[0m\u001b[0;34m,\u001b[0m \u001b[0;34m(\u001b[0m\u001b[0mmn\u001b[0m\u001b[0;34m,\u001b[0m\u001b[0;34m)\u001b[0m\u001b[0;34m,\u001b[0m \u001b[0morder\u001b[0m\u001b[0;34m=\u001b[0m\u001b[0;34m'F'\u001b[0m\u001b[0;34m)\u001b[0m\u001b[0;34m\u001b[0m\u001b[0;34m\u001b[0m\u001b[0m\n\u001b[0m\u001b[1;32m    266\u001b[0m                 \u001b[0;32mreturn\u001b[0m \u001b[0mx\u001b[0m \u001b[0;34m-\u001b[0m \u001b[0mself\u001b[0m\u001b[0;34m.\u001b[0m\u001b[0mlamda\u001b[0m \u001b[0;34m*\u001b[0m \u001b[0my\u001b[0m\u001b[0;34m\u001b[0m\u001b[0;34m\u001b[0m\u001b[0m\n\u001b[1;32m    267\u001b[0m \u001b[0;34m\u001b[0m\u001b[0m\n",
      "\u001b[0;32m<__array_function__ internals>\u001b[0m in \u001b[0;36mmulti_dot\u001b[0;34m(*args, **kwargs)\u001b[0m\n",
      "\u001b[0;32m~/anaconda3/envs/tsai/lib/python3.7/site-packages/numpy/linalg/linalg.py\u001b[0m in \u001b[0;36mmulti_dot\u001b[0;34m(arrays, out)\u001b[0m\n\u001b[1;32m   2618\u001b[0m \u001b[0;34m\u001b[0m\u001b[0m\n\u001b[1;32m   2619\u001b[0m \u001b[0;34m\u001b[0m\u001b[0m\n\u001b[0;32m-> 2620\u001b[0;31m \u001b[0;34m@\u001b[0m\u001b[0marray_function_dispatch\u001b[0m\u001b[0;34m(\u001b[0m\u001b[0m_multidot_dispatcher\u001b[0m\u001b[0;34m)\u001b[0m\u001b[0;34m\u001b[0m\u001b[0;34m\u001b[0m\u001b[0m\n\u001b[0m\u001b[1;32m   2621\u001b[0m \u001b[0;32mdef\u001b[0m \u001b[0mmulti_dot\u001b[0m\u001b[0;34m(\u001b[0m\u001b[0marrays\u001b[0m\u001b[0;34m,\u001b[0m \u001b[0;34m*\u001b[0m\u001b[0;34m,\u001b[0m \u001b[0mout\u001b[0m\u001b[0;34m=\u001b[0m\u001b[0;32mNone\u001b[0m\u001b[0;34m)\u001b[0m\u001b[0;34m:\u001b[0m\u001b[0;34m\u001b[0m\u001b[0;34m\u001b[0m\u001b[0m\n\u001b[1;32m   2622\u001b[0m     \"\"\"\n",
      "\u001b[0;31mKeyboardInterrupt\u001b[0m: "
     ]
    }
   ],
   "source": [
    "## loop kernel Acc\n",
    "print('start')\n",
    "ker_acc = {}\n",
    "for k in range(len(kernel_list)):\n",
    "    kernel_fun = eval(f'gp.{kernel_list[k]}')\n",
    "\n",
    "\n",
    "    # (1).Use the \"{} kernel\" to generate kernel matrices\n",
    "    gk1 = kernel_fun(normalize=True)\n",
    "    K1_train = gk1.fit_transform(x_train)\n",
    "    K1_test = gk1.transform(x_test)\n",
    "\n",
    "\n",
    "    # (2).Using SVM classifier for classification\n",
    "    clf = SVC(kernel=\"precomputed\")\n",
    "    clf.fit(K1_train, y_train)\n",
    "    y_pred = clf.predict(K1_test)\n",
    "\n",
    "\n",
    "    # (3).caculate classification accuracy\n",
    "    acc = accuracy_score(y_test, y_pred)\n",
    "    ker_acc[kernel_list[k]] = acc\n",
    "    print(f\"{k}.\\033[1m{kernel_list[k]}\\033[0m Acc:\", str(round(acc*100, 2)) + \"%\")"
   ]
  },
  {
   "cell_type": "code",
   "execution_count": null,
   "metadata": {
    "ExecuteTime": {
     "end_time": "2021-06-05T09:05:04.195048Z",
     "start_time": "2021-06-05T09:05:04.189019Z"
    },
    "hidden": true
   },
   "outputs": [],
   "source": [
    "ker_acc"
   ]
  },
  {
   "cell_type": "code",
   "execution_count": 42,
   "metadata": {
    "ExecuteTime": {
     "end_time": "2021-06-05T08:34:24.982927Z",
     "start_time": "2021-06-05T08:34:24.975542Z"
    },
    "hidden": true
   },
   "outputs": [
    {
     "data": {
      "text/plain": [
       "{'RandomWalk': 0.7560975609756098,\n",
       " 'PyramidMatch': 0.7560975609756098,\n",
       " 'NeighborhoodHash': 0.7560975609756098,\n",
       " 'ShortestPath': 0.7560975609756098,\n",
       " 'GraphletSampling': 0.7560975609756098,\n",
       " 'WeisfeilerLehman': 0.7560975609756098,\n",
       " 'NeighborhoodSubgraphPairwiseDistance': 0.7560975609756098,\n",
       " 'Propagation': 0.7560975609756098,\n",
       " 'OddSth': 0.7560975609756098}"
      ]
     },
     "execution_count": 42,
     "metadata": {},
     "output_type": "execute_result"
    }
   ],
   "source": [
    "ker_acc"
   ]
  },
  {
   "cell_type": "markdown",
   "metadata": {},
   "source": [
    "## kernel"
   ]
  },
  {
   "cell_type": "markdown",
   "metadata": {
    "heading_collapsed": true
   },
   "source": [
    "### ShortestPath kernel\n",
    "https://ysig.github.io/GraKeL/0.1a8/generated/grakel.ShortestPath.html"
   ]
  },
  {
   "cell_type": "markdown",
   "metadata": {
    "hidden": true
   },
   "source": [
    "#### classifier example"
   ]
  },
  {
   "cell_type": "code",
   "execution_count": 7,
   "metadata": {
    "ExecuteTime": {
     "end_time": "2021-06-19T12:20:27.052615Z",
     "start_time": "2021-06-19T12:20:27.047934Z"
    },
    "hidden": true
   },
   "outputs": [],
   "source": [
    "from grakel.kernels import ShortestPath"
   ]
  },
  {
   "cell_type": "code",
   "execution_count": 8,
   "metadata": {
    "ExecuteTime": {
     "end_time": "2021-06-19T12:46:44.997329Z",
     "start_time": "2021-06-19T12:20:31.849929Z"
    },
    "hidden": true,
    "scrolled": true
   },
   "outputs": [
    {
     "name": "stderr",
     "output_type": "stream",
     "text": [
      "Intel(R) Extension for Scikit-learn* enabled (https://github.com/intel/scikit-learn-intelex)\n"
     ]
    },
    {
     "name": "stdout",
     "output_type": "stream",
     "text": [
      "1 iter Accuracy(train,test): 76.06% 75.45%\n"
     ]
    },
    {
     "data": {
      "text/plain": [
       "(0.7606349206349207, 0.7545238095238095)"
      ]
     },
     "execution_count": 8,
     "metadata": {},
     "output_type": "execute_result"
    }
   ],
   "source": [
    "# one iter\n",
    "k_fold_fast(1,ShortestPath)"
   ]
  },
  {
   "cell_type": "markdown",
   "metadata": {
    "hidden": true
   },
   "source": [
    "#### 10 fold  cross-validation"
   ]
  },
  {
   "cell_type": "code",
   "execution_count": null,
   "metadata": {
    "ExecuteTime": {
     "start_time": "2021-06-19T12:20:40.607Z"
    },
    "hidden": true
   },
   "outputs": [
    {
     "name": "stderr",
     "output_type": "stream",
     "text": [
      "Intel(R) Extension for Scikit-learn* enabled (https://github.com/intel/scikit-learn-intelex)\n"
     ]
    },
    {
     "name": "stdout",
     "output_type": "stream",
     "text": [
      "1 iter Accuracy(train,test): 76.06% 75.45%\n"
     ]
    },
    {
     "name": "stderr",
     "output_type": "stream",
     "text": [
      "Intel(R) Extension for Scikit-learn* enabled (https://github.com/intel/scikit-learn-intelex)\n"
     ]
    },
    {
     "name": "stdout",
     "output_type": "stream",
     "text": [
      "2 iter Accuracy(train,test): 76.12% 75.48%\n"
     ]
    },
    {
     "name": "stderr",
     "output_type": "stream",
     "text": [
      "Intel(R) Extension for Scikit-learn* enabled (https://github.com/intel/scikit-learn-intelex)\n"
     ]
    },
    {
     "name": "stdout",
     "output_type": "stream",
     "text": [
      "3 iter Accuracy(train,test): 76.12% 75.38%\n"
     ]
    },
    {
     "name": "stderr",
     "output_type": "stream",
     "text": [
      "Intel(R) Extension for Scikit-learn* enabled (https://github.com/intel/scikit-learn-intelex)\n"
     ]
    },
    {
     "name": "stdout",
     "output_type": "stream",
     "text": [
      "4 iter Accuracy(train,test): 76.07% 75.4%\n"
     ]
    },
    {
     "name": "stderr",
     "output_type": "stream",
     "text": [
      "Intel(R) Extension for Scikit-learn* enabled (https://github.com/intel/scikit-learn-intelex)\n"
     ]
    }
   ],
   "source": [
    "cv_acc_list = []\n",
    "cv_acc_list_train = []\n",
    "for s in range(1,11):\n",
    "    acc = k_fold_fast(s,ShortestPath)\n",
    "    cv_acc_list_train.append(acc[0])\n",
    "    cv_acc_list.append(acc[1])"
   ]
  },
  {
   "cell_type": "code",
   "execution_count": 12,
   "metadata": {
    "ExecuteTime": {
     "end_time": "2021-06-18T05:57:43.048934Z",
     "start_time": "2021-06-18T05:57:42.783781Z"
    },
    "hidden": true
   },
   "outputs": [
    {
     "data": {
      "image/png": "[encoded data removed]",
      "text/plain": [
       "<Figure size 1800x1200 with 1 Axes>"
      ]
     },
     "metadata": {
      "needs_background": "light"
     },
     "output_type": "display_data"
    }
   ],
   "source": [
    "import matplotlib.pyplot as plt\n",
    "\n",
    "fig,ax = plt.subplots(dpi=300)\n",
    "\n",
    "ax.set_ylim([75,78])\n",
    "\n",
    "plt.title(\"10-fold Cross-Validated \")\n",
    "plt.xlabel('Fixed data set')\n",
    "plt.ylabel('Accuracy(%)')\n",
    "\n",
    "plt.plot(range(1,11),cv_acc_list,'g-o',label=\"test Acc\")\n",
    "plt.plot(range(1,11),cv_acc_list_train,'b-x',label=\"train Acc\")\n",
    "\n",
    "plt.grid(True)\n",
    "plt.legend(bbox_to_anchor=(1.0, 1), loc=1, borderaxespad=0.)\n",
    "\n",
    "plt.show()"
   ]
  },
  {
   "cell_type": "markdown",
   "metadata": {
    "hidden": true
   },
   "source": [
    "#### evaluate"
   ]
  },
  {
   "cell_type": "code",
   "execution_count": 13,
   "metadata": {
    "ExecuteTime": {
     "end_time": "2021-06-18T06:26:26.087783Z",
     "start_time": "2021-06-18T05:59:49.990100Z"
    },
    "code_folding": [],
    "hidden": true
   },
   "outputs": [
    {
     "name": "stdout",
     "output_type": "stream",
     "text": [
      "8 iter Accuracy(train,test): 76.34% 75.33%\n"
     ]
    }
   ],
   "source": [
    "# best iter\n",
    "s = 8\n",
    "kernel = ShortestPath\n",
    "### 1.Assign training & validation set\n",
    "# (1).fix one set for validation\n",
    "x_test = globals()[f'sub{s}'].Graph\n",
    "y_test = globals()[f'sub{s}'].Label\n",
    "\n",
    "# (2).nine set for training\n",
    "train = pd.concat([eval(f'sub{n}') for n in range(1,11) if n != s],axis=0).reset_index(drop=True)\n",
    "x_train = train.Graph\n",
    "y_train = train.Label\n",
    "\n",
    "### 2.10 iterations of training\n",
    "# (1).Use the \"shortest path kernel\" to generate kernel matrices\n",
    "gk1 = kernel(normalize=True)\n",
    "K1_train = gk1.fit_transform(x_train)\n",
    "K1_test = gk1.transform(x_test)\n",
    "\n",
    "# (2).Using SVM classifier for classification\n",
    "clf = SVC(kernel=\"precomputed\")\n",
    "clf.fit(K1_train, y_train)\n",
    "y_pred = clf.predict(K1_test)\n",
    "y_score = clf.fit(K1_train, y_train).decision_function(K1_test)\n",
    "\n",
    "# (3).caculate classification accuracy\n",
    "acc = accuracy_score(y_test, y_pred)\n",
    "\n",
    "# (4).train predict \n",
    "y_pred_train = clf.predict(K1_train)\n",
    "acc_train = accuracy_score(y_train, y_pred_train)\n",
    "\n",
    "print(f\"{s} iter Accuracy(train,test):\", str(round(acc_train*100, 2)) + \"%\", str(round(acc*100, 2)) + \"%\")\n"
   ]
  },
  {
   "cell_type": "markdown",
   "metadata": {
    "heading_collapsed": true,
    "hidden": true
   },
   "source": [
    "##### Prediction error(X)"
   ]
  },
  {
   "cell_type": "code",
   "execution_count": null,
   "metadata": {
    "ExecuteTime": {
     "end_time": "2021-06-10T19:29:08.426678Z",
     "start_time": "2021-06-10T19:26:11.793Z"
    },
    "hidden": true
   },
   "outputs": [],
   "source": [
    "globals()[f'sub{s}']['Pre_Label'] = y_pred\n",
    "globals()[f'sub{s}']"
   ]
  },
  {
   "cell_type": "code",
   "execution_count": null,
   "metadata": {
    "ExecuteTime": {
     "end_time": "2021-06-10T19:29:08.428500Z",
     "start_time": "2021-06-10T19:26:16.054Z"
    },
    "hidden": true
   },
   "outputs": [],
   "source": [
    "# View predicted wrongly Labels\n",
    "SDP_pre_err = globals()[f'sub{s}'].loc[globals()[f'sub{s}'].Label != globals()[f'sub{s}'].Pre_Label,['Sent','Gene1_loc','Gene2_loc','Label','Pre_Label']]"
   ]
  },
  {
   "cell_type": "code",
   "execution_count": 83,
   "metadata": {
    "ExecuteTime": {
     "end_time": "2021-06-06T06:55:19.955134Z",
     "start_time": "2021-06-06T06:55:19.946078Z"
    },
    "hidden": true
   },
   "outputs": [
    {
     "name": "stdout",
     "output_type": "stream",
     "text": [
      "/home/tku_stat_dell/Desktop/DS_corpus/predict_error\n"
     ]
    }
   ],
   "source": [
    "#save\n",
    "%cd /home/tku_stat_dell/Desktop/DS_corpus/predict_error\n",
    "SDP_pre_err.to_pickle('SDP_pre_err.pkl')"
   ]
  },
  {
   "cell_type": "code",
   "execution_count": 26,
   "metadata": {
    "ExecuteTime": {
     "end_time": "2021-06-04T02:13:25.829502Z",
     "start_time": "2021-06-04T02:13:25.820260Z"
    },
    "hidden": true
   },
   "outputs": [
    {
     "name": "stdout",
     "output_type": "stream",
     "text": [
      "/home/tku_stat_ibm4/Desktop/DS_corpus/predict_error\n"
     ]
    }
   ],
   "source": [
    "#load\n",
    "%cd /home/tku_stat_dell/Desktop/DS_corpus/predict_error\n",
    "SDP_pre_err = pd.read_pickle('SDP_pre_err.pkl')"
   ]
  },
  {
   "cell_type": "markdown",
   "metadata": {
    "hidden": true
   },
   "source": [
    "##### 1.confusion matrix"
   ]
  },
  {
   "cell_type": "code",
   "execution_count": 14,
   "metadata": {
    "ExecuteTime": {
     "end_time": "2021-06-18T06:26:41.802311Z",
     "start_time": "2021-06-18T06:26:41.197352Z"
    },
    "code_folding": [],
    "hidden": true,
    "scrolled": false
   },
   "outputs": [
    {
     "data": {
      "text/plain": [
       "[Text(0, 0.5, 'KEGG_Interaction'), Text(0, 1.5, 'NON_KEGG_Interaction')]"
      ]
     },
     "execution_count": 14,
     "metadata": {},
     "output_type": "execute_result"
    },
    {
     "data": {
      "image/png": "[encoded data removed]",
      "text/plain": [
       "<Figure size 2400x2400 with 2 Axes>"
      ]
     },
     "metadata": {
      "needs_background": "light"
     },
     "output_type": "display_data"
    }
   ],
   "source": [
    "## 1.confusion matrix\n",
    "cm = confusion_matrix(y_test,y_pred)\n",
    "\n",
    "fig, ax = plt.subplots(figsize=(8,8),dpi=300)\n",
    "sns.heatmap(cm,annot=True, annot_kws={\"size\": 15},cmap='Blues', fmt='g')\n",
    "# labels, title and ticks\n",
    "ax.set_xlabel('Predicted labels')\n",
    "ax.set_ylabel('True labels')\n",
    "ax.set_title('Confusion Matrix')\n",
    "ax.xaxis.set_ticklabels([\"KEGG_Interaction\", \"NON_KEGG_Interaction\"]) \n",
    "ax.yaxis.set_ticklabels([\"KEGG_Interaction\", \"NON_KEGG_Interaction\"])"
   ]
  },
  {
   "cell_type": "markdown",
   "metadata": {
    "hidden": true
   },
   "source": [
    "##### 2.precision, recall, f1-score"
   ]
  },
  {
   "cell_type": "code",
   "execution_count": 15,
   "metadata": {
    "ExecuteTime": {
     "end_time": "2021-06-18T06:26:57.048665Z",
     "start_time": "2021-06-18T06:26:56.905435Z"
    },
    "hidden": true
   },
   "outputs": [
    {
     "name": "stdout",
     "output_type": "stream",
     "text": [
      "                      precision    recall  f1-score   support\n",
      "\n",
      "    KEGG_Interaction       0.65      0.03      0.06      1050\n",
      "NON_KEGG_Interaction       0.75      0.99      0.86      3150\n",
      "\n",
      "            accuracy                           0.75      4200\n",
      "           macro avg       0.70      0.51      0.46      4200\n",
      "        weighted avg       0.73      0.75      0.66      4200\n",
      "\n"
     ]
    },
    {
     "name": "stderr",
     "output_type": "stream",
     "text": [
      "/home/tku_stat_dell/anaconda3/envs/tsai/lib/python3.7/site-packages/sklearn/utils/validation.py:72: FutureWarning: Pass labels=['KEGG_Interaction', 'NON_KEGG_Interaction'] as keyword args. From version 1.0 (renaming of 0.25) passing these as positional arguments will result in an error\n",
      "  \"will result in an error\", FutureWarning)\n"
     ]
    }
   ],
   "source": [
    "## 2.precision, recall, f1-score\n",
    "#Official documents : https://scikit-learn.org/stable/modules/generated/sklearn.metrics.classification_report.html\n",
    "#Interpret the results : https://www.libinx.com/2018/understanding-sklearn-classification-report/\n",
    "\n",
    "print(classification_report(y_test, y_pred, ['KEGG_Interaction','NON_KEGG_Interaction']))"
   ]
  },
  {
   "cell_type": "markdown",
   "metadata": {
    "hidden": true
   },
   "source": [
    "##### 3.ROC-AUC curve"
   ]
  },
  {
   "cell_type": "code",
   "execution_count": 16,
   "metadata": {
    "ExecuteTime": {
     "end_time": "2021-06-18T06:27:12.352478Z",
     "start_time": "2021-06-18T06:27:12.102322Z"
    },
    "hidden": true,
    "scrolled": false
   },
   "outputs": [
    {
     "data": {
      "image/png": "[encoded data removed]",
      "text/plain": [
       "<Figure size 1800x1200 with 1 Axes>"
      ]
     },
     "metadata": {
      "needs_background": "light"
     },
     "output_type": "display_data"
    }
   ],
   "source": [
    "## 3.ROC-AUC curve\n",
    "y_test_bool = np.asarray(list(map(int,[x=='NON_KEGG_Interaction' for x in y_test])))+1\n",
    "plotROC_AUC(y_test_bool, y_score)"
   ]
  },
  {
   "cell_type": "markdown",
   "metadata": {},
   "source": [
    "### WeisfeilerLehman kernel\n",
    "https://ysig.github.io/GraKeL/0.1a8/generated/grakel.WeisfeilerLehman.html"
   ]
  },
  {
   "cell_type": "markdown",
   "metadata": {
    "heading_collapsed": true
   },
   "source": [
    "#### classifier example"
   ]
  },
  {
   "cell_type": "code",
   "execution_count": 6,
   "metadata": {
    "ExecuteTime": {
     "end_time": "2021-06-27T03:18:06.896030Z",
     "start_time": "2021-06-27T03:18:06.891791Z"
    },
    "hidden": true
   },
   "outputs": [],
   "source": [
    "from grakel.kernels import WeisfeilerLehman"
   ]
  },
  {
   "cell_type": "code",
   "execution_count": 8,
   "metadata": {
    "ExecuteTime": {
     "end_time": "2021-06-19T03:41:55.009213Z",
     "start_time": "2021-06-19T03:37:16.825551Z"
    },
    "hidden": true
   },
   "outputs": [
    {
     "name": "stderr",
     "output_type": "stream",
     "text": [
      "Intel(R) Extension for Scikit-learn* enabled (https://github.com/intel/scikit-learn-intelex)\n"
     ]
    },
    {
     "name": "stdout",
     "output_type": "stream",
     "text": [
      "1 iter Accuracy(train,test): 81.23% 77.71%\n"
     ]
    },
    {
     "data": {
      "text/plain": [
       "(0.8122751322751323, 0.7771428571428571)"
      ]
     },
     "execution_count": 8,
     "metadata": {},
     "output_type": "execute_result"
    }
   ],
   "source": [
    "# one iter\n",
    "k_fold_fast(1,WeisfeilerLehman)"
   ]
  },
  {
   "cell_type": "markdown",
   "metadata": {
    "heading_collapsed": true
   },
   "source": [
    "#### 10 fold  cross-validation"
   ]
  },
  {
   "cell_type": "code",
   "execution_count": 7,
   "metadata": {
    "ExecuteTime": {
     "end_time": "2021-06-19T04:36:24.336872Z",
     "start_time": "2021-06-19T03:51:57.077173Z"
    },
    "collapsed": true,
    "hidden": true
   },
   "outputs": [
    {
     "name": "stderr",
     "output_type": "stream",
     "text": [
      "Intel(R) Extension for Scikit-learn* enabled (https://github.com/intel/scikit-learn-intelex)\n"
     ]
    },
    {
     "name": "stdout",
     "output_type": "stream",
     "text": [
      "1 iter Accuracy(train,test): 81.23% 77.71%\n"
     ]
    },
    {
     "name": "stderr",
     "output_type": "stream",
     "text": [
      "Intel(R) Extension for Scikit-learn* enabled (https://github.com/intel/scikit-learn-intelex)\n"
     ]
    },
    {
     "name": "stdout",
     "output_type": "stream",
     "text": [
      "2 iter Accuracy(train,test): 81.3% 77.64%\n"
     ]
    },
    {
     "name": "stderr",
     "output_type": "stream",
     "text": [
      "Intel(R) Extension for Scikit-learn* enabled (https://github.com/intel/scikit-learn-intelex)\n"
     ]
    },
    {
     "name": "stdout",
     "output_type": "stream",
     "text": [
      "3 iter Accuracy(train,test): 81.48% 77.26%\n"
     ]
    },
    {
     "name": "stderr",
     "output_type": "stream",
     "text": [
      "Intel(R) Extension for Scikit-learn* enabled (https://github.com/intel/scikit-learn-intelex)\n"
     ]
    },
    {
     "name": "stdout",
     "output_type": "stream",
     "text": [
      "4 iter Accuracy(train,test): 81.22% 77.95%\n"
     ]
    },
    {
     "name": "stderr",
     "output_type": "stream",
     "text": [
      "Intel(R) Extension for Scikit-learn* enabled (https://github.com/intel/scikit-learn-intelex)\n"
     ]
    },
    {
     "name": "stdout",
     "output_type": "stream",
     "text": [
      "5 iter Accuracy(train,test): 81.44% 76.74%\n"
     ]
    },
    {
     "name": "stderr",
     "output_type": "stream",
     "text": [
      "Intel(R) Extension for Scikit-learn* enabled (https://github.com/intel/scikit-learn-intelex)\n"
     ]
    },
    {
     "name": "stdout",
     "output_type": "stream",
     "text": [
      "6 iter Accuracy(train,test): 81.24% 78.02%\n"
     ]
    },
    {
     "name": "stderr",
     "output_type": "stream",
     "text": [
      "Intel(R) Extension for Scikit-learn* enabled (https://github.com/intel/scikit-learn-intelex)\n"
     ]
    },
    {
     "name": "stdout",
     "output_type": "stream",
     "text": [
      "7 iter Accuracy(train,test): 81.25% 78.19%\n"
     ]
    },
    {
     "name": "stderr",
     "output_type": "stream",
     "text": [
      "Intel(R) Extension for Scikit-learn* enabled (https://github.com/intel/scikit-learn-intelex)\n"
     ]
    },
    {
     "name": "stdout",
     "output_type": "stream",
     "text": [
      "8 iter Accuracy(train,test): 81.39% 77.71%\n"
     ]
    },
    {
     "name": "stderr",
     "output_type": "stream",
     "text": [
      "Intel(R) Extension for Scikit-learn* enabled (https://github.com/intel/scikit-learn-intelex)\n"
     ]
    },
    {
     "name": "stdout",
     "output_type": "stream",
     "text": [
      "9 iter Accuracy(train,test): 81.35% 77.52%\n"
     ]
    },
    {
     "name": "stderr",
     "output_type": "stream",
     "text": [
      "Intel(R) Extension for Scikit-learn* enabled (https://github.com/intel/scikit-learn-intelex)\n"
     ]
    },
    {
     "name": "stdout",
     "output_type": "stream",
     "text": [
      "10 iter Accuracy(train,test): 81.22% 77.52%\n"
     ]
    }
   ],
   "source": [
    "cv_acc_list = []\n",
    "cv_acc_list_train = []\n",
    "for s in range(1,11):\n",
    "    acc = k_fold_fast(s,WeisfeilerLehman)\n",
    "    cv_acc_list_train.append(acc[0])\n",
    "    cv_acc_list.append(acc[1])"
   ]
  },
  {
   "cell_type": "code",
   "execution_count": 8,
   "metadata": {
    "ExecuteTime": {
     "end_time": "2021-06-19T05:26:09.910841Z",
     "start_time": "2021-06-19T05:26:09.513895Z"
    },
    "collapsed": true,
    "hidden": true
   },
   "outputs": [
    {
     "data": {
      "image/png": "[encoded data removed]",
      "text/plain": [
       "<Figure size 1800x1200 with 1 Axes>"
      ]
     },
     "metadata": {
      "needs_background": "light"
     },
     "output_type": "display_data"
    }
   ],
   "source": [
    "import matplotlib.pyplot as plt\n",
    "\n",
    "fig,ax = plt.subplots(dpi=300)\n",
    "\n",
    "ax.set_ylim([75,85])\n",
    "\n",
    "plt.title(\"10-fold Cross-Validated \")\n",
    "plt.xlabel('Fixed data set')\n",
    "plt.ylabel('Accuracy(%)')\n",
    "\n",
    "plt.plot(range(1,11),list(np.array(cv_acc_list)*100),'g-o',label=\"test Acc\")\n",
    "plt.plot(range(1,11),list(np.array(cv_acc_list_train)*100),'b-x',label=\"train Acc\")\n",
    "\n",
    "plt.grid(True)\n",
    "plt.legend(bbox_to_anchor=(1.0, 1), loc=1, borderaxespad=0.)\n",
    "\n",
    "plt.show()"
   ]
  },
  {
   "cell_type": "markdown",
   "metadata": {},
   "source": [
    "#### evaluate"
   ]
  },
  {
   "cell_type": "code",
   "execution_count": 7,
   "metadata": {
    "ExecuteTime": {
     "end_time": "2021-06-27T03:25:45.279376Z",
     "start_time": "2021-06-27T03:18:16.597360Z"
    },
    "code_folding": [
     0
    ]
   },
   "outputs": [
    {
     "name": "stdout",
     "output_type": "stream",
     "text": [
      "7 iter Accuracy(train,test): 81.25% 78.19%\n"
     ]
    }
   ],
   "source": [
    "# best iter\n",
    "s = 7\n",
    "kernel = WeisfeilerLehman\n",
    "### 1.Assign training & validation set\n",
    "# (1).fix one set for validation\n",
    "x_test = globals()[f'sub{s}'].Graph\n",
    "y_test = globals()[f'sub{s}'].Label\n",
    "\n",
    "# (2).nine set for training\n",
    "train = pd.concat([eval(f'sub{n}') for n in range(1,11) if n != s],axis=0).reset_index(drop=True)\n",
    "x_train = train.Graph\n",
    "y_train = train.Label\n",
    "\n",
    "### 2.10 iterations of training\n",
    "# (1).Use the \"shortest path kernel\" to generate kernel matrices\n",
    "gk1 = kernel(normalize=True)\n",
    "K1_train = gk1.fit_transform(x_train)\n",
    "K1_test = gk1.transform(x_test)\n",
    "\n",
    "# (2).Using SVM classifier for classification\n",
    "clf = SVC(kernel=\"precomputed\")\n",
    "clf.fit(K1_train, y_train)\n",
    "y_pred = clf.predict(K1_test)\n",
    "y_score = clf.fit(K1_train, y_train).decision_function(K1_test)\n",
    "\n",
    "# (3).caculate classification accuracy\n",
    "acc = accuracy_score(y_test, y_pred)\n",
    "\n",
    "# (4).train predict \n",
    "y_pred_train = clf.predict(K1_train)\n",
    "acc_train = accuracy_score(y_train, y_pred_train)\n",
    "\n",
    "print(f\"{s} iter Accuracy(train,test):\", str(round(acc_train*100, 2)) + \"%\", str(round(acc*100, 2)) + \"%\")\n"
   ]
  },
  {
   "cell_type": "markdown",
   "metadata": {
    "heading_collapsed": true
   },
   "source": [
    "##### Prediction result"
   ]
  },
  {
   "cell_type": "code",
   "execution_count": 8,
   "metadata": {
    "ExecuteTime": {
     "end_time": "2021-06-27T03:39:08.692594Z",
     "start_time": "2021-06-27T03:39:08.220618Z"
    },
    "collapsed": true,
    "hidden": true
   },
   "outputs": [
    {
     "data": {
      "text/html": [
       "<div>\n",
       "<style scoped>\n",
       "    .dataframe tbody tr th:only-of-type {\n",
       "        vertical-align: middle;\n",
       "    }\n",
       "\n",
       "    .dataframe tbody tr th {\n",
       "        vertical-align: top;\n",
       "    }\n",
       "\n",
       "    .dataframe thead th {\n",
       "        text-align: right;\n",
       "    }\n",
       "</style>\n",
       "<table border=\"1\" class=\"dataframe\">\n",
       "  <thead>\n",
       "    <tr style=\"text-align: right;\">\n",
       "      <th></th>\n",
       "      <th>Sent</th>\n",
       "      <th>Graph</th>\n",
       "      <th>Gene1</th>\n",
       "      <th>Gene2</th>\n",
       "      <th>Gene1_loc</th>\n",
       "      <th>Gene2_loc</th>\n",
       "      <th>Label</th>\n",
       "      <th>Pre_Label</th>\n",
       "    </tr>\n",
       "  </thead>\n",
       "  <tbody>\n",
       "    <tr>\n",
       "      <th>0</th>\n",
       "      <td>Our objective was to measure the interactions ...</td>\n",
       "      <td>[{0: {1: 0.1}, 1: {0: 0.1, 2: 0.1}, 2: {1: 0.1...</td>\n",
       "      <td>2944</td>\n",
       "      <td>1571</td>\n",
       "      <td>20</td>\n",
       "      <td>17</td>\n",
       "      <td>KEGG_Interaction</td>\n",
       "      <td>NON_KEGG_Interaction</td>\n",
       "    </tr>\n",
       "    <tr>\n",
       "      <th>1</th>\n",
       "      <td>In conclusion, kegg_Gene_4790 gene rs28362491 ...</td>\n",
       "      <td>[{0: {1: 0.1}, 1: {0: 0.1, 9: 0.1}, 2: {9: 0.1...</td>\n",
       "      <td>4790</td>\n",
       "      <td>3569</td>\n",
       "      <td>3</td>\n",
       "      <td>35</td>\n",
       "      <td>KEGG_Interaction</td>\n",
       "      <td>NON_KEGG_Interaction</td>\n",
       "    </tr>\n",
       "    <tr>\n",
       "      <th>2</th>\n",
       "      <td>We propose that kegg_Gene_7128 (rs6920220), ke...</td>\n",
       "      <td>[{0: {1: 0.1}, 1: {0: 0.1, 20: 0.1, 36: 0.1}, ...</td>\n",
       "      <td>7128</td>\n",
       "      <td>4790</td>\n",
       "      <td>3</td>\n",
       "      <td>14</td>\n",
       "      <td>KEGG_Interaction</td>\n",
       "      <td>NON_KEGG_Interaction</td>\n",
       "    </tr>\n",
       "    <tr>\n",
       "      <th>3</th>\n",
       "      <td>kegg_Gene_9817 mutations were spread over the ...</td>\n",
       "      <td>[{0: {1: 0.9}, 1: {0: 0.9, 3: 0.9}, 2: {3: 0.1...</td>\n",
       "      <td>9817</td>\n",
       "      <td>4780</td>\n",
       "      <td>0</td>\n",
       "      <td>10</td>\n",
       "      <td>KEGG_Interaction</td>\n",
       "      <td>NON_KEGG_Interaction</td>\n",
       "    </tr>\n",
       "    <tr>\n",
       "      <th>4</th>\n",
       "      <td>RESULTS: We identified 15 significantly mutate...</td>\n",
       "      <td>[{0: {3: 0.1}, 1: {3: 0.1}, 2: {3: 0.1}, 3: {0...</td>\n",
       "      <td>673</td>\n",
       "      <td>3845</td>\n",
       "      <td>31</td>\n",
       "      <td>11</td>\n",
       "      <td>KEGG_Interaction</td>\n",
       "      <td>NON_KEGG_Interaction</td>\n",
       "    </tr>\n",
       "    <tr>\n",
       "      <th>...</th>\n",
       "      <td>...</td>\n",
       "      <td>...</td>\n",
       "      <td>...</td>\n",
       "      <td>...</td>\n",
       "      <td>...</td>\n",
       "      <td>...</td>\n",
       "      <td>...</td>\n",
       "      <td>...</td>\n",
       "    </tr>\n",
       "    <tr>\n",
       "      <th>4195</th>\n",
       "      <td>We identified 12 novel nucleotide substitution...</td>\n",
       "      <td>[{0: {1: 0.1}, 1: {0: 0.1, 6: 0.1, 56: 0.1}, 2...</td>\n",
       "      <td>3458</td>\n",
       "      <td>1493</td>\n",
       "      <td>21</td>\n",
       "      <td>48</td>\n",
       "      <td>NON_KEGG_Interaction</td>\n",
       "      <td>NON_KEGG_Interaction</td>\n",
       "    </tr>\n",
       "    <tr>\n",
       "      <th>4196</th>\n",
       "      <td>RESULTS: Seventeen SNPs distributed across 12 ...</td>\n",
       "      <td>[{0: {1: 0.1, 45: 0.1}, 1: {0: 0.1}, 2: {3: 0....</td>\n",
       "      <td>2207</td>\n",
       "      <td>7096</td>\n",
       "      <td>15</td>\n",
       "      <td>37</td>\n",
       "      <td>NON_KEGG_Interaction</td>\n",
       "      <td>NON_KEGG_Interaction</td>\n",
       "    </tr>\n",
       "    <tr>\n",
       "      <th>4197</th>\n",
       "      <td>We also genotyped specific Gene_114327 variant...</td>\n",
       "      <td>[{0: {2: 0.1}, 1: {2: 0.1}, 2: {0: 0.1, 1: 0.1...</td>\n",
       "      <td>114327</td>\n",
       "      <td>50715</td>\n",
       "      <td>4</td>\n",
       "      <td>31</td>\n",
       "      <td>NON_KEGG_Interaction</td>\n",
       "      <td>NON_KEGG_Interaction</td>\n",
       "    </tr>\n",
       "    <tr>\n",
       "      <th>4198</th>\n",
       "      <td>Both transverse aortic constriction and exerci...</td>\n",
       "      <td>[{0: {3: 0.1}, 1: {3: 0.1}, 2: {3: 0.1}, 3: {0...</td>\n",
       "      <td>382056</td>\n",
       "      <td>226641</td>\n",
       "      <td>10</td>\n",
       "      <td>24</td>\n",
       "      <td>NON_KEGG_Interaction</td>\n",
       "      <td>NON_KEGG_Interaction</td>\n",
       "    </tr>\n",
       "    <tr>\n",
       "      <th>4199</th>\n",
       "      <td>This study was aimed to figure out the associa...</td>\n",
       "      <td>[{0: {1: 0.1}, 1: {0: 0.1, 3: 0.1}, 2: {3: 0.1...</td>\n",
       "      <td>4907</td>\n",
       "      <td>6615</td>\n",
       "      <td>30</td>\n",
       "      <td>26</td>\n",
       "      <td>NON_KEGG_Interaction</td>\n",
       "      <td>NON_KEGG_Interaction</td>\n",
       "    </tr>\n",
       "  </tbody>\n",
       "</table>\n",
       "<p>4200 rows × 8 columns</p>\n",
       "</div>"
      ],
      "text/plain": [
       "                                                   Sent  \\\n",
       "0     Our objective was to measure the interactions ...   \n",
       "1     In conclusion, kegg_Gene_4790 gene rs28362491 ...   \n",
       "2     We propose that kegg_Gene_7128 (rs6920220), ke...   \n",
       "3     kegg_Gene_9817 mutations were spread over the ...   \n",
       "4     RESULTS: We identified 15 significantly mutate...   \n",
       "...                                                 ...   \n",
       "4195  We identified 12 novel nucleotide substitution...   \n",
       "4196  RESULTS: Seventeen SNPs distributed across 12 ...   \n",
       "4197  We also genotyped specific Gene_114327 variant...   \n",
       "4198  Both transverse aortic constriction and exerci...   \n",
       "4199  This study was aimed to figure out the associa...   \n",
       "\n",
       "                                                  Graph   Gene1   Gene2  \\\n",
       "0     [{0: {1: 0.1}, 1: {0: 0.1, 2: 0.1}, 2: {1: 0.1...    2944    1571   \n",
       "1     [{0: {1: 0.1}, 1: {0: 0.1, 9: 0.1}, 2: {9: 0.1...    4790    3569   \n",
       "2     [{0: {1: 0.1}, 1: {0: 0.1, 20: 0.1, 36: 0.1}, ...    7128    4790   \n",
       "3     [{0: {1: 0.9}, 1: {0: 0.9, 3: 0.9}, 2: {3: 0.1...    9817    4780   \n",
       "4     [{0: {3: 0.1}, 1: {3: 0.1}, 2: {3: 0.1}, 3: {0...     673    3845   \n",
       "...                                                 ...     ...     ...   \n",
       "4195  [{0: {1: 0.1}, 1: {0: 0.1, 6: 0.1, 56: 0.1}, 2...    3458    1493   \n",
       "4196  [{0: {1: 0.1, 45: 0.1}, 1: {0: 0.1}, 2: {3: 0....    2207    7096   \n",
       "4197  [{0: {2: 0.1}, 1: {2: 0.1}, 2: {0: 0.1, 1: 0.1...  114327   50715   \n",
       "4198  [{0: {3: 0.1}, 1: {3: 0.1}, 2: {3: 0.1}, 3: {0...  382056  226641   \n",
       "4199  [{0: {1: 0.1}, 1: {0: 0.1, 3: 0.1}, 2: {3: 0.1...    4907    6615   \n",
       "\n",
       "      Gene1_loc  Gene2_loc                 Label             Pre_Label  \n",
       "0            20         17      KEGG_Interaction  NON_KEGG_Interaction  \n",
       "1             3         35      KEGG_Interaction  NON_KEGG_Interaction  \n",
       "2             3         14      KEGG_Interaction  NON_KEGG_Interaction  \n",
       "3             0         10      KEGG_Interaction  NON_KEGG_Interaction  \n",
       "4            31         11      KEGG_Interaction  NON_KEGG_Interaction  \n",
       "...         ...        ...                   ...                   ...  \n",
       "4195         21         48  NON_KEGG_Interaction  NON_KEGG_Interaction  \n",
       "4196         15         37  NON_KEGG_Interaction  NON_KEGG_Interaction  \n",
       "4197          4         31  NON_KEGG_Interaction  NON_KEGG_Interaction  \n",
       "4198         10         24  NON_KEGG_Interaction  NON_KEGG_Interaction  \n",
       "4199         30         26  NON_KEGG_Interaction  NON_KEGG_Interaction  \n",
       "\n",
       "[4200 rows x 8 columns]"
      ]
     },
     "execution_count": 8,
     "metadata": {},
     "output_type": "execute_result"
    }
   ],
   "source": [
    "globals()[f'sub{s}']['Pre_Label'] = y_pred\n",
    "globals()[f'sub{s}']"
   ]
  },
  {
   "cell_type": "code",
   "execution_count": 9,
   "metadata": {
    "ExecuteTime": {
     "end_time": "2021-06-27T03:39:22.673248Z",
     "start_time": "2021-06-27T03:39:22.669315Z"
    },
    "hidden": true
   },
   "outputs": [],
   "source": [
    "# View predicted wrongly Labels\n",
    "WL_pre = globals()[f'sub{s}']"
   ]
  },
  {
   "cell_type": "code",
   "execution_count": 10,
   "metadata": {
    "ExecuteTime": {
     "end_time": "2021-06-27T03:39:32.993936Z",
     "start_time": "2021-06-27T03:39:29.116495Z"
    },
    "hidden": true
   },
   "outputs": [
    {
     "name": "stdout",
     "output_type": "stream",
     "text": [
      "/home/tku_stat_dell/Desktop/DS_corpus/predict_error\n"
     ]
    }
   ],
   "source": [
    "#save\n",
    "%cd /home/tku_stat_dell/Desktop/DS_corpus/predict_error\n",
    "WL_pre.to_pickle('WL_pre.pkl')"
   ]
  },
  {
   "cell_type": "markdown",
   "metadata": {
    "heading_collapsed": true
   },
   "source": [
    "##### 1.confusion matrix"
   ]
  },
  {
   "cell_type": "code",
   "execution_count": 10,
   "metadata": {
    "ExecuteTime": {
     "end_time": "2021-06-19T05:32:29.064733Z",
     "start_time": "2021-06-19T05:32:28.578256Z"
    },
    "collapsed": true,
    "hidden": true
   },
   "outputs": [
    {
     "data": {
      "text/plain": [
       "[Text(0, 0.5, 'KEGG_Interaction'), Text(0, 1.5, 'NON_KEGG_Interaction')]"
      ]
     },
     "execution_count": 10,
     "metadata": {},
     "output_type": "execute_result"
    },
    {
     "data": {
      "image/png": "[encoded data removed]",
      "text/plain": [
       "<Figure size 2400x2400 with 2 Axes>"
      ]
     },
     "metadata": {
      "needs_background": "light"
     },
     "output_type": "display_data"
    }
   ],
   "source": [
    "## 1.confusion matrix\n",
    "cm = confusion_matrix(y_test,y_pred)\n",
    "\n",
    "fig, ax = plt.subplots(figsize=(8,8),dpi=300)\n",
    "sns.heatmap(cm,annot=True, annot_kws={\"size\": 15},cmap='Blues', fmt='g')\n",
    "# labels, title and ticks\n",
    "ax.set_xlabel('Predicted labels')\n",
    "ax.set_ylabel('True labels')\n",
    "ax.set_title('Confusion Matrix')\n",
    "ax.xaxis.set_ticklabels([\"KEGG_Interaction\", \"NON_KEGG_Interaction\"]) \n",
    "ax.yaxis.set_ticklabels([\"KEGG_Interaction\", \"NON_KEGG_Interaction\"])"
   ]
  },
  {
   "cell_type": "markdown",
   "metadata": {
    "heading_collapsed": true
   },
   "source": [
    "##### 2.precision, recall, f1-score"
   ]
  },
  {
   "cell_type": "code",
   "execution_count": 11,
   "metadata": {
    "ExecuteTime": {
     "end_time": "2021-06-19T05:32:35.181501Z",
     "start_time": "2021-06-19T05:32:35.031317Z"
    },
    "collapsed": true,
    "hidden": true
   },
   "outputs": [
    {
     "name": "stdout",
     "output_type": "stream",
     "text": [
      "                      precision    recall  f1-score   support\n",
      "\n",
      "    KEGG_Interaction       0.77      0.18      0.29      1050\n",
      "NON_KEGG_Interaction       0.78      0.98      0.87      3150\n",
      "\n",
      "            accuracy                           0.78      4200\n",
      "           macro avg       0.78      0.58      0.58      4200\n",
      "        weighted avg       0.78      0.78      0.73      4200\n",
      "\n"
     ]
    },
    {
     "name": "stderr",
     "output_type": "stream",
     "text": [
      "/home/tku_stat_dell/anaconda3/envs/tsai/lib/python3.7/site-packages/sklearn/utils/validation.py:72: FutureWarning: Pass labels=['KEGG_Interaction', 'NON_KEGG_Interaction'] as keyword args. From version 1.0 (renaming of 0.25) passing these as positional arguments will result in an error\n",
      "  \"will result in an error\", FutureWarning)\n"
     ]
    }
   ],
   "source": [
    "## 2.precision, recall, f1-score\n",
    "#Official documents : https://scikit-learn.org/stable/modules/generated/sklearn.metrics.classification_report.html\n",
    "#Interpret the results : https://www.libinx.com/2018/understanding-sklearn-classification-report/\n",
    "\n",
    "print(classification_report(y_test, y_pred, ['KEGG_Interaction','NON_KEGG_Interaction']))"
   ]
  },
  {
   "cell_type": "markdown",
   "metadata": {
    "heading_collapsed": true
   },
   "source": [
    "##### 3.ROC-AUC curve"
   ]
  },
  {
   "cell_type": "code",
   "execution_count": 12,
   "metadata": {
    "ExecuteTime": {
     "end_time": "2021-06-19T05:32:41.708068Z",
     "start_time": "2021-06-19T05:32:41.451121Z"
    },
    "collapsed": true,
    "hidden": true
   },
   "outputs": [
    {
     "data": {
      "image/png": "[encoded data removed]",
      "text/plain": [
       "<Figure size 1800x1200 with 1 Axes>"
      ]
     },
     "metadata": {
      "needs_background": "light"
     },
     "output_type": "display_data"
    }
   ],
   "source": [
    "## 3.ROC-AUC curve\n",
    "y_test_bool = np.asarray(list(map(int,[x=='NON_KEGG_Interaction' for x in y_test])))+1\n",
    "plotROC_AUC(y_test_bool, y_score)"
   ]
  },
  {
   "cell_type": "markdown",
   "metadata": {},
   "source": [
    "### NeighborhoodHash kernel\n",
    "https://ysig.github.io/GraKeL/0.1a8/generated/grakel.NeighborhoodHash.html"
   ]
  },
  {
   "cell_type": "markdown",
   "metadata": {
    "heading_collapsed": true
   },
   "source": [
    "#### classifier example"
   ]
  },
  {
   "cell_type": "code",
   "execution_count": 11,
   "metadata": {
    "ExecuteTime": {
     "end_time": "2021-06-27T03:40:26.791788Z",
     "start_time": "2021-06-27T03:40:26.788739Z"
    },
    "hidden": true
   },
   "outputs": [],
   "source": [
    "from grakel.kernels import NeighborhoodHash"
   ]
  },
  {
   "cell_type": "code",
   "execution_count": 21,
   "metadata": {
    "ExecuteTime": {
     "end_time": "2021-06-11T09:33:57.754234Z",
     "start_time": "2021-06-10T20:01:48.381852Z"
    },
    "hidden": true
   },
   "outputs": [
    {
     "name": "stderr",
     "output_type": "stream",
     "text": [
      "Intel(R) Extension for Scikit-learn* enabled (https://github.com/intel/scikit-learn-intelex)\n"
     ]
    },
    {
     "name": "stdout",
     "output_type": "stream",
     "text": [
      "1 iter Accuracy(train,test): 83.69% 78.45%\n"
     ]
    },
    {
     "data": {
      "text/plain": [
       "(0.8369047619047619, 0.7845238095238095)"
      ]
     },
     "execution_count": 21,
     "metadata": {},
     "output_type": "execute_result"
    }
   ],
   "source": [
    "# one iter\n",
    "k_fold_fast(1,NeighborhoodHash)"
   ]
  },
  {
   "cell_type": "markdown",
   "metadata": {
    "heading_collapsed": true
   },
   "source": [
    "#### 10 fold cross-validation"
   ]
  },
  {
   "cell_type": "code",
   "execution_count": null,
   "metadata": {
    "ExecuteTime": {
     "start_time": "2021-06-11T14:36:36.519Z"
    },
    "collapsed": true,
    "hidden": true
   },
   "outputs": [
    {
     "name": "stderr",
     "output_type": "stream",
     "text": [
      "Intel(R) Extension for Scikit-learn* enabled (https://github.com/intel/scikit-learn-intelex)\n"
     ]
    },
    {
     "name": "stdout",
     "output_type": "stream",
     "text": [
      "1 iter Accuracy(train,test): 83.67% 78.48%\n"
     ]
    },
    {
     "name": "stderr",
     "output_type": "stream",
     "text": [
      "Intel(R) Extension for Scikit-learn* enabled (https://github.com/intel/scikit-learn-intelex)\n"
     ]
    },
    {
     "name": "stdout",
     "output_type": "stream",
     "text": [
      "2 iter Accuracy(train,test): 83.63% 77.4%\n"
     ]
    },
    {
     "name": "stderr",
     "output_type": "stream",
     "text": [
      "Intel(R) Extension for Scikit-learn* enabled (https://github.com/intel/scikit-learn-intelex)\n"
     ]
    },
    {
     "name": "stdout",
     "output_type": "stream",
     "text": [
      "3 iter Accuracy(train,test): 83.61% 77.69%\n"
     ]
    },
    {
     "name": "stderr",
     "output_type": "stream",
     "text": [
      "Intel(R) Extension for Scikit-learn* enabled (https://github.com/intel/scikit-learn-intelex)\n"
     ]
    },
    {
     "name": "stdout",
     "output_type": "stream",
     "text": [
      "4 iter Accuracy(train,test): 84.01% 77.64%\n"
     ]
    },
    {
     "name": "stderr",
     "output_type": "stream",
     "text": [
      "Intel(R) Extension for Scikit-learn* enabled (https://github.com/intel/scikit-learn-intelex)\n"
     ]
    },
    {
     "name": "stdout",
     "output_type": "stream",
     "text": [
      "5 iter Accuracy(train,test): 83.37% 77.71%\n"
     ]
    },
    {
     "name": "stderr",
     "output_type": "stream",
     "text": [
      "Intel(R) Extension for Scikit-learn* enabled (https://github.com/intel/scikit-learn-intelex)\n"
     ]
    },
    {
     "name": "stdout",
     "output_type": "stream",
     "text": [
      "6 iter Accuracy(train,test): 83.61% 78.79%\n"
     ]
    },
    {
     "name": "stderr",
     "output_type": "stream",
     "text": [
      "Intel(R) Extension for Scikit-learn* enabled (https://github.com/intel/scikit-learn-intelex)\n"
     ]
    },
    {
     "name": "stdout",
     "output_type": "stream",
     "text": [
      "7 iter Accuracy(train,test): 83.65% 78.67%\n"
     ]
    },
    {
     "name": "stderr",
     "output_type": "stream",
     "text": [
      "Intel(R) Extension for Scikit-learn* enabled (https://github.com/intel/scikit-learn-intelex)\n"
     ]
    },
    {
     "name": "stdout",
     "output_type": "stream",
     "text": [
      "8 iter Accuracy(train,test): 83.67% 78.19%\n"
     ]
    },
    {
     "name": "stderr",
     "output_type": "stream",
     "text": [
      "Intel(R) Extension for Scikit-learn* enabled (https://github.com/intel/scikit-learn-intelex)\n"
     ]
    }
   ],
   "source": [
    "cv_acc_list = []\n",
    "cv_acc_list_train = []\n",
    "for s in range(1,11):\n",
    "    acc = k_fold_fast(s,NeighborhoodHash)\n",
    "    cv_acc_list_train.append(acc[0])\n",
    "    cv_acc_list.append(acc[1])"
   ]
  },
  {
   "cell_type": "code",
   "execution_count": null,
   "metadata": {
    "ExecuteTime": {
     "end_time": "2021-06-11T14:36:32.432696Z",
     "start_time": "2021-06-10T19:35:07.183Z"
    },
    "hidden": true
   },
   "outputs": [],
   "source": [
    "import matplotlib.pyplot as plt\n",
    "\n",
    "fig,ax = plt.subplots(dpi=300)\n",
    "\n",
    "ax.set_ylim([75,85])\n",
    "\n",
    "plt.title(\"10-fold Cross-Validated \")\n",
    "plt.xlabel('Fixed data set')\n",
    "plt.ylabel('Accuracy(%)')\n",
    "\n",
    "plt.plot(range(1,11),list(np.array(cv_acc_list)*100),'g-o',label=\"test Acc\")\n",
    "plt.plot(range(1,11),list(np.array(cv_acc_list_train)*100),'b-x',label=\"train Acc\")\n",
    "\n",
    "plt.grid(True)\n",
    "plt.legend(bbox_to_anchor=(1.0, 1), loc=1, borderaxespad=0.)\n",
    "\n",
    "plt.show()"
   ]
  },
  {
   "cell_type": "markdown",
   "metadata": {},
   "source": [
    "#### evaluate¶"
   ]
  },
  {
   "cell_type": "code",
   "execution_count": 12,
   "metadata": {
    "ExecuteTime": {
     "end_time": "2021-06-27T16:34:25.738159Z",
     "start_time": "2021-06-27T03:40:52.234054Z"
    },
    "code_folding": [
     0
    ]
   },
   "outputs": [
    {
     "name": "stdout",
     "output_type": "stream",
     "text": [
      "7 iter Accuracy(train,test): 83.77% 78.93%\n"
     ]
    }
   ],
   "source": [
    "# best iter\n",
    "s = 7\n",
    "kernel = NeighborhoodHash\n",
    "### 1.Assign training & validation set\n",
    "# (1).fix one set for validation\n",
    "x_test = globals()[f'sub{s}'].Graph\n",
    "y_test = globals()[f'sub{s}'].Label\n",
    "\n",
    "# (2).nine set for training\n",
    "train = pd.concat([eval(f'sub{n}') for n in range(1,11) if n != s],axis=0).reset_index(drop=True)\n",
    "x_train = train.Graph\n",
    "y_train = train.Label\n",
    "\n",
    "### 2.10 iterations of training\n",
    "# (1).Use the \"shortest path kernel\" to generate kernel matrices\n",
    "gk1 = kernel(normalize=True)\n",
    "K1_train = gk1.fit_transform(x_train)\n",
    "K1_test = gk1.transform(x_test)\n",
    "\n",
    "# (2).Using SVM classifier for classification\n",
    "clf = SVC(kernel=\"precomputed\")\n",
    "clf.fit(K1_train, y_train)\n",
    "y_pred = clf.predict(K1_test)\n",
    "y_score = clf.fit(K1_train, y_train).decision_function(K1_test)\n",
    "\n",
    "# (3).caculate classification accuracy\n",
    "acc = accuracy_score(y_test, y_pred)\n",
    "\n",
    "# (4).train predict \n",
    "y_pred_train = clf.predict(K1_train)\n",
    "acc_train = accuracy_score(y_train, y_pred_train)\n",
    "\n",
    "print(f\"{s} iter Accuracy(train,test):\", str(round(acc_train*100, 2)) + \"%\", str(round(acc*100, 2)) + \"%\")\n"
   ]
  },
  {
   "cell_type": "markdown",
   "metadata": {},
   "source": [
    "##### Prediction result"
   ]
  },
  {
   "cell_type": "code",
   "execution_count": 13,
   "metadata": {
    "ExecuteTime": {
     "end_time": "2021-06-27T16:34:31.933461Z",
     "start_time": "2021-06-27T16:34:31.929809Z"
    }
   },
   "outputs": [],
   "source": [
    "globals()[f'sub{s}']['Pre_Label'] = y_pred\n",
    "# View predicted wrongly Labels\n",
    "NH_pre = globals()[f'sub{s}']"
   ]
  },
  {
   "cell_type": "code",
   "execution_count": 14,
   "metadata": {
    "ExecuteTime": {
     "end_time": "2021-06-27T16:34:42.322091Z",
     "start_time": "2021-06-27T16:34:38.531529Z"
    }
   },
   "outputs": [
    {
     "name": "stdout",
     "output_type": "stream",
     "text": [
      "/home/tku_stat_dell/Desktop/DS_corpus/predict_error\n"
     ]
    }
   ],
   "source": [
    "#save\n",
    "%cd /home/tku_stat_dell/Desktop/DS_corpus/predict_error\n",
    "NH_pre.to_pickle('NH_pre.pkl')"
   ]
  },
  {
   "cell_type": "markdown",
   "metadata": {},
   "source": [
    "##### confusion matrix"
   ]
  },
  {
   "cell_type": "code",
   "execution_count": null,
   "metadata": {},
   "outputs": [],
   "source": [
    "## 1.confusion matrix\n",
    "cm = confusion_matrix(y_test,y_pred)\n",
    "\n",
    "fig, ax = plt.subplots(figsize=(8,8),dpi=300)\n",
    "sns.heatmap(cm,annot=True, annot_kws={\"size\": 15},cmap='Blues', fmt='g')\n",
    "# labels, title and ticks\n",
    "ax.set_xlabel('Predicted labels')\n",
    "ax.set_ylabel('True labels')\n",
    "ax.set_title('Confusion Matrix')\n",
    "ax.xaxis.set_ticklabels([\"KEGG_Interaction\", \"NON_KEGG_Interaction\"]) \n",
    "ax.yaxis.set_ticklabels([\"KEGG_Interaction\", \"NON_KEGG_Interaction\"])"
   ]
  },
  {
   "cell_type": "markdown",
   "metadata": {},
   "source": [
    "##### precision, recall, f1-score"
   ]
  },
  {
   "cell_type": "code",
   "execution_count": null,
   "metadata": {},
   "outputs": [],
   "source": [
    "## 2.precision, recall, f1-score\n",
    "#Official documents : https://scikit-learn.org/stable/modules/generated/sklearn.metrics.classification_report.html\n",
    "#Interpret the results : https://www.libinx.com/2018/understanding-sklearn-classification-report/\n",
    "\n",
    "print(classification_report(y_test, y_pred, ['KEGG_Interaction','NON_KEGG_Interaction']))"
   ]
  },
  {
   "cell_type": "markdown",
   "metadata": {},
   "source": [
    "##### ROC-AUC curve¶"
   ]
  },
  {
   "cell_type": "code",
   "execution_count": null,
   "metadata": {},
   "outputs": [],
   "source": [
    "## 3.ROC-AUC curve\n",
    "y_test_bool = np.asarray(list(map(int,[x=='NON_KEGG_Interaction' for x in y_test])))+1\n",
    "plotROC_AUC(y_test_bool, y_score)"
   ]
  },
  {
   "cell_type": "markdown",
   "metadata": {},
   "source": [
    "### RandomWalkLabeled kernel"
   ]
  },
  {
   "cell_type": "markdown",
   "metadata": {},
   "source": [
    "#### classifier example"
   ]
  },
  {
   "cell_type": "code",
   "execution_count": 5,
   "metadata": {
    "ExecuteTime": {
     "end_time": "2021-06-19T08:17:35.742947Z",
     "start_time": "2021-06-19T08:17:35.739790Z"
    }
   },
   "outputs": [],
   "source": [
    "from grakel.kernels RandomWalkLabeled"
   ]
  },
  {
   "cell_type": "code",
   "execution_count": 6,
   "metadata": {
    "ExecuteTime": {
     "end_time": "2021-06-19T10:32:13.766526Z",
     "start_time": "2021-06-19T08:17:40.286448Z"
    },
    "collapsed": true
   },
   "outputs": [
    {
     "name": "stderr",
     "output_type": "stream",
     "text": [
      "Intel(R) Extension for Scikit-learn* enabled (https://github.com/intel/scikit-learn-intelex)\n"
     ]
    },
    {
     "ename": "KeyboardInterrupt",
     "evalue": "",
     "output_type": "error",
     "traceback": [
      "\u001b[0;31m---------------------------------------------------------------------------\u001b[0m",
      "\u001b[0;31mKeyboardInterrupt\u001b[0m                         Traceback (most recent call last)",
      "\u001b[0;32m<ipython-input-6-65d013165f01>\u001b[0m in \u001b[0;36m<module>\u001b[0;34m\u001b[0m\n\u001b[1;32m      1\u001b[0m \u001b[0;31m# one iter\u001b[0m\u001b[0;34m\u001b[0m\u001b[0;34m\u001b[0m\u001b[0;34m\u001b[0m\u001b[0m\n\u001b[0;32m----> 2\u001b[0;31m \u001b[0mk_fold_fast\u001b[0m\u001b[0;34m(\u001b[0m\u001b[0;36m1\u001b[0m\u001b[0;34m,\u001b[0m\u001b[0mRandomWalk\u001b[0m\u001b[0;34m)\u001b[0m\u001b[0;34m\u001b[0m\u001b[0;34m\u001b[0m\u001b[0m\n\u001b[0m",
      "\u001b[0;32m<ipython-input-3-6952ce476fc6>\u001b[0m in \u001b[0;36mk_fold_fast\u001b[0;34m(s, kernel)\u001b[0m\n\u001b[1;32m    227\u001b[0m     \u001b[0;31m# (1).Use the \"shortest path kernel\" to generate kernel matrices\u001b[0m\u001b[0;34m\u001b[0m\u001b[0;34m\u001b[0m\u001b[0;34m\u001b[0m\u001b[0m\n\u001b[1;32m    228\u001b[0m     \u001b[0mgk1\u001b[0m \u001b[0;34m=\u001b[0m \u001b[0mkernel\u001b[0m\u001b[0;34m(\u001b[0m\u001b[0mnormalize\u001b[0m\u001b[0;34m=\u001b[0m\u001b[0;32mTrue\u001b[0m\u001b[0;34m)\u001b[0m\u001b[0;34m\u001b[0m\u001b[0;34m\u001b[0m\u001b[0m\n\u001b[0;32m--> 229\u001b[0;31m     \u001b[0mK1_train\u001b[0m \u001b[0;34m=\u001b[0m \u001b[0mgk1\u001b[0m\u001b[0;34m.\u001b[0m\u001b[0mfit_transform\u001b[0m\u001b[0;34m(\u001b[0m\u001b[0mx_train\u001b[0m\u001b[0;34m)\u001b[0m\u001b[0;34m\u001b[0m\u001b[0;34m\u001b[0m\u001b[0m\n\u001b[0m\u001b[1;32m    230\u001b[0m     \u001b[0mK1_test\u001b[0m \u001b[0;34m=\u001b[0m \u001b[0mgk1\u001b[0m\u001b[0;34m.\u001b[0m\u001b[0mtransform\u001b[0m\u001b[0;34m(\u001b[0m\u001b[0mx_validation\u001b[0m\u001b[0;34m)\u001b[0m\u001b[0;34m\u001b[0m\u001b[0;34m\u001b[0m\u001b[0m\n\u001b[1;32m    231\u001b[0m \u001b[0;34m\u001b[0m\u001b[0m\n",
      "\u001b[0;32m~/anaconda3/envs/tsai/lib/python3.7/site-packages/grakel/kernels/kernel.py\u001b[0m in \u001b[0;36mfit_transform\u001b[0;34m(self, X)\u001b[0m\n\u001b[1;32m    195\u001b[0m \u001b[0;34m\u001b[0m\u001b[0m\n\u001b[1;32m    196\u001b[0m         \u001b[0;31m# Transform - calculate kernel matrix\u001b[0m\u001b[0;34m\u001b[0m\u001b[0;34m\u001b[0m\u001b[0;34m\u001b[0m\u001b[0m\n\u001b[0;32m--> 197\u001b[0;31m         \u001b[0mkm\u001b[0m \u001b[0;34m=\u001b[0m \u001b[0mself\u001b[0m\u001b[0;34m.\u001b[0m\u001b[0m_calculate_kernel_matrix\u001b[0m\u001b[0;34m(\u001b[0m\u001b[0;34m)\u001b[0m\u001b[0;34m\u001b[0m\u001b[0;34m\u001b[0m\u001b[0m\n\u001b[0m\u001b[1;32m    198\u001b[0m \u001b[0;34m\u001b[0m\u001b[0m\n\u001b[1;32m    199\u001b[0m         \u001b[0mself\u001b[0m\u001b[0;34m.\u001b[0m\u001b[0m_X_diag\u001b[0m \u001b[0;34m=\u001b[0m \u001b[0mnp\u001b[0m\u001b[0;34m.\u001b[0m\u001b[0mdiagonal\u001b[0m\u001b[0;34m(\u001b[0m\u001b[0mkm\u001b[0m\u001b[0;34m)\u001b[0m\u001b[0;34m\u001b[0m\u001b[0;34m\u001b[0m\u001b[0m\n",
      "\u001b[0;32m~/anaconda3/envs/tsai/lib/python3.7/site-packages/grakel/kernels/kernel.py\u001b[0m in \u001b[0;36m_calculate_kernel_matrix\u001b[0;34m(self, Y)\u001b[0m\n\u001b[1;32m    231\u001b[0m                     \u001b[0mK\u001b[0m\u001b[0;34m[\u001b[0m\u001b[0mi\u001b[0m\u001b[0;34m,\u001b[0m \u001b[0mi\u001b[0m\u001b[0;34m]\u001b[0m \u001b[0;34m=\u001b[0m \u001b[0mself\u001b[0m\u001b[0;34m.\u001b[0m\u001b[0mpairwise_operation\u001b[0m\u001b[0;34m(\u001b[0m\u001b[0mx\u001b[0m\u001b[0;34m,\u001b[0m \u001b[0mx\u001b[0m\u001b[0;34m)\u001b[0m\u001b[0;34m\u001b[0m\u001b[0;34m\u001b[0m\u001b[0m\n\u001b[1;32m    232\u001b[0m                     \u001b[0;32mfor\u001b[0m \u001b[0;34m(\u001b[0m\u001b[0mj\u001b[0m\u001b[0;34m,\u001b[0m \u001b[0my\u001b[0m\u001b[0;34m)\u001b[0m \u001b[0;32min\u001b[0m \u001b[0menumerate\u001b[0m\u001b[0;34m(\u001b[0m\u001b[0mcache\u001b[0m\u001b[0;34m)\u001b[0m\u001b[0;34m:\u001b[0m\u001b[0;34m\u001b[0m\u001b[0;34m\u001b[0m\u001b[0m\n\u001b[0;32m--> 233\u001b[0;31m                         \u001b[0mK\u001b[0m\u001b[0;34m[\u001b[0m\u001b[0mj\u001b[0m\u001b[0;34m,\u001b[0m \u001b[0mi\u001b[0m\u001b[0;34m]\u001b[0m \u001b[0;34m=\u001b[0m \u001b[0mself\u001b[0m\u001b[0;34m.\u001b[0m\u001b[0mpairwise_operation\u001b[0m\u001b[0;34m(\u001b[0m\u001b[0my\u001b[0m\u001b[0;34m,\u001b[0m \u001b[0mx\u001b[0m\u001b[0;34m)\u001b[0m\u001b[0;34m\u001b[0m\u001b[0;34m\u001b[0m\u001b[0m\n\u001b[0m\u001b[1;32m    234\u001b[0m                     \u001b[0mcache\u001b[0m\u001b[0;34m.\u001b[0m\u001b[0mappend\u001b[0m\u001b[0;34m(\u001b[0m\u001b[0mx\u001b[0m\u001b[0;34m)\u001b[0m\u001b[0;34m\u001b[0m\u001b[0;34m\u001b[0m\u001b[0m\n\u001b[1;32m    235\u001b[0m             \u001b[0;32melse\u001b[0m\u001b[0;34m:\u001b[0m\u001b[0;34m\u001b[0m\u001b[0;34m\u001b[0m\u001b[0m\n",
      "\u001b[0;32m~/anaconda3/envs/tsai/lib/python3.7/site-packages/grakel/kernels/random_walk.py\u001b[0m in \u001b[0;36mpairwise_operation\u001b[0;34m(self, X, Y)\u001b[0m\n\u001b[1;32m    269\u001b[0m             \u001b[0mA\u001b[0m \u001b[0;34m=\u001b[0m \u001b[0mLinearOperator\u001b[0m\u001b[0;34m(\u001b[0m\u001b[0;34m(\u001b[0m\u001b[0mmn\u001b[0m\u001b[0;34m,\u001b[0m \u001b[0mmn\u001b[0m\u001b[0;34m)\u001b[0m\u001b[0;34m,\u001b[0m \u001b[0mmatvec\u001b[0m\u001b[0;34m=\u001b[0m\u001b[0;32mlambda\u001b[0m \u001b[0mx\u001b[0m\u001b[0;34m:\u001b[0m \u001b[0mlsf\u001b[0m\u001b[0;34m(\u001b[0m\u001b[0mx\u001b[0m\u001b[0;34m,\u001b[0m \u001b[0mself\u001b[0m\u001b[0;34m.\u001b[0m\u001b[0mlamda\u001b[0m\u001b[0;34m)\u001b[0m\u001b[0;34m)\u001b[0m\u001b[0;34m\u001b[0m\u001b[0;34m\u001b[0m\u001b[0m\n\u001b[1;32m    270\u001b[0m             \u001b[0mb\u001b[0m \u001b[0;34m=\u001b[0m \u001b[0mnp\u001b[0m\u001b[0;34m.\u001b[0m\u001b[0mones\u001b[0m\u001b[0;34m(\u001b[0m\u001b[0mmn\u001b[0m\u001b[0;34m)\u001b[0m\u001b[0;34m\u001b[0m\u001b[0;34m\u001b[0m\u001b[0m\n\u001b[0;32m--> 271\u001b[0;31m             \u001b[0mx_sol\u001b[0m\u001b[0;34m,\u001b[0m \u001b[0m_\u001b[0m \u001b[0;34m=\u001b[0m \u001b[0mcg\u001b[0m\u001b[0;34m(\u001b[0m\u001b[0mA\u001b[0m\u001b[0;34m,\u001b[0m \u001b[0mb\u001b[0m\u001b[0;34m,\u001b[0m \u001b[0mtol\u001b[0m\u001b[0;34m=\u001b[0m\u001b[0;36m1.0e-6\u001b[0m\u001b[0;34m,\u001b[0m \u001b[0mmaxiter\u001b[0m\u001b[0;34m=\u001b[0m\u001b[0;36m20\u001b[0m\u001b[0;34m,\u001b[0m \u001b[0matol\u001b[0m\u001b[0;34m=\u001b[0m\u001b[0;34m'legacy'\u001b[0m\u001b[0;34m)\u001b[0m\u001b[0;34m\u001b[0m\u001b[0;34m\u001b[0m\u001b[0m\n\u001b[0m\u001b[1;32m    272\u001b[0m             \u001b[0;32mreturn\u001b[0m \u001b[0mnp\u001b[0m\u001b[0;34m.\u001b[0m\u001b[0msum\u001b[0m\u001b[0;34m(\u001b[0m\u001b[0mx_sol\u001b[0m\u001b[0;34m)\u001b[0m\u001b[0;34m\u001b[0m\u001b[0;34m\u001b[0m\u001b[0m\n\u001b[1;32m    273\u001b[0m \u001b[0;34m\u001b[0m\u001b[0m\n",
      "\u001b[0;32m~/anaconda3/envs/tsai/lib/python3.7/site-packages/scipy/sparse/linalg/isolve/iterative.py\u001b[0m in \u001b[0;36mcg\u001b[0;34m(A, b, x0, tol, maxiter, M, callback, atol)\u001b[0m\n",
      "\u001b[0;32m~/anaconda3/envs/tsai/lib/python3.7/site-packages/scipy/_lib/_threadsafety.py\u001b[0m in \u001b[0;36mcaller\u001b[0;34m(func, *a, **kw)\u001b[0m\n\u001b[1;32m     42\u001b[0m         \u001b[0;32mdef\u001b[0m \u001b[0mcaller\u001b[0m\u001b[0;34m(\u001b[0m\u001b[0mfunc\u001b[0m\u001b[0;34m,\u001b[0m \u001b[0;34m*\u001b[0m\u001b[0ma\u001b[0m\u001b[0;34m,\u001b[0m \u001b[0;34m**\u001b[0m\u001b[0mkw\u001b[0m\u001b[0;34m)\u001b[0m\u001b[0;34m:\u001b[0m\u001b[0;34m\u001b[0m\u001b[0;34m\u001b[0m\u001b[0m\n\u001b[1;32m     43\u001b[0m             \u001b[0;32mwith\u001b[0m \u001b[0mself\u001b[0m\u001b[0;34m:\u001b[0m\u001b[0;34m\u001b[0m\u001b[0;34m\u001b[0m\u001b[0m\n\u001b[0;32m---> 44\u001b[0;31m                 \u001b[0;32mreturn\u001b[0m \u001b[0mfunc\u001b[0m\u001b[0;34m(\u001b[0m\u001b[0;34m*\u001b[0m\u001b[0ma\u001b[0m\u001b[0;34m,\u001b[0m \u001b[0;34m**\u001b[0m\u001b[0mkw\u001b[0m\u001b[0;34m)\u001b[0m\u001b[0;34m\u001b[0m\u001b[0;34m\u001b[0m\u001b[0m\n\u001b[0m\u001b[1;32m     45\u001b[0m         \u001b[0;32mreturn\u001b[0m \u001b[0mscipy\u001b[0m\u001b[0;34m.\u001b[0m\u001b[0m_lib\u001b[0m\u001b[0;34m.\u001b[0m\u001b[0mdecorator\u001b[0m\u001b[0;34m.\u001b[0m\u001b[0mdecorate\u001b[0m\u001b[0;34m(\u001b[0m\u001b[0mfunc\u001b[0m\u001b[0;34m,\u001b[0m \u001b[0mcaller\u001b[0m\u001b[0;34m)\u001b[0m\u001b[0;34m\u001b[0m\u001b[0;34m\u001b[0m\u001b[0m\n\u001b[1;32m     46\u001b[0m \u001b[0;34m\u001b[0m\u001b[0m\n",
      "\u001b[0;32m~/anaconda3/envs/tsai/lib/python3.7/site-packages/scipy/sparse/linalg/isolve/iterative.py\u001b[0m in \u001b[0;36mcg\u001b[0;34m(A, b, x0, tol, maxiter, M, callback, atol)\u001b[0m\n\u001b[1;32m    328\u001b[0m             \u001b[0mwork\u001b[0m\u001b[0;34m[\u001b[0m\u001b[0mslice2\u001b[0m\u001b[0;34m]\u001b[0m \u001b[0;34m*=\u001b[0m \u001b[0msclr2\u001b[0m\u001b[0;34m\u001b[0m\u001b[0;34m\u001b[0m\u001b[0m\n\u001b[1;32m    329\u001b[0m             \u001b[0mwork\u001b[0m\u001b[0;34m[\u001b[0m\u001b[0mslice2\u001b[0m\u001b[0;34m]\u001b[0m \u001b[0;34m+=\u001b[0m \u001b[0msclr1\u001b[0m\u001b[0;34m*\u001b[0m\u001b[0mmatvec\u001b[0m\u001b[0;34m(\u001b[0m\u001b[0mwork\u001b[0m\u001b[0;34m[\u001b[0m\u001b[0mslice1\u001b[0m\u001b[0;34m]\u001b[0m\u001b[0;34m)\u001b[0m\u001b[0;34m\u001b[0m\u001b[0;34m\u001b[0m\u001b[0m\n\u001b[0;32m--> 330\u001b[0;31m         \u001b[0;32melif\u001b[0m \u001b[0;34m(\u001b[0m\u001b[0mijob\u001b[0m \u001b[0;34m==\u001b[0m \u001b[0;36m2\u001b[0m\u001b[0;34m)\u001b[0m\u001b[0;34m:\u001b[0m\u001b[0;34m\u001b[0m\u001b[0;34m\u001b[0m\u001b[0m\n\u001b[0m\u001b[1;32m    331\u001b[0m             \u001b[0mwork\u001b[0m\u001b[0;34m[\u001b[0m\u001b[0mslice1\u001b[0m\u001b[0;34m]\u001b[0m \u001b[0;34m=\u001b[0m \u001b[0mpsolve\u001b[0m\u001b[0;34m(\u001b[0m\u001b[0mwork\u001b[0m\u001b[0;34m[\u001b[0m\u001b[0mslice2\u001b[0m\u001b[0;34m]\u001b[0m\u001b[0;34m)\u001b[0m\u001b[0;34m\u001b[0m\u001b[0;34m\u001b[0m\u001b[0m\n\u001b[1;32m    332\u001b[0m         \u001b[0;32melif\u001b[0m \u001b[0;34m(\u001b[0m\u001b[0mijob\u001b[0m \u001b[0;34m==\u001b[0m \u001b[0;36m3\u001b[0m\u001b[0;34m)\u001b[0m\u001b[0;34m:\u001b[0m\u001b[0;34m\u001b[0m\u001b[0;34m\u001b[0m\u001b[0m\n",
      "\u001b[0;31mKeyboardInterrupt\u001b[0m: "
     ]
    }
   ],
   "source": [
    "# one iter\n",
    "k_fold_fast(1,RandomWalkLabeled)"
   ]
  },
  {
   "cell_type": "markdown",
   "metadata": {
    "code_folding": []
   },
   "source": [
    "#### 10 fold cross-validation"
   ]
  },
  {
   "cell_type": "code",
   "execution_count": null,
   "metadata": {},
   "outputs": [],
   "source": [
    "cv_acc_list = []\n",
    "cv_acc_list_train = []\n",
    "for s in range(1,11):\n",
    "    acc = k_fold_fast(s,Propagation)\n",
    "    cv_acc_list_train.append(acc[0])\n",
    "    cv_acc_list.append(acc[1])"
   ]
  },
  {
   "cell_type": "code",
   "execution_count": null,
   "metadata": {},
   "outputs": [],
   "source": [
    "import matplotlib.pyplot as plt\n",
    "\n",
    "fig,ax = plt.subplots(dpi=300)\n",
    "\n",
    "ax.set_ylim([75,80])\n",
    "\n",
    "plt.title(\"10-fold Cross-Validated \")\n",
    "plt.xlabel('Fixed data set')\n",
    "plt.ylabel('Accuracy(%)')\n",
    "\n",
    "plt.plot(range(1,11),list(np.array(cv_acc_list)*100),'g-o',label=\"test Acc\")\n",
    "plt.plot(range(1,11),list(np.array(cv_acc_list_train)*100),'b-x',label=\"train Acc\")\n",
    "\n",
    "plt.grid(True)\n",
    "plt.legend(bbox_to_anchor=(1.0, 1), loc=1, borderaxespad=0.)\n",
    "\n",
    "plt.show()"
   ]
  },
  {
   "cell_type": "markdown",
   "metadata": {},
   "source": [
    "#### evaluate"
   ]
  },
  {
   "cell_type": "code",
   "execution_count": null,
   "metadata": {
    "code_folding": []
   },
   "outputs": [],
   "source": [
    "# best iter\n",
    "s = 7\n",
    "kernel = Propagation\n",
    "### 1.Assign training & validation set\n",
    "# (1).fix one set for validation\n",
    "x_test = globals()[f'sub{s}'].Graph\n",
    "y_test = globals()[f'sub{s}'].Label\n",
    "\n",
    "# (2).nine set for training\n",
    "train = pd.concat([eval(f'sub{n}') for n in range(1,11) if n != s],axis=0).reset_index(drop=True)\n",
    "x_train = train.Graph\n",
    "y_train = train.Label\n",
    "\n",
    "### 2.10 iterations of training\n",
    "# (1).Use the \"shortest path kernel\" to generate kernel matrices\n",
    "gk1 = kernel(normalize=True)\n",
    "K1_train = gk1.fit_transform(x_train)\n",
    "K1_test = gk1.transform(x_test)\n",
    "\n",
    "# (2).Using SVM classifier for classification\n",
    "clf = SVC(kernel=\"precomputed\")\n",
    "clf.fit(K1_train, y_train)\n",
    "y_pred = clf.predict(K1_test)\n",
    "y_score = clf.fit(K1_train, y_train).decision_function(K1_test)\n",
    "\n",
    "# (3).caculate classification accuracy\n",
    "acc = accuracy_score(y_test, y_pred)\n",
    "\n",
    "# (4).train predict \n",
    "y_pred_train = clf.predict(K1_train)\n",
    "acc_train = accuracy_score(y_train, y_pred_train)\n",
    "\n",
    "print(f\"{s} iter Accuracy(train,test):\", str(round(acc_train*100, 2)) + \"%\", str(round(acc*100, 2)) + \"%\")\n"
   ]
  },
  {
   "cell_type": "markdown",
   "metadata": {
    "heading_collapsed": true
   },
   "source": [
    "##### Prediction error"
   ]
  },
  {
   "cell_type": "code",
   "execution_count": null,
   "metadata": {
    "hidden": true
   },
   "outputs": [],
   "source": [
    "globals()[f'sub{s}']['Pre_Label'] = y_pred\n",
    "# View predicted wrongly Labels\n",
    "NSPD_pre_err = globals()[f'sub{s}'].loc[globals()[f'sub{s}'].Label != globals()[f'sub{s}'].Pre_Label,['Sent','Gene1_loc','Gene2_loc','Label','Pre_Label']]"
   ]
  },
  {
   "cell_type": "code",
   "execution_count": null,
   "metadata": {
    "hidden": true
   },
   "outputs": [],
   "source": [
    "#save\n",
    "%cd /home/tku_stat_dell/Desktop/DS_corpus/predict_error\n",
    "NSPD_pre_err.to_pickle('NSPD_pre_err.pkl')"
   ]
  },
  {
   "cell_type": "code",
   "execution_count": null,
   "metadata": {
    "hidden": true
   },
   "outputs": [],
   "source": [
    "#load\n",
    "%cd /home/tku_stat_dell/Desktop/DS_corpus/predict_error\n",
    "NSPD_pre_err = pd.read_pickle('NSPD_pre_err.pkl')"
   ]
  },
  {
   "cell_type": "markdown",
   "metadata": {},
   "source": [
    "##### confusion matrix"
   ]
  },
  {
   "cell_type": "code",
   "execution_count": null,
   "metadata": {},
   "outputs": [],
   "source": [
    "## 1.confusion matrix\n",
    "cm = confusion_matrix(y_test,y_pred)\n",
    "\n",
    "fig, ax = plt.subplots(figsize=(8,8),dpi=300)\n",
    "sns.heatmap(cm,annot=True, annot_kws={\"size\": 15},cmap='Blues', fmt='g')\n",
    "# labels, title and ticks\n",
    "ax.set_xlabel('Predicted labels')\n",
    "ax.set_ylabel('True labels')\n",
    "ax.set_title('Confusion Matrix')\n",
    "ax.xaxis.set_ticklabels([\"KEGG_Interaction\", \"NON_KEGG_Interaction\"]) \n",
    "ax.yaxis.set_ticklabels([\"KEGG_Interaction\", \"NON_KEGG_Interaction\"])"
   ]
  },
  {
   "cell_type": "markdown",
   "metadata": {
    "heading_collapsed": true
   },
   "source": [
    "##### precision, recall, f1-score"
   ]
  },
  {
   "cell_type": "code",
   "execution_count": null,
   "metadata": {
    "hidden": true
   },
   "outputs": [],
   "source": [
    "## 2.precision, recall, f1-score\n",
    "#Official documents : https://scikit-learn.org/stable/modules/generated/sklearn.metrics.classification_report.html\n",
    "#Interpret the results : https://www.libinx.com/2018/understanding-sklearn-classification-report/\n",
    "\n",
    "print(classification_report(y_test, y_pred, ['KEGG_Interaction','NON_KEGG_Interaction']))"
   ]
  },
  {
   "cell_type": "markdown",
   "metadata": {},
   "source": [
    "##### ROC-AUC curve"
   ]
  },
  {
   "cell_type": "code",
   "execution_count": null,
   "metadata": {},
   "outputs": [],
   "source": [
    "## 3.ROC-AUC curve\n",
    "y_test_bool = np.asarray(list(map(int,[x=='NON_KEGG_Interaction' for x in y_test])))+1\n",
    "plotROC_AUC(y_test_bool, y_score)"
   ]
  }
 ],
 "metadata": {
  "kernelspec": {
   "display_name": "tsai",
   "language": "python",
   "name": "tsai"
  },
  "language_info": {
   "codemirror_mode": {
    "name": "ipython",
    "version": 3
   },
   "file_extension": ".py",
   "mimetype": "text/x-python",
   "name": "python",
   "nbconvert_exporter": "python",
   "pygments_lexer": "ipython3",
   "version": "3.7.7"
  },
  "toc": {
   "base_numbering": 1,
   "nav_menu": {},
   "number_sections": true,
   "sideBar": true,
   "skip_h1_title": false,
   "title_cell": "Table of Contents",
   "title_sidebar": "Contents",
   "toc_cell": false,
   "toc_position": {
    "height": "calc(100% - 180px)",
    "left": "10px",
    "top": "150px",
    "width": "172.198px"
   },
   "toc_section_display": true,
   "toc_window_display": true
  },
  "varInspector": {
   "cols": {
    "lenName": 16,
    "lenType": 16,
    "lenVar": 40
   },
   "kernels_config": {
    "python": {
     "delete_cmd_postfix": "",
     "delete_cmd_prefix": "del ",
     "library": "var_list.py",
     "varRefreshCmd": "print(var_dic_list())"
    },
    "r": {
     "delete_cmd_postfix": ") ",
     "delete_cmd_prefix": "rm(",
     "library": "var_list.r",
     "varRefreshCmd": "cat(var_dic_list()) "
    }
   },
   "oldHeight": 188.786,
   "position": {
    "height": "210.05px",
    "left": "696.125px",
    "right": "20px",
    "top": "74px",
    "width": "350px"
   },
   "types_to_exclude": [
    "module",
    "function",
    "builtin_function_or_method",
    "instance",
    "_Feature"
   ],
   "varInspector_section_display": "block",
   "window_display": false
  }
 },
 "nbformat": 4,
 "nbformat_minor": 4
}
