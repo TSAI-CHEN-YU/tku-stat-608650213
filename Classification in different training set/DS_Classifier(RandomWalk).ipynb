{
 "cells": [
  {
   "cell_type": "code",
   "execution_count": 1,
   "metadata": {
    "ExecuteTime": {
     "end_time": "2021-06-20T17:50:35.709412Z",
     "start_time": "2021-06-20T17:50:35.556935Z"
    },
    "scrolled": true
   },
   "outputs": [
    {
     "name": "stdout",
     "output_type": "stream",
     "text": [
      "Could not find platform independent libraries <prefix>\r\n",
      "Could not find platform dependent libraries <exec_prefix>\r\n",
      "Consider setting $PYTHONHOME to <prefix>[:<exec_prefix>]\r\n",
      "Python 2.7.13 :: Continuum Analytics, Inc.\r\n"
     ]
    }
   ],
   "source": [
    "!python --version"
   ]
  },
  {
   "cell_type": "code",
   "execution_count": 1,
   "metadata": {
    "ExecuteTime": {
     "end_time": "2021-06-21T07:08:03.803921Z",
     "start_time": "2021-06-21T07:08:03.800065Z"
    },
    "code_folding": [
     0
    ],
    "scrolled": true
   },
   "outputs": [],
   "source": [
    "# !pip install spacy\n",
    "# !pip install scispacy\n",
    "# !pip install spacy-transformers\n",
    "# !pip install https://s3-us-west-2.amazonaws.com/ai2-s2-scispacy/releases/v0.4.0/en_core_sci_scibert-0.4.0.tar.gz\n",
    "\n",
    "# !pip install networkx\n",
    "# !pip install tqdm\n",
    "# !pip install grakel\n",
    "# !pip install seaborn\n",
    "# !pip install matplotlib\n",
    "# !pip install numpy\n",
    "# !pip install -U numpy\n",
    "# !pip install pandas\n",
    "# !pip install --upgrade pandas\n",
    "# !pip install scikit-learn-intelex"
   ]
  },
  {
   "cell_type": "code",
   "execution_count": 2,
   "metadata": {
    "ExecuteTime": {
     "end_time": "2021-06-21T07:08:07.034127Z",
     "start_time": "2021-06-21T07:08:04.513083Z"
    },
    "code_folding": [
     0
    ]
   },
   "outputs": [],
   "source": [
    "###packages\n",
    "import scispacy\n",
    "import spacy\n",
    "\n",
    "import en_core_sci_scibert\n",
    "\n",
    "from spacy import displacy\n",
    "\n",
    "import pickle\n",
    "import time\n",
    "import os\n",
    "\n",
    "import numpy as np\n",
    "import itertools\n",
    "from itertools import combinations   \n",
    "\n",
    "import networkx as nx\n",
    "\n",
    "import pandas as pd\n",
    "from tqdm import tqdm\n",
    "\n",
    "import sys\n",
    "sys.setrecursionlimit(1000000)\n",
    "\n",
    "import gc"
   ]
  },
  {
   "cell_type": "code",
   "execution_count": 3,
   "metadata": {
    "ExecuteTime": {
     "end_time": "2021-06-21T07:08:07.688426Z",
     "start_time": "2021-06-21T07:08:07.050020Z"
    },
    "code_folding": [
     0
    ]
   },
   "outputs": [
    {
     "name": "stdout",
     "output_type": "stream",
     "text": [
      "Automatically created module for IPython interactive environment\n"
     ]
    }
   ],
   "source": [
    "### machine learning-graph kernel(GraKeL)\n",
    "from __future__ import print_function # >=python2.7\n",
    "print(__doc__)\n",
    "\n",
    "%matplotlib inline\n",
    "\n",
    "from sklearn.svm import SVC\n",
    "from sklearn.model_selection import train_test_split\n",
    "from sklearn.model_selection import GridSearchCV\n",
    "from sklearn.model_selection import cross_val_predict\n",
    "from sklearn.pipeline import make_pipeline\n",
    "from sklearn.metrics import accuracy_score\n",
    "\n",
    "from grakel.datasets import fetch_dataset\n",
    "from grakel.utils import cross_validate_Kfold_SVM\n",
    "from grakel.kernels import WeisfeilerLehman, VertexHistogram\n",
    "\n",
    "from grakel.utils import graph_from_networkx\n",
    "\n",
    "# kernels\n",
    "from grakel.kernels import ShortestPath #Shortest Path Kernel\n",
    "from grakel.kernels import PropagationAttr #Propagation kernels\n",
    "\n",
    "#evaluate\n",
    "import seaborn as sns\n",
    "from sklearn.metrics import confusion_matrix\n",
    "import matplotlib.pyplot as plt\n",
    "from sklearn.metrics import classification_report"
   ]
  },
  {
   "cell_type": "code",
   "execution_count": 4,
   "metadata": {
    "ExecuteTime": {
     "end_time": "2021-06-21T07:08:07.911802Z",
     "start_time": "2021-06-21T07:08:07.700080Z"
    },
    "code_folding": [
     0,
     3,
     10,
     17,
     33,
     55,
     134,
     140,
     146,
     152,
     156,
     175,
     208
    ]
   },
   "outputs": [],
   "source": [
    "### function\n",
    "    \n",
    "# save variable：\n",
    "def save_variable(v,filename):\n",
    "    f=open(filename,'wb')\n",
    "    pickle.dump(v,f)\n",
    "    f.close()\n",
    "    return filename\n",
    "\n",
    "# load variable：\n",
    "def load_variavle(filename):\n",
    "   f=open(filename,'rb')\n",
    "   r=pickle.load(f)\n",
    "   f.close()\n",
    "   return r\n",
    "\n",
    "# gene ncbi id in sentence\n",
    "def gene_in_sentence(sentence): \n",
    "    sentence_gene = []\n",
    "    string = sentence\n",
    "    while string.find('Gene_')!=-1: #句子還有Gene，就繼續尋找\n",
    "        sentence = string\n",
    "        x = sentence.find('Gene_') + 4\n",
    "\n",
    "        #ID至少1位數，往後找到完整ID \n",
    "        l=1\n",
    "        string = sentence[x+1:]\n",
    "        while string[:l].isdigit()==True: l+=1    \n",
    "        ncbi_id_i = string[:l-1]\n",
    "        sentence_gene.append(ncbi_id_i)\n",
    "    return list(set(sentence_gene))\n",
    "\n",
    "# nlp preprocessing\n",
    "def Display_interaction_Sent(doc,Gene1,Gene2,INTERACTION):\n",
    "    # Display DNA Entities \n",
    "    sent = doc.text[:]\n",
    "\n",
    "    # POS、Tag\n",
    "    tt = \"\"\n",
    "    pp = \"\"\n",
    "    for token in doc:\n",
    "        if 'Gene' in token.text:\n",
    "            tt = tt +' '+ token.text\n",
    "            pp = pp +' '+ token.text\n",
    "        else:\n",
    "            tt = tt +' '+ token.tag_\n",
    "            pp = pp +' '+ token.pos_\n",
    "            \n",
    "    print('\\033[1m'+'Label :','\\033[0m',INTERACTION) #Label\n",
    "    print('\\033[1m'+'Gene pair :','\\033[0m',Gene1,Gene2) #Gene pair\n",
    "    print('\\033[1m'+'Sent :','\\033[0m',sent) #Sentence\n",
    "    print('\\033[1m'+'Tag Sent:'+'\\033[0m',tt)\n",
    "    print('\\033[1m'+'POS Sent:'+'\\033[0m',pp,'\\n')\n",
    "      \n",
    "# Define_Graph\n",
    "def Define_Graph(doc,path):\n",
    "    ### Define 'nodes' & 'edges' \n",
    "    #(1).define nodes(id)\n",
    "    nodes = [j for j in range(0,len(doc))]\n",
    "#     print('\\033[1m'+'nodes:','\\033[0m'+'\\n',nodes)\n",
    "\n",
    "    #(2).define edges\n",
    "    edges = []\n",
    "    for token in doc:\n",
    "        for child in token.children:\n",
    "            edges.append((token.i,\n",
    "                          child.i))\n",
    "#     print('\\033[1m'+'edges:','\\033[0m'+'\\n',edges)\n",
    "    \n",
    "    ### Define 'nodes label' & 'edges label'\n",
    "    #(3).define nodes_label\n",
    "    nodes_tag = []\n",
    "    sdp_tag = []\n",
    "    for token in doc:\n",
    "        # nodes tag\n",
    "        t_tag = token.tag_\n",
    "        nodes_tag.append(t_tag)\n",
    "        #shortest path tag\n",
    "        if token.i in path:\n",
    "            sdp_tag.append('SDP')\n",
    "        else:\n",
    "            sdp_tag.append('NSDP')\n",
    "        \n",
    "        \n",
    "    nodes_label = dict(zip(nodes,list(map(lambda x: np.array(x),zip(nodes_tag,sdp_tag)))))        \n",
    "#     print('\\033[1m'+'nodes_label:','\\033[0m')\n",
    "#     print(\"\\n\".join(str(i)+str(nodes_label[i])for i in nodes_label))\n",
    "\n",
    "\n",
    "    #(4).define edges_label\n",
    "    #attribute(dep relation, dep direction)******\n",
    "    dep_direction = []\n",
    "    Syntax_relation = []\n",
    "    for p in range(0,len(edges)):\n",
    "        F = int(edges[p][0])\n",
    "        C = int(edges[p][1])\n",
    "        # Direction\n",
    "        if C > F:\n",
    "            d = 'Backward' #Backward\n",
    "            dep_direction.append(d)\n",
    "        else:\n",
    "            d = 'Forward' #Forward\n",
    "            dep_direction.append(d)\n",
    "\n",
    "        # Syntax\n",
    "        s = doc[C].dep_\n",
    "        Syntax_relation.append(s)\n",
    "    edges_label = dict(zip(edges,list(map(lambda x: np.array(x),zip(dep_direction,Syntax_relation)))))\n",
    "#     print('\\033[1m'+'edges_label:','\\033[0m')\n",
    "#     print(\"\\n\".join(str(i)+str(edges_label[i])for i in edges_label))\n",
    "\n",
    "    #(5).define edges_weight\n",
    "    #short dep path = 0.9 , 0.1\n",
    "    weg = []\n",
    "    for p in range(0,len(edges)):\n",
    "        F = int(edges[p][0])\n",
    "        C = int(edges[p][1])\n",
    "\n",
    "        if C in path and F in path:\n",
    "            weg.append(0.9)\n",
    "        else:\n",
    "            weg.append(0.1)\n",
    "    edge_weight = dict(zip(edges,weg))\n",
    "#     print('\\033[1m'+'edge_weight:','\\033[0m')\n",
    "#     print(edge_weight)\n",
    "    \n",
    "    \n",
    "    globals()['nodes'] = nodes\n",
    "    globals()['edges'] = edges\n",
    "    globals()['nodes_label'] = nodes_label\n",
    "    globals()['edges_label'] = edges_label\n",
    "    globals()['edge_weight'] = edge_weight\n",
    "    \n",
    "# load spacy model\n",
    "def load_en_core_sci_scibert_model():\n",
    "    spacy.prefer_gpu() #use GPU\n",
    "    nlp = en_core_sci_scibert.load()\n",
    "    return nlp\n",
    "\n",
    "# load kegg gene pair\n",
    "def kegg_gene_pair_fun():\n",
    "    os.chdir('C:/Users/larry/Desktop/jupyter/Interaction_corpus/kegg_all_gene_pair')\n",
    "    kegg_gene_pair = pd.read_csv('kegg_gene_pair.csv')\n",
    "    return kegg_gene_pair\n",
    "\n",
    "# load kegg gene list\n",
    "def kegg_gene_list_fun():\n",
    "    os.chdir('C:/Users/larry/Desktop/jupyter/Interaction_corpus/kegg_all_gene_pair')\n",
    "    kegg_gene_list = np.load('kegg_gene_list.npy').tolist()\n",
    "    return kegg_gene_list\n",
    "\n",
    "# get list index\n",
    "def get_index(lst=None, item=''):\n",
    "    return [index for (index,value) in enumerate(lst) if value == item]\n",
    "\n",
    "# plot ROC curve\n",
    "def plotROC_AUC(yt, ys):\n",
    "    '''\n",
    "    plot ROC-AUC curve\n",
    "    param yt: True Y\n",
    "    param ys: Predict Y\n",
    "    '''\n",
    "    from sklearn import metrics\n",
    "    from matplotlib import pyplot as plt\n",
    "    f_pos, t_pos, thresh = metrics.roc_curve(yt, ys, pos_label=2)\n",
    "    auc_area = metrics.auc(f_pos, t_pos)\n",
    "\n",
    "    plt.figure(dpi=300) \n",
    "    plt.plot(f_pos, t_pos, 'darkorange', lw=2, label='AUC = %.2f' % auc_area)\n",
    "    plt.legend(loc='lower right')\n",
    "    plt.plot([0, 1], [0, 1], color='navy', linestyle='--')\n",
    "    plt.ylabel('True Positive Rate')\n",
    "    plt.xlabel('False Positive Rate')\n",
    "    plt.show()\n",
    "    \n",
    "def k_fold(s,kernel):\n",
    "    ### 1.Assign training & validation set\n",
    "    # (1).fix one set for validation\n",
    "    x_validation = globals()[f'sub{s}'].Graph\n",
    "    y_validation = globals()[f'sub{s}'].Label\n",
    "\n",
    "    # (2).nine set for training\n",
    "    train = pd.concat([eval(f'sub{n}') for n in range(1,11) if n != s],axis=0).reset_index(drop=True)\n",
    "    x_train = train.Graph\n",
    "    y_train = train.Label\n",
    "\n",
    "    ### 2.10 iterations of training\n",
    "    # (1).Use the \"shortest path kernel\" to generate kernel matrices\n",
    "    gk1 = kernel(normalize=True)\n",
    "    K1_train = gk1.fit_transform(x_train)\n",
    "    K1_test = gk1.transform(x_validation)\n",
    "\n",
    "    # (2).Using SVM classifier for classification\n",
    "    clf = SVC(kernel=\"precomputed\")\n",
    "    clf.fit(K1_train, y_train)\n",
    "    y_pred = clf.predict(K1_test)\n",
    "    y_score = clf.fit(K1_train, y_train).decision_function(K1_test)\n",
    "\n",
    "    # (3).caculate classification accuracy\n",
    "    acc = accuracy_score(y_validation, y_pred)\n",
    "    \n",
    "    # (4).train predict \n",
    "    y_pred_train = clf.predict(K1_train)\n",
    "    acc_train = accuracy_score(y_train, y_pred_train)\n",
    "    \n",
    "    print(f\"{s} iter Accuracy(train,test):\", str(round(acc_train*100, 2)) + \"%\", str(round(acc*100, 2)) + \"%\")\n",
    "    return acc_train,acc\n",
    "\n",
    "def k_fold_fast(s,kernel):\n",
    "    from sklearnex import patch_sklearn\n",
    "    patch_sklearn()\n",
    "\n",
    "    from sklearn.svm import SVC\n",
    "    \n",
    "    \n",
    "    ### 1.Assign training & validation set\n",
    "    # (1).fix one set for validation\n",
    "    x_validation = globals()[f'sub{s}'].Graph\n",
    "    y_validation = globals()[f'sub{s}'].Label\n",
    "\n",
    "    # (2).nine set for training\n",
    "    train = pd.concat([eval(f'sub{n}') for n in range(1,11) if n != s],axis=0).reset_index(drop=True)\n",
    "    x_train = train.Graph\n",
    "    y_train = train.Label\n",
    "\n",
    "    ### 2.10 iterations of training\n",
    "    # (1).Use the \"shortest path kernel\" to generate kernel matrices\n",
    "    gk1 = kernel(normalize=True)\n",
    "    K1_train = gk1.fit_transform(x_train)\n",
    "    K1_test = gk1.transform(x_validation)\n",
    "\n",
    "    # (2).Using SVM classifier for classification\n",
    "    clf = SVC(kernel=\"precomputed\")\n",
    "    clf.fit(K1_train, y_train)\n",
    "    y_pred = clf.predict(K1_test)\n",
    "    # y_score = clf.fit(K1_train, y_train).decision_function(K1_test)\n",
    "\n",
    "    # (3).caculate classification accuracy\n",
    "    acc = accuracy_score(y_validation, y_pred)\n",
    "    \n",
    "    # (4).train predict \n",
    "    y_pred_train = clf.predict(K1_train)\n",
    "    acc_train = accuracy_score(y_train, y_pred_train)\n",
    "    \n",
    "    print(f\"{s} iter Accuracy(train,test):\", str(round(acc_train*100, 2)) + \"%\", str(round(acc*100, 2)) + \"%\")\n",
    "    return acc_train,acc"
   ]
  },
  {
   "cell_type": "markdown",
   "metadata": {},
   "source": [
    "Reference page URL:\n",
    "1. pandas speed up : https://www.jianshu.com/p/ac339a8ea0d0\n",
    "2. pandas speed up result : https://blog.csdn.net/weixin_33848436/article/details/112523562?utm_medium=distribute.pc_relevant.none-task-blog-baidujs_title-0&spm=1001.2101.3001.4242\n",
    "2. grakel.graph_from_networkx : https://ysig.github.io/GraKeL/0.1a8/generated/grakel.graph_from_networkx.html\n",
    "4. roc curve : https://blog.csdn.net/pipisorry/article/details/53001866"
   ]
  },
  {
   "cell_type": "markdown",
   "metadata": {
    "id": "-fNInfyXt8pV"
   },
   "source": [
    "# DS corpus"
   ]
  },
  {
   "cell_type": "markdown",
   "metadata": {
    "heading_collapsed": true
   },
   "source": [
    "## data"
   ]
  },
  {
   "cell_type": "code",
   "execution_count": null,
   "metadata": {
    "ExecuteTime": {
     "end_time": "2021-05-22T10:44:30.303644Z",
     "start_time": "2021-05-22T10:44:30.259709Z"
    },
    "hidden": true
   },
   "outputs": [],
   "source": [
    "Path = 'C:/Users/larry/Desktop/jupyter/DS_corpus'\n",
    "allFileList = os.listdir(Path)\n",
    "allFileList"
   ]
  },
  {
   "cell_type": "code",
   "execution_count": null,
   "metadata": {
    "ExecuteTime": {
     "end_time": "2021-05-22T10:44:38.251220Z",
     "start_time": "2021-05-22T10:44:34.517558Z"
    },
    "code_folding": [
     2
    ],
    "hidden": true
   },
   "outputs": [],
   "source": [
    "# load all result\n",
    "df_list = []\n",
    "for file in allFileList:\n",
    "    os.chdir('C:/Users/larry/Desktop/jupyter/DS_corpus')\n",
    "    try:\n",
    "        arr=np.load(file,allow_pickle=True)\n",
    "    except OSError:\n",
    "        arr=np.loadtxt(file)\n",
    "        \n",
    "    df_list = df_list + arr.tolist()"
   ]
  },
  {
   "cell_type": "code",
   "execution_count": null,
   "metadata": {
    "ExecuteTime": {
     "end_time": "2021-05-22T10:44:38.267170Z",
     "start_time": "2021-05-22T10:44:38.253228Z"
    },
    "hidden": true
   },
   "outputs": [],
   "source": [
    "len(df_list)"
   ]
  },
  {
   "cell_type": "code",
   "execution_count": null,
   "metadata": {
    "ExecuteTime": {
     "end_time": "2021-05-22T10:44:39.845324Z",
     "start_time": "2021-05-22T10:44:38.269148Z"
    },
    "hidden": true
   },
   "outputs": [],
   "source": [
    "pre_df = pd.DataFrame(df_list,columns = [\"PMID\" ,\"LOCATION\",\"SENTENCE\" ,\"GENE1\" ,\"GENE2\" ,\"INTERACTION\"])\n",
    "DS_corpus_kegg = pre_df.loc[pre_df.astype(str).drop_duplicates().index].reset_index().drop([\"index\"], axis=1)"
   ]
  },
  {
   "cell_type": "markdown",
   "metadata": {},
   "source": [
    "## get label"
   ]
  },
  {
   "cell_type": "code",
   "execution_count": null,
   "metadata": {
    "ExecuteTime": {
     "end_time": "2021-05-22T10:44:45.284548Z",
     "start_time": "2021-05-22T10:44:39.846216Z"
    }
   },
   "outputs": [],
   "source": [
    "# kegg genes pair list\n",
    "os.chdir('C:/Users/larry/Desktop/jupyter/Interaction_corpus/kegg_all_gene_pair')\n",
    "kegg_gene_pair = pd.read_csv('kegg_gene_pair.csv')\n",
    "\n",
    "pair_list = []\n",
    "for kgp in kegg_gene_pair.index:\n",
    "    C = kegg_gene_pair.loc[kgp,['gene_1_id','gene_2_id']].astype(str).to_list()\n",
    "    pair_list.append(set(C))\n",
    "\n",
    "print(f'knowledge database : {len(pair_list)} gene pair')"
   ]
  },
  {
   "cell_type": "code",
   "execution_count": null,
   "metadata": {
    "ExecuteTime": {
     "end_time": "2021-05-22T10:49:31.935423Z",
     "start_time": "2021-05-22T10:44:45.285503Z"
    }
   },
   "outputs": [],
   "source": [
    "# git label for sentence\n",
    "Labels = []\n",
    "for i in tqdm(DS_corpus_kegg.index):\n",
    "    sent_p = set(DS_corpus_kegg.loc[i,['GENE1','GENE2']].astype(str).to_list())\n",
    "    if sent_p in pair_list:\n",
    "        label = 'KEGG_Interaction'\n",
    "    else:\n",
    "        label = 'NON_KEGG_Interaction'\n",
    "    Labels.append(label)\n",
    "\n",
    "    \n",
    "DS_corpus_kegg['INTERACTION'] = Labels"
   ]
  },
  {
   "cell_type": "markdown",
   "metadata": {},
   "source": [
    "### save data"
   ]
  },
  {
   "cell_type": "code",
   "execution_count": null,
   "metadata": {
    "ExecuteTime": {
     "end_time": "2021-05-31T06:30:40.195934Z",
     "start_time": "2021-05-31T06:30:39.640833Z"
    }
   },
   "outputs": [],
   "source": [
    "%cd /home/tku_stat_dell/Desktop/DS_corpus\n",
    "!ls"
   ]
  },
  {
   "cell_type": "code",
   "execution_count": null,
   "metadata": {
    "ExecuteTime": {
     "end_time": "2021-05-26T02:05:37.150623Z",
     "start_time": "2021-05-26T02:05:37.136661Z"
    },
    "code_folding": []
   },
   "outputs": [],
   "source": [
    "# # save1\n",
    "# DS_corpus_kegg.to_csv(r'C:/Users/larry/Desktop/jupyter/Interaction_corpus/DS_corpus/DS_corpus_kegg.csv', index=False)\n",
    "# # load1\n",
    "# DS = pd.read_csv('DS_corpus_kegg.csv')\n",
    "# # Normalized data\n",
    "# DS_corpus1 = DS.dropna(axis=0,how='any')[:]\n",
    "# DS_corpus1[['GENE1','GENE2']] = DS_corpus1[['GENE1','GENE2']].astype(int).astype(str)\n",
    "# DS_corpus2 = DS_corpus1.reset_index().drop([\"index\"], axis=1)\n",
    "# # save1\n",
    "# DS_corpus2.to_csv(r'C:/Users/larry/Desktop/jupyter/Interaction_corpus/DS_corpus/DS_corpus_kegg.csv', index=False)"
   ]
  },
  {
   "cell_type": "code",
   "execution_count": null,
   "metadata": {
    "ExecuteTime": {
     "end_time": "2021-05-31T06:31:54.546654Z",
     "start_time": "2021-05-31T06:31:53.596530Z"
    }
   },
   "outputs": [],
   "source": [
    "# load1\n",
    "DS_corpus_kegg = pd.read_csv('DS_corpus_kegg.csv')"
   ]
  },
  {
   "cell_type": "code",
   "execution_count": null,
   "metadata": {
    "ExecuteTime": {
     "end_time": "2021-05-31T06:31:59.307399Z",
     "start_time": "2021-05-31T06:31:59.267250Z"
    }
   },
   "outputs": [],
   "source": [
    "DS_corpus_kegg"
   ]
  },
  {
   "cell_type": "code",
   "execution_count": null,
   "metadata": {
    "ExecuteTime": {
     "end_time": "2021-05-31T06:32:15.358671Z",
     "start_time": "2021-05-31T06:32:15.259651Z"
    }
   },
   "outputs": [],
   "source": [
    "print('Gene-Gene Interaction:',DS_corpus_kegg.INTERACTION.value_counts()['KEGG_Interaction'])\n",
    "print('Not Gene-Gene Interaction:',DS_corpus_kegg.INTERACTION.value_counts()['NON_KEGG_Interaction'])"
   ]
  },
  {
   "cell_type": "markdown",
   "metadata": {
    "id": "-fNInfyXt8pV"
   },
   "source": [
    "# construct graph"
   ]
  },
  {
   "cell_type": "code",
   "execution_count": null,
   "metadata": {
    "ExecuteTime": {
     "end_time": "2021-05-31T06:32:27.016103Z",
     "start_time": "2021-05-31T06:32:18.151362Z"
    }
   },
   "outputs": [],
   "source": [
    "spacy.prefer_gpu() #use GPU\n",
    "nlp = en_core_sci_scibert.load()"
   ]
  },
  {
   "cell_type": "markdown",
   "metadata": {
    "id": "-fNInfyXt8pV"
   },
   "source": [
    "## Graphic feature extraction(define graph)\n",
    "Syntactic dependency & POS tag & shortest dependency path\n",
    "\n"
   ]
  },
  {
   "cell_type": "code",
   "execution_count": null,
   "metadata": {
    "ExecuteTime": {
     "end_time": "2021-05-31T17:34:46.865346Z",
     "start_time": "2021-05-31T06:59:07.265243Z"
    },
    "code_folding": [
     13
    ],
    "scrolled": true
   },
   "outputs": [],
   "source": [
    "### Graphic feature extraction\n",
    "#save time\n",
    "PMID_list = DS_corpus_kegg['PMID'].to_list()[:]\n",
    "LOCATION_list = DS_corpus_kegg['LOCATION'].to_list()[:]\n",
    "doc_list = DS_corpus_kegg['SENTENCE'].to_list()[:]\n",
    "Gene1_list = DS_corpus_kegg['GENE1'].to_list()[:]\n",
    "Gene2_list = DS_corpus_kegg['GENE2'].to_list()[:]\n",
    "INTERACTION_list = DS_corpus_kegg['INTERACTION'].to_list()[:]\n",
    "\n",
    "\n",
    "#start\n",
    "\n",
    "G_all = []\n",
    "for n in tqdm(DS_corpus_kegg.index): # long time, big!!!\n",
    "#     print(\"{:=^100s}\".format(str(n)))\n",
    "\n",
    "    ### 0.get gene interaction pair & sentence\n",
    "#     print('\\033[1m'+'PMID :','\\033[0m', PMID_list[n], LOCATION_list[n]) #PMID\n",
    "    doc = nlp(doc_list[n])\n",
    "    Gene1 = Gene1_list[n]\n",
    "    Gene2 = Gene2_list[n]\n",
    "    INTERACTION = INTERACTION_list[n]\n",
    "#     print('\\033[1m'+'Sent :','\\033[0m',doc) #Sentence\n",
    "\n",
    "    ### 1.Graphic feature extraction(dependency relation & token tag & shorteat path)      \n",
    "    edges = []\n",
    "    for token in doc:\n",
    "        # two gene location in sent\n",
    "        if f'Gene_{Gene1}' in token.text:\n",
    "            entity1 = token.i\n",
    "        if f'Gene_{Gene2}' in token.text:\n",
    "            entity2 = token.i\n",
    "        # sent id graph\n",
    "        for child in token.children:\n",
    "            edges.append((token.i,\n",
    "                          child.i))    \n",
    "    G = nx.Graph(edges)\n",
    "\n",
    "\n",
    "    # shortest path\n",
    "    try:\n",
    "        distance=nx.shortest_path_length(G, source=entity1, target=entity2)\n",
    "#         print(f'Gene {Gene1} to {Gene2} distance：', distance)\n",
    "        path=nx.shortest_path(G, source=entity1, target=entity2)\n",
    "#         print(f'Gene {Gene1} to {Gene2} path：', path,'\\n')\n",
    "    except nx.NetworkXNoPath:\n",
    "#         print('The shortest path between entities is not exist!!! The two are not related, skip')\n",
    "        continue\n",
    "    except nx.NodeNotFound:\n",
    "#         print('Program problem, can be improved, skip first') #Gene ID indicates error\n",
    "        continue\n",
    "        \n",
    "    if len(path)==2: # The shortest path between entities is adjacent! Non-interaction\n",
    "#         print('The shortest path between entities is adjacent!!! Non-interaction')\n",
    "        path = []\n",
    "        ## define sentence to graph\n",
    "        Define_Graph(doc,path)\n",
    "        ## construct NetworkX graph by GraKel format\n",
    "        G1 = nx.Graph()\n",
    "        G1.add_nodes_from(nodes)\n",
    "        G1.add_edges_from(edges, weight=3)\n",
    "        nx.set_node_attributes(G1,nodes_label,'label')\n",
    "        nx.set_edge_attributes(G1,edges_label,'attributes')\n",
    "        nx.set_edge_attributes(G1,edge_weight,'weight')\n",
    "\n",
    "        G_nx.append(G1)\n",
    "        G_Label.append('NON_KEGG_Interaction')\n",
    "        G_sent.append(doc.text)\n",
    "        G_all.append([doc.text,G1,Gene1,Gene2,entity1,entity2,'NON_KEGG_Interaction'])\n",
    "    else:\n",
    "#         print('Successfully constructed graphics')\n",
    "        ## define sentence to graph\n",
    "        Define_Graph(doc,path)\n",
    "        ## construct NetworkX graph\n",
    "        G1 = nx.Graph()\n",
    "        G1.add_nodes_from(nodes)\n",
    "        G1.add_edges_from(edges, weight=3)\n",
    "        nx.set_node_attributes(G1,nodes_label,'label')\n",
    "        nx.set_edge_attributes(G1,edges_label,'attributes')\n",
    "        nx.set_edge_attributes(G1,edge_weight,'weight')\n",
    "\n",
    "        G_all.append([doc.text,G1,Gene1,Gene2,entity1,entity2,INTERACTION])\n",
    "#         print('\\n')"
   ]
  },
  {
   "cell_type": "code",
   "execution_count": null,
   "metadata": {
    "ExecuteTime": {
     "end_time": "2021-05-31T17:34:59.279787Z",
     "start_time": "2021-05-31T17:34:58.614904Z"
    },
    "scrolled": true
   },
   "outputs": [],
   "source": [
    "DS_corpus_kegg_graph_data=pd.DataFrame(G_all,columns = [\"sent\" ,\"graph\",\"Gene1\" ,\"Gene2\" ,\"Gene1_loc\" ,\"Gene2_loc\",\"Label\"])\n",
    "\n",
    "DS_corpus_kegg_graph_data"
   ]
  },
  {
   "cell_type": "code",
   "execution_count": null,
   "metadata": {
    "ExecuteTime": {
     "end_time": "2021-06-01T01:05:11.515626Z",
     "start_time": "2021-06-01T01:05:11.401119Z"
    }
   },
   "outputs": [],
   "source": [
    "print('Gene-Gene Interaction:',DS_corpus_kegg_graph_data.Label.value_counts()['KEGG_Interaction'])\n",
    "print('Not Gene-Gene Interaction:',DS_corpus_kegg_graph_data.Label.value_counts()['NON_KEGG_Interaction'])"
   ]
  },
  {
   "cell_type": "markdown",
   "metadata": {
    "id": "-fNInfyXt8pV"
   },
   "source": [
    "## save variable"
   ]
  },
  {
   "cell_type": "code",
   "execution_count": null,
   "metadata": {
    "ExecuteTime": {
     "end_time": "2021-06-01T01:53:05.267859Z",
     "start_time": "2021-06-01T01:53:05.260927Z"
    }
   },
   "outputs": [],
   "source": [
    "%cd /home/tku_stat_dell/Desktop/DS_corpus/DS_corpus_kegg_graph_data\n",
    "!ls"
   ]
  },
  {
   "cell_type": "code",
   "execution_count": null,
   "metadata": {
    "ExecuteTime": {
     "end_time": "2021-06-01T01:56:04.918780Z",
     "start_time": "2021-06-01T01:53:50.231578Z"
    }
   },
   "outputs": [],
   "source": [
    "#save df(split)\n",
    "DS_corpus_kegg_graph_data[:130789].to_pickle('DS_corpus_kegg_graph_data_1.pkl')"
   ]
  },
  {
   "cell_type": "code",
   "execution_count": null,
   "metadata": {
    "ExecuteTime": {
     "end_time": "2021-06-01T02:02:53.475418Z",
     "start_time": "2021-06-01T02:00:36.253319Z"
    }
   },
   "outputs": [],
   "source": [
    "#save df(split)\n",
    "DS_corpus_kegg_graph_data[130789:261578].to_pickle('DS_corpus_kegg_graph_data_2.pkl')"
   ]
  },
  {
   "cell_type": "code",
   "execution_count": null,
   "metadata": {
    "ExecuteTime": {
     "end_time": "2021-06-01T02:06:21.183903Z",
     "start_time": "2021-06-01T02:04:00.352438Z"
    }
   },
   "outputs": [],
   "source": [
    "#save df(split)\n",
    "DS_corpus_kegg_graph_data[261578:].to_pickle('DS_corpus_kegg_graph_data_3.pkl')"
   ]
  },
  {
   "cell_type": "code",
   "execution_count": null,
   "metadata": {
    "ExecuteTime": {
     "end_time": "2021-06-01T02:06:24.898744Z",
     "start_time": "2021-06-01T02:06:24.894792Z"
    }
   },
   "outputs": [],
   "source": [
    "len(DS_corpus_kegg_graph_data)"
   ]
  },
  {
   "cell_type": "markdown",
   "metadata": {
    "id": "-fNInfyXt8pV"
   },
   "source": [
    "## load variable"
   ]
  },
  {
   "cell_type": "code",
   "execution_count": null,
   "metadata": {
    "ExecuteTime": {
     "end_time": "2021-06-01T04:28:22.638413Z",
     "start_time": "2021-06-01T04:28:22.481244Z"
    }
   },
   "outputs": [],
   "source": [
    "%cd /home/tku_stat_dell/Desktop/DS_corpus/DS_corpus_kegg_graph_data\n",
    "!ls"
   ]
  },
  {
   "cell_type": "code",
   "execution_count": null,
   "metadata": {
    "ExecuteTime": {
     "end_time": "2021-06-01T04:31:41.040364Z",
     "start_time": "2021-06-01T04:28:24.461665Z"
    }
   },
   "outputs": [],
   "source": [
    "### Load final result( graph df(.pkl) )\n",
    "%cd /home/tku_stat_dell/Desktop/DS_corpus/DS_corpus_kegg_graph_data\n",
    "data_1 = pd.read_pickle('DS_corpus_kegg_graph_data_1.pkl')\n",
    "print('1 done')\n",
    "data_2 = pd.read_pickle('DS_corpus_kegg_graph_data_2.pkl')\n",
    "print('2 done')\n",
    "data_3 = pd.read_pickle('DS_corpus_kegg_graph_data_3.pkl')"
   ]
  },
  {
   "cell_type": "code",
   "execution_count": null,
   "metadata": {
    "ExecuteTime": {
     "end_time": "2021-06-01T04:31:53.508875Z",
     "start_time": "2021-06-01T04:31:41.140738Z"
    },
    "scrolled": true
   },
   "outputs": [],
   "source": [
    "DS_corpus_kegg_graph_data = pd.concat([data_1,data_2,data_3],axis=0)\n",
    "del data_1,data_2,data_3\n",
    "gc.collect()"
   ]
  },
  {
   "cell_type": "code",
   "execution_count": null,
   "metadata": {
    "ExecuteTime": {
     "end_time": "2021-06-01T04:31:53.570080Z",
     "start_time": "2021-06-01T04:31:53.538558Z"
    },
    "scrolled": true
   },
   "outputs": [],
   "source": [
    "DS_corpus_kegg_graph_data"
   ]
  },
  {
   "cell_type": "code",
   "execution_count": null,
   "metadata": {
    "ExecuteTime": {
     "end_time": "2021-06-01T04:31:53.669419Z",
     "start_time": "2021-06-01T04:31:53.600660Z"
    }
   },
   "outputs": [],
   "source": [
    "print('Gene-Gene Interaction:',DS_corpus_kegg_graph_data.Label.value_counts()['KEGG_Interaction'])\n",
    "print('Not Gene-Gene Interaction:',DS_corpus_kegg_graph_data.Label.value_counts()['NON_KEGG_Interaction'])"
   ]
  },
  {
   "cell_type": "markdown",
   "metadata": {
    "heading_collapsed": true,
    "id": "-fNInfyXt8pV"
   },
   "source": [
    "## define graph(try adjust)"
   ]
  },
  {
   "cell_type": "code",
   "execution_count": null,
   "metadata": {
    "ExecuteTime": {
     "end_time": "2021-05-24T07:42:34.707266Z",
     "start_time": "2021-05-24T07:42:34.476308Z"
    },
    "hidden": true,
    "scrolled": true
   },
   "outputs": [],
   "source": [
    "### Graphic feature extraction\n",
    "#save time\n",
    "PMID_list = DS_corpus_kegg['PMID'].to_list()[:]\n",
    "LOCATION_list = DS_corpus_kegg['LOCATION'].to_list()[:]\n",
    "doc_list = DS_corpus_kegg['SENTENCE'].to_list()[:]\n",
    "Gene1_list = DS_corpus_kegg['GENE1'].to_list()[:]\n",
    "Gene2_list = DS_corpus_kegg['GENE2'].to_list()[:]\n",
    "INTERACTION_list = DS_corpus_kegg['INTERACTION'].to_list()[:]\n",
    "\n",
    "### 0.get gene interaction pair & sentence\n",
    "doc = nlp(doc_list[n])\n",
    "Gene1 = Gene1_list[n]\n",
    "Gene2 = Gene2_list[n]\n",
    "INTERACTION = INTERACTION_list[n]\n",
    "\n",
    "Display_interaction_Sent(doc,Gene1,Gene2,INTERACTION)\n",
    "\n",
    "# Display Dependency graph\n",
    "displacy.render(doc, style='dep',options={'compact':True}, jupyter=True)"
   ]
  },
  {
   "cell_type": "code",
   "execution_count": null,
   "metadata": {
    "ExecuteTime": {
     "end_time": "2021-05-24T07:42:41.427509Z",
     "start_time": "2021-05-24T07:42:41.412550Z"
    },
    "code_folding": [],
    "hidden": true,
    "scrolled": true
   },
   "outputs": [],
   "source": [
    "#start\n",
    "G_nx = []\n",
    "G_Label = []\n",
    "\n",
    "\n",
    "### 1.Graphic feature extraction(dependency relation & token tag & shorteat path)      \n",
    "edges = []\n",
    "for token in doc:\n",
    "    # two gene location in sent\n",
    "    if f'Gene_{Gene1}' in token.text:\n",
    "        entity1 = token.i\n",
    "    if f'Gene_{Gene2}' in token.text:\n",
    "        entity2 = token.i\n",
    "    # sent id graph\n",
    "    for child in token.children:\n",
    "        edges.append((token.i,\n",
    "                      child.i))    \n",
    "G = nx.Graph(edges)\n",
    "\n",
    "\n",
    "# shortest path\n",
    "try:\n",
    "    distance=nx.shortest_path_length(G, source=entity1, target=entity2)\n",
    "    print(f'Gene {Gene1} to {Gene2} distance：', distance)\n",
    "    path=nx.shortest_path(G, source=entity1, target=entity2)\n",
    "    print(f'Gene {Gene1} to {Gene2} path：', path,'\\n')\n",
    "except nx.NetworkXNoPath:\n",
    "    print('The shortest path between entities is not exist!!! The two are not related, skip')\n",
    "except nx.NodeNotFound:\n",
    "    print('Program problem, can be improved, skip first')\n",
    "\n",
    "# if len(path)==2: # The shortest path between entities is adjacent! Non-interaction\n",
    "#     print('The shortest path between entities is adjacent!!! Non-interaction')\n",
    "#     path = []\n",
    "#     ## define sentence to graph\n",
    "#     Define_Graph(doc,path)\n",
    "#     ## construct NetworkX graph by GraKel format\n",
    "#     G1 = nx.Graph()\n",
    "#     G1.add_nodes_from(nodes)\n",
    "#     G1.add_edges_from(edges, weight=3)\n",
    "#     nx.set_node_attributes(G1,nodes_label,'label')\n",
    "#     nx.set_edge_attributes(G1,edges_label,'attributes')\n",
    "#     nx.set_edge_attributes(G1,edge_weight,'weight')\n",
    "\n",
    "#     G_nx.append(G1)\n",
    "#     G_Label.append('NON_KEGG_Interaction')\n",
    "# else:\n",
    "#     print('Successfully constructed graphics')\n",
    "#     ## define sentence to graph\n",
    "#     Define_Graph(doc,path)\n",
    "#     ## construct NetworkX graph\n",
    "#     G1 = nx.Graph()\n",
    "#     G1.add_nodes_from(nodes)\n",
    "#     G1.add_edges_from(edges, weight=3)\n",
    "#     nx.set_node_attributes(G1,nodes_label,'label')\n",
    "#     nx.set_edge_attributes(G1,edges_label,'attributes')\n",
    "#     nx.set_edge_attributes(G1,edge_weight,'weight')\n",
    "\n",
    "#     G_nx.append(G1)\n",
    "#     G_Label.append(INTERACTION)\n",
    "#     print('\\n')"
   ]
  },
  {
   "cell_type": "markdown",
   "metadata": {
    "id": "-fNInfyXt8pV"
   },
   "source": [
    "# Graph classification(GraKeL)"
   ]
  },
  {
   "cell_type": "markdown",
   "metadata": {},
   "source": [
    "## NetworkX graph -> GraKeL 格式"
   ]
  },
  {
   "cell_type": "markdown",
   "metadata": {},
   "source": [
    "### features adjust"
   ]
  },
  {
   "cell_type": "code",
   "execution_count": null,
   "metadata": {},
   "outputs": [],
   "source": [
    "# NetworkX graph -> GraKeL format\n",
    "G_nx = DS_corpus_kegg_graph_data.graph\n",
    "G_k = graph_from_networkx(G_nx, edge_labels_tag='attributes',\n",
    "                          node_labels_tag='label',\n",
    "                          edge_weight_tag='weight') #edge_weight_tag"
   ]
  },
  {
   "cell_type": "code",
   "execution_count": null,
   "metadata": {
    "ExecuteTime": {
     "end_time": "2021-06-01T04:35:26.258427Z",
     "start_time": "2021-06-01T04:35:09.279088Z"
    }
   },
   "outputs": [],
   "source": [
    "# translate features\n",
    "G = list(G_k)[:]\n",
    "for k in tqdm(range(len(G))):\n",
    "    a1 = G[k][1] #node get only one attr (tag)\n",
    "    b1 = list(map(lambda x: G[k][1][x][0], a1))\n",
    "    G[k][1] = dict(zip(a1,b1))"
   ]
  },
  {
   "cell_type": "markdown",
   "metadata": {},
   "source": [
    "### display feature"
   ]
  },
  {
   "cell_type": "code",
   "execution_count": null,
   "metadata": {},
   "outputs": [],
   "source": [
    "print(\"\\n 1.edge_weight_tag , 2.node_labels_tag , 3.edge_labels_tag\")\n",
    "G[:10]"
   ]
  },
  {
   "cell_type": "code",
   "execution_count": null,
   "metadata": {
    "ExecuteTime": {
     "end_time": "2021-06-01T04:34:37.527624Z",
     "start_time": "2021-06-01T04:34:15.315842Z"
    }
   },
   "outputs": [],
   "source": [
    "del G_k\n",
    "gc.collect()"
   ]
  },
  {
   "cell_type": "markdown",
   "metadata": {
    "heading_collapsed": true
   },
   "source": [
    "#### save"
   ]
  },
  {
   "cell_type": "code",
   "execution_count": null,
   "metadata": {
    "ExecuteTime": {
     "end_time": "2021-06-01T04:39:19.382017Z",
     "start_time": "2021-06-01T04:39:18.993771Z"
    },
    "hidden": true
   },
   "outputs": [],
   "source": [
    "ML_data = pd.DataFrame({\"Sent\":DS_corpus_kegg_graph_data.sent,\n",
    "                        \"Graph\":G,\n",
    "                        \"Gene1\":DS_corpus_kegg_graph_data.Gene1,\n",
    "                        \"Gene2\":DS_corpus_kegg_graph_data.Gene2,\n",
    "                        \"Gene1_loc\":DS_corpus_kegg_graph_data.Gene1_loc,\n",
    "                        \"Gene2_loc\":DS_corpus_kegg_graph_data.Gene2_loc,\n",
    "                        \"Label\":DS_corpus_kegg_graph_data.Label})"
   ]
  },
  {
   "cell_type": "code",
   "execution_count": null,
   "metadata": {
    "ExecuteTime": {
     "end_time": "2021-06-01T04:41:31.441548Z",
     "start_time": "2021-06-01T04:39:23.830404Z"
    },
    "hidden": true
   },
   "outputs": [],
   "source": [
    "# save graph df(.pkl)\n",
    "%cd /home/tku_stat_dell/Desktop/DS_corpus/DS_corpus_kegg_graph_data\n",
    "ML_data[:130789].to_pickle('ML_data_sdp_1.pkl')"
   ]
  },
  {
   "cell_type": "code",
   "execution_count": null,
   "metadata": {
    "ExecuteTime": {
     "end_time": "2021-06-01T04:45:20.364309Z",
     "start_time": "2021-06-01T04:43:18.795104Z"
    },
    "hidden": true
   },
   "outputs": [],
   "source": [
    "%cd /home/tku_stat_dell/Desktop/DS_corpus/DS_corpus_kegg_graph_data\n",
    "ML_data[130789:261578].to_pickle('ML_data_sdp_2.pkl')"
   ]
  },
  {
   "cell_type": "code",
   "execution_count": null,
   "metadata": {
    "ExecuteTime": {
     "end_time": "2021-06-01T04:47:42.101372Z",
     "start_time": "2021-06-01T04:45:33.823350Z"
    },
    "hidden": true
   },
   "outputs": [],
   "source": [
    "%cd /home/tku_stat_dell/Desktop/DS_corpus/DS_corpus_kegg_graph_data\n",
    "ML_data[261578:].to_pickle('ML_data_sdp_3.pkl')"
   ]
  },
  {
   "cell_type": "markdown",
   "metadata": {},
   "source": [
    "#### load"
   ]
  },
  {
   "cell_type": "code",
   "execution_count": 5,
   "metadata": {
    "ExecuteTime": {
     "end_time": "2021-06-21T06:34:00.091132Z",
     "start_time": "2021-06-21T06:31:34.294963Z"
    },
    "code_folding": []
   },
   "outputs": [
    {
     "name": "stdout",
     "output_type": "stream",
     "text": [
      "/home/tku_stat_dell/Desktop/DS_corpus/DS_corpus_kegg_graph_data\n",
      "1\n",
      "2\n"
     ]
    }
   ],
   "source": [
    "### Load final result( graph df(.pkl) )\n",
    "%cd /home/tku_stat_dell/Desktop/DS_corpus/DS_corpus_kegg_graph_data\n",
    "ML_data_1 = pd.read_pickle('ML_data_sdp_1.pkl')\n",
    "print(1)\n",
    "ML_data_2 = pd.read_pickle('ML_data_sdp_2.pkl')\n",
    "print(2)\n",
    "ML_data_3 = pd.read_pickle('ML_data_sdp_3.pkl')"
   ]
  },
  {
   "cell_type": "code",
   "execution_count": 6,
   "metadata": {
    "ExecuteTime": {
     "end_time": "2021-06-21T06:34:01.747359Z",
     "start_time": "2021-06-21T06:34:01.596765Z"
    }
   },
   "outputs": [],
   "source": [
    "ML_data = pd.concat([ML_data_1,ML_data_2,ML_data_3],axis=0)"
   ]
  },
  {
   "cell_type": "code",
   "execution_count": 7,
   "metadata": {
    "ExecuteTime": {
     "end_time": "2021-06-21T06:34:05.380067Z",
     "start_time": "2021-06-21T06:34:03.782437Z"
    }
   },
   "outputs": [
    {
     "data": {
      "text/plain": [
       "100"
      ]
     },
     "execution_count": 7,
     "metadata": {},
     "output_type": "execute_result"
    }
   ],
   "source": [
    "ML_data_1,ML_data_2,ML_data_3 = [None,None,None]\n",
    "del ML_data_1,ML_data_2,ML_data_3\n",
    "gc.collect()"
   ]
  },
  {
   "cell_type": "code",
   "execution_count": 8,
   "metadata": {
    "ExecuteTime": {
     "end_time": "2021-06-21T06:34:05.950184Z",
     "start_time": "2021-06-21T06:34:05.882897Z"
    },
    "scrolled": true
   },
   "outputs": [
    {
     "name": "stdout",
     "output_type": "stream",
     "text": [
      "392369\n",
      "Gene-Gene Interaction: 10500\n",
      "Not Gene-Gene Interaction: 381869\n"
     ]
    }
   ],
   "source": [
    "print(len(ML_data))\n",
    "print('Gene-Gene Interaction:',ML_data.Label.value_counts()['KEGG_Interaction'])\n",
    "print('Not Gene-Gene Interaction:',ML_data.Label.value_counts()['NON_KEGG_Interaction'])"
   ]
  },
  {
   "cell_type": "code",
   "execution_count": 9,
   "metadata": {
    "ExecuteTime": {
     "end_time": "2021-06-21T06:34:06.968859Z",
     "start_time": "2021-06-21T06:34:06.451335Z"
    }
   },
   "outputs": [
    {
     "data": {
      "text/html": [
       "<div>\n",
       "<style scoped>\n",
       "    .dataframe tbody tr th:only-of-type {\n",
       "        vertical-align: middle;\n",
       "    }\n",
       "\n",
       "    .dataframe tbody tr th {\n",
       "        vertical-align: top;\n",
       "    }\n",
       "\n",
       "    .dataframe thead th {\n",
       "        text-align: right;\n",
       "    }\n",
       "</style>\n",
       "<table border=\"1\" class=\"dataframe\">\n",
       "  <thead>\n",
       "    <tr style=\"text-align: right;\">\n",
       "      <th></th>\n",
       "      <th>Sent</th>\n",
       "      <th>Graph</th>\n",
       "      <th>Gene1</th>\n",
       "      <th>Gene2</th>\n",
       "      <th>Gene1_loc</th>\n",
       "      <th>Gene2_loc</th>\n",
       "      <th>Label</th>\n",
       "    </tr>\n",
       "  </thead>\n",
       "  <tbody>\n",
       "    <tr>\n",
       "      <th>0</th>\n",
       "      <td>The emergence of ASIA syndrome is associated w...</td>\n",
       "      <td>[{0: {1: 0.1}, 1: {0: 0.1, 4: 0.1, 6: 0.1}, 2:...</td>\n",
       "      <td>3126</td>\n",
       "      <td>3123</td>\n",
       "      <td>20</td>\n",
       "      <td>16</td>\n",
       "      <td>NON_KEGG_Interaction</td>\n",
       "    </tr>\n",
       "    <tr>\n",
       "      <th>1</th>\n",
       "      <td>Focused Sanger sequencing from genomic DNA was...</td>\n",
       "      <td>[{0: {2: 0.1}, 1: {2: 0.1}, 2: {0: 0.1, 1: 0.1...</td>\n",
       "      <td>3039</td>\n",
       "      <td>2034</td>\n",
       "      <td>42</td>\n",
       "      <td>30</td>\n",
       "      <td>NON_KEGG_Interaction</td>\n",
       "    </tr>\n",
       "    <tr>\n",
       "      <th>2</th>\n",
       "      <td>Focused Sanger sequencing from genomic DNA was...</td>\n",
       "      <td>[{0: {2: 0.1}, 1: {2: 0.1}, 2: {0: 0.1, 1: 0.1...</td>\n",
       "      <td>3039</td>\n",
       "      <td>54583</td>\n",
       "      <td>42</td>\n",
       "      <td>22</td>\n",
       "      <td>NON_KEGG_Interaction</td>\n",
       "    </tr>\n",
       "    <tr>\n",
       "      <th>3</th>\n",
       "      <td>Focused Sanger sequencing from genomic DNA was...</td>\n",
       "      <td>[{0: {2: 0.1}, 1: {2: 0.1}, 2: {0: 0.1, 1: 0.1...</td>\n",
       "      <td>3039</td>\n",
       "      <td>3040</td>\n",
       "      <td>42</td>\n",
       "      <td>45</td>\n",
       "      <td>NON_KEGG_Interaction</td>\n",
       "    </tr>\n",
       "    <tr>\n",
       "      <th>4</th>\n",
       "      <td>Focused Sanger sequencing from genomic DNA was...</td>\n",
       "      <td>[{0: {2: 0.1}, 1: {2: 0.1}, 2: {0: 0.1, 1: 0.1...</td>\n",
       "      <td>3039</td>\n",
       "      <td>2057</td>\n",
       "      <td>42</td>\n",
       "      <td>9</td>\n",
       "      <td>NON_KEGG_Interaction</td>\n",
       "    </tr>\n",
       "    <tr>\n",
       "      <th>...</th>\n",
       "      <td>...</td>\n",
       "      <td>...</td>\n",
       "      <td>...</td>\n",
       "      <td>...</td>\n",
       "      <td>...</td>\n",
       "      <td>...</td>\n",
       "      <td>...</td>\n",
       "    </tr>\n",
       "    <tr>\n",
       "      <th>392364</th>\n",
       "      <td>The kegg_Gene_4312 -1,607 1G/2G (rs1799750), k...</td>\n",
       "      <td>[{0: {3: 0.1}, 1: {3: 0.9}, 2: {3: 0.1}, 3: {0...</td>\n",
       "      <td>4312</td>\n",
       "      <td>4313</td>\n",
       "      <td>1</td>\n",
       "      <td>9</td>\n",
       "      <td>NON_KEGG_Interaction</td>\n",
       "    </tr>\n",
       "    <tr>\n",
       "      <th>392365</th>\n",
       "      <td>Genotype distributions and allele frequencies ...</td>\n",
       "      <td>[{0: {1: 0.1}, 1: {0: 0.1, 2: 0.1, 4: 0.1, 6: ...</td>\n",
       "      <td>4312</td>\n",
       "      <td>4313</td>\n",
       "      <td>6</td>\n",
       "      <td>8</td>\n",
       "      <td>NON_KEGG_Interaction</td>\n",
       "    </tr>\n",
       "    <tr>\n",
       "      <th>392366</th>\n",
       "      <td>Comprehensive association analysis of the vita...</td>\n",
       "      <td>[{0: {2: 0.1}, 1: {2: 0.1}, 2: {0: 0.1, 1: 0.1...</td>\n",
       "      <td>1594</td>\n",
       "      <td>1591</td>\n",
       "      <td>12</td>\n",
       "      <td>15</td>\n",
       "      <td>NON_KEGG_Interaction</td>\n",
       "    </tr>\n",
       "    <tr>\n",
       "      <th>392367</th>\n",
       "      <td>We studied the association between polymorphis...</td>\n",
       "      <td>[{0: {1: 0.1}, 1: {0: 0.1, 3: 0.1, 40: 0.1, 46...</td>\n",
       "      <td>1594</td>\n",
       "      <td>1591</td>\n",
       "      <td>24</td>\n",
       "      <td>31</td>\n",
       "      <td>NON_KEGG_Interaction</td>\n",
       "    </tr>\n",
       "    <tr>\n",
       "      <th>392368</th>\n",
       "      <td>We selected and genotyped tag single-nucleotid...</td>\n",
       "      <td>[{0: {1: 0.1}, 1: {0: 0.1, 2: 0.1, 3: 0.1, 8: ...</td>\n",
       "      <td>1594</td>\n",
       "      <td>1591</td>\n",
       "      <td>19</td>\n",
       "      <td>27</td>\n",
       "      <td>NON_KEGG_Interaction</td>\n",
       "    </tr>\n",
       "  </tbody>\n",
       "</table>\n",
       "<p>392369 rows × 7 columns</p>\n",
       "</div>"
      ],
      "text/plain": [
       "                                                     Sent  \\\n",
       "0       The emergence of ASIA syndrome is associated w...   \n",
       "1       Focused Sanger sequencing from genomic DNA was...   \n",
       "2       Focused Sanger sequencing from genomic DNA was...   \n",
       "3       Focused Sanger sequencing from genomic DNA was...   \n",
       "4       Focused Sanger sequencing from genomic DNA was...   \n",
       "...                                                   ...   \n",
       "392364  The kegg_Gene_4312 -1,607 1G/2G (rs1799750), k...   \n",
       "392365  Genotype distributions and allele frequencies ...   \n",
       "392366  Comprehensive association analysis of the vita...   \n",
       "392367  We studied the association between polymorphis...   \n",
       "392368  We selected and genotyped tag single-nucleotid...   \n",
       "\n",
       "                                                    Graph  Gene1  Gene2  \\\n",
       "0       [{0: {1: 0.1}, 1: {0: 0.1, 4: 0.1, 6: 0.1}, 2:...   3126   3123   \n",
       "1       [{0: {2: 0.1}, 1: {2: 0.1}, 2: {0: 0.1, 1: 0.1...   3039   2034   \n",
       "2       [{0: {2: 0.1}, 1: {2: 0.1}, 2: {0: 0.1, 1: 0.1...   3039  54583   \n",
       "3       [{0: {2: 0.1}, 1: {2: 0.1}, 2: {0: 0.1, 1: 0.1...   3039   3040   \n",
       "4       [{0: {2: 0.1}, 1: {2: 0.1}, 2: {0: 0.1, 1: 0.1...   3039   2057   \n",
       "...                                                   ...    ...    ...   \n",
       "392364  [{0: {3: 0.1}, 1: {3: 0.9}, 2: {3: 0.1}, 3: {0...   4312   4313   \n",
       "392365  [{0: {1: 0.1}, 1: {0: 0.1, 2: 0.1, 4: 0.1, 6: ...   4312   4313   \n",
       "392366  [{0: {2: 0.1}, 1: {2: 0.1}, 2: {0: 0.1, 1: 0.1...   1594   1591   \n",
       "392367  [{0: {1: 0.1}, 1: {0: 0.1, 3: 0.1, 40: 0.1, 46...   1594   1591   \n",
       "392368  [{0: {1: 0.1}, 1: {0: 0.1, 2: 0.1, 3: 0.1, 8: ...   1594   1591   \n",
       "\n",
       "        Gene1_loc  Gene2_loc                 Label  \n",
       "0              20         16  NON_KEGG_Interaction  \n",
       "1              42         30  NON_KEGG_Interaction  \n",
       "2              42         22  NON_KEGG_Interaction  \n",
       "3              42         45  NON_KEGG_Interaction  \n",
       "4              42          9  NON_KEGG_Interaction  \n",
       "...           ...        ...                   ...  \n",
       "392364          1          9  NON_KEGG_Interaction  \n",
       "392365          6          8  NON_KEGG_Interaction  \n",
       "392366         12         15  NON_KEGG_Interaction  \n",
       "392367         24         31  NON_KEGG_Interaction  \n",
       "392368         19         27  NON_KEGG_Interaction  \n",
       "\n",
       "[392369 rows x 7 columns]"
      ]
     },
     "execution_count": 9,
     "metadata": {},
     "output_type": "execute_result"
    }
   ],
   "source": [
    "ML_data"
   ]
  },
  {
   "cell_type": "markdown",
   "metadata": {},
   "source": [
    "### split train & test dataset for Corss validation"
   ]
  },
  {
   "cell_type": "code",
   "execution_count": 10,
   "metadata": {
    "ExecuteTime": {
     "end_time": "2021-06-21T06:34:08.646405Z",
     "start_time": "2021-06-21T06:34:07.483722Z"
    }
   },
   "outputs": [
    {
     "name": "stdout",
     "output_type": "stream",
     "text": [
      "positive sample(Gene-Gene Interaction): 50\n",
      "negative sample(Non Gene-Gene Interaction): 150\n"
     ]
    }
   ],
   "source": [
    "# 1.10500pos vs 381869neg\n",
    "# ML_data = pd.DataFrame({\"Graph\":G,\"Label\":y})\n",
    "pos_sample = ML_data[ML_data.Label=='KEGG_Interaction'][:]\n",
    "neg_sample = ML_data[ML_data.Label=='NON_KEGG_Interaction'][:]\n",
    "\n",
    "# 2.random sampling \n",
    "p_sam = 50\n",
    "n_sam = 150\n",
    "for s in range(1,11):\n",
    "    # random sampling \n",
    "    globals()[f'randomP{s}'] = pos_sample.sample(n=p_sam) #*1050\n",
    "    globals()[f'randomN{s}'] = neg_sample.sample(n=n_sam) #*3150\n",
    "    \n",
    "    # draw and not put back\n",
    "    pos_sample = pos_sample.drop(globals()[f'randomP{s}'].index)\n",
    "    neg_sample = neg_sample.drop(globals()[f'randomN{s}'].index)\n",
    "    \n",
    "    # 3.31500(neg)+10500(pos)=42000(final sample) ex:neg1, neg2...\n",
    "    globals()[f'sub{s}'] = pd.concat([globals()[f'randomP{s}'],globals()[f'randomN{s}']], axis = 0).reset_index(drop=True)\n",
    "\n",
    "    \n",
    "print('positive sample(Gene-Gene Interaction):',p_sam)\n",
    "print('negative sample(Non Gene-Gene Interaction):',n_sam)"
   ]
  },
  {
   "cell_type": "code",
   "execution_count": 12,
   "metadata": {
    "ExecuteTime": {
     "end_time": "2021-06-21T02:37:08.926053Z",
     "start_time": "2021-06-21T02:37:08.563308Z"
    }
   },
   "outputs": [],
   "source": [
    "del pos_sample\n",
    "del neg_sample"
   ]
  },
  {
   "cell_type": "markdown",
   "metadata": {},
   "source": [
    "#### save"
   ]
  },
  {
   "cell_type": "code",
   "execution_count": 11,
   "metadata": {
    "ExecuteTime": {
     "end_time": "2021-06-21T06:34:42.539093Z",
     "start_time": "2021-06-21T06:34:41.096073Z"
    }
   },
   "outputs": [
    {
     "name": "stdout",
     "output_type": "stream",
     "text": [
      "/home/tku_stat_dell/Desktop/DS_corpus/split_data\n"
     ]
    }
   ],
   "source": [
    "# save train set\n",
    "%cd /home/tku_stat_dell/Desktop/DS_corpus/split_data\n",
    "for s in range(1,11):\n",
    "    globals()[f'sub{s}'].to_pickle(f'RW_sub{s}.pkl')"
   ]
  },
  {
   "cell_type": "markdown",
   "metadata": {},
   "source": [
    "#### load"
   ]
  },
  {
   "cell_type": "code",
   "execution_count": 5,
   "metadata": {
    "ExecuteTime": {
     "end_time": "2021-06-21T07:08:15.115271Z",
     "start_time": "2021-06-21T07:08:14.580608Z"
    }
   },
   "outputs": [
    {
     "name": "stdout",
     "output_type": "stream",
     "text": [
      "/home/tku_stat_dell/Desktop/DS_corpus/split_data\n"
     ]
    }
   ],
   "source": [
    "# load train set\n",
    "%cd /home/tku_stat_dell/Desktop/DS_corpus/split_data\n",
    "for s in range(1,11):\n",
    "    globals()[f'sub{s}'] = pd.read_pickle(f'RW_sub{s}.pkl')"
   ]
  },
  {
   "cell_type": "markdown",
   "metadata": {
    "heading_collapsed": true
   },
   "source": [
    "## select kernel"
   ]
  },
  {
   "cell_type": "code",
   "execution_count": null,
   "metadata": {
    "ExecuteTime": {
     "end_time": "2021-06-06T07:10:37.824871Z",
     "start_time": "2021-06-06T07:10:37.820648Z"
    },
    "hidden": true
   },
   "outputs": [],
   "source": [
    "import grakel.kernels as gp"
   ]
  },
  {
   "cell_type": "code",
   "execution_count": null,
   "metadata": {
    "ExecuteTime": {
     "end_time": "2021-06-06T07:10:43.210152Z",
     "start_time": "2021-06-06T07:10:43.158244Z"
    },
    "hidden": true
   },
   "outputs": [],
   "source": [
    "s = 8\n",
    "### 1.Assign training & validation set\n",
    "# (1).fix one set for validation\n",
    "x_test = globals()[f'sub{s}'].Graph\n",
    "y_test = globals()[f'sub{s}'].Label\n",
    "\n",
    "\n",
    "# (2).nine set for training\n",
    "train = pd.concat([eval(f'sub{n}') for n in range(1,11) if n != s],axis=0).reset_index(drop=True)\n",
    "x_train = train.Graph\n",
    "y_train = train.Label\n"
   ]
  },
  {
   "cell_type": "code",
   "execution_count": null,
   "metadata": {
    "ExecuteTime": {
     "end_time": "2021-06-06T07:10:49.162478Z",
     "start_time": "2021-06-06T07:10:49.157583Z"
    },
    "hidden": true
   },
   "outputs": [],
   "source": [
    "kernel_list = ['RandomWalk','PyramidMatch','NeighborhoodHash','ShortestPath',\n",
    "               'GraphletSampling','WeisfeilerLehman','NeighborhoodSubgraphPairwiseDistance',\n",
    "               'OddSth','WeisfeilerLehmanOptimalAssignment']"
   ]
  },
  {
   "cell_type": "code",
   "execution_count": null,
   "metadata": {
    "ExecuteTime": {
     "end_time": "2021-06-06T18:43:01.654551Z",
     "start_time": "2021-06-06T07:10:56.903585Z"
    },
    "code_folding": [],
    "hidden": true
   },
   "outputs": [],
   "source": [
    "## loop kernel Acc\n",
    "print('start')\n",
    "ker_acc = {}\n",
    "for k in range(len(kernel_list)):\n",
    "    kernel_fun = eval(f'gp.{kernel_list[k]}')\n",
    "\n",
    "\n",
    "    # (1).Use the \"{} kernel\" to generate kernel matrices\n",
    "    gk1 = kernel_fun(normalize=True)\n",
    "    K1_train = gk1.fit_transform(x_train)\n",
    "    K1_test = gk1.transform(x_test)\n",
    "\n",
    "\n",
    "    # (2).Using SVM classifier for classification\n",
    "    clf = SVC(kernel=\"precomputed\")\n",
    "    clf.fit(K1_train, y_train)\n",
    "    y_pred = clf.predict(K1_test)\n",
    "\n",
    "\n",
    "    # (3).caculate classification accuracy\n",
    "    acc = accuracy_score(y_test, y_pred)\n",
    "    ker_acc[kernel_list[k]] = acc\n",
    "    print(f\"{k}.\\033[1m{kernel_list[k]}\\033[0m Acc:\", str(round(acc*100, 2)) + \"%\")"
   ]
  },
  {
   "cell_type": "code",
   "execution_count": null,
   "metadata": {
    "ExecuteTime": {
     "end_time": "2021-06-05T09:05:04.195048Z",
     "start_time": "2021-06-05T09:05:04.189019Z"
    },
    "hidden": true
   },
   "outputs": [],
   "source": [
    "ker_acc"
   ]
  },
  {
   "cell_type": "code",
   "execution_count": null,
   "metadata": {
    "ExecuteTime": {
     "end_time": "2021-06-05T08:34:24.982927Z",
     "start_time": "2021-06-05T08:34:24.975542Z"
    },
    "hidden": true
   },
   "outputs": [],
   "source": [
    "ker_acc"
   ]
  },
  {
   "cell_type": "markdown",
   "metadata": {},
   "source": [
    "## kernel"
   ]
  },
  {
   "cell_type": "markdown",
   "metadata": {
    "heading_collapsed": true
   },
   "source": [
    "### ShortestPath kernel\n",
    "https://ysig.github.io/GraKeL/0.1a8/generated/grakel.ShortestPath.html"
   ]
  },
  {
   "cell_type": "markdown",
   "metadata": {
    "hidden": true
   },
   "source": [
    "#### classifier example"
   ]
  },
  {
   "cell_type": "code",
   "execution_count": 7,
   "metadata": {
    "ExecuteTime": {
     "end_time": "2021-06-20T17:51:04.072055Z",
     "start_time": "2021-06-20T17:51:04.068976Z"
    },
    "hidden": true
   },
   "outputs": [],
   "source": [
    "from grakel.kernels import ShortestPath"
   ]
  },
  {
   "cell_type": "code",
   "execution_count": 8,
   "metadata": {
    "ExecuteTime": {
     "end_time": "2021-06-20T18:17:16.065885Z",
     "start_time": "2021-06-20T17:51:08.799267Z"
    },
    "hidden": true
   },
   "outputs": [
    {
     "name": "stderr",
     "output_type": "stream",
     "text": [
      "Intel(R) Extension for Scikit-learn* enabled (https://github.com/intel/scikit-learn-intelex)\n"
     ]
    },
    {
     "name": "stdout",
     "output_type": "stream",
     "text": [
      "1 iter Accuracy(train,test): 99.05% 99.05%\n"
     ]
    },
    {
     "data": {
      "text/plain": [
       "(0.9904761904761905, 0.9904761904761905)"
      ]
     },
     "execution_count": 8,
     "metadata": {},
     "output_type": "execute_result"
    }
   ],
   "source": [
    "# one iter\n",
    "k_fold_fast(1,ShortestPath)"
   ]
  },
  {
   "cell_type": "markdown",
   "metadata": {
    "hidden": true
   },
   "source": [
    "#### 10 fold  cross-validation"
   ]
  },
  {
   "cell_type": "code",
   "execution_count": 9,
   "metadata": {
    "ExecuteTime": {
     "end_time": "2021-06-20T22:34:14.782917Z",
     "start_time": "2021-06-20T18:17:20.575222Z"
    },
    "collapsed": true,
    "hidden": true
   },
   "outputs": [
    {
     "name": "stderr",
     "output_type": "stream",
     "text": [
      "Intel(R) Extension for Scikit-learn* enabled (https://github.com/intel/scikit-learn-intelex)\n"
     ]
    },
    {
     "name": "stdout",
     "output_type": "stream",
     "text": [
      "1 iter Accuracy(train,test): 99.05% 99.05%\n"
     ]
    },
    {
     "name": "stderr",
     "output_type": "stream",
     "text": [
      "Intel(R) Extension for Scikit-learn* enabled (https://github.com/intel/scikit-learn-intelex)\n"
     ]
    },
    {
     "name": "stdout",
     "output_type": "stream",
     "text": [
      "2 iter Accuracy(train,test): 99.05% 99.05%\n"
     ]
    },
    {
     "name": "stderr",
     "output_type": "stream",
     "text": [
      "Intel(R) Extension for Scikit-learn* enabled (https://github.com/intel/scikit-learn-intelex)\n"
     ]
    },
    {
     "name": "stdout",
     "output_type": "stream",
     "text": [
      "3 iter Accuracy(train,test): 99.05% 99.05%\n"
     ]
    },
    {
     "name": "stderr",
     "output_type": "stream",
     "text": [
      "Intel(R) Extension for Scikit-learn* enabled (https://github.com/intel/scikit-learn-intelex)\n"
     ]
    },
    {
     "name": "stdout",
     "output_type": "stream",
     "text": [
      "4 iter Accuracy(train,test): 99.05% 99.05%\n"
     ]
    },
    {
     "name": "stderr",
     "output_type": "stream",
     "text": [
      "Intel(R) Extension for Scikit-learn* enabled (https://github.com/intel/scikit-learn-intelex)\n"
     ]
    },
    {
     "name": "stdout",
     "output_type": "stream",
     "text": [
      "5 iter Accuracy(train,test): 99.05% 99.05%\n"
     ]
    },
    {
     "name": "stderr",
     "output_type": "stream",
     "text": [
      "Intel(R) Extension for Scikit-learn* enabled (https://github.com/intel/scikit-learn-intelex)\n"
     ]
    },
    {
     "name": "stdout",
     "output_type": "stream",
     "text": [
      "6 iter Accuracy(train,test): 99.05% 99.05%\n"
     ]
    },
    {
     "name": "stderr",
     "output_type": "stream",
     "text": [
      "Intel(R) Extension for Scikit-learn* enabled (https://github.com/intel/scikit-learn-intelex)\n"
     ]
    },
    {
     "name": "stdout",
     "output_type": "stream",
     "text": [
      "7 iter Accuracy(train,test): 99.05% 99.05%\n"
     ]
    },
    {
     "name": "stderr",
     "output_type": "stream",
     "text": [
      "Intel(R) Extension for Scikit-learn* enabled (https://github.com/intel/scikit-learn-intelex)\n"
     ]
    },
    {
     "name": "stdout",
     "output_type": "stream",
     "text": [
      "8 iter Accuracy(train,test): 99.05% 99.05%\n"
     ]
    },
    {
     "name": "stderr",
     "output_type": "stream",
     "text": [
      "Intel(R) Extension for Scikit-learn* enabled (https://github.com/intel/scikit-learn-intelex)\n"
     ]
    },
    {
     "name": "stdout",
     "output_type": "stream",
     "text": [
      "9 iter Accuracy(train,test): 99.05% 99.05%\n"
     ]
    },
    {
     "name": "stderr",
     "output_type": "stream",
     "text": [
      "Intel(R) Extension for Scikit-learn* enabled (https://github.com/intel/scikit-learn-intelex)\n"
     ]
    },
    {
     "name": "stdout",
     "output_type": "stream",
     "text": [
      "10 iter Accuracy(train,test): 99.05% 99.05%\n"
     ]
    }
   ],
   "source": [
    "cv_acc_list = []\n",
    "cv_acc_list_train = []\n",
    "for s in range(1,11):\n",
    "    acc = k_fold_fast(s,ShortestPath)\n",
    "    cv_acc_list_train.append(acc[0])\n",
    "    cv_acc_list.append(acc[1])"
   ]
  },
  {
   "cell_type": "code",
   "execution_count": 17,
   "metadata": {
    "ExecuteTime": {
     "end_time": "2021-06-21T02:20:04.805758Z",
     "start_time": "2021-06-21T02:20:04.549591Z"
    },
    "collapsed": true,
    "hidden": true
   },
   "outputs": [
    {
     "data": {
      "image/png": "[encoded data removed]",
      "text/plain": [
       "<Figure size 1800x1200 with 1 Axes>"
      ]
     },
     "metadata": {
      "needs_background": "light"
     },
     "output_type": "display_data"
    }
   ],
   "source": [
    "import matplotlib.pyplot as plt\n",
    "\n",
    "fig,ax = plt.subplots(dpi=300)\n",
    "\n",
    "ax.set_ylim([99.04,99.06])\n",
    "\n",
    "plt.title(\"10-fold Cross-Validated \")\n",
    "plt.xlabel('Fixed data set')\n",
    "plt.ylabel('Accuracy(%)')\n",
    "\n",
    "plt.plot(range(1,11),list(np.array(cv_acc_list)*100),'g-o',label=\"test Acc\")\n",
    "plt.plot(range(1,11),list(np.array(cv_acc_list_train)*100),'b-x',label=\"train Acc\")\n",
    "\n",
    "plt.grid(True)\n",
    "plt.legend(bbox_to_anchor=(1.0, 1), loc=1, borderaxespad=0.)\n",
    "\n",
    "plt.show()"
   ]
  },
  {
   "cell_type": "markdown",
   "metadata": {
    "hidden": true
   },
   "source": [
    "#### evaluate"
   ]
  },
  {
   "cell_type": "code",
   "execution_count": 10,
   "metadata": {
    "ExecuteTime": {
     "end_time": "2021-06-20T23:08:53.513261Z",
     "start_time": "2021-06-20T22:34:19.652283Z"
    },
    "code_folding": [
     0
    ],
    "hidden": true
   },
   "outputs": [
    {
     "name": "stdout",
     "output_type": "stream",
     "text": [
      "1 iter Accuracy(train,test): 99.05% 99.05%\n"
     ]
    }
   ],
   "source": [
    "# best iter\n",
    "s = 1\n",
    "kernel = ShortestPath\n",
    "### 1.Assign training & validation set\n",
    "# (1).fix one set for validation\n",
    "x_test = globals()[f'sub{s}'].Graph\n",
    "y_test = globals()[f'sub{s}'].Label\n",
    "\n",
    "# (2).nine set for training\n",
    "train = pd.concat([eval(f'sub{n}') for n in range(1,11) if n != s],axis=0).reset_index(drop=True)\n",
    "x_train = train.Graph\n",
    "y_train = train.Label\n",
    "\n",
    "### 2.10 iterations of training\n",
    "# (1).Use the \"shortest path kernel\" to generate kernel matrices\n",
    "gk1 = kernel(normalize=True)\n",
    "K1_train = gk1.fit_transform(x_train)\n",
    "K1_test = gk1.transform(x_test)\n",
    "\n",
    "# (2).Using SVM classifier for classification\n",
    "clf = SVC(kernel=\"precomputed\")\n",
    "clf.fit(K1_train, y_train)\n",
    "y_pred = clf.predict(K1_test)\n",
    "y_score = clf.fit(K1_train, y_train).decision_function(K1_test)\n",
    "\n",
    "# (3).caculate classification accuracy\n",
    "acc = accuracy_score(y_test, y_pred)\n",
    "\n",
    "# (4).train predict \n",
    "y_pred_train = clf.predict(K1_train)\n",
    "acc_train = accuracy_score(y_train, y_pred_train)\n",
    "\n",
    "print(f\"{s} iter Accuracy(train,test):\", str(round(acc_train*100, 2)) + \"%\", str(round(acc*100, 2)) + \"%\")\n"
   ]
  },
  {
   "cell_type": "markdown",
   "metadata": {
    "heading_collapsed": true,
    "hidden": true
   },
   "source": [
    "##### Prediction error"
   ]
  },
  {
   "cell_type": "code",
   "execution_count": null,
   "metadata": {
    "ExecuteTime": {
     "end_time": "2021-06-10T19:29:08.426678Z",
     "start_time": "2021-06-10T19:26:11.793Z"
    },
    "hidden": true
   },
   "outputs": [],
   "source": [
    "globals()[f'sub{s}']['Pre_Label'] = y_pred\n",
    "globals()[f'sub{s}']"
   ]
  },
  {
   "cell_type": "code",
   "execution_count": null,
   "metadata": {
    "ExecuteTime": {
     "end_time": "2021-06-10T19:29:08.428500Z",
     "start_time": "2021-06-10T19:26:16.054Z"
    },
    "hidden": true
   },
   "outputs": [],
   "source": [
    "# View predicted wrongly Labels\n",
    "SDP_pre_err = globals()[f'sub{s}'].loc[globals()[f'sub{s}'].Label != globals()[f'sub{s}'].Pre_Label,['Sent','Gene1_loc','Gene2_loc','Label','Pre_Label']]"
   ]
  },
  {
   "cell_type": "code",
   "execution_count": null,
   "metadata": {
    "ExecuteTime": {
     "end_time": "2021-06-06T06:55:19.955134Z",
     "start_time": "2021-06-06T06:55:19.946078Z"
    },
    "hidden": true
   },
   "outputs": [],
   "source": [
    "#save\n",
    "%cd /home/tku_stat_dell/Desktop/DS_corpus/predict_error\n",
    "SDP_pre_err.to_pickle('SDP_pre_err.pkl')"
   ]
  },
  {
   "cell_type": "code",
   "execution_count": null,
   "metadata": {
    "ExecuteTime": {
     "end_time": "2021-06-04T02:13:25.829502Z",
     "start_time": "2021-06-04T02:13:25.820260Z"
    },
    "hidden": true
   },
   "outputs": [],
   "source": [
    "#load\n",
    "%cd /home/tku_stat_dell/Desktop/DS_corpus/predict_error\n",
    "SDP_pre_err = pd.read_pickle('SDP_pre_err.pkl')"
   ]
  },
  {
   "cell_type": "markdown",
   "metadata": {
    "hidden": true
   },
   "source": [
    "##### 1.confusion matrix"
   ]
  },
  {
   "cell_type": "code",
   "execution_count": 11,
   "metadata": {
    "ExecuteTime": {
     "end_time": "2021-06-20T23:09:06.889001Z",
     "start_time": "2021-06-20T23:09:05.875551Z"
    },
    "code_folding": [],
    "collapsed": true,
    "hidden": true
   },
   "outputs": [
    {
     "data": {
      "text/plain": [
       "[Text(0, 0.5, 'KEGG_Interaction'), Text(0, 1.5, 'NON_KEGG_Interaction')]"
      ]
     },
     "execution_count": 11,
     "metadata": {},
     "output_type": "execute_result"
    },
    {
     "data": {
      "image/png": "[encoded data removed]",
      "text/plain": [
       "<Figure size 2400x2400 with 2 Axes>"
      ]
     },
     "metadata": {
      "needs_background": "light"
     },
     "output_type": "display_data"
    }
   ],
   "source": [
    "## 1.confusion matrix\n",
    "cm = confusion_matrix(y_test,y_pred)\n",
    "\n",
    "fig, ax = plt.subplots(figsize=(8,8),dpi=300)\n",
    "sns.heatmap(cm,annot=True, annot_kws={\"size\": 15},cmap='Blues', fmt='g')\n",
    "# labels, title and ticks\n",
    "ax.set_xlabel('Predicted labels')\n",
    "ax.set_ylabel('True labels')\n",
    "ax.set_title('Confusion Matrix')\n",
    "ax.xaxis.set_ticklabels([\"KEGG_Interaction\", \"NON_KEGG_Interaction\"]) \n",
    "ax.yaxis.set_ticklabels([\"KEGG_Interaction\", \"NON_KEGG_Interaction\"])"
   ]
  },
  {
   "cell_type": "markdown",
   "metadata": {
    "hidden": true
   },
   "source": [
    "##### 2.precision, recall, f1-score"
   ]
  },
  {
   "cell_type": "code",
   "execution_count": 12,
   "metadata": {
    "ExecuteTime": {
     "end_time": "2021-06-20T23:09:19.353738Z",
     "start_time": "2021-06-20T23:09:19.016482Z"
    },
    "collapsed": true,
    "hidden": true
   },
   "outputs": [
    {
     "name": "stderr",
     "output_type": "stream",
     "text": [
      "/home/tku_stat_dell/anaconda3/envs/tsai/lib/python3.7/site-packages/sklearn/utils/validation.py:72: FutureWarning: Pass labels=['KEGG_Interaction', 'NON_KEGG_Interaction'] as keyword args. From version 1.0 (renaming of 0.25) passing these as positional arguments will result in an error\n",
      "  \"will result in an error\", FutureWarning)\n",
      "/home/tku_stat_dell/anaconda3/envs/tsai/lib/python3.7/site-packages/sklearn/metrics/_classification.py:1248: UndefinedMetricWarning: Precision and F-score are ill-defined and being set to 0.0 in labels with no predicted samples. Use `zero_division` parameter to control this behavior.\n",
      "  _warn_prf(average, modifier, msg_start, len(result))\n"
     ]
    },
    {
     "name": "stdout",
     "output_type": "stream",
     "text": [
      "                      precision    recall  f1-score   support\n",
      "\n",
      "    KEGG_Interaction       0.00      0.00      0.00        40\n",
      "NON_KEGG_Interaction       0.99      1.00      1.00      4160\n",
      "\n",
      "            accuracy                           0.99      4200\n",
      "           macro avg       0.50      0.50      0.50      4200\n",
      "        weighted avg       0.98      0.99      0.99      4200\n",
      "\n"
     ]
    },
    {
     "name": "stderr",
     "output_type": "stream",
     "text": [
      "/home/tku_stat_dell/anaconda3/envs/tsai/lib/python3.7/site-packages/sklearn/metrics/_classification.py:1248: UndefinedMetricWarning: Precision and F-score are ill-defined and being set to 0.0 in labels with no predicted samples. Use `zero_division` parameter to control this behavior.\n",
      "  _warn_prf(average, modifier, msg_start, len(result))\n",
      "/home/tku_stat_dell/anaconda3/envs/tsai/lib/python3.7/site-packages/sklearn/metrics/_classification.py:1248: UndefinedMetricWarning: Precision and F-score are ill-defined and being set to 0.0 in labels with no predicted samples. Use `zero_division` parameter to control this behavior.\n",
      "  _warn_prf(average, modifier, msg_start, len(result))\n"
     ]
    }
   ],
   "source": [
    "## 2.precision, recall, f1-score\n",
    "#Official documents : https://scikit-learn.org/stable/modules/generated/sklearn.metrics.classification_report.html\n",
    "#Interpret the results : https://www.libinx.com/2018/understanding-sklearn-classification-report/\n",
    "\n",
    "print(classification_report(y_test, y_pred, ['KEGG_Interaction','NON_KEGG_Interaction']))"
   ]
  },
  {
   "cell_type": "markdown",
   "metadata": {
    "hidden": true
   },
   "source": [
    "##### 3.ROC-AUC curve"
   ]
  },
  {
   "cell_type": "code",
   "execution_count": 13,
   "metadata": {
    "ExecuteTime": {
     "end_time": "2021-06-20T23:09:32.713453Z",
     "start_time": "2021-06-20T23:09:32.307892Z"
    },
    "collapsed": true,
    "hidden": true
   },
   "outputs": [
    {
     "data": {
      "image/png": "[encoded data removed]",
      "text/plain": [
       "<Figure size 1800x1200 with 1 Axes>"
      ]
     },
     "metadata": {
      "needs_background": "light"
     },
     "output_type": "display_data"
    }
   ],
   "source": [
    "## 3.ROC-AUC curve\n",
    "y_test_bool = np.asarray(list(map(int,[x=='NON_KEGG_Interaction' for x in y_test])))+1\n",
    "plotROC_AUC(y_test_bool, y_score)"
   ]
  },
  {
   "cell_type": "markdown",
   "metadata": {
    "heading_collapsed": true
   },
   "source": [
    "### WeisfeilerLehman kernel\n",
    "https://ysig.github.io/GraKeL/0.1a8/generated/grakel.WeisfeilerLehman.html"
   ]
  },
  {
   "cell_type": "markdown",
   "metadata": {
    "hidden": true
   },
   "source": [
    "#### classifier example"
   ]
  },
  {
   "cell_type": "code",
   "execution_count": null,
   "metadata": {
    "ExecuteTime": {
     "end_time": "2021-06-10T08:58:29.491679Z",
     "start_time": "2021-06-10T08:58:29.487588Z"
    },
    "hidden": true
   },
   "outputs": [],
   "source": [
    "from grakel.kernels import WeisfeilerLehman"
   ]
  },
  {
   "cell_type": "code",
   "execution_count": null,
   "metadata": {
    "ExecuteTime": {
     "end_time": "2021-06-10T04:46:25.534371Z",
     "start_time": "2021-06-10T04:42:05.539446Z"
    },
    "hidden": true
   },
   "outputs": [],
   "source": [
    "# one iter\n",
    "k_fold(1,WeisfeilerLehman)"
   ]
  },
  {
   "cell_type": "markdown",
   "metadata": {
    "hidden": true
   },
   "source": [
    "#### 10 fold  cross-validation"
   ]
  },
  {
   "cell_type": "code",
   "execution_count": null,
   "metadata": {
    "ExecuteTime": {
     "end_time": "2021-06-10T05:31:19.739696Z",
     "start_time": "2021-06-10T04:47:25.491838Z"
    },
    "hidden": true
   },
   "outputs": [],
   "source": [
    "cv_acc_list = []\n",
    "cv_acc_list_train = []\n",
    "for s in range(1,11):\n",
    "    acc = k_fold(s,WeisfeilerLehman)\n",
    "    cv_acc_list_train.append(acc[0])\n",
    "    cv_acc_list.append(acc[1])"
   ]
  },
  {
   "cell_type": "code",
   "execution_count": null,
   "metadata": {
    "ExecuteTime": {
     "end_time": "2021-06-10T08:58:44.904442Z",
     "start_time": "2021-06-10T08:58:44.639873Z"
    },
    "hidden": true
   },
   "outputs": [],
   "source": [
    "import matplotlib.pyplot as plt\n",
    "\n",
    "fig,ax = plt.subplots(dpi=300)\n",
    "\n",
    "ax.set_ylim([75,85])\n",
    "\n",
    "\n",
    "plt.title(\"10-fold Cross-Validated \")\n",
    "plt.xlabel('Fixed data set')\n",
    "plt.ylabel('Accuracy(%)')\n",
    "\n",
    "plt.plot(range(1,11),cv_acc_list,'g-o',label=\"test Acc\")\n",
    "plt.plot(range(1,11),cv_acc_list_train,'b-x',label=\"train Acc\")\n",
    "\n",
    "plt.grid(True)\n",
    "plt.legend(bbox_to_anchor=(1.0, 1), loc=1, borderaxespad=0.)\n",
    "\n",
    "plt.show()"
   ]
  },
  {
   "cell_type": "markdown",
   "metadata": {
    "hidden": true
   },
   "source": [
    "#### evaluate"
   ]
  },
  {
   "cell_type": "code",
   "execution_count": null,
   "metadata": {
    "ExecuteTime": {
     "end_time": "2021-06-10T09:13:55.900523Z",
     "start_time": "2021-06-10T09:08:54.014143Z"
    },
    "code_folding": [
     0
    ],
    "hidden": true
   },
   "outputs": [],
   "source": [
    "# best iter\n",
    "s = 7\n",
    "kernel = WeisfeilerLehman\n",
    "### 1.Assign training & validation set\n",
    "# (1).fix one set for validation\n",
    "x_test = globals()[f'sub{s}'].Graph\n",
    "y_test = globals()[f'sub{s}'].Label\n",
    "\n",
    "# (2).nine set for training\n",
    "train = pd.concat([eval(f'sub{n}') for n in range(1,11) if n != s],axis=0).reset_index(drop=True)\n",
    "x_train = train.Graph\n",
    "y_train = train.Label\n",
    "\n",
    "### 2.10 iterations of training\n",
    "# (1).Use the \"shortest path kernel\" to generate kernel matrices\n",
    "gk1 = kernel(normalize=True)\n",
    "K1_train = gk1.fit_transform(x_train)\n",
    "K1_test = gk1.transform(x_test)\n",
    "\n",
    "# (2).Using SVM classifier for classification\n",
    "clf = SVC(kernel=\"precomputed\")\n",
    "clf.fit(K1_train, y_train)\n",
    "y_pred = clf.predict(K1_test)\n",
    "y_score = clf.fit(K1_train, y_train).decision_function(K1_test)\n",
    "\n",
    "# (3).caculate classification accuracy\n",
    "acc = accuracy_score(y_test, y_pred)\n",
    "\n",
    "# (4).train predict \n",
    "y_pred_train = clf.predict(K1_train)\n",
    "acc_train = accuracy_score(y_train, y_pred_train)\n",
    "\n",
    "print(f\"{s} iter Accuracy(train,test):\", str(round(acc_train*100, 2)) + \"%\", str(round(acc*100, 2)) + \"%\")\n"
   ]
  },
  {
   "cell_type": "markdown",
   "metadata": {
    "heading_collapsed": true,
    "hidden": true
   },
   "source": [
    "##### Prediction error"
   ]
  },
  {
   "cell_type": "code",
   "execution_count": null,
   "metadata": {
    "ExecuteTime": {
     "end_time": "2021-06-10T09:14:22.725586Z",
     "start_time": "2021-06-10T09:14:22.271635Z"
    },
    "hidden": true
   },
   "outputs": [],
   "source": [
    "globals()[f'sub{s}']['Pre_Label'] = y_pred\n",
    "globals()[f'sub{s}']"
   ]
  },
  {
   "cell_type": "code",
   "execution_count": null,
   "metadata": {
    "ExecuteTime": {
     "end_time": "2021-06-10T09:14:33.764423Z",
     "start_time": "2021-06-10T09:14:33.650451Z"
    },
    "hidden": true
   },
   "outputs": [],
   "source": [
    "# View predicted wrongly Labels\n",
    "WL_pre_err = globals()[f'sub{s}'].loc[globals()[f'sub{s}'].Label != globals()[f'sub{s}'].Pre_Label,['Sent','Gene1_loc','Gene2_loc','Label','Pre_Label']]"
   ]
  },
  {
   "cell_type": "code",
   "execution_count": null,
   "metadata": {
    "ExecuteTime": {
     "end_time": "2021-06-10T09:14:40.304696Z",
     "start_time": "2021-06-10T09:14:40.266789Z"
    },
    "hidden": true
   },
   "outputs": [],
   "source": [
    "#save\n",
    "%cd /home/tku_stat_dell/Desktop/DS_corpus/predict_error\n",
    "WL_pre_err.to_pickle('WL_pre_err.pkl')"
   ]
  },
  {
   "cell_type": "code",
   "execution_count": null,
   "metadata": {
    "hidden": true
   },
   "outputs": [],
   "source": [
    "#load\n",
    "%cd /home/tku_stat_dell/Desktop/DS_corpus/predict_error\n",
    "WL_pre_err = pd.read_pickle('WL_pre_err.pkl')"
   ]
  },
  {
   "cell_type": "markdown",
   "metadata": {
    "heading_collapsed": true,
    "hidden": true
   },
   "source": [
    "##### 1.confusion matrix"
   ]
  },
  {
   "cell_type": "code",
   "execution_count": null,
   "metadata": {
    "ExecuteTime": {
     "end_time": "2021-06-10T09:17:21.201065Z",
     "start_time": "2021-06-10T09:17:20.752060Z"
    },
    "hidden": true
   },
   "outputs": [],
   "source": [
    "## 1.confusion matrix\n",
    "cm = confusion_matrix(y_test,y_pred)\n",
    "\n",
    "fig, ax = plt.subplots(figsize=(8,8),dpi=300)\n",
    "sns.heatmap(cm,annot=True, annot_kws={\"size\": 15},cmap='Blues', fmt='g')\n",
    "# labels, title and ticks\n",
    "ax.set_xlabel('Predicted labels')\n",
    "ax.set_ylabel('True labels')\n",
    "ax.set_title('Confusion Matrix')\n",
    "ax.xaxis.set_ticklabels([\"KEGG_Interaction\", \"NON_KEGG_Interaction\"]) \n",
    "ax.yaxis.set_ticklabels([\"KEGG_Interaction\", \"NON_KEGG_Interaction\"])"
   ]
  },
  {
   "cell_type": "markdown",
   "metadata": {
    "heading_collapsed": true,
    "hidden": true
   },
   "source": [
    "##### 2.precision, recall, f1-score"
   ]
  },
  {
   "cell_type": "code",
   "execution_count": null,
   "metadata": {
    "ExecuteTime": {
     "end_time": "2021-06-10T09:17:27.336040Z",
     "start_time": "2021-06-10T09:17:27.154058Z"
    },
    "hidden": true
   },
   "outputs": [],
   "source": [
    "## 2.precision, recall, f1-score\n",
    "#Official documents : https://scikit-learn.org/stable/modules/generated/sklearn.metrics.classification_report.html\n",
    "#Interpret the results : https://www.libinx.com/2018/understanding-sklearn-classification-report/\n",
    "\n",
    "print(classification_report(y_test, y_pred, ['KEGG_Interaction','NON_KEGG_Interaction']))"
   ]
  },
  {
   "cell_type": "markdown",
   "metadata": {
    "hidden": true
   },
   "source": [
    "##### 3.ROC-AUC curve"
   ]
  },
  {
   "cell_type": "code",
   "execution_count": null,
   "metadata": {
    "ExecuteTime": {
     "end_time": "2021-06-10T09:18:14.098240Z",
     "start_time": "2021-06-10T09:18:13.820352Z"
    },
    "hidden": true
   },
   "outputs": [],
   "source": [
    "## 3.ROC-AUC curve\n",
    "y_test_bool = np.asarray(list(map(int,[x=='NON_KEGG_Interaction' for x in y_test])))+1\n",
    "plotROC_AUC(y_test_bool, y_score)"
   ]
  },
  {
   "cell_type": "markdown",
   "metadata": {
    "heading_collapsed": true
   },
   "source": [
    "### NeighborhoodHash kernel\n",
    "https://ysig.github.io/GraKeL/0.1a8/generated/grakel.NeighborhoodHash.html"
   ]
  },
  {
   "cell_type": "markdown",
   "metadata": {
    "hidden": true
   },
   "source": [
    "#### classifier example"
   ]
  },
  {
   "cell_type": "code",
   "execution_count": null,
   "metadata": {
    "ExecuteTime": {
     "end_time": "2021-06-17T05:43:52.884435Z",
     "start_time": "2021-06-17T05:43:52.881385Z"
    },
    "hidden": true
   },
   "outputs": [],
   "source": [
    "from grakel.kernels import NeighborhoodHash"
   ]
  },
  {
   "cell_type": "code",
   "execution_count": null,
   "metadata": {
    "ExecuteTime": {
     "end_time": "2021-06-11T09:33:57.754234Z",
     "start_time": "2021-06-10T20:01:48.381852Z"
    },
    "hidden": true
   },
   "outputs": [],
   "source": [
    "# one iter\n",
    "k_fold_fast(1,NeighborhoodHash)"
   ]
  },
  {
   "cell_type": "markdown",
   "metadata": {
    "hidden": true
   },
   "source": [
    "#### 10 fold cross-validation"
   ]
  },
  {
   "cell_type": "code",
   "execution_count": null,
   "metadata": {
    "ExecuteTime": {
     "start_time": "2021-06-11T14:36:36.519Z"
    },
    "hidden": true,
    "scrolled": true
   },
   "outputs": [],
   "source": [
    "cv_acc_list = []\n",
    "cv_acc_list_train = []\n",
    "for s in range(1,11):\n",
    "    acc = k_fold_fast(s,NeighborhoodHash)\n",
    "    cv_acc_list_train.append(acc[0])\n",
    "    cv_acc_list.append(acc[1])"
   ]
  },
  {
   "cell_type": "code",
   "execution_count": null,
   "metadata": {
    "ExecuteTime": {
     "end_time": "2021-06-11T14:36:32.432696Z",
     "start_time": "2021-06-10T19:35:07.183Z"
    },
    "hidden": true
   },
   "outputs": [],
   "source": [
    "import matplotlib.pyplot as plt\n",
    "\n",
    "fig,ax = plt.subplots(dpi=300)\n",
    "\n",
    "ax.set_ylim([75,85])\n",
    "\n",
    "plt.title(\"10-fold Cross-Validated \")\n",
    "plt.xlabel('Fixed data set')\n",
    "plt.ylabel('Accuracy(%)')\n",
    "\n",
    "plt.plot(range(1,11),list(np.array(cv_acc_list)*100),'g-o',label=\"test Acc\")\n",
    "plt.plot(range(1,11),list(np.array(cv_acc_list_train)*100),'b-x',label=\"train Acc\")\n",
    "\n",
    "plt.grid(True)\n",
    "plt.legend(bbox_to_anchor=(1.0, 1), loc=1, borderaxespad=0.)\n",
    "\n",
    "plt.show()"
   ]
  },
  {
   "cell_type": "markdown",
   "metadata": {
    "hidden": true
   },
   "source": [
    "#### evaluate¶"
   ]
  },
  {
   "cell_type": "code",
   "execution_count": null,
   "metadata": {
    "code_folding": [
     0
    ],
    "hidden": true
   },
   "outputs": [],
   "source": [
    "# best iter\n",
    "s = 7\n",
    "kernel = NeighborhoodHash\n",
    "### 1.Assign training & validation set\n",
    "# (1).fix one set for validation\n",
    "x_test = globals()[f'sub{s}'].Graph\n",
    "y_test = globals()[f'sub{s}'].Label\n",
    "\n",
    "# (2).nine set for training\n",
    "train = pd.concat([eval(f'sub{n}') for n in range(1,11) if n != s],axis=0).reset_index(drop=True)\n",
    "x_train = train.Graph\n",
    "y_train = train.Label\n",
    "\n",
    "### 2.10 iterations of training\n",
    "# (1).Use the \"shortest path kernel\" to generate kernel matrices\n",
    "gk1 = kernel(normalize=True)\n",
    "K1_train = gk1.fit_transform(x_train)\n",
    "K1_test = gk1.transform(x_test)\n",
    "\n",
    "# (2).Using SVM classifier for classification\n",
    "clf = SVC(kernel=\"precomputed\")\n",
    "clf.fit(K1_train, y_train)\n",
    "y_pred = clf.predict(K1_test)\n",
    "y_score = clf.fit(K1_train, y_train).decision_function(K1_test)\n",
    "\n",
    "# (3).caculate classification accuracy\n",
    "acc = accuracy_score(y_test, y_pred)\n",
    "\n",
    "# (4).train predict \n",
    "y_pred_train = clf.predict(K1_train)\n",
    "acc_train = accuracy_score(y_train, y_pred_train)\n",
    "\n",
    "print(f\"{s} iter Accuracy(train,test):\", str(round(acc_train*100, 2)) + \"%\", str(round(acc*100, 2)) + \"%\")\n"
   ]
  },
  {
   "cell_type": "markdown",
   "metadata": {
    "hidden": true
   },
   "source": [
    "##### Prediction error"
   ]
  },
  {
   "cell_type": "code",
   "execution_count": null,
   "metadata": {
    "hidden": true
   },
   "outputs": [],
   "source": [
    "globals()[f'sub{s}']['Pre_Label'] = y_pred\n",
    "# View predicted wrongly Labels\n",
    "NH_pre_err = globals()[f'sub{s}'].loc[globals()[f'sub{s}'].Label != globals()[f'sub{s}'].Pre_Label,['Sent','Gene1_loc','Gene2_loc','Label','Pre_Label']]"
   ]
  },
  {
   "cell_type": "code",
   "execution_count": null,
   "metadata": {
    "hidden": true
   },
   "outputs": [],
   "source": [
    "#save\n",
    "%cd /home/tku_stat_dell/Desktop/DS_corpus/predict_error\n",
    "NH_pre_err.to_pickle('NH_pre_err.pkl')"
   ]
  },
  {
   "cell_type": "code",
   "execution_count": null,
   "metadata": {
    "hidden": true
   },
   "outputs": [],
   "source": [
    "#load\n",
    "%cd /home/tku_stat_dell/Desktop/DS_corpus/predict_error\n",
    "NH_pre_err = pd.read_pickle('NH_pre_err.pkl')"
   ]
  },
  {
   "cell_type": "markdown",
   "metadata": {
    "hidden": true
   },
   "source": [
    "##### confusion matrix"
   ]
  },
  {
   "cell_type": "code",
   "execution_count": null,
   "metadata": {
    "hidden": true
   },
   "outputs": [],
   "source": [
    "## 1.confusion matrix\n",
    "cm = confusion_matrix(y_test,y_pred)\n",
    "\n",
    "fig, ax = plt.subplots(figsize=(8,8),dpi=200)\n",
    "sns.heatmap(cm,annot=True, annot_kws={\"size\": 15},cmap='Blues', fmt='g')\n",
    "# labels, title and ticks\n",
    "ax.set_xlabel('Predicted labels')\n",
    "ax.set_ylabel('True labels')\n",
    "ax.set_title('Confusion Matrix')\n",
    "ax.xaxis.set_ticklabels([\"KEGG_Interaction\", \"NON_KEGG_Interaction\"]) \n",
    "ax.yaxis.set_ticklabels([\"KEGG_Interaction\", \"NON_KEGG_Interaction\"])"
   ]
  },
  {
   "cell_type": "markdown",
   "metadata": {
    "hidden": true
   },
   "source": [
    "##### precision, recall, f1-score"
   ]
  },
  {
   "cell_type": "code",
   "execution_count": null,
   "metadata": {
    "hidden": true
   },
   "outputs": [],
   "source": [
    "## 2.precision, recall, f1-score\n",
    "#Official documents : https://scikit-learn.org/stable/modules/generated/sklearn.metrics.classification_report.html\n",
    "#Interpret the results : https://www.libinx.com/2018/understanding-sklearn-classification-report/\n",
    "\n",
    "print(classification_report(y_test, y_pred, ['KEGG_Interaction','NON_KEGG_Interaction']))"
   ]
  },
  {
   "cell_type": "markdown",
   "metadata": {
    "hidden": true
   },
   "source": [
    "##### ROC-AUC curve¶"
   ]
  },
  {
   "cell_type": "code",
   "execution_count": null,
   "metadata": {
    "hidden": true
   },
   "outputs": [],
   "source": [
    "## 3.ROC-AUC curve\n",
    "y_test_bool = np.asarray(list(map(int,[x=='NON_KEGG_Interaction' for x in y_test])))+1\n",
    "plotROC_AUC(y_test_bool, y_score)"
   ]
  },
  {
   "cell_type": "markdown",
   "metadata": {},
   "source": [
    "### RandomWalkLabeled kernel"
   ]
  },
  {
   "cell_type": "markdown",
   "metadata": {},
   "source": [
    "#### classifier example"
   ]
  },
  {
   "cell_type": "code",
   "execution_count": 6,
   "metadata": {
    "ExecuteTime": {
     "end_time": "2021-06-21T07:08:27.507619Z",
     "start_time": "2021-06-21T07:08:27.502243Z"
    }
   },
   "outputs": [],
   "source": [
    "from grakel.kernels import RandomWalkLabeled"
   ]
  },
  {
   "cell_type": "code",
   "execution_count": 8,
   "metadata": {
    "ExecuteTime": {
     "end_time": "2021-06-22T03:17:53.385838Z",
     "start_time": "2021-06-21T07:08:35.091225Z"
    }
   },
   "outputs": [
    {
     "name": "stderr",
     "output_type": "stream",
     "text": [
      "Intel(R) Extension for Scikit-learn* enabled (https://github.com/intel/scikit-learn-intelex)\n"
     ]
    },
    {
     "name": "stdout",
     "output_type": "stream",
     "text": [
      "1 iter Accuracy(train,test): 75.0% 75.0%\n"
     ]
    },
    {
     "data": {
      "text/plain": [
       "(0.75, 0.75)"
      ]
     },
     "execution_count": 8,
     "metadata": {},
     "output_type": "execute_result"
    }
   ],
   "source": [
    "# one iter\n",
    "k_fold_fast(1,RandomWalkLabeled)"
   ]
  },
  {
   "cell_type": "markdown",
   "metadata": {
    "code_folding": []
   },
   "source": [
    "#### 10 fold cross-validation"
   ]
  },
  {
   "cell_type": "code",
   "execution_count": null,
   "metadata": {},
   "outputs": [],
   "source": [
    "cv_acc_list = []\n",
    "cv_acc_list_train = []\n",
    "for s in range(1,11):\n",
    "    acc = k_fold_fast(s,RandomWalkLabeled)\n",
    "    cv_acc_list_train.append(acc[0])\n",
    "    cv_acc_list.append(acc[1])"
   ]
  },
  {
   "cell_type": "code",
   "execution_count": null,
   "metadata": {},
   "outputs": [],
   "source": [
    "import matplotlib.pyplot as plt\n",
    "\n",
    "fig,ax = plt.subplots(dpi=300)\n",
    "\n",
    "ax.set_ylim([75,80])\n",
    "\n",
    "plt.title(\"10-fold Cross-Validated \")\n",
    "plt.xlabel('Fixed data set')\n",
    "plt.ylabel('Accuracy(%)')\n",
    "\n",
    "plt.plot(range(1,11),list(np.array(cv_acc_list)*100),'g-o',label=\"test Acc\")\n",
    "plt.plot(range(1,11),list(np.array(cv_acc_list_train)*100),'b-x',label=\"train Acc\")\n",
    "\n",
    "plt.grid(True)\n",
    "plt.legend(bbox_to_anchor=(1.0, 1), loc=1, borderaxespad=0.)\n",
    "\n",
    "plt.show()"
   ]
  },
  {
   "cell_type": "markdown",
   "metadata": {},
   "source": [
    "#### evaluate"
   ]
  },
  {
   "cell_type": "code",
   "execution_count": 10,
   "metadata": {
    "ExecuteTime": {
     "end_time": "2021-06-24T03:44:46.508213Z",
     "start_time": "2021-06-23T06:18:26.426111Z"
    },
    "code_folding": [
     0
    ]
   },
   "outputs": [
    {
     "name": "stdout",
     "output_type": "stream",
     "text": [
      "7 iter Accuracy(train,test): 75.0% 75.0%\n"
     ]
    }
   ],
   "source": [
    "# best iter\n",
    "s = 7\n",
    "kernel = RandomWalkLabeled\n",
    "### 1.Assign training & validation set\n",
    "# (1).fix one set for validation\n",
    "x_test = globals()[f'sub{s}'].Graph\n",
    "y_test = globals()[f'sub{s}'].Label\n",
    "\n",
    "# (2).nine set for training\n",
    "train = pd.concat([eval(f'sub{n}') for n in range(1,11) if n != s],axis=0).reset_index(drop=True)\n",
    "x_train = train.Graph\n",
    "y_train = train.Label\n",
    "\n",
    "### 2.10 iterations of training\n",
    "# (1).Use the \"shortest path kernel\" to generate kernel matrices\n",
    "gk1 = kernel(normalize=True)\n",
    "K1_train = gk1.fit_transform(x_train)\n",
    "K1_test = gk1.transform(x_test)\n",
    "\n",
    "# (2).Using SVM classifier for classification\n",
    "clf = SVC(kernel=\"precomputed\")\n",
    "clf.fit(K1_train, y_train)\n",
    "y_pred = clf.predict(K1_test)\n",
    "y_score = clf.fit(K1_train, y_train).decision_function(K1_test)\n",
    "\n",
    "# (3).caculate classification accuracy\n",
    "acc = accuracy_score(y_test, y_pred)\n",
    "\n",
    "# (4).train predict \n",
    "y_pred_train = clf.predict(K1_train)\n",
    "acc_train = accuracy_score(y_train, y_pred_train)\n",
    "\n",
    "print(f\"{s} iter Accuracy(train,test):\", str(round(acc_train*100, 2)) + \"%\", str(round(acc*100, 2)) + \"%\")\n"
   ]
  },
  {
   "cell_type": "markdown",
   "metadata": {
    "heading_collapsed": true
   },
   "source": [
    "##### Prediction error"
   ]
  },
  {
   "cell_type": "code",
   "execution_count": null,
   "metadata": {
    "hidden": true
   },
   "outputs": [],
   "source": [
    "globals()[f'sub{s}']['Pre_Label'] = y_pred\n",
    "# View predicted wrongly Labels\n",
    "NSPD_pre_err = globals()[f'sub{s}'].loc[globals()[f'sub{s}'].Label != globals()[f'sub{s}'].Pre_Label,['Sent','Gene1_loc','Gene2_loc','Label','Pre_Label']]"
   ]
  },
  {
   "cell_type": "code",
   "execution_count": null,
   "metadata": {
    "hidden": true
   },
   "outputs": [],
   "source": [
    "#save\n",
    "%cd /home/tku_stat_dell/Desktop/DS_corpus/predict_error\n",
    "NSPD_pre_err.to_pickle('NSPD_pre_err.pkl')"
   ]
  },
  {
   "cell_type": "code",
   "execution_count": null,
   "metadata": {
    "hidden": true
   },
   "outputs": [],
   "source": [
    "#load\n",
    "%cd /home/tku_stat_dell/Desktop/DS_corpus/predict_error\n",
    "NSPD_pre_err = pd.read_pickle('NSPD_pre_err.pkl')"
   ]
  },
  {
   "cell_type": "markdown",
   "metadata": {},
   "source": [
    "##### confusion matrix"
   ]
  },
  {
   "cell_type": "code",
   "execution_count": 11,
   "metadata": {
    "ExecuteTime": {
     "end_time": "2021-06-24T14:18:38.654775Z",
     "start_time": "2021-06-24T14:18:36.117144Z"
    },
    "collapsed": true
   },
   "outputs": [
    {
     "data": {
      "text/plain": [
       "[Text(0, 0.5, 'KEGG_Interaction'), Text(0, 1.5, 'NON_KEGG_Interaction')]"
      ]
     },
     "execution_count": 11,
     "metadata": {},
     "output_type": "execute_result"
    },
    {
     "data": {
      "image/png": "[encoded data removed]",
      "text/plain": [
       "<Figure size 2400x2400 with 2 Axes>"
      ]
     },
     "metadata": {
      "needs_background": "light"
     },
     "output_type": "display_data"
    }
   ],
   "source": [
    "## 1.confusion matrix\n",
    "cm = confusion_matrix(y_test,y_pred)\n",
    "\n",
    "fig, ax = plt.subplots(figsize=(8,8),dpi=300)\n",
    "sns.heatmap(cm,annot=True, annot_kws={\"size\": 15},cmap='Blues', fmt='g')\n",
    "# labels, title and ticks\n",
    "ax.set_xlabel('Predicted labels')\n",
    "ax.set_ylabel('True labels')\n",
    "ax.set_title('Confusion Matrix')\n",
    "ax.xaxis.set_ticklabels([\"KEGG_Interaction\", \"NON_KEGG_Interaction\"]) \n",
    "ax.yaxis.set_ticklabels([\"KEGG_Interaction\", \"NON_KEGG_Interaction\"])"
   ]
  },
  {
   "cell_type": "markdown",
   "metadata": {},
   "source": [
    "##### precision, recall, f1-score"
   ]
  },
  {
   "cell_type": "code",
   "execution_count": 12,
   "metadata": {
    "ExecuteTime": {
     "end_time": "2021-06-24T14:18:52.649323Z",
     "start_time": "2021-06-24T14:18:52.603757Z"
    },
    "collapsed": true
   },
   "outputs": [
    {
     "name": "stdout",
     "output_type": "stream",
     "text": [
      "                      precision    recall  f1-score   support\n",
      "\n",
      "    KEGG_Interaction       0.00      0.00      0.00        50\n",
      "NON_KEGG_Interaction       0.75      1.00      0.86       150\n",
      "\n",
      "            accuracy                           0.75       200\n",
      "           macro avg       0.38      0.50      0.43       200\n",
      "        weighted avg       0.56      0.75      0.64       200\n",
      "\n"
     ]
    },
    {
     "name": "stderr",
     "output_type": "stream",
     "text": [
      "/home/tku_stat_dell/anaconda3/envs/tsai/lib/python3.7/site-packages/sklearn/utils/validation.py:72: FutureWarning: Pass labels=['KEGG_Interaction', 'NON_KEGG_Interaction'] as keyword args. From version 1.0 (renaming of 0.25) passing these as positional arguments will result in an error\n",
      "  \"will result in an error\", FutureWarning)\n",
      "/home/tku_stat_dell/anaconda3/envs/tsai/lib/python3.7/site-packages/sklearn/metrics/_classification.py:1248: UndefinedMetricWarning: Precision and F-score are ill-defined and being set to 0.0 in labels with no predicted samples. Use `zero_division` parameter to control this behavior.\n",
      "  _warn_prf(average, modifier, msg_start, len(result))\n",
      "/home/tku_stat_dell/anaconda3/envs/tsai/lib/python3.7/site-packages/sklearn/metrics/_classification.py:1248: UndefinedMetricWarning: Precision and F-score are ill-defined and being set to 0.0 in labels with no predicted samples. Use `zero_division` parameter to control this behavior.\n",
      "  _warn_prf(average, modifier, msg_start, len(result))\n",
      "/home/tku_stat_dell/anaconda3/envs/tsai/lib/python3.7/site-packages/sklearn/metrics/_classification.py:1248: UndefinedMetricWarning: Precision and F-score are ill-defined and being set to 0.0 in labels with no predicted samples. Use `zero_division` parameter to control this behavior.\n",
      "  _warn_prf(average, modifier, msg_start, len(result))\n"
     ]
    }
   ],
   "source": [
    "## 2.precision, recall, f1-score\n",
    "#Official documents : https://scikit-learn.org/stable/modules/generated/sklearn.metrics.classification_report.html\n",
    "#Interpret the results : https://www.libinx.com/2018/understanding-sklearn-classification-report/\n",
    "\n",
    "print(classification_report(y_test, y_pred, ['KEGG_Interaction','NON_KEGG_Interaction']))"
   ]
  },
  {
   "cell_type": "markdown",
   "metadata": {},
   "source": [
    "##### ROC-AUC curve"
   ]
  },
  {
   "cell_type": "code",
   "execution_count": 13,
   "metadata": {
    "ExecuteTime": {
     "end_time": "2021-06-24T14:19:00.995945Z",
     "start_time": "2021-06-24T14:19:00.726990Z"
    },
    "collapsed": true
   },
   "outputs": [
    {
     "data": {
      "image/png": "[encoded data removed]",
      "text/plain": [
       "<Figure size 1800x1200 with 1 Axes>"
      ]
     },
     "metadata": {
      "needs_background": "light"
     },
     "output_type": "display_data"
    }
   ],
   "source": [
    "## 3.ROC-AUC curve\n",
    "y_test_bool = np.asarray(list(map(int,[x=='NON_KEGG_Interaction' for x in y_test])))+1\n",
    "plotROC_AUC(y_test_bool, y_score)"
   ]
  },
  {
   "cell_type": "code",
   "execution_count": null,
   "metadata": {},
   "outputs": [],
   "source": []
  }
 ],
 "metadata": {
  "kernelspec": {
   "display_name": "tsai",
   "language": "python",
   "name": "tsai"
  },
  "language_info": {
   "codemirror_mode": {
    "name": "ipython",
    "version": 3
   },
   "file_extension": ".py",
   "mimetype": "text/x-python",
   "name": "python",
   "nbconvert_exporter": "python",
   "pygments_lexer": "ipython3",
   "version": "3.7.7"
  },
  "toc": {
   "base_numbering": 1,
   "nav_menu": {},
   "number_sections": true,
   "sideBar": true,
   "skip_h1_title": false,
   "title_cell": "Table of Contents",
   "title_sidebar": "Contents",
   "toc_cell": false,
   "toc_position": {
    "height": "calc(100% - 180px)",
    "left": "10px",
    "top": "150px",
    "width": "172.198px"
   },
   "toc_section_display": true,
   "toc_window_display": true
  },
  "varInspector": {
   "cols": {
    "lenName": 16,
    "lenType": 16,
    "lenVar": 40
   },
   "kernels_config": {
    "python": {
     "delete_cmd_postfix": "",
     "delete_cmd_prefix": "del ",
     "library": "var_list.py",
     "varRefreshCmd": "print(var_dic_list())"
    },
    "r": {
     "delete_cmd_postfix": ") ",
     "delete_cmd_prefix": "rm(",
     "library": "var_list.r",
     "varRefreshCmd": "cat(var_dic_list()) "
    }
   },
   "oldHeight": 188.786,
   "position": {
    "height": "210.05px",
    "left": "696.125px",
    "right": "20px",
    "top": "74px",
    "width": "350px"
   },
   "types_to_exclude": [
    "module",
    "function",
    "builtin_function_or_method",
    "instance",
    "_Feature"
   ],
   "varInspector_section_display": "block",
   "window_display": false
  }
 },
 "nbformat": 4,
 "nbformat_minor": 4
}
